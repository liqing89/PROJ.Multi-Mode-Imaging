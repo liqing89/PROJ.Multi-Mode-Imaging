{
 "cells": [
  {
   "cell_type": "code",
   "execution_count": 1,
   "metadata": {},
   "outputs": [
    {
     "name": "stdout",
     "output_type": "stream",
     "text": [
      "开始生产目标：KC135，目标类型：FJ，极化：HH，波段：X，分辨率：1\n",
      "开始回波仿真...\n",
      "========================= EchoSimProcess =========================\n",
      "Phase 1 -- Params read and config...\n",
      "Phase 1 -- Done! Cost: 0.037s\n",
      "Phase 2 -- Sat Position Calculate...\n",
      "Phase 2 -- Done! Cost: 0s\n",
      "Phase 3 -- Flight Track and BeamDir History Simulate...\n",
      "Phase 3 -- Done! Cost: 0s\n",
      "Phase 4 -- Signal Generate...\n",
      "Phase 4 -- Done! Cost: 0.075s\n",
      "Phase 5 -- Echo Calculate...\n",
      "        -- CPU ThreadNum: 48\n",
      "Phase 5 -- Done! Cost: 1.478s\n",
      "Phase 6 -- Result Save...\n",
      "Phase 6 -- Done! Cost: 0.267s\n",
      "  Final -- Total Cost: 1.867s\n",
      "回波仿真完成！\n",
      "图像大小：75 x 75\n"
     ]
    },
    {
     "name": "stderr",
     "output_type": "stream",
     "text": [
      "/home/liq/pro/new_production_1118/sklearn/cluster/_kmeans.py:1416: FutureWarning: The default value of `n_init` will change from 10 to 'auto' in 1.4. Set the value of `n_init` explicitly to suppress the warning\n",
      "  super()._check_params_vs_input(X, default_n_init=10)\n"
     ]
    },
    {
     "name": "stdout",
     "output_type": "stream",
     "text": [
      "开始回波仿真...\n",
      "========================= EchoSimProcess =========================\n",
      "Phase 1 -- Params read and config...\n",
      "Phase 1 -- Done! Cost: 0.035s\n",
      "Phase 2 -- Sat Position Calculate...\n",
      "Phase 2 -- Done! Cost: 0s\n",
      "Phase 3 -- Flight Track and BeamDir History Simulate...\n",
      "Phase 3 -- Done! Cost: 0s\n",
      "Phase 4 -- Signal Generate...\n",
      "Phase 4 -- Done! Cost: 0.091s\n",
      "Phase 5 -- Echo Calculate...\n",
      "        -- CPU ThreadNum: 48\n",
      "Phase 5 -- Done! Cost: 1.487s\n",
      "Phase 6 -- Result Save...\n",
      "Phase 6 -- Done! Cost: 0.269s\n",
      "  Final -- Total Cost: 1.883s\n",
      "回波仿真完成！\n",
      "图像大小：75 x 75\n"
     ]
    },
    {
     "name": "stderr",
     "output_type": "stream",
     "text": [
      "/home/liq/pro/new_production_1118/sklearn/cluster/_kmeans.py:1416: FutureWarning: The default value of `n_init` will change from 10 to 'auto' in 1.4. Set the value of `n_init` explicitly to suppress the warning\n",
      "  super()._check_params_vs_input(X, default_n_init=10)\n"
     ]
    },
    {
     "name": "stdout",
     "output_type": "stream",
     "text": [
      "开始回波仿真...\n",
      "========================= EchoSimProcess =========================\n",
      "Phase 1 -- Params read and config...\n",
      "Phase 1 -- Done! Cost: 0.043s\n",
      "Phase 2 -- Sat Position Calculate...\n",
      "Phase 2 -- Done! Cost: 0s\n",
      "Phase 3 -- Flight Track and BeamDir History Simulate...\n",
      "Phase 3 -- Done! Cost: 0s\n",
      "Phase 4 -- Signal Generate...\n",
      "Phase 4 -- Done! Cost: 0.081s\n",
      "Phase 5 -- Echo Calculate...\n",
      "        -- CPU ThreadNum: 48\n",
      "Phase 5 -- Done! Cost: 1.452s\n",
      "Phase 6 -- Result Save...\n",
      "Phase 6 -- Done! Cost: 0.262s\n",
      "  Final -- Total Cost: 1.841s\n",
      "回波仿真完成！\n",
      "图像大小：75 x 75\n"
     ]
    },
    {
     "name": "stderr",
     "output_type": "stream",
     "text": [
      "/home/liq/pro/new_production_1118/sklearn/cluster/_kmeans.py:1416: FutureWarning: The default value of `n_init` will change from 10 to 'auto' in 1.4. Set the value of `n_init` explicitly to suppress the warning\n",
      "  super()._check_params_vs_input(X, default_n_init=10)\n"
     ]
    },
    {
     "name": "stdout",
     "output_type": "stream",
     "text": [
      "开始回波仿真...\n",
      "========================= EchoSimProcess =========================\n",
      "Phase 1 -- Params read and config...\n",
      "Phase 1 -- Done! Cost: 0.014s\n",
      "Phase 2 -- Sat Position Calculate...\n",
      "Phase 2 -- Done! Cost: 0s\n",
      "Phase 3 -- Flight Track and BeamDir History Simulate...\n",
      "Phase 3 -- Done! Cost: 0s\n",
      "Phase 4 -- Signal Generate...\n",
      "Phase 4 -- Done! Cost: 0.053s\n",
      "Phase 5 -- Echo Calculate...\n",
      "        -- CPU ThreadNum: 48\n",
      "Phase 5 -- Done! Cost: 1.504s\n",
      "Phase 6 -- Result Save...\n",
      "Phase 6 -- Done! Cost: 0.25s\n",
      "  Final -- Total Cost: 1.826s\n",
      "回波仿真完成！\n",
      "图像大小：75 x 75\n"
     ]
    },
    {
     "name": "stderr",
     "output_type": "stream",
     "text": [
      "/home/liq/pro/new_production_1118/sklearn/cluster/_kmeans.py:1416: FutureWarning: The default value of `n_init` will change from 10 to 'auto' in 1.4. Set the value of `n_init` explicitly to suppress the warning\n",
      "  super()._check_params_vs_input(X, default_n_init=10)\n"
     ]
    },
    {
     "name": "stdout",
     "output_type": "stream",
     "text": [
      "开始回波仿真...\n",
      "========================= EchoSimProcess =========================\n",
      "Phase 1 -- Params read and config...\n",
      "Phase 1 -- Done! Cost: 0.05s\n",
      "Phase 2 -- Sat Position Calculate...\n",
      "Phase 2 -- Done! Cost: 0s\n",
      "Phase 3 -- Flight Track and BeamDir History Simulate...\n",
      "Phase 3 -- Done! Cost: 0s\n",
      "Phase 4 -- Signal Generate...\n",
      "Phase 4 -- Done! Cost: 0.076s\n",
      "Phase 5 -- Echo Calculate...\n",
      "        -- CPU ThreadNum: 48\n",
      "Phase 5 -- Done! Cost: 1.424s\n",
      "Phase 6 -- Result Save...\n",
      "Phase 6 -- Done! Cost: 0.254s\n",
      "  Final -- Total Cost: 1.808s\n",
      "回波仿真完成！\n",
      "图像大小：75 x 75\n"
     ]
    },
    {
     "name": "stderr",
     "output_type": "stream",
     "text": [
      "/home/liq/pro/new_production_1118/sklearn/cluster/_kmeans.py:1416: FutureWarning: The default value of `n_init` will change from 10 to 'auto' in 1.4. Set the value of `n_init` explicitly to suppress the warning\n",
      "  super()._check_params_vs_input(X, default_n_init=10)\n"
     ]
    },
    {
     "name": "stdout",
     "output_type": "stream",
     "text": [
      "开始回波仿真...\n",
      "========================= EchoSimProcess =========================\n",
      "Phase 1 -- Params read and config...\n",
      "Phase 1 -- Done! Cost: 0.058s\n",
      "Phase 2 -- Sat Position Calculate...\n",
      "Phase 2 -- Done! Cost: 0s\n",
      "Phase 3 -- Flight Track and BeamDir History Simulate...\n",
      "Phase 3 -- Done! Cost: 0s\n",
      "Phase 4 -- Signal Generate...\n",
      "Phase 4 -- Done! Cost: 0.074s\n",
      "Phase 5 -- Echo Calculate...\n",
      "        -- CPU ThreadNum: 48\n",
      "Phase 5 -- Done! Cost: 1.486s\n",
      "Phase 6 -- Result Save...\n",
      "Phase 6 -- Done! Cost: 0.257s\n",
      "  Final -- Total Cost: 1.877s\n",
      "回波仿真完成！\n",
      "图像大小：75 x 75\n"
     ]
    },
    {
     "name": "stderr",
     "output_type": "stream",
     "text": [
      "/home/liq/pro/new_production_1118/sklearn/cluster/_kmeans.py:1416: FutureWarning: The default value of `n_init` will change from 10 to 'auto' in 1.4. Set the value of `n_init` explicitly to suppress the warning\n",
      "  super()._check_params_vs_input(X, default_n_init=10)\n"
     ]
    },
    {
     "name": "stdout",
     "output_type": "stream",
     "text": [
      "开始回波仿真...\n",
      "========================= EchoSimProcess =========================\n",
      "Phase 1 -- Params read and config...\n",
      "Phase 1 -- Done! Cost: 0.047s\n",
      "Phase 2 -- Sat Position Calculate...\n",
      "Phase 2 -- Done! Cost: 0s\n",
      "Phase 3 -- Flight Track and BeamDir History Simulate...\n",
      "Phase 3 -- Done! Cost: 0s\n",
      "Phase 4 -- Signal Generate...\n",
      "Phase 4 -- Done! Cost: 0.07s\n",
      "Phase 5 -- Echo Calculate...\n",
      "        -- CPU ThreadNum: 48\n",
      "Phase 5 -- Done! Cost: 1.471s\n",
      "Phase 6 -- Result Save...\n",
      "Phase 6 -- Done! Cost: 0.265s\n",
      "  Final -- Total Cost: 1.858s\n",
      "回波仿真完成！\n",
      "图像大小：75 x 75\n"
     ]
    },
    {
     "name": "stderr",
     "output_type": "stream",
     "text": [
      "/home/liq/pro/new_production_1118/sklearn/cluster/_kmeans.py:1416: FutureWarning: The default value of `n_init` will change from 10 to 'auto' in 1.4. Set the value of `n_init` explicitly to suppress the warning\n",
      "  super()._check_params_vs_input(X, default_n_init=10)\n"
     ]
    },
    {
     "name": "stdout",
     "output_type": "stream",
     "text": [
      "开始回波仿真...\n",
      "========================= EchoSimProcess =========================\n",
      "Phase 1 -- Params read and config...\n",
      "Phase 1 -- Done! Cost: 0.047s\n",
      "Phase 2 -- Sat Position Calculate...\n",
      "Phase 2 -- Done! Cost: 0s\n",
      "Phase 3 -- Flight Track and BeamDir History Simulate...\n",
      "Phase 3 -- Done! Cost: 0s\n",
      "Phase 4 -- Signal Generate...\n",
      "Phase 4 -- Done! Cost: 0.081s\n",
      "Phase 5 -- Echo Calculate...\n",
      "        -- CPU ThreadNum: 48\n",
      "Phase 5 -- Done! Cost: 1.466s\n",
      "Phase 6 -- Result Save...\n",
      "Phase 6 -- Done! Cost: 0.246s\n",
      "  Final -- Total Cost: 1.841s\n",
      "回波仿真完成！\n",
      "图像大小：75 x 75\n"
     ]
    },
    {
     "name": "stderr",
     "output_type": "stream",
     "text": [
      "/home/liq/pro/new_production_1118/sklearn/cluster/_kmeans.py:1416: FutureWarning: The default value of `n_init` will change from 10 to 'auto' in 1.4. Set the value of `n_init` explicitly to suppress the warning\n",
      "  super()._check_params_vs_input(X, default_n_init=10)\n"
     ]
    },
    {
     "name": "stdout",
     "output_type": "stream",
     "text": [
      "开始回波仿真...\n",
      "========================= EchoSimProcess =========================\n",
      "Phase 1 -- Params read and config...\n",
      "Phase 1 -- Done! Cost: 0.015s\n",
      "Phase 2 -- Sat Position Calculate...\n",
      "Phase 2 -- Done! Cost: 0s\n",
      "Phase 3 -- Flight Track and BeamDir History Simulate...\n",
      "Phase 3 -- Done! Cost: 0s\n",
      "Phase 4 -- Signal Generate...\n",
      "Phase 4 -- Done! Cost: 0.084s\n",
      "Phase 5 -- Echo Calculate...\n",
      "        -- CPU ThreadNum: 48\n",
      "Phase 5 -- Done! Cost: 1.506s\n",
      "Phase 6 -- Result Save...\n",
      "Phase 6 -- Done! Cost: 0.255s\n",
      "  Final -- Total Cost: 1.864s\n",
      "回波仿真完成！\n",
      "图像大小：75 x 75\n"
     ]
    },
    {
     "name": "stderr",
     "output_type": "stream",
     "text": [
      "/home/liq/pro/new_production_1118/sklearn/cluster/_kmeans.py:1416: FutureWarning: The default value of `n_init` will change from 10 to 'auto' in 1.4. Set the value of `n_init` explicitly to suppress the warning\n",
      "  super()._check_params_vs_input(X, default_n_init=10)\n"
     ]
    },
    {
     "name": "stdout",
     "output_type": "stream",
     "text": [
      "开始回波仿真...\n",
      "========================= EchoSimProcess =========================\n",
      "Phase 1 -- Params read and config...\n",
      "Phase 1 -- Done! Cost: 0.035s\n",
      "Phase 2 -- Sat Position Calculate...\n",
      "Phase 2 -- Done! Cost: 0s\n",
      "Phase 3 -- Flight Track and BeamDir History Simulate...\n",
      "Phase 3 -- Done! Cost: 0s\n",
      "Phase 4 -- Signal Generate...\n",
      "Phase 4 -- Done! Cost: 0.055s\n",
      "Phase 5 -- Echo Calculate...\n",
      "        -- CPU ThreadNum: 48\n",
      "Phase 5 -- Done! Cost: 1.47s\n",
      "Phase 6 -- Result Save...\n",
      "Phase 6 -- Done! Cost: 0.254s\n",
      "  Final -- Total Cost: 1.819s\n",
      "回波仿真完成！\n",
      "图像大小：75 x 75\n"
     ]
    },
    {
     "name": "stderr",
     "output_type": "stream",
     "text": [
      "/home/liq/pro/new_production_1118/sklearn/cluster/_kmeans.py:1416: FutureWarning: The default value of `n_init` will change from 10 to 'auto' in 1.4. Set the value of `n_init` explicitly to suppress the warning\n",
      "  super()._check_params_vs_input(X, default_n_init=10)\n"
     ]
    },
    {
     "name": "stdout",
     "output_type": "stream",
     "text": [
      "开始回波仿真...\n",
      "========================= EchoSimProcess =========================\n",
      "Phase 1 -- Params read and config...\n",
      "Phase 1 -- Done! Cost: 0.037s\n",
      "Phase 2 -- Sat Position Calculate...\n",
      "Phase 2 -- Done! Cost: 0s\n",
      "Phase 3 -- Flight Track and BeamDir History Simulate...\n",
      "Phase 3 -- Done! Cost: 0s\n",
      "Phase 4 -- Signal Generate...\n",
      "Phase 4 -- Done! Cost: 0.093s\n",
      "Phase 5 -- Echo Calculate...\n",
      "        -- CPU ThreadNum: 48\n",
      "Phase 5 -- Done! Cost: 1.529s\n",
      "Phase 6 -- Result Save...\n",
      "Phase 6 -- Done! Cost: 0.253s\n",
      "  Final -- Total Cost: 1.915s\n",
      "回波仿真完成！\n",
      "图像大小：75 x 75\n"
     ]
    },
    {
     "name": "stderr",
     "output_type": "stream",
     "text": [
      "/home/liq/pro/new_production_1118/sklearn/cluster/_kmeans.py:1416: FutureWarning: The default value of `n_init` will change from 10 to 'auto' in 1.4. Set the value of `n_init` explicitly to suppress the warning\n",
      "  super()._check_params_vs_input(X, default_n_init=10)\n"
     ]
    },
    {
     "name": "stdout",
     "output_type": "stream",
     "text": [
      "开始回波仿真...\n",
      "========================= EchoSimProcess =========================\n",
      "Phase 1 -- Params read and config...\n",
      "Phase 1 -- Done! Cost: 0.032s\n",
      "Phase 2 -- Sat Position Calculate...\n",
      "Phase 2 -- Done! Cost: 0s\n",
      "Phase 3 -- Flight Track and BeamDir History Simulate...\n",
      "Phase 3 -- Done! Cost: 0s\n",
      "Phase 4 -- Signal Generate...\n",
      "Phase 4 -- Done! Cost: 0.087s\n",
      "Phase 5 -- Echo Calculate...\n",
      "        -- CPU ThreadNum: 48\n",
      "Phase 5 -- Done! Cost: 1.451s\n",
      "Phase 6 -- Result Save...\n",
      "Phase 6 -- Done! Cost: 0.253s\n",
      "  Final -- Total Cost: 1.824s\n",
      "回波仿真完成！\n",
      "图像大小：75 x 75\n"
     ]
    },
    {
     "name": "stderr",
     "output_type": "stream",
     "text": [
      "/home/liq/pro/new_production_1118/sklearn/cluster/_kmeans.py:1416: FutureWarning: The default value of `n_init` will change from 10 to 'auto' in 1.4. Set the value of `n_init` explicitly to suppress the warning\n",
      "  super()._check_params_vs_input(X, default_n_init=10)\n"
     ]
    },
    {
     "name": "stdout",
     "output_type": "stream",
     "text": [
      "开始回波仿真...\n",
      "========================= EchoSimProcess =========================\n",
      "Phase 1 -- Params read and config...\n",
      "Phase 1 -- Done! Cost: 0.039s\n",
      "Phase 2 -- Sat Position Calculate...\n",
      "Phase 2 -- Done! Cost: 0s\n",
      "Phase 3 -- Flight Track and BeamDir History Simulate...\n",
      "Phase 3 -- Done! Cost: 0s\n",
      "Phase 4 -- Signal Generate...\n",
      "Phase 4 -- Done! Cost: 0.083s\n",
      "Phase 5 -- Echo Calculate...\n",
      "        -- CPU ThreadNum: 48\n",
      "Phase 5 -- Done! Cost: 1.473s\n",
      "Phase 6 -- Result Save...\n",
      "Phase 6 -- Done! Cost: 0.259s\n",
      "  Final -- Total Cost: 1.861s\n",
      "回波仿真完成！\n",
      "图像大小：75 x 75\n"
     ]
    },
    {
     "name": "stderr",
     "output_type": "stream",
     "text": [
      "/home/liq/pro/new_production_1118/sklearn/cluster/_kmeans.py:1416: FutureWarning: The default value of `n_init` will change from 10 to 'auto' in 1.4. Set the value of `n_init` explicitly to suppress the warning\n",
      "  super()._check_params_vs_input(X, default_n_init=10)\n"
     ]
    },
    {
     "name": "stdout",
     "output_type": "stream",
     "text": [
      "开始回波仿真...\n",
      "========================= EchoSimProcess =========================\n",
      "Phase 1 -- Params read and config...\n",
      "Phase 1 -- Done! Cost: 0.031s\n",
      "Phase 2 -- Sat Position Calculate...\n",
      "Phase 2 -- Done! Cost: 0s\n",
      "Phase 3 -- Flight Track and BeamDir History Simulate...\n",
      "Phase 3 -- Done! Cost: 0s\n",
      "Phase 4 -- Signal Generate...\n",
      "Phase 4 -- Done! Cost: 0.091s\n",
      "Phase 5 -- Echo Calculate...\n",
      "        -- CPU ThreadNum: 48\n",
      "Phase 5 -- Done! Cost: 1.483s\n",
      "Phase 6 -- Result Save...\n",
      "Phase 6 -- Done! Cost: 0.257s\n",
      "  Final -- Total Cost: 1.863s\n",
      "回波仿真完成！\n",
      "图像大小：75 x 75\n"
     ]
    },
    {
     "name": "stderr",
     "output_type": "stream",
     "text": [
      "/home/liq/pro/new_production_1118/sklearn/cluster/_kmeans.py:1416: FutureWarning: The default value of `n_init` will change from 10 to 'auto' in 1.4. Set the value of `n_init` explicitly to suppress the warning\n",
      "  super()._check_params_vs_input(X, default_n_init=10)\n"
     ]
    },
    {
     "name": "stdout",
     "output_type": "stream",
     "text": [
      "开始回波仿真...\n",
      "========================= EchoSimProcess =========================\n",
      "Phase 1 -- Params read and config...\n",
      "Phase 1 -- Done! Cost: 0.034s\n",
      "Phase 2 -- Sat Position Calculate...\n",
      "Phase 2 -- Done! Cost: 0s\n",
      "Phase 3 -- Flight Track and BeamDir History Simulate...\n",
      "Phase 3 -- Done! Cost: 0s\n",
      "Phase 4 -- Signal Generate...\n",
      "Phase 4 -- Done! Cost: 0.089s\n",
      "Phase 5 -- Echo Calculate...\n",
      "        -- CPU ThreadNum: 48\n",
      "Phase 5 -- Done! Cost: 1.464s\n",
      "Phase 6 -- Result Save...\n",
      "Phase 6 -- Done! Cost: 0.237s\n",
      "  Final -- Total Cost: 1.836s\n",
      "回波仿真完成！\n",
      "图像大小：75 x 75\n"
     ]
    },
    {
     "name": "stderr",
     "output_type": "stream",
     "text": [
      "/home/liq/pro/new_production_1118/sklearn/cluster/_kmeans.py:1416: FutureWarning: The default value of `n_init` will change from 10 to 'auto' in 1.4. Set the value of `n_init` explicitly to suppress the warning\n",
      "  super()._check_params_vs_input(X, default_n_init=10)\n"
     ]
    },
    {
     "name": "stdout",
     "output_type": "stream",
     "text": [
      "开始回波仿真...\n",
      "========================= EchoSimProcess =========================\n",
      "Phase 1 -- Params read and config...\n",
      "Phase 1 -- Done! Cost: 0.028s\n",
      "Phase 2 -- Sat Position Calculate...\n",
      "Phase 2 -- Done! Cost: 0s\n",
      "Phase 3 -- Flight Track and BeamDir History Simulate...\n",
      "Phase 3 -- Done! Cost: 0s\n",
      "Phase 4 -- Signal Generate...\n",
      "Phase 4 -- Done! Cost: 0.083s\n",
      "Phase 5 -- Echo Calculate...\n",
      "        -- CPU ThreadNum: 48\n",
      "Phase 5 -- Done! Cost: 1.476s\n",
      "Phase 6 -- Result Save...\n",
      "Phase 6 -- Done! Cost: 0.258s\n",
      "  Final -- Total Cost: 1.855s\n",
      "回波仿真完成！\n",
      "图像大小：75 x 75\n"
     ]
    },
    {
     "name": "stderr",
     "output_type": "stream",
     "text": [
      "/home/liq/pro/new_production_1118/sklearn/cluster/_kmeans.py:1416: FutureWarning: The default value of `n_init` will change from 10 to 'auto' in 1.4. Set the value of `n_init` explicitly to suppress the warning\n",
      "  super()._check_params_vs_input(X, default_n_init=10)\n"
     ]
    },
    {
     "name": "stdout",
     "output_type": "stream",
     "text": [
      "开始回波仿真...\n",
      "========================= EchoSimProcess =========================\n",
      "Phase 1 -- Params read and config...\n",
      "Phase 1 -- Done! Cost: 0.027s\n",
      "Phase 2 -- Sat Position Calculate...\n",
      "Phase 2 -- Done! Cost: 0s\n",
      "Phase 3 -- Flight Track and BeamDir History Simulate...\n",
      "Phase 3 -- Done! Cost: 0s\n",
      "Phase 4 -- Signal Generate...\n",
      "Phase 4 -- Done! Cost: 0.089s\n",
      "Phase 5 -- Echo Calculate...\n",
      "        -- CPU ThreadNum: 48\n",
      "Phase 5 -- Done! Cost: 1.483s\n",
      "Phase 6 -- Result Save...\n",
      "Phase 6 -- Done! Cost: 0.26s\n",
      "  Final -- Total Cost: 1.86s\n",
      "回波仿真完成！\n",
      "图像大小：75 x 75\n"
     ]
    },
    {
     "name": "stderr",
     "output_type": "stream",
     "text": [
      "/home/liq/pro/new_production_1118/sklearn/cluster/_kmeans.py:1416: FutureWarning: The default value of `n_init` will change from 10 to 'auto' in 1.4. Set the value of `n_init` explicitly to suppress the warning\n",
      "  super()._check_params_vs_input(X, default_n_init=10)\n"
     ]
    },
    {
     "name": "stdout",
     "output_type": "stream",
     "text": [
      "开始回波仿真...\n",
      "========================= EchoSimProcess =========================\n",
      "Phase 1 -- Params read and config...\n",
      "Phase 1 -- Done! Cost: 0.017s\n",
      "Phase 2 -- Sat Position Calculate...\n",
      "Phase 2 -- Done! Cost: 0s\n",
      "Phase 3 -- Flight Track and BeamDir History Simulate...\n",
      "Phase 3 -- Done! Cost: 0s\n",
      "Phase 4 -- Signal Generate...\n",
      "Phase 4 -- Done! Cost: 0.067s\n",
      "Phase 5 -- Echo Calculate...\n",
      "        -- CPU ThreadNum: 48\n",
      "Phase 5 -- Done! Cost: 1.496s\n",
      "Phase 6 -- Result Save...\n",
      "Phase 6 -- Done! Cost: 0.27s\n",
      "  Final -- Total Cost: 1.863s\n",
      "回波仿真完成！\n",
      "图像大小：75 x 75\n"
     ]
    },
    {
     "name": "stderr",
     "output_type": "stream",
     "text": [
      "/home/liq/pro/new_production_1118/sklearn/cluster/_kmeans.py:1416: FutureWarning: The default value of `n_init` will change from 10 to 'auto' in 1.4. Set the value of `n_init` explicitly to suppress the warning\n",
      "  super()._check_params_vs_input(X, default_n_init=10)\n"
     ]
    },
    {
     "name": "stdout",
     "output_type": "stream",
     "text": [
      "开始回波仿真...\n",
      "========================= EchoSimProcess =========================\n",
      "Phase 1 -- Params read and config...\n",
      "Phase 1 -- Done! Cost: 0.043s\n",
      "Phase 2 -- Sat Position Calculate...\n",
      "Phase 2 -- Done! Cost: 0s\n",
      "Phase 3 -- Flight Track and BeamDir History Simulate...\n",
      "Phase 3 -- Done! Cost: 0s\n",
      "Phase 4 -- Signal Generate...\n",
      "Phase 4 -- Done! Cost: 0.089s\n",
      "Phase 5 -- Echo Calculate...\n",
      "        -- CPU ThreadNum: 48\n",
      "Phase 5 -- Done! Cost: 1.354s\n",
      "Phase 6 -- Result Save...\n",
      "Phase 6 -- Done! Cost: 0.23s\n",
      "  Final -- Total Cost: 1.717s\n",
      "回波仿真完成！\n",
      "图像大小：75 x 75\n"
     ]
    },
    {
     "name": "stderr",
     "output_type": "stream",
     "text": [
      "/home/liq/pro/new_production_1118/sklearn/cluster/_kmeans.py:1416: FutureWarning: The default value of `n_init` will change from 10 to 'auto' in 1.4. Set the value of `n_init` explicitly to suppress the warning\n",
      "  super()._check_params_vs_input(X, default_n_init=10)\n"
     ]
    },
    {
     "name": "stdout",
     "output_type": "stream",
     "text": [
      "开始回波仿真...\n",
      "========================= EchoSimProcess =========================\n",
      "Phase 1 -- Params read and config...\n",
      "Phase 1 -- Done! Cost: 0.012s\n",
      "Phase 2 -- Sat Position Calculate...\n",
      "Phase 2 -- Done! Cost: 0s\n",
      "Phase 3 -- Flight Track and BeamDir History Simulate...\n",
      "Phase 3 -- Done! Cost: 0s\n",
      "Phase 4 -- Signal Generate...\n",
      "Phase 4 -- Done! Cost: 0.035s\n",
      "Phase 5 -- Echo Calculate...\n",
      "        -- CPU ThreadNum: 48\n",
      "Phase 5 -- Done! Cost: 1.399s\n",
      "Phase 6 -- Result Save...\n",
      "Phase 6 -- Done! Cost: 0.23s\n",
      "  Final -- Total Cost: 1.677s\n",
      "回波仿真完成！\n",
      "图像大小：75 x 75\n"
     ]
    },
    {
     "name": "stderr",
     "output_type": "stream",
     "text": [
      "/home/liq/pro/new_production_1118/sklearn/cluster/_kmeans.py:1416: FutureWarning: The default value of `n_init` will change from 10 to 'auto' in 1.4. Set the value of `n_init` explicitly to suppress the warning\n",
      "  super()._check_params_vs_input(X, default_n_init=10)\n"
     ]
    },
    {
     "name": "stdout",
     "output_type": "stream",
     "text": [
      "开始回波仿真...\n",
      "========================= EchoSimProcess =========================\n",
      "Phase 1 -- Params read and config...\n",
      "Phase 1 -- Done! Cost: 0.012s\n",
      "Phase 2 -- Sat Position Calculate...\n",
      "Phase 2 -- Done! Cost: 0s\n",
      "Phase 3 -- Flight Track and BeamDir History Simulate...\n",
      "Phase 3 -- Done! Cost: 0s\n",
      "Phase 4 -- Signal Generate...\n",
      "Phase 4 -- Done! Cost: 0.06s\n",
      "Phase 5 -- Echo Calculate...\n",
      "        -- CPU ThreadNum: 48\n",
      "Phase 5 -- Done! Cost: 1.388s\n",
      "Phase 6 -- Result Save...\n",
      "Phase 6 -- Done! Cost: 0.236s\n",
      "  Final -- Total Cost: 1.699s\n",
      "回波仿真完成！\n",
      "图像大小：75 x 75\n"
     ]
    },
    {
     "name": "stderr",
     "output_type": "stream",
     "text": [
      "/home/liq/pro/new_production_1118/sklearn/cluster/_kmeans.py:1416: FutureWarning: The default value of `n_init` will change from 10 to 'auto' in 1.4. Set the value of `n_init` explicitly to suppress the warning\n",
      "  super()._check_params_vs_input(X, default_n_init=10)\n"
     ]
    },
    {
     "name": "stdout",
     "output_type": "stream",
     "text": [
      "开始回波仿真...\n",
      "========================= EchoSimProcess =========================\n",
      "Phase 1 -- Params read and config...\n",
      "Phase 1 -- Done! Cost: 0.027s\n",
      "Phase 2 -- Sat Position Calculate...\n",
      "Phase 2 -- Done! Cost: 0s\n",
      "Phase 3 -- Flight Track and BeamDir History Simulate...\n",
      "Phase 3 -- Done! Cost: 0s\n",
      "Phase 4 -- Signal Generate...\n",
      "Phase 4 -- Done! Cost: 0.091s\n",
      "Phase 5 -- Echo Calculate...\n",
      "        -- CPU ThreadNum: 48\n",
      "Phase 5 -- Done! Cost: 1.35s\n",
      "Phase 6 -- Result Save...\n",
      "Phase 6 -- Done! Cost: 0.229s\n",
      "  Final -- Total Cost: 1.706s\n",
      "回波仿真完成！\n",
      "图像大小：75 x 75\n"
     ]
    },
    {
     "name": "stderr",
     "output_type": "stream",
     "text": [
      "/home/liq/pro/new_production_1118/sklearn/cluster/_kmeans.py:1416: FutureWarning: The default value of `n_init` will change from 10 to 'auto' in 1.4. Set the value of `n_init` explicitly to suppress the warning\n",
      "  super()._check_params_vs_input(X, default_n_init=10)\n"
     ]
    },
    {
     "name": "stdout",
     "output_type": "stream",
     "text": [
      "开始回波仿真...\n",
      "========================= EchoSimProcess =========================\n",
      "Phase 1 -- Params read and config...\n",
      "Phase 1 -- Done! Cost: 0.012s\n",
      "Phase 2 -- Sat Position Calculate...\n",
      "Phase 2 -- Done! Cost: 0s\n",
      "Phase 3 -- Flight Track and BeamDir History Simulate...\n",
      "Phase 3 -- Done! Cost: 0s\n",
      "Phase 4 -- Signal Generate...\n",
      "Phase 4 -- Done! Cost: 0.054s\n",
      "Phase 5 -- Echo Calculate...\n",
      "        -- CPU ThreadNum: 48\n",
      "Phase 5 -- Done! Cost: 1.393s\n",
      "Phase 6 -- Result Save...\n",
      "Phase 6 -- Done! Cost: 0.226s\n",
      "  Final -- Total Cost: 1.692s\n",
      "回波仿真完成！\n",
      "图像大小：75 x 75\n"
     ]
    },
    {
     "name": "stderr",
     "output_type": "stream",
     "text": [
      "/home/liq/pro/new_production_1118/sklearn/cluster/_kmeans.py:1416: FutureWarning: The default value of `n_init` will change from 10 to 'auto' in 1.4. Set the value of `n_init` explicitly to suppress the warning\n",
      "  super()._check_params_vs_input(X, default_n_init=10)\n"
     ]
    },
    {
     "name": "stdout",
     "output_type": "stream",
     "text": [
      "开始回波仿真...\n",
      "========================= EchoSimProcess =========================\n",
      "Phase 1 -- Params read and config...\n",
      "Phase 1 -- Done! Cost: 0.03s\n",
      "Phase 2 -- Sat Position Calculate...\n",
      "Phase 2 -- Done! Cost: 0s\n",
      "Phase 3 -- Flight Track and BeamDir History Simulate...\n",
      "Phase 3 -- Done! Cost: 0s\n",
      "Phase 4 -- Signal Generate...\n",
      "Phase 4 -- Done! Cost: 0.078s\n",
      "Phase 5 -- Echo Calculate...\n",
      "        -- CPU ThreadNum: 48\n",
      "Phase 5 -- Done! Cost: 1.334s\n",
      "Phase 6 -- Result Save...\n",
      "Phase 6 -- Done! Cost: 0.227s\n",
      "  Final -- Total Cost: 1.68s\n",
      "回波仿真完成！\n",
      "图像大小：75 x 75\n"
     ]
    },
    {
     "name": "stderr",
     "output_type": "stream",
     "text": [
      "/home/liq/pro/new_production_1118/sklearn/cluster/_kmeans.py:1416: FutureWarning: The default value of `n_init` will change from 10 to 'auto' in 1.4. Set the value of `n_init` explicitly to suppress the warning\n",
      "  super()._check_params_vs_input(X, default_n_init=10)\n"
     ]
    },
    {
     "name": "stdout",
     "output_type": "stream",
     "text": [
      "开始回波仿真...\n",
      "========================= EchoSimProcess =========================\n",
      "Phase 1 -- Params read and config...\n",
      "Phase 1 -- Done! Cost: 0.029s\n",
      "Phase 2 -- Sat Position Calculate...\n",
      "Phase 2 -- Done! Cost: 0s\n",
      "Phase 3 -- Flight Track and BeamDir History Simulate...\n",
      "Phase 3 -- Done! Cost: 0s\n",
      "Phase 4 -- Signal Generate...\n",
      "Phase 4 -- Done! Cost: 0.081s\n",
      "Phase 5 -- Echo Calculate...\n",
      "        -- CPU ThreadNum: 48\n",
      "Phase 5 -- Done! Cost: 1.293s\n",
      "Phase 6 -- Result Save...\n",
      "Phase 6 -- Done! Cost: 0.218s\n",
      "  Final -- Total Cost: 1.634s\n",
      "回波仿真完成！\n",
      "图像大小：75 x 75\n"
     ]
    },
    {
     "name": "stderr",
     "output_type": "stream",
     "text": [
      "/home/liq/pro/new_production_1118/sklearn/cluster/_kmeans.py:1416: FutureWarning: The default value of `n_init` will change from 10 to 'auto' in 1.4. Set the value of `n_init` explicitly to suppress the warning\n",
      "  super()._check_params_vs_input(X, default_n_init=10)\n"
     ]
    },
    {
     "name": "stdout",
     "output_type": "stream",
     "text": [
      "开始回波仿真...\n",
      "========================= EchoSimProcess =========================\n",
      "Phase 1 -- Params read and config...\n",
      "Phase 1 -- Done! Cost: 0.027s\n",
      "Phase 2 -- Sat Position Calculate...\n",
      "Phase 2 -- Done! Cost: 0s\n",
      "Phase 3 -- Flight Track and BeamDir History Simulate...\n",
      "Phase 3 -- Done! Cost: 0s\n",
      "Phase 4 -- Signal Generate...\n",
      "Phase 4 -- Done! Cost: 0.088s\n",
      "Phase 5 -- Echo Calculate...\n",
      "        -- CPU ThreadNum: 48\n",
      "Phase 5 -- Done! Cost: 1.362s\n",
      "Phase 6 -- Result Save...\n",
      "Phase 6 -- Done! Cost: 0.226s\n",
      "  Final -- Total Cost: 1.711s\n",
      "回波仿真完成！\n",
      "图像大小：75 x 75\n"
     ]
    },
    {
     "name": "stderr",
     "output_type": "stream",
     "text": [
      "/home/liq/pro/new_production_1118/sklearn/cluster/_kmeans.py:1416: FutureWarning: The default value of `n_init` will change from 10 to 'auto' in 1.4. Set the value of `n_init` explicitly to suppress the warning\n",
      "  super()._check_params_vs_input(X, default_n_init=10)\n"
     ]
    },
    {
     "name": "stdout",
     "output_type": "stream",
     "text": [
      "开始回波仿真...\n",
      "========================= EchoSimProcess =========================\n",
      "Phase 1 -- Params read and config...\n",
      "Phase 1 -- Done! Cost: 0.014s\n",
      "Phase 2 -- Sat Position Calculate...\n",
      "Phase 2 -- Done! Cost: 0s\n",
      "Phase 3 -- Flight Track and BeamDir History Simulate...\n",
      "Phase 3 -- Done! Cost: 0s\n",
      "Phase 4 -- Signal Generate...\n",
      "Phase 4 -- Done! Cost: 0.051s\n",
      "Phase 5 -- Echo Calculate...\n",
      "        -- CPU ThreadNum: 48\n",
      "Phase 5 -- Done! Cost: 1.403s\n",
      "Phase 6 -- Result Save...\n",
      "Phase 6 -- Done! Cost: 0.231s\n",
      "  Final -- Total Cost: 1.711s\n",
      "回波仿真完成！\n",
      "图像大小：75 x 75\n"
     ]
    },
    {
     "name": "stderr",
     "output_type": "stream",
     "text": [
      "/home/liq/pro/new_production_1118/sklearn/cluster/_kmeans.py:1416: FutureWarning: The default value of `n_init` will change from 10 to 'auto' in 1.4. Set the value of `n_init` explicitly to suppress the warning\n",
      "  super()._check_params_vs_input(X, default_n_init=10)\n"
     ]
    },
    {
     "name": "stdout",
     "output_type": "stream",
     "text": [
      "开始回波仿真...\n",
      "========================= EchoSimProcess =========================\n",
      "Phase 1 -- Params read and config...\n",
      "Phase 1 -- Done! Cost: 0.028s\n",
      "Phase 2 -- Sat Position Calculate...\n",
      "Phase 2 -- Done! Cost: 0s\n",
      "Phase 3 -- Flight Track and BeamDir History Simulate...\n",
      "Phase 3 -- Done! Cost: 0s\n",
      "Phase 4 -- Signal Generate...\n",
      "Phase 4 -- Done! Cost: 0.074s\n",
      "Phase 5 -- Echo Calculate...\n",
      "        -- CPU ThreadNum: 48\n",
      "Phase 5 -- Done! Cost: 1.363s\n",
      "Phase 6 -- Result Save...\n",
      "Phase 6 -- Done! Cost: 0.236s\n",
      "  Final -- Total Cost: 1.708s\n",
      "回波仿真完成！\n",
      "图像大小：75 x 75\n"
     ]
    },
    {
     "name": "stderr",
     "output_type": "stream",
     "text": [
      "/home/liq/pro/new_production_1118/sklearn/cluster/_kmeans.py:1416: FutureWarning: The default value of `n_init` will change from 10 to 'auto' in 1.4. Set the value of `n_init` explicitly to suppress the warning\n",
      "  super()._check_params_vs_input(X, default_n_init=10)\n"
     ]
    },
    {
     "name": "stdout",
     "output_type": "stream",
     "text": [
      "开始回波仿真...\n",
      "========================= EchoSimProcess =========================\n",
      "Phase 1 -- Params read and config...\n",
      "Phase 1 -- Done! Cost: 0.028s\n",
      "Phase 2 -- Sat Position Calculate...\n",
      "Phase 2 -- Done! Cost: 0s\n",
      "Phase 3 -- Flight Track and BeamDir History Simulate...\n",
      "Phase 3 -- Done! Cost: 0s\n",
      "Phase 4 -- Signal Generate...\n",
      "Phase 4 -- Done! Cost: 0.107s\n",
      "Phase 5 -- Echo Calculate...\n",
      "        -- CPU ThreadNum: 48\n",
      "Phase 5 -- Done! Cost: 1.328s\n",
      "Phase 6 -- Result Save...\n",
      "Phase 6 -- Done! Cost: 0.229s\n",
      "  Final -- Total Cost: 1.695s\n",
      "回波仿真完成！\n",
      "图像大小：75 x 75\n"
     ]
    },
    {
     "name": "stderr",
     "output_type": "stream",
     "text": [
      "/home/liq/pro/new_production_1118/sklearn/cluster/_kmeans.py:1416: FutureWarning: The default value of `n_init` will change from 10 to 'auto' in 1.4. Set the value of `n_init` explicitly to suppress the warning\n",
      "  super()._check_params_vs_input(X, default_n_init=10)\n"
     ]
    },
    {
     "name": "stdout",
     "output_type": "stream",
     "text": [
      "开始回波仿真...\n",
      "========================= EchoSimProcess =========================\n",
      "Phase 1 -- Params read and config...\n",
      "Phase 1 -- Done! Cost: 0.026s\n",
      "Phase 2 -- Sat Position Calculate...\n",
      "Phase 2 -- Done! Cost: 0s\n",
      "Phase 3 -- Flight Track and BeamDir History Simulate...\n",
      "Phase 3 -- Done! Cost: 0s\n",
      "Phase 4 -- Signal Generate...\n",
      "Phase 4 -- Done! Cost: 0.078s\n",
      "Phase 5 -- Echo Calculate...\n",
      "        -- CPU ThreadNum: 48\n",
      "Phase 5 -- Done! Cost: 1.368s\n",
      "Phase 6 -- Result Save...\n",
      "Phase 6 -- Done! Cost: 0.219s\n",
      "  Final -- Total Cost: 1.704s\n",
      "回波仿真完成！\n",
      "图像大小：75 x 75\n"
     ]
    },
    {
     "name": "stderr",
     "output_type": "stream",
     "text": [
      "/home/liq/pro/new_production_1118/sklearn/cluster/_kmeans.py:1416: FutureWarning: The default value of `n_init` will change from 10 to 'auto' in 1.4. Set the value of `n_init` explicitly to suppress the warning\n",
      "  super()._check_params_vs_input(X, default_n_init=10)\n"
     ]
    },
    {
     "name": "stdout",
     "output_type": "stream",
     "text": [
      "开始回波仿真...\n",
      "========================= EchoSimProcess =========================\n",
      "Phase 1 -- Params read and config...\n",
      "Phase 1 -- Done! Cost: 0.024s\n",
      "Phase 2 -- Sat Position Calculate...\n",
      "Phase 2 -- Done! Cost: 0s\n",
      "Phase 3 -- Flight Track and BeamDir History Simulate...\n",
      "Phase 3 -- Done! Cost: 0s\n",
      "Phase 4 -- Signal Generate...\n",
      "Phase 4 -- Done! Cost: 0.094s\n",
      "Phase 5 -- Echo Calculate...\n",
      "        -- CPU ThreadNum: 48\n",
      "Phase 5 -- Done! Cost: 1.356s\n",
      "Phase 6 -- Result Save...\n",
      "Phase 6 -- Done! Cost: 0.214s\n",
      "  Final -- Total Cost: 1.691s\n",
      "回波仿真完成！\n",
      "图像大小：75 x 75\n"
     ]
    },
    {
     "name": "stderr",
     "output_type": "stream",
     "text": [
      "/home/liq/pro/new_production_1118/sklearn/cluster/_kmeans.py:1416: FutureWarning: The default value of `n_init` will change from 10 to 'auto' in 1.4. Set the value of `n_init` explicitly to suppress the warning\n",
      "  super()._check_params_vs_input(X, default_n_init=10)\n"
     ]
    },
    {
     "name": "stdout",
     "output_type": "stream",
     "text": [
      "开始回波仿真...\n",
      "========================= EchoSimProcess =========================\n",
      "Phase 1 -- Params read and config...\n",
      "Phase 1 -- Done! Cost: 0.014s\n",
      "Phase 2 -- Sat Position Calculate...\n",
      "Phase 2 -- Done! Cost: 0s\n",
      "Phase 3 -- Flight Track and BeamDir History Simulate...\n",
      "Phase 3 -- Done! Cost: 0s\n",
      "Phase 4 -- Signal Generate...\n",
      "Phase 4 -- Done! Cost: 0.106s\n",
      "Phase 5 -- Echo Calculate...\n",
      "        -- CPU ThreadNum: 48\n",
      "Phase 5 -- Done! Cost: 1.351s\n",
      "Phase 6 -- Result Save...\n",
      "Phase 6 -- Done! Cost: 0.225s\n",
      "  Final -- Total Cost: 1.699s\n",
      "回波仿真完成！\n",
      "图像大小：75 x 75\n"
     ]
    },
    {
     "name": "stderr",
     "output_type": "stream",
     "text": [
      "/home/liq/pro/new_production_1118/sklearn/cluster/_kmeans.py:1416: FutureWarning: The default value of `n_init` will change from 10 to 'auto' in 1.4. Set the value of `n_init` explicitly to suppress the warning\n",
      "  super()._check_params_vs_input(X, default_n_init=10)\n"
     ]
    },
    {
     "name": "stdout",
     "output_type": "stream",
     "text": [
      "开始回波仿真...\n",
      "========================= EchoSimProcess =========================\n",
      "Phase 1 -- Params read and config...\n",
      "Phase 1 -- Done! Cost: 0.014s\n",
      "Phase 2 -- Sat Position Calculate...\n",
      "Phase 2 -- Done! Cost: 0s\n",
      "Phase 3 -- Flight Track and BeamDir History Simulate...\n",
      "Phase 3 -- Done! Cost: 0s\n",
      "Phase 4 -- Signal Generate...\n",
      "Phase 4 -- Done! Cost: 0.058s\n",
      "Phase 5 -- Echo Calculate...\n",
      "        -- CPU ThreadNum: 48\n",
      "Phase 5 -- Done! Cost: 1.39s\n",
      "Phase 6 -- Result Save...\n",
      "Phase 6 -- Done! Cost: 0.227s\n",
      "  Final -- Total Cost: 1.692s\n",
      "回波仿真完成！\n",
      "图像大小：75 x 75\n"
     ]
    },
    {
     "name": "stderr",
     "output_type": "stream",
     "text": [
      "/home/liq/pro/new_production_1118/sklearn/cluster/_kmeans.py:1416: FutureWarning: The default value of `n_init` will change from 10 to 'auto' in 1.4. Set the value of `n_init` explicitly to suppress the warning\n",
      "  super()._check_params_vs_input(X, default_n_init=10)\n"
     ]
    },
    {
     "name": "stdout",
     "output_type": "stream",
     "text": [
      "开始回波仿真...\n",
      "========================= EchoSimProcess =========================\n",
      "Phase 1 -- Params read and config...\n",
      "Phase 1 -- Done! Cost: 0.018s\n",
      "Phase 2 -- Sat Position Calculate...\n",
      "Phase 2 -- Done! Cost: 0s\n",
      "Phase 3 -- Flight Track and BeamDir History Simulate...\n",
      "Phase 3 -- Done! Cost: 0s\n",
      "Phase 4 -- Signal Generate...\n",
      "Phase 4 -- Done! Cost: 0.11s\n",
      "Phase 5 -- Echo Calculate...\n",
      "        -- CPU ThreadNum: 48\n",
      "Phase 5 -- Done! Cost: 1.314s\n",
      "Phase 6 -- Result Save...\n",
      "Phase 6 -- Done! Cost: 0.232s\n",
      "  Final -- Total Cost: 1.676s\n",
      "回波仿真完成！\n",
      "图像大小：75 x 75\n"
     ]
    },
    {
     "name": "stderr",
     "output_type": "stream",
     "text": [
      "/home/liq/pro/new_production_1118/sklearn/cluster/_kmeans.py:1416: FutureWarning: The default value of `n_init` will change from 10 to 'auto' in 1.4. Set the value of `n_init` explicitly to suppress the warning\n",
      "  super()._check_params_vs_input(X, default_n_init=10)\n"
     ]
    },
    {
     "name": "stdout",
     "output_type": "stream",
     "text": [
      "开始回波仿真...\n",
      "========================= EchoSimProcess =========================\n",
      "Phase 1 -- Params read and config...\n",
      "Phase 1 -- Done! Cost: 0.027s\n",
      "Phase 2 -- Sat Position Calculate...\n",
      "Phase 2 -- Done! Cost: 0s\n",
      "Phase 3 -- Flight Track and BeamDir History Simulate...\n",
      "Phase 3 -- Done! Cost: 0s\n",
      "Phase 4 -- Signal Generate...\n",
      "Phase 4 -- Done! Cost: 0.081s\n",
      "Phase 5 -- Echo Calculate...\n",
      "        -- CPU ThreadNum: 48\n",
      "Phase 5 -- Done! Cost: 1.398s\n",
      "Phase 6 -- Result Save...\n",
      "Phase 6 -- Done! Cost: 0.232s\n",
      "  Final -- Total Cost: 1.74s\n",
      "回波仿真完成！\n",
      "图像大小：75 x 75\n"
     ]
    },
    {
     "name": "stderr",
     "output_type": "stream",
     "text": [
      "/home/liq/pro/new_production_1118/sklearn/cluster/_kmeans.py:1416: FutureWarning: The default value of `n_init` will change from 10 to 'auto' in 1.4. Set the value of `n_init` explicitly to suppress the warning\n",
      "  super()._check_params_vs_input(X, default_n_init=10)\n"
     ]
    },
    {
     "name": "stdout",
     "output_type": "stream",
     "text": [
      "开始回波仿真...\n",
      "========================= EchoSimProcess =========================\n",
      "Phase 1 -- Params read and config...\n",
      "Phase 1 -- Done! Cost: 0.028s\n",
      "Phase 2 -- Sat Position Calculate...\n",
      "Phase 2 -- Done! Cost: 0s\n",
      "Phase 3 -- Flight Track and BeamDir History Simulate...\n",
      "Phase 3 -- Done! Cost: 0s\n",
      "Phase 4 -- Signal Generate...\n",
      "Phase 4 -- Done! Cost: 0.092s\n",
      "Phase 5 -- Echo Calculate...\n",
      "        -- CPU ThreadNum: 48\n",
      "Phase 5 -- Done! Cost: 1.373s\n",
      "Phase 6 -- Result Save...\n",
      "Phase 6 -- Done! Cost: 0.23s\n",
      "  Final -- Total Cost: 1.726s\n",
      "回波仿真完成！\n",
      "图像大小：75 x 75\n"
     ]
    },
    {
     "name": "stderr",
     "output_type": "stream",
     "text": [
      "/home/liq/pro/new_production_1118/sklearn/cluster/_kmeans.py:1416: FutureWarning: The default value of `n_init` will change from 10 to 'auto' in 1.4. Set the value of `n_init` explicitly to suppress the warning\n",
      "  super()._check_params_vs_input(X, default_n_init=10)\n"
     ]
    },
    {
     "name": "stdout",
     "output_type": "stream",
     "text": [
      "开始回波仿真...\n",
      "========================= EchoSimProcess =========================\n",
      "Phase 1 -- Params read and config...\n",
      "Phase 1 -- Done! Cost: 0.025s\n",
      "Phase 2 -- Sat Position Calculate...\n",
      "Phase 2 -- Done! Cost: 0s\n",
      "Phase 3 -- Flight Track and BeamDir History Simulate...\n",
      "Phase 3 -- Done! Cost: 0s\n",
      "Phase 4 -- Signal Generate...\n",
      "Phase 4 -- Done! Cost: 0.088s\n",
      "Phase 5 -- Echo Calculate...\n",
      "        -- CPU ThreadNum: 48\n",
      "Phase 5 -- Done! Cost: 1.274s\n",
      "Phase 6 -- Result Save...\n",
      "Phase 6 -- Done! Cost: 0.205s\n",
      "  Final -- Total Cost: 1.599s\n",
      "回波仿真完成！\n",
      "图像大小：75 x 75\n"
     ]
    },
    {
     "name": "stderr",
     "output_type": "stream",
     "text": [
      "/home/liq/pro/new_production_1118/sklearn/cluster/_kmeans.py:1416: FutureWarning: The default value of `n_init` will change from 10 to 'auto' in 1.4. Set the value of `n_init` explicitly to suppress the warning\n",
      "  super()._check_params_vs_input(X, default_n_init=10)\n"
     ]
    },
    {
     "name": "stdout",
     "output_type": "stream",
     "text": [
      "开始回波仿真...\n",
      "========================= EchoSimProcess =========================\n",
      "Phase 1 -- Params read and config...\n",
      "Phase 1 -- Done! Cost: 0.011s\n",
      "Phase 2 -- Sat Position Calculate...\n",
      "Phase 2 -- Done! Cost: 0s\n",
      "Phase 3 -- Flight Track and BeamDir History Simulate...\n",
      "Phase 3 -- Done! Cost: 0s\n",
      "Phase 4 -- Signal Generate...\n",
      "Phase 4 -- Done! Cost: 0.111s\n",
      "Phase 5 -- Echo Calculate...\n",
      "        -- CPU ThreadNum: 48\n",
      "Phase 5 -- Done! Cost: 1.302s\n",
      "Phase 6 -- Result Save...\n",
      "Phase 6 -- Done! Cost: 0.213s\n",
      "  Final -- Total Cost: 1.639s\n",
      "回波仿真完成！\n",
      "图像大小：75 x 75\n"
     ]
    },
    {
     "name": "stderr",
     "output_type": "stream",
     "text": [
      "/home/liq/pro/new_production_1118/sklearn/cluster/_kmeans.py:1416: FutureWarning: The default value of `n_init` will change from 10 to 'auto' in 1.4. Set the value of `n_init` explicitly to suppress the warning\n",
      "  super()._check_params_vs_input(X, default_n_init=10)\n"
     ]
    },
    {
     "name": "stdout",
     "output_type": "stream",
     "text": [
      "开始回波仿真...\n",
      "========================= EchoSimProcess =========================\n",
      "Phase 1 -- Params read and config...\n",
      "Phase 1 -- Done! Cost: 0.01s\n",
      "Phase 2 -- Sat Position Calculate...\n",
      "Phase 2 -- Done! Cost: 0s\n",
      "Phase 3 -- Flight Track and BeamDir History Simulate...\n",
      "Phase 3 -- Done! Cost: 0s\n",
      "Phase 4 -- Signal Generate...\n",
      "Phase 4 -- Done! Cost: 0.104s\n",
      "Phase 5 -- Echo Calculate...\n",
      "        -- CPU ThreadNum: 48\n",
      "Phase 5 -- Done! Cost: 1.244s\n",
      "Phase 6 -- Result Save...\n",
      "Phase 6 -- Done! Cost: 0.194s\n",
      "  Final -- Total Cost: 1.555s\n",
      "回波仿真完成！\n",
      "图像大小：75 x 75\n"
     ]
    },
    {
     "name": "stderr",
     "output_type": "stream",
     "text": [
      "/home/liq/pro/new_production_1118/sklearn/cluster/_kmeans.py:1416: FutureWarning: The default value of `n_init` will change from 10 to 'auto' in 1.4. Set the value of `n_init` explicitly to suppress the warning\n",
      "  super()._check_params_vs_input(X, default_n_init=10)\n"
     ]
    },
    {
     "name": "stdout",
     "output_type": "stream",
     "text": [
      "开始回波仿真...\n",
      "========================= EchoSimProcess =========================\n",
      "Phase 1 -- Params read and config...\n",
      "Phase 1 -- Done! Cost: 0.022s\n",
      "Phase 2 -- Sat Position Calculate...\n",
      "Phase 2 -- Done! Cost: 0s\n",
      "Phase 3 -- Flight Track and BeamDir History Simulate...\n",
      "Phase 3 -- Done! Cost: 0s\n",
      "Phase 4 -- Signal Generate...\n",
      "Phase 4 -- Done! Cost: 0.094s\n",
      "Phase 5 -- Echo Calculate...\n",
      "        -- CPU ThreadNum: 48\n",
      "Phase 5 -- Done! Cost: 1.26s\n",
      "Phase 6 -- Result Save...\n",
      "Phase 6 -- Done! Cost: 0.212s\n",
      "  Final -- Total Cost: 1.598s\n",
      "回波仿真完成！\n",
      "图像大小：75 x 75\n"
     ]
    },
    {
     "name": "stderr",
     "output_type": "stream",
     "text": [
      "/home/liq/pro/new_production_1118/sklearn/cluster/_kmeans.py:1416: FutureWarning: The default value of `n_init` will change from 10 to 'auto' in 1.4. Set the value of `n_init` explicitly to suppress the warning\n",
      "  super()._check_params_vs_input(X, default_n_init=10)\n"
     ]
    },
    {
     "name": "stdout",
     "output_type": "stream",
     "text": [
      "开始回波仿真...\n",
      "========================= EchoSimProcess =========================\n",
      "Phase 1 -- Params read and config...\n",
      "Phase 1 -- Done! Cost: 0.011s\n",
      "Phase 2 -- Sat Position Calculate...\n",
      "Phase 2 -- Done! Cost: 0s\n",
      "Phase 3 -- Flight Track and BeamDir History Simulate...\n",
      "Phase 3 -- Done! Cost: 0s\n",
      "Phase 4 -- Signal Generate...\n",
      "Phase 4 -- Done! Cost: 0.107s\n",
      "Phase 5 -- Echo Calculate...\n",
      "        -- CPU ThreadNum: 48\n",
      "Phase 5 -- Done! Cost: 1.249s\n",
      "Phase 6 -- Result Save...\n",
      "Phase 6 -- Done! Cost: 0.216s\n",
      "  Final -- Total Cost: 1.586s\n",
      "回波仿真完成！\n",
      "图像大小：75 x 75\n"
     ]
    },
    {
     "name": "stderr",
     "output_type": "stream",
     "text": [
      "/home/liq/pro/new_production_1118/sklearn/cluster/_kmeans.py:1416: FutureWarning: The default value of `n_init` will change from 10 to 'auto' in 1.4. Set the value of `n_init` explicitly to suppress the warning\n",
      "  super()._check_params_vs_input(X, default_n_init=10)\n"
     ]
    },
    {
     "name": "stdout",
     "output_type": "stream",
     "text": [
      "开始回波仿真...\n",
      "========================= EchoSimProcess =========================\n",
      "Phase 1 -- Params read and config...\n",
      "Phase 1 -- Done! Cost: 0.014s\n",
      "Phase 2 -- Sat Position Calculate...\n",
      "Phase 2 -- Done! Cost: 0s\n",
      "Phase 3 -- Flight Track and BeamDir History Simulate...\n",
      "Phase 3 -- Done! Cost: 0s\n",
      "Phase 4 -- Signal Generate...\n",
      "Phase 4 -- Done! Cost: 0.07s\n",
      "Phase 5 -- Echo Calculate...\n",
      "        -- CPU ThreadNum: 48\n",
      "Phase 5 -- Done! Cost: 1.298s\n",
      "Phase 6 -- Result Save...\n",
      "Phase 6 -- Done! Cost: 0.212s\n",
      "  Final -- Total Cost: 1.6s\n",
      "回波仿真完成！\n",
      "图像大小：75 x 75\n"
     ]
    },
    {
     "name": "stderr",
     "output_type": "stream",
     "text": [
      "/home/liq/pro/new_production_1118/sklearn/cluster/_kmeans.py:1416: FutureWarning: The default value of `n_init` will change from 10 to 'auto' in 1.4. Set the value of `n_init` explicitly to suppress the warning\n",
      "  super()._check_params_vs_input(X, default_n_init=10)\n"
     ]
    },
    {
     "name": "stdout",
     "output_type": "stream",
     "text": [
      "开始回波仿真...\n",
      "========================= EchoSimProcess =========================\n",
      "Phase 1 -- Params read and config...\n",
      "Phase 1 -- Done! Cost: 0.025s\n",
      "Phase 2 -- Sat Position Calculate...\n",
      "Phase 2 -- Done! Cost: 0s\n",
      "Phase 3 -- Flight Track and BeamDir History Simulate...\n",
      "Phase 3 -- Done! Cost: 0s\n",
      "Phase 4 -- Signal Generate...\n",
      "Phase 4 -- Done! Cost: 0.094s\n",
      "Phase 5 -- Echo Calculate...\n",
      "        -- CPU ThreadNum: 48\n",
      "Phase 5 -- Done! Cost: 1.286s\n",
      "Phase 6 -- Result Save...\n",
      "Phase 6 -- Done! Cost: 0.204s\n",
      "  Final -- Total Cost: 1.613s\n",
      "回波仿真完成！\n",
      "图像大小：75 x 75\n"
     ]
    },
    {
     "name": "stderr",
     "output_type": "stream",
     "text": [
      "/home/liq/pro/new_production_1118/sklearn/cluster/_kmeans.py:1416: FutureWarning: The default value of `n_init` will change from 10 to 'auto' in 1.4. Set the value of `n_init` explicitly to suppress the warning\n",
      "  super()._check_params_vs_input(X, default_n_init=10)\n"
     ]
    },
    {
     "name": "stdout",
     "output_type": "stream",
     "text": [
      "开始回波仿真...\n",
      "========================= EchoSimProcess =========================\n",
      "Phase 1 -- Params read and config...\n",
      "Phase 1 -- Done! Cost: 0.019s\n",
      "Phase 2 -- Sat Position Calculate...\n",
      "Phase 2 -- Done! Cost: 0s\n",
      "Phase 3 -- Flight Track and BeamDir History Simulate...\n",
      "Phase 3 -- Done! Cost: 0s\n",
      "Phase 4 -- Signal Generate...\n",
      "Phase 4 -- Done! Cost: 0.095s\n",
      "Phase 5 -- Echo Calculate...\n",
      "        -- CPU ThreadNum: 48\n",
      "Phase 5 -- Done! Cost: 1.292s\n",
      "Phase 6 -- Result Save...\n",
      "Phase 6 -- Done! Cost: 0.212s\n",
      "  Final -- Total Cost: 1.622s\n",
      "回波仿真完成！\n",
      "图像大小：75 x 75\n"
     ]
    },
    {
     "name": "stderr",
     "output_type": "stream",
     "text": [
      "/home/liq/pro/new_production_1118/sklearn/cluster/_kmeans.py:1416: FutureWarning: The default value of `n_init` will change from 10 to 'auto' in 1.4. Set the value of `n_init` explicitly to suppress the warning\n",
      "  super()._check_params_vs_input(X, default_n_init=10)\n"
     ]
    },
    {
     "name": "stdout",
     "output_type": "stream",
     "text": [
      "开始回波仿真...\n",
      "========================= EchoSimProcess =========================\n",
      "Phase 1 -- Params read and config...\n",
      "Phase 1 -- Done! Cost: 0.02s\n",
      "Phase 2 -- Sat Position Calculate...\n",
      "Phase 2 -- Done! Cost: 0s\n",
      "Phase 3 -- Flight Track and BeamDir History Simulate...\n",
      "Phase 3 -- Done! Cost: 0s\n",
      "Phase 4 -- Signal Generate...\n",
      "Phase 4 -- Done! Cost: 0.09s\n",
      "Phase 5 -- Echo Calculate...\n",
      "        -- CPU ThreadNum: 48\n",
      "Phase 5 -- Done! Cost: 1.261s\n",
      "Phase 6 -- Result Save...\n",
      "Phase 6 -- Done! Cost: 0.207s\n",
      "  Final -- Total Cost: 1.587s\n",
      "回波仿真完成！\n",
      "图像大小：75 x 75\n"
     ]
    },
    {
     "name": "stderr",
     "output_type": "stream",
     "text": [
      "/home/liq/pro/new_production_1118/sklearn/cluster/_kmeans.py:1416: FutureWarning: The default value of `n_init` will change from 10 to 'auto' in 1.4. Set the value of `n_init` explicitly to suppress the warning\n",
      "  super()._check_params_vs_input(X, default_n_init=10)\n"
     ]
    },
    {
     "name": "stdout",
     "output_type": "stream",
     "text": [
      "开始回波仿真...\n",
      "========================= EchoSimProcess =========================\n",
      "Phase 1 -- Params read and config...\n",
      "Phase 1 -- Done! Cost: 0.01s\n",
      "Phase 2 -- Sat Position Calculate...\n",
      "Phase 2 -- Done! Cost: 0s\n",
      "Phase 3 -- Flight Track and BeamDir History Simulate...\n",
      "Phase 3 -- Done! Cost: 0s\n",
      "Phase 4 -- Signal Generate...\n",
      "Phase 4 -- Done! Cost: 0.11s\n",
      "Phase 5 -- Echo Calculate...\n",
      "        -- CPU ThreadNum: 48\n",
      "Phase 5 -- Done! Cost: 1.266s\n",
      "Phase 6 -- Result Save...\n",
      "Phase 6 -- Done! Cost: 0.207s\n",
      "  Final -- Total Cost: 1.594s\n",
      "回波仿真完成！\n",
      "图像大小：75 x 75\n"
     ]
    },
    {
     "name": "stderr",
     "output_type": "stream",
     "text": [
      "/home/liq/pro/new_production_1118/sklearn/cluster/_kmeans.py:1416: FutureWarning: The default value of `n_init` will change from 10 to 'auto' in 1.4. Set the value of `n_init` explicitly to suppress the warning\n",
      "  super()._check_params_vs_input(X, default_n_init=10)\n"
     ]
    },
    {
     "name": "stdout",
     "output_type": "stream",
     "text": [
      "开始回波仿真...\n",
      "========================= EchoSimProcess =========================\n",
      "Phase 1 -- Params read and config...\n",
      "Phase 1 -- Done! Cost: 0.018s\n",
      "Phase 2 -- Sat Position Calculate...\n",
      "Phase 2 -- Done! Cost: 0s\n",
      "Phase 3 -- Flight Track and BeamDir History Simulate...\n",
      "Phase 3 -- Done! Cost: 0s\n",
      "Phase 4 -- Signal Generate...\n",
      "Phase 4 -- Done! Cost: 0.065s\n",
      "Phase 5 -- Echo Calculate...\n",
      "        -- CPU ThreadNum: 48\n",
      "Phase 5 -- Done! Cost: 1.298s\n",
      "Phase 6 -- Result Save...\n",
      "Phase 6 -- Done! Cost: 0.199s\n",
      "  Final -- Total Cost: 1.595s\n",
      "回波仿真完成！\n",
      "图像大小：75 x 75\n"
     ]
    },
    {
     "name": "stderr",
     "output_type": "stream",
     "text": [
      "/home/liq/pro/new_production_1118/sklearn/cluster/_kmeans.py:1416: FutureWarning: The default value of `n_init` will change from 10 to 'auto' in 1.4. Set the value of `n_init` explicitly to suppress the warning\n",
      "  super()._check_params_vs_input(X, default_n_init=10)\n"
     ]
    },
    {
     "name": "stdout",
     "output_type": "stream",
     "text": [
      "开始回波仿真...\n",
      "========================= EchoSimProcess =========================\n",
      "Phase 1 -- Params read and config...\n",
      "Phase 1 -- Done! Cost: 0.024s\n",
      "Phase 2 -- Sat Position Calculate...\n",
      "Phase 2 -- Done! Cost: 0s\n",
      "Phase 3 -- Flight Track and BeamDir History Simulate...\n",
      "Phase 3 -- Done! Cost: 0s\n",
      "Phase 4 -- Signal Generate...\n",
      "Phase 4 -- Done! Cost: 0.088s\n",
      "Phase 5 -- Echo Calculate...\n",
      "        -- CPU ThreadNum: 48\n",
      "Phase 5 -- Done! Cost: 1.285s\n",
      "Phase 6 -- Result Save...\n",
      "Phase 6 -- Done! Cost: 0.194s\n",
      "  Final -- Total Cost: 1.596s\n",
      "回波仿真完成！\n",
      "图像大小：75 x 75\n"
     ]
    },
    {
     "name": "stderr",
     "output_type": "stream",
     "text": [
      "/home/liq/pro/new_production_1118/sklearn/cluster/_kmeans.py:1416: FutureWarning: The default value of `n_init` will change from 10 to 'auto' in 1.4. Set the value of `n_init` explicitly to suppress the warning\n",
      "  super()._check_params_vs_input(X, default_n_init=10)\n"
     ]
    },
    {
     "name": "stdout",
     "output_type": "stream",
     "text": [
      "开始回波仿真...\n",
      "========================= EchoSimProcess =========================\n",
      "Phase 1 -- Params read and config...\n",
      "Phase 1 -- Done! Cost: 0.02s\n",
      "Phase 2 -- Sat Position Calculate...\n",
      "Phase 2 -- Done! Cost: 0s\n",
      "Phase 3 -- Flight Track and BeamDir History Simulate...\n",
      "Phase 3 -- Done! Cost: 0s\n",
      "Phase 4 -- Signal Generate...\n",
      "Phase 4 -- Done! Cost: 0.091s\n",
      "Phase 5 -- Echo Calculate...\n",
      "        -- CPU ThreadNum: 48\n",
      "Phase 5 -- Done! Cost: 1.296s\n",
      "Phase 6 -- Result Save...\n",
      "Phase 6 -- Done! Cost: 0.212s\n",
      "  Final -- Total Cost: 1.621s\n",
      "回波仿真完成！\n",
      "图像大小：75 x 75\n"
     ]
    },
    {
     "name": "stderr",
     "output_type": "stream",
     "text": [
      "/home/liq/pro/new_production_1118/sklearn/cluster/_kmeans.py:1416: FutureWarning: The default value of `n_init` will change from 10 to 'auto' in 1.4. Set the value of `n_init` explicitly to suppress the warning\n",
      "  super()._check_params_vs_input(X, default_n_init=10)\n"
     ]
    },
    {
     "name": "stdout",
     "output_type": "stream",
     "text": [
      "开始回波仿真...\n",
      "========================= EchoSimProcess =========================\n",
      "Phase 1 -- Params read and config...\n",
      "Phase 1 -- Done! Cost: 0.024s\n",
      "Phase 2 -- Sat Position Calculate...\n",
      "Phase 2 -- Done! Cost: 0s\n",
      "Phase 3 -- Flight Track and BeamDir History Simulate...\n",
      "Phase 3 -- Done! Cost: 0s\n",
      "Phase 4 -- Signal Generate...\n",
      "Phase 4 -- Done! Cost: 0.098s\n",
      "Phase 5 -- Echo Calculate...\n",
      "        -- CPU ThreadNum: 48\n",
      "Phase 5 -- Done! Cost: 1.283s\n",
      "Phase 6 -- Result Save...\n",
      "Phase 6 -- Done! Cost: 0.209s\n",
      "  Final -- Total Cost: 1.619s\n",
      "回波仿真完成！\n",
      "图像大小：75 x 75\n"
     ]
    },
    {
     "name": "stderr",
     "output_type": "stream",
     "text": [
      "/home/liq/pro/new_production_1118/sklearn/cluster/_kmeans.py:1416: FutureWarning: The default value of `n_init` will change from 10 to 'auto' in 1.4. Set the value of `n_init` explicitly to suppress the warning\n",
      "  super()._check_params_vs_input(X, default_n_init=10)\n"
     ]
    },
    {
     "name": "stdout",
     "output_type": "stream",
     "text": [
      "开始回波仿真...\n",
      "========================= EchoSimProcess =========================\n",
      "Phase 1 -- Params read and config...\n",
      "Phase 1 -- Done! Cost: 0.011s\n",
      "Phase 2 -- Sat Position Calculate...\n",
      "Phase 2 -- Done! Cost: 0s\n",
      "Phase 3 -- Flight Track and BeamDir History Simulate...\n",
      "Phase 3 -- Done! Cost: 0s\n",
      "Phase 4 -- Signal Generate...\n",
      "Phase 4 -- Done! Cost: 0.115s\n",
      "Phase 5 -- Echo Calculate...\n",
      "        -- CPU ThreadNum: 48\n",
      "Phase 5 -- Done! Cost: 1.285s\n",
      "Phase 6 -- Result Save...\n",
      "Phase 6 -- Done! Cost: 0.202s\n",
      "  Final -- Total Cost: 1.615s\n",
      "回波仿真完成！\n",
      "图像大小：75 x 75\n"
     ]
    },
    {
     "name": "stderr",
     "output_type": "stream",
     "text": [
      "/home/liq/pro/new_production_1118/sklearn/cluster/_kmeans.py:1416: FutureWarning: The default value of `n_init` will change from 10 to 'auto' in 1.4. Set the value of `n_init` explicitly to suppress the warning\n",
      "  super()._check_params_vs_input(X, default_n_init=10)\n"
     ]
    },
    {
     "name": "stdout",
     "output_type": "stream",
     "text": [
      "开始回波仿真...\n",
      "========================= EchoSimProcess =========================\n",
      "Phase 1 -- Params read and config...\n",
      "Phase 1 -- Done! Cost: 0.011s\n",
      "Phase 2 -- Sat Position Calculate...\n",
      "Phase 2 -- Done! Cost: 0s\n",
      "Phase 3 -- Flight Track and BeamDir History Simulate...\n",
      "Phase 3 -- Done! Cost: 0s\n",
      "Phase 4 -- Signal Generate...\n",
      "Phase 4 -- Done! Cost: 0.099s\n",
      "Phase 5 -- Echo Calculate...\n",
      "        -- CPU ThreadNum: 48\n",
      "Phase 5 -- Done! Cost: 1.252s\n",
      "Phase 6 -- Result Save...\n",
      "Phase 6 -- Done! Cost: 0.212s\n",
      "  Final -- Total Cost: 1.592s\n",
      "回波仿真完成！\n",
      "图像大小：75 x 75\n"
     ]
    },
    {
     "name": "stderr",
     "output_type": "stream",
     "text": [
      "/home/liq/pro/new_production_1118/sklearn/cluster/_kmeans.py:1416: FutureWarning: The default value of `n_init` will change from 10 to 'auto' in 1.4. Set the value of `n_init` explicitly to suppress the warning\n",
      "  super()._check_params_vs_input(X, default_n_init=10)\n"
     ]
    },
    {
     "name": "stdout",
     "output_type": "stream",
     "text": [
      "开始回波仿真...\n",
      "========================= EchoSimProcess =========================\n",
      "Phase 1 -- Params read and config...\n",
      "Phase 1 -- Done! Cost: 0.025s\n",
      "Phase 2 -- Sat Position Calculate...\n",
      "Phase 2 -- Done! Cost: 0s\n",
      "Phase 3 -- Flight Track and BeamDir History Simulate...\n",
      "Phase 3 -- Done! Cost: 0s\n",
      "Phase 4 -- Signal Generate...\n",
      "Phase 4 -- Done! Cost: 0.101s\n",
      "Phase 5 -- Echo Calculate...\n",
      "        -- CPU ThreadNum: 48\n",
      "Phase 5 -- Done! Cost: 1.275s\n",
      "Phase 6 -- Result Save...\n",
      "Phase 6 -- Done! Cost: 0.204s\n",
      "  Final -- Total Cost: 1.608s\n",
      "回波仿真完成！\n",
      "图像大小：75 x 75\n"
     ]
    },
    {
     "name": "stderr",
     "output_type": "stream",
     "text": [
      "/home/liq/pro/new_production_1118/sklearn/cluster/_kmeans.py:1416: FutureWarning: The default value of `n_init` will change from 10 to 'auto' in 1.4. Set the value of `n_init` explicitly to suppress the warning\n",
      "  super()._check_params_vs_input(X, default_n_init=10)\n"
     ]
    },
    {
     "name": "stdout",
     "output_type": "stream",
     "text": [
      "开始回波仿真...\n",
      "========================= EchoSimProcess =========================\n",
      "Phase 1 -- Params read and config...\n",
      "Phase 1 -- Done! Cost: 0.024s\n",
      "Phase 2 -- Sat Position Calculate...\n",
      "Phase 2 -- Done! Cost: 0s\n",
      "Phase 3 -- Flight Track and BeamDir History Simulate...\n",
      "Phase 3 -- Done! Cost: 0s\n",
      "Phase 4 -- Signal Generate...\n",
      "Phase 4 -- Done! Cost: 0.099s\n",
      "Phase 5 -- Echo Calculate...\n",
      "        -- CPU ThreadNum: 48\n",
      "Phase 5 -- Done! Cost: 1.256s\n",
      "Phase 6 -- Result Save...\n",
      "Phase 6 -- Done! Cost: 0.227s\n",
      "  Final -- Total Cost: 1.608s\n",
      "回波仿真完成！\n",
      "图像大小：75 x 75\n"
     ]
    },
    {
     "name": "stderr",
     "output_type": "stream",
     "text": [
      "/home/liq/pro/new_production_1118/sklearn/cluster/_kmeans.py:1416: FutureWarning: The default value of `n_init` will change from 10 to 'auto' in 1.4. Set the value of `n_init` explicitly to suppress the warning\n",
      "  super()._check_params_vs_input(X, default_n_init=10)\n"
     ]
    },
    {
     "name": "stdout",
     "output_type": "stream",
     "text": [
      "开始回波仿真...\n",
      "========================= EchoSimProcess =========================\n",
      "Phase 1 -- Params read and config...\n",
      "Phase 1 -- Done! Cost: 0.01s\n",
      "Phase 2 -- Sat Position Calculate...\n",
      "Phase 2 -- Done! Cost: 0s\n",
      "Phase 3 -- Flight Track and BeamDir History Simulate...\n",
      "Phase 3 -- Done! Cost: 0s\n",
      "Phase 4 -- Signal Generate...\n",
      "Phase 4 -- Done! Cost: 0.039s\n",
      "Phase 5 -- Echo Calculate...\n",
      "        -- CPU ThreadNum: 48\n",
      "Phase 5 -- Done! Cost: 1.33s\n",
      "Phase 6 -- Result Save...\n",
      "Phase 6 -- Done! Cost: 0.198s\n",
      "  Final -- Total Cost: 1.581s\n",
      "回波仿真完成！\n",
      "图像大小：75 x 75\n"
     ]
    },
    {
     "name": "stderr",
     "output_type": "stream",
     "text": [
      "/home/liq/pro/new_production_1118/sklearn/cluster/_kmeans.py:1416: FutureWarning: The default value of `n_init` will change from 10 to 'auto' in 1.4. Set the value of `n_init` explicitly to suppress the warning\n",
      "  super()._check_params_vs_input(X, default_n_init=10)\n"
     ]
    },
    {
     "name": "stdout",
     "output_type": "stream",
     "text": [
      "开始回波仿真...\n",
      "========================= EchoSimProcess =========================\n",
      "Phase 1 -- Params read and config...\n",
      "Phase 1 -- Done! Cost: 0.01s\n",
      "Phase 2 -- Sat Position Calculate...\n",
      "Phase 2 -- Done! Cost: 0s\n",
      "Phase 3 -- Flight Track and BeamDir History Simulate...\n",
      "Phase 3 -- Done! Cost: 0s\n",
      "Phase 4 -- Signal Generate...\n",
      "Phase 4 -- Done! Cost: 0.086s\n",
      "Phase 5 -- Echo Calculate...\n",
      "        -- CPU ThreadNum: 48\n",
      "Phase 5 -- Done! Cost: 1.218s\n",
      "Phase 6 -- Result Save...\n",
      "Phase 6 -- Done! Cost: 0.192s\n",
      "  Final -- Total Cost: 1.526s\n",
      "回波仿真完成！\n",
      "图像大小：75 x 75\n"
     ]
    },
    {
     "name": "stderr",
     "output_type": "stream",
     "text": [
      "/home/liq/pro/new_production_1118/sklearn/cluster/_kmeans.py:1416: FutureWarning: The default value of `n_init` will change from 10 to 'auto' in 1.4. Set the value of `n_init` explicitly to suppress the warning\n",
      "  super()._check_params_vs_input(X, default_n_init=10)\n"
     ]
    },
    {
     "name": "stdout",
     "output_type": "stream",
     "text": [
      "开始回波仿真...\n",
      "========================= EchoSimProcess =========================\n",
      "Phase 1 -- Params read and config...\n",
      "Phase 1 -- Done! Cost: 0.01s\n",
      "Phase 2 -- Sat Position Calculate...\n",
      "Phase 2 -- Done! Cost: 0s\n",
      "Phase 3 -- Flight Track and BeamDir History Simulate...\n",
      "Phase 3 -- Done! Cost: 0s\n",
      "Phase 4 -- Signal Generate...\n",
      "Phase 4 -- Done! Cost: 0.11s\n",
      "Phase 5 -- Echo Calculate...\n",
      "        -- CPU ThreadNum: 48\n",
      "Phase 5 -- Done! Cost: 1.222s\n",
      "Phase 6 -- Result Save...\n",
      "Phase 6 -- Done! Cost: 0.193s\n",
      "  Final -- Total Cost: 1.537s\n",
      "回波仿真完成！\n",
      "图像大小：75 x 75\n"
     ]
    },
    {
     "name": "stderr",
     "output_type": "stream",
     "text": [
      "/home/liq/pro/new_production_1118/sklearn/cluster/_kmeans.py:1416: FutureWarning: The default value of `n_init` will change from 10 to 'auto' in 1.4. Set the value of `n_init` explicitly to suppress the warning\n",
      "  super()._check_params_vs_input(X, default_n_init=10)\n"
     ]
    },
    {
     "name": "stdout",
     "output_type": "stream",
     "text": [
      "开始回波仿真...\n",
      "========================= EchoSimProcess =========================\n",
      "Phase 1 -- Params read and config...\n",
      "Phase 1 -- Done! Cost: 0.036s\n",
      "Phase 2 -- Sat Position Calculate...\n",
      "Phase 2 -- Done! Cost: 0s\n",
      "Phase 3 -- Flight Track and BeamDir History Simulate...\n",
      "Phase 3 -- Done! Cost: 0s\n",
      "Phase 4 -- Signal Generate...\n",
      "Phase 4 -- Done! Cost: 0.07s\n",
      "Phase 5 -- Echo Calculate...\n",
      "        -- CPU ThreadNum: 48\n",
      "Phase 5 -- Done! Cost: 1.206s\n",
      "Phase 6 -- Result Save...\n",
      "Phase 6 -- Done! Cost: 0.181s\n",
      "  Final -- Total Cost: 1.498s\n",
      "回波仿真完成！\n",
      "图像大小：75 x 75\n"
     ]
    },
    {
     "name": "stderr",
     "output_type": "stream",
     "text": [
      "/home/liq/pro/new_production_1118/sklearn/cluster/_kmeans.py:1416: FutureWarning: The default value of `n_init` will change from 10 to 'auto' in 1.4. Set the value of `n_init` explicitly to suppress the warning\n",
      "  super()._check_params_vs_input(X, default_n_init=10)\n"
     ]
    },
    {
     "name": "stdout",
     "output_type": "stream",
     "text": [
      "开始回波仿真...\n",
      "========================= EchoSimProcess =========================\n",
      "Phase 1 -- Params read and config...\n",
      "Phase 1 -- Done! Cost: 0.008s\n",
      "Phase 2 -- Sat Position Calculate...\n",
      "Phase 2 -- Done! Cost: 0s\n",
      "Phase 3 -- Flight Track and BeamDir History Simulate...\n",
      "Phase 3 -- Done! Cost: 0s\n",
      "Phase 4 -- Signal Generate...\n",
      "Phase 4 -- Done! Cost: 0.1s\n",
      "Phase 5 -- Echo Calculate...\n",
      "        -- CPU ThreadNum: 48\n",
      "Phase 5 -- Done! Cost: 1.181s\n",
      "Phase 6 -- Result Save...\n",
      "Phase 6 -- Done! Cost: 0.195s\n",
      "  Final -- Total Cost: 1.485s\n",
      "回波仿真完成！\n",
      "图像大小：75 x 75\n"
     ]
    },
    {
     "name": "stderr",
     "output_type": "stream",
     "text": [
      "/home/liq/pro/new_production_1118/sklearn/cluster/_kmeans.py:1416: FutureWarning: The default value of `n_init` will change from 10 to 'auto' in 1.4. Set the value of `n_init` explicitly to suppress the warning\n",
      "  super()._check_params_vs_input(X, default_n_init=10)\n"
     ]
    },
    {
     "name": "stdout",
     "output_type": "stream",
     "text": [
      "开始回波仿真...\n",
      "========================= EchoSimProcess =========================\n",
      "Phase 1 -- Params read and config...\n",
      "Phase 1 -- Done! Cost: 0.017s\n",
      "Phase 2 -- Sat Position Calculate...\n",
      "Phase 2 -- Done! Cost: 0s\n",
      "Phase 3 -- Flight Track and BeamDir History Simulate...\n",
      "Phase 3 -- Done! Cost: 0s\n",
      "Phase 4 -- Signal Generate...\n",
      "Phase 4 -- Done! Cost: 0.101s\n",
      "Phase 5 -- Echo Calculate...\n",
      "        -- CPU ThreadNum: 48\n",
      "Phase 5 -- Done! Cost: 1.221s\n",
      "Phase 6 -- Result Save...\n",
      "Phase 6 -- Done! Cost: 0.191s\n",
      "  Final -- Total Cost: 1.532s\n",
      "回波仿真完成！\n",
      "图像大小：75 x 75\n"
     ]
    },
    {
     "name": "stderr",
     "output_type": "stream",
     "text": [
      "/home/liq/pro/new_production_1118/sklearn/cluster/_kmeans.py:1416: FutureWarning: The default value of `n_init` will change from 10 to 'auto' in 1.4. Set the value of `n_init` explicitly to suppress the warning\n",
      "  super()._check_params_vs_input(X, default_n_init=10)\n"
     ]
    },
    {
     "name": "stdout",
     "output_type": "stream",
     "text": [
      "开始回波仿真...\n",
      "========================= EchoSimProcess =========================\n",
      "Phase 1 -- Params read and config...\n",
      "Phase 1 -- Done! Cost: 0.009s\n",
      "Phase 2 -- Sat Position Calculate...\n",
      "Phase 2 -- Done! Cost: 0s\n",
      "Phase 3 -- Flight Track and BeamDir History Simulate...\n",
      "Phase 3 -- Done! Cost: 0s\n",
      "Phase 4 -- Signal Generate...\n",
      "Phase 4 -- Done! Cost: 0.112s\n",
      "Phase 5 -- Echo Calculate...\n",
      "        -- CPU ThreadNum: 48\n",
      "Phase 5 -- Done! Cost: 1.225s\n",
      "Phase 6 -- Result Save...\n",
      "Phase 6 -- Done! Cost: 0.193s\n",
      "  Final -- Total Cost: 1.542s\n",
      "回波仿真完成！\n",
      "图像大小：75 x 75\n"
     ]
    },
    {
     "name": "stderr",
     "output_type": "stream",
     "text": [
      "/home/liq/pro/new_production_1118/sklearn/cluster/_kmeans.py:1416: FutureWarning: The default value of `n_init` will change from 10 to 'auto' in 1.4. Set the value of `n_init` explicitly to suppress the warning\n",
      "  super()._check_params_vs_input(X, default_n_init=10)\n"
     ]
    },
    {
     "name": "stdout",
     "output_type": "stream",
     "text": [
      "开始回波仿真...\n",
      "========================= EchoSimProcess =========================\n",
      "Phase 1 -- Params read and config...\n",
      "Phase 1 -- Done! Cost: 0.008s\n",
      "Phase 2 -- Sat Position Calculate...\n",
      "Phase 2 -- Done! Cost: 0s\n",
      "Phase 3 -- Flight Track and BeamDir History Simulate...\n",
      "Phase 3 -- Done! Cost: 0s\n",
      "Phase 4 -- Signal Generate...\n",
      "Phase 4 -- Done! Cost: 0.034s\n",
      "Phase 5 -- Echo Calculate...\n",
      "        -- CPU ThreadNum: 48\n",
      "Phase 5 -- Done! Cost: 1.248s\n",
      "Phase 6 -- Result Save...\n",
      "Phase 6 -- Done! Cost: 0.179s\n",
      "  Final -- Total Cost: 1.473s\n",
      "回波仿真完成！\n",
      "图像大小：75 x 75\n"
     ]
    },
    {
     "name": "stderr",
     "output_type": "stream",
     "text": [
      "/home/liq/pro/new_production_1118/sklearn/cluster/_kmeans.py:1416: FutureWarning: The default value of `n_init` will change from 10 to 'auto' in 1.4. Set the value of `n_init` explicitly to suppress the warning\n",
      "  super()._check_params_vs_input(X, default_n_init=10)\n"
     ]
    },
    {
     "name": "stdout",
     "output_type": "stream",
     "text": [
      "开始回波仿真...\n",
      "========================= EchoSimProcess =========================\n",
      "Phase 1 -- Params read and config...\n",
      "Phase 1 -- Done! Cost: 0.01s\n",
      "Phase 2 -- Sat Position Calculate...\n",
      "Phase 2 -- Done! Cost: 0s\n",
      "Phase 3 -- Flight Track and BeamDir History Simulate...\n",
      "Phase 3 -- Done! Cost: 0s\n",
      "Phase 4 -- Signal Generate...\n",
      "Phase 4 -- Done! Cost: 0.087s\n",
      "Phase 5 -- Echo Calculate...\n",
      "        -- CPU ThreadNum: 48\n",
      "Phase 5 -- Done! Cost: 1.209s\n",
      "Phase 6 -- Result Save...\n",
      "Phase 6 -- Done! Cost: 0.194s\n",
      "  Final -- Total Cost: 1.504s\n",
      "回波仿真完成！\n",
      "图像大小：75 x 75\n"
     ]
    },
    {
     "name": "stderr",
     "output_type": "stream",
     "text": [
      "/home/liq/pro/new_production_1118/sklearn/cluster/_kmeans.py:1416: FutureWarning: The default value of `n_init` will change from 10 to 'auto' in 1.4. Set the value of `n_init` explicitly to suppress the warning\n",
      "  super()._check_params_vs_input(X, default_n_init=10)\n"
     ]
    },
    {
     "name": "stdout",
     "output_type": "stream",
     "text": [
      "开始回波仿真...\n",
      "========================= EchoSimProcess =========================\n",
      "Phase 1 -- Params read and config...\n",
      "Phase 1 -- Done! Cost: 0.015s\n",
      "Phase 2 -- Sat Position Calculate...\n",
      "Phase 2 -- Done! Cost: 0s\n",
      "Phase 3 -- Flight Track and BeamDir History Simulate...\n",
      "Phase 3 -- Done! Cost: 0s\n",
      "Phase 4 -- Signal Generate...\n",
      "Phase 4 -- Done! Cost: 0.084s\n",
      "Phase 5 -- Echo Calculate...\n",
      "        -- CPU ThreadNum: 48\n",
      "Phase 5 -- Done! Cost: 1.222s\n",
      "Phase 6 -- Result Save...\n",
      "Phase 6 -- Done! Cost: 0.194s\n",
      "  Final -- Total Cost: 1.523s\n",
      "回波仿真完成！\n",
      "图像大小：75 x 75\n"
     ]
    },
    {
     "name": "stderr",
     "output_type": "stream",
     "text": [
      "/home/liq/pro/new_production_1118/sklearn/cluster/_kmeans.py:1416: FutureWarning: The default value of `n_init` will change from 10 to 'auto' in 1.4. Set the value of `n_init` explicitly to suppress the warning\n",
      "  super()._check_params_vs_input(X, default_n_init=10)\n"
     ]
    },
    {
     "name": "stdout",
     "output_type": "stream",
     "text": [
      "开始回波仿真...\n",
      "========================= EchoSimProcess =========================\n",
      "Phase 1 -- Params read and config...\n",
      "Phase 1 -- Done! Cost: 0.009s\n",
      "Phase 2 -- Sat Position Calculate...\n",
      "Phase 2 -- Done! Cost: 0s\n",
      "Phase 3 -- Flight Track and BeamDir History Simulate...\n",
      "Phase 3 -- Done! Cost: 0s\n",
      "Phase 4 -- Signal Generate...\n",
      "Phase 4 -- Done! Cost: 0.093s\n",
      "Phase 5 -- Echo Calculate...\n",
      "        -- CPU ThreadNum: 48\n",
      "Phase 5 -- Done! Cost: 1.25s\n",
      "Phase 6 -- Result Save...\n",
      "Phase 6 -- Done! Cost: 0.181s\n",
      "  Final -- Total Cost: 1.535s\n",
      "回波仿真完成！\n",
      "图像大小：75 x 75\n"
     ]
    },
    {
     "name": "stderr",
     "output_type": "stream",
     "text": [
      "/home/liq/pro/new_production_1118/sklearn/cluster/_kmeans.py:1416: FutureWarning: The default value of `n_init` will change from 10 to 'auto' in 1.4. Set the value of `n_init` explicitly to suppress the warning\n",
      "  super()._check_params_vs_input(X, default_n_init=10)\n"
     ]
    },
    {
     "name": "stdout",
     "output_type": "stream",
     "text": [
      "开始回波仿真...\n",
      "========================= EchoSimProcess =========================\n",
      "Phase 1 -- Params read and config...\n",
      "Phase 1 -- Done! Cost: 0.01s\n",
      "Phase 2 -- Sat Position Calculate...\n",
      "Phase 2 -- Done! Cost: 0s\n",
      "Phase 3 -- Flight Track and BeamDir History Simulate...\n",
      "Phase 3 -- Done! Cost: 0s\n",
      "Phase 4 -- Signal Generate...\n",
      "Phase 4 -- Done! Cost: 0.104s\n",
      "Phase 5 -- Echo Calculate...\n",
      "        -- CPU ThreadNum: 48\n",
      "Phase 5 -- Done! Cost: 1.243s\n",
      "Phase 6 -- Result Save...\n",
      "Phase 6 -- Done! Cost: 0.195s\n",
      "  Final -- Total Cost: 1.553s\n",
      "回波仿真完成！\n",
      "图像大小：75 x 75\n"
     ]
    },
    {
     "name": "stderr",
     "output_type": "stream",
     "text": [
      "/home/liq/pro/new_production_1118/sklearn/cluster/_kmeans.py:1416: FutureWarning: The default value of `n_init` will change from 10 to 'auto' in 1.4. Set the value of `n_init` explicitly to suppress the warning\n",
      "  super()._check_params_vs_input(X, default_n_init=10)\n"
     ]
    },
    {
     "name": "stdout",
     "output_type": "stream",
     "text": [
      "开始回波仿真...\n",
      "========================= EchoSimProcess =========================\n",
      "Phase 1 -- Params read and config...\n",
      "Phase 1 -- Done! Cost: 0.017s\n",
      "Phase 2 -- Sat Position Calculate...\n",
      "Phase 2 -- Done! Cost: 0s\n",
      "Phase 3 -- Flight Track and BeamDir History Simulate...\n",
      "Phase 3 -- Done! Cost: 0s\n",
      "Phase 4 -- Signal Generate...\n",
      "Phase 4 -- Done! Cost: 0.08s\n",
      "Phase 5 -- Echo Calculate...\n",
      "        -- CPU ThreadNum: 48\n",
      "Phase 5 -- Done! Cost: 1.208s\n",
      "Phase 6 -- Result Save...\n",
      "Phase 6 -- Done! Cost: 0.175s\n",
      "  Final -- Total Cost: 1.49s\n",
      "回波仿真完成！\n",
      "图像大小：75 x 75\n"
     ]
    },
    {
     "name": "stderr",
     "output_type": "stream",
     "text": [
      "/home/liq/pro/new_production_1118/sklearn/cluster/_kmeans.py:1416: FutureWarning: The default value of `n_init` will change from 10 to 'auto' in 1.4. Set the value of `n_init` explicitly to suppress the warning\n",
      "  super()._check_params_vs_input(X, default_n_init=10)\n"
     ]
    },
    {
     "name": "stdout",
     "output_type": "stream",
     "text": [
      "开始回波仿真...\n",
      "========================= EchoSimProcess =========================\n",
      "Phase 1 -- Params read and config...\n",
      "Phase 1 -- Done! Cost: 0.02s\n",
      "Phase 2 -- Sat Position Calculate...\n",
      "Phase 2 -- Done! Cost: 0s\n",
      "Phase 3 -- Flight Track and BeamDir History Simulate...\n",
      "Phase 3 -- Done! Cost: 0s\n",
      "Phase 4 -- Signal Generate...\n",
      "Phase 4 -- Done! Cost: 0.099s\n",
      "Phase 5 -- Echo Calculate...\n",
      "        -- CPU ThreadNum: 48\n",
      "Phase 5 -- Done! Cost: 1.192s\n",
      "Phase 6 -- Result Save...\n",
      "Phase 6 -- Done! Cost: 0.199s\n",
      "  Final -- Total Cost: 1.511s\n",
      "回波仿真完成！\n",
      "图像大小：75 x 75\n"
     ]
    },
    {
     "name": "stderr",
     "output_type": "stream",
     "text": [
      "/home/liq/pro/new_production_1118/sklearn/cluster/_kmeans.py:1416: FutureWarning: The default value of `n_init` will change from 10 to 'auto' in 1.4. Set the value of `n_init` explicitly to suppress the warning\n",
      "  super()._check_params_vs_input(X, default_n_init=10)\n"
     ]
    },
    {
     "name": "stdout",
     "output_type": "stream",
     "text": [
      "开始回波仿真...\n",
      "========================= EchoSimProcess =========================\n",
      "Phase 1 -- Params read and config...\n",
      "Phase 1 -- Done! Cost: 0.008s\n",
      "Phase 2 -- Sat Position Calculate...\n",
      "Phase 2 -- Done! Cost: 0s\n",
      "Phase 3 -- Flight Track and BeamDir History Simulate...\n",
      "Phase 3 -- Done! Cost: 0s\n",
      "Phase 4 -- Signal Generate...\n",
      "Phase 4 -- Done! Cost: 0.032s\n",
      "Phase 5 -- Echo Calculate...\n",
      "        -- CPU ThreadNum: 48\n",
      "Phase 5 -- Done! Cost: 1.278s\n",
      "Phase 6 -- Result Save...\n",
      "Phase 6 -- Done! Cost: 0.195s\n",
      "  Final -- Total Cost: 1.515s\n",
      "回波仿真完成！\n",
      "图像大小：75 x 75\n"
     ]
    },
    {
     "name": "stderr",
     "output_type": "stream",
     "text": [
      "/home/liq/pro/new_production_1118/sklearn/cluster/_kmeans.py:1416: FutureWarning: The default value of `n_init` will change from 10 to 'auto' in 1.4. Set the value of `n_init` explicitly to suppress the warning\n",
      "  super()._check_params_vs_input(X, default_n_init=10)\n"
     ]
    },
    {
     "name": "stdout",
     "output_type": "stream",
     "text": [
      "开始回波仿真...\n",
      "========================= EchoSimProcess =========================\n",
      "Phase 1 -- Params read and config...\n",
      "Phase 1 -- Done! Cost: 0.018s\n",
      "Phase 2 -- Sat Position Calculate...\n",
      "Phase 2 -- Done! Cost: 0s\n",
      "Phase 3 -- Flight Track and BeamDir History Simulate...\n",
      "Phase 3 -- Done! Cost: 0s\n",
      "Phase 4 -- Signal Generate...\n",
      "Phase 4 -- Done! Cost: 0.1s\n",
      "Phase 5 -- Echo Calculate...\n",
      "        -- CPU ThreadNum: 48\n",
      "Phase 5 -- Done! Cost: 1.23s\n",
      "Phase 6 -- Result Save...\n",
      "Phase 6 -- Done! Cost: 0.193s\n",
      "  Final -- Total Cost: 1.543s\n",
      "回波仿真完成！\n",
      "图像大小：75 x 75\n"
     ]
    },
    {
     "name": "stderr",
     "output_type": "stream",
     "text": [
      "/home/liq/pro/new_production_1118/sklearn/cluster/_kmeans.py:1416: FutureWarning: The default value of `n_init` will change from 10 to 'auto' in 1.4. Set the value of `n_init` explicitly to suppress the warning\n",
      "  super()._check_params_vs_input(X, default_n_init=10)\n"
     ]
    },
    {
     "name": "stdout",
     "output_type": "stream",
     "text": [
      "开始回波仿真...\n",
      "========================= EchoSimProcess =========================\n",
      "Phase 1 -- Params read and config...\n",
      "Phase 1 -- Done! Cost: 0.019s\n",
      "Phase 2 -- Sat Position Calculate...\n",
      "Phase 2 -- Done! Cost: 0s\n",
      "Phase 3 -- Flight Track and BeamDir History Simulate...\n",
      "Phase 3 -- Done! Cost: 0s\n",
      "Phase 4 -- Signal Generate...\n",
      "Phase 4 -- Done! Cost: 0.08s\n",
      "Phase 5 -- Echo Calculate...\n",
      "        -- CPU ThreadNum: 48\n",
      "Phase 5 -- Done! Cost: 1.183s\n",
      "Phase 6 -- Result Save...\n",
      "Phase 6 -- Done! Cost: 0.193s\n",
      "  Final -- Total Cost: 1.489s\n",
      "回波仿真完成！\n",
      "图像大小：75 x 75\n"
     ]
    },
    {
     "name": "stderr",
     "output_type": "stream",
     "text": [
      "/home/liq/pro/new_production_1118/sklearn/cluster/_kmeans.py:1416: FutureWarning: The default value of `n_init` will change from 10 to 'auto' in 1.4. Set the value of `n_init` explicitly to suppress the warning\n",
      "  super()._check_params_vs_input(X, default_n_init=10)\n"
     ]
    },
    {
     "name": "stdout",
     "output_type": "stream",
     "text": [
      "开始回波仿真...\n",
      "========================= EchoSimProcess =========================\n",
      "Phase 1 -- Params read and config...\n",
      "Phase 1 -- Done! Cost: 0.013s\n",
      "Phase 2 -- Sat Position Calculate...\n",
      "Phase 2 -- Done! Cost: 0s\n",
      "Phase 3 -- Flight Track and BeamDir History Simulate...\n",
      "Phase 3 -- Done! Cost: 0s\n",
      "Phase 4 -- Signal Generate...\n",
      "Phase 4 -- Done! Cost: 0.11s\n",
      "Phase 5 -- Echo Calculate...\n",
      "        -- CPU ThreadNum: 48\n",
      "Phase 5 -- Done! Cost: 1.202s\n",
      "Phase 6 -- Result Save...\n",
      "Phase 6 -- Done! Cost: 0.194s\n",
      "  Final -- Total Cost: 1.52s\n",
      "回波仿真完成！\n",
      "图像大小：75 x 75\n"
     ]
    },
    {
     "name": "stderr",
     "output_type": "stream",
     "text": [
      "/home/liq/pro/new_production_1118/sklearn/cluster/_kmeans.py:1416: FutureWarning: The default value of `n_init` will change from 10 to 'auto' in 1.4. Set the value of `n_init` explicitly to suppress the warning\n",
      "  super()._check_params_vs_input(X, default_n_init=10)\n"
     ]
    },
    {
     "name": "stdout",
     "output_type": "stream",
     "text": [
      "开始回波仿真...\n",
      "========================= EchoSimProcess =========================\n",
      "Phase 1 -- Params read and config...\n",
      "Phase 1 -- Done! Cost: 0.008s\n",
      "Phase 2 -- Sat Position Calculate...\n",
      "Phase 2 -- Done! Cost: 0s\n",
      "Phase 3 -- Flight Track and BeamDir History Simulate...\n",
      "Phase 3 -- Done! Cost: 0s\n",
      "Phase 4 -- Signal Generate...\n",
      "Phase 4 -- Done! Cost: 0.034s\n",
      "Phase 5 -- Echo Calculate...\n",
      "        -- CPU ThreadNum: 48\n",
      "Phase 5 -- Done! Cost: 1.223s\n",
      "Phase 6 -- Result Save...\n",
      "Phase 6 -- Done! Cost: 0.192s\n",
      "  Final -- Total Cost: 1.459s\n",
      "回波仿真完成！\n",
      "图像大小：75 x 75\n"
     ]
    },
    {
     "name": "stderr",
     "output_type": "stream",
     "text": [
      "/home/liq/pro/new_production_1118/sklearn/cluster/_kmeans.py:1416: FutureWarning: The default value of `n_init` will change from 10 to 'auto' in 1.4. Set the value of `n_init` explicitly to suppress the warning\n",
      "  super()._check_params_vs_input(X, default_n_init=10)\n"
     ]
    },
    {
     "name": "stdout",
     "output_type": "stream",
     "text": [
      "开始回波仿真...\n",
      "========================= EchoSimProcess =========================\n",
      "Phase 1 -- Params read and config...\n",
      "Phase 1 -- Done! Cost: 0.014s\n",
      "Phase 2 -- Sat Position Calculate...\n",
      "Phase 2 -- Done! Cost: 0s\n",
      "Phase 3 -- Flight Track and BeamDir History Simulate...\n",
      "Phase 3 -- Done! Cost: 0s\n",
      "Phase 4 -- Signal Generate...\n",
      "Phase 4 -- Done! Cost: 0.096s\n",
      "Phase 5 -- Echo Calculate...\n",
      "        -- CPU ThreadNum: 48\n",
      "Phase 5 -- Done! Cost: 1.161s\n",
      "Phase 6 -- Result Save...\n",
      "Phase 6 -- Done! Cost: 0.185s\n",
      "  Final -- Total Cost: 1.46s\n",
      "回波仿真完成！\n",
      "图像大小：75 x 75\n"
     ]
    },
    {
     "name": "stderr",
     "output_type": "stream",
     "text": [
      "/home/liq/pro/new_production_1118/sklearn/cluster/_kmeans.py:1416: FutureWarning: The default value of `n_init` will change from 10 to 'auto' in 1.4. Set the value of `n_init` explicitly to suppress the warning\n",
      "  super()._check_params_vs_input(X, default_n_init=10)\n"
     ]
    },
    {
     "name": "stdout",
     "output_type": "stream",
     "text": [
      "开始回波仿真...\n",
      "========================= EchoSimProcess =========================\n",
      "Phase 1 -- Params read and config...\n",
      "Phase 1 -- Done! Cost: 0.013s\n",
      "Phase 2 -- Sat Position Calculate...\n",
      "Phase 2 -- Done! Cost: 0s\n",
      "Phase 3 -- Flight Track and BeamDir History Simulate...\n",
      "Phase 3 -- Done! Cost: 0s\n",
      "Phase 4 -- Signal Generate...\n",
      "Phase 4 -- Done! Cost: 0.102s\n",
      "Phase 5 -- Echo Calculate...\n",
      "        -- CPU ThreadNum: 48\n",
      "Phase 5 -- Done! Cost: 1.183s\n",
      "Phase 6 -- Result Save...\n",
      "Phase 6 -- Done! Cost: 0.186s\n",
      "  Final -- Total Cost: 1.486s\n",
      "回波仿真完成！\n",
      "图像大小：75 x 75\n"
     ]
    },
    {
     "name": "stderr",
     "output_type": "stream",
     "text": [
      "/home/liq/pro/new_production_1118/sklearn/cluster/_kmeans.py:1416: FutureWarning: The default value of `n_init` will change from 10 to 'auto' in 1.4. Set the value of `n_init` explicitly to suppress the warning\n",
      "  super()._check_params_vs_input(X, default_n_init=10)\n"
     ]
    },
    {
     "name": "stdout",
     "output_type": "stream",
     "text": [
      "开始回波仿真...\n",
      "========================= EchoSimProcess =========================\n",
      "Phase 1 -- Params read and config...\n",
      "Phase 1 -- Done! Cost: 0.014s\n",
      "Phase 2 -- Sat Position Calculate...\n",
      "Phase 2 -- Done! Cost: 0s\n",
      "Phase 3 -- Flight Track and BeamDir History Simulate...\n",
      "Phase 3 -- Done! Cost: 0s\n",
      "Phase 4 -- Signal Generate...\n",
      "Phase 4 -- Done! Cost: 0.107s\n",
      "Phase 5 -- Echo Calculate...\n",
      "        -- CPU ThreadNum: 48\n",
      "Phase 5 -- Done! Cost: 1.145s\n",
      "Phase 6 -- Result Save...\n",
      "Phase 6 -- Done! Cost: 0.186s\n",
      "  Final -- Total Cost: 1.455s\n",
      "回波仿真完成！\n",
      "图像大小：75 x 75\n"
     ]
    },
    {
     "name": "stderr",
     "output_type": "stream",
     "text": [
      "/home/liq/pro/new_production_1118/sklearn/cluster/_kmeans.py:1416: FutureWarning: The default value of `n_init` will change from 10 to 'auto' in 1.4. Set the value of `n_init` explicitly to suppress the warning\n",
      "  super()._check_params_vs_input(X, default_n_init=10)\n"
     ]
    },
    {
     "name": "stdout",
     "output_type": "stream",
     "text": [
      "开始回波仿真...\n",
      "========================= EchoSimProcess =========================\n",
      "Phase 1 -- Params read and config...\n",
      "Phase 1 -- Done! Cost: 0.008s\n",
      "Phase 2 -- Sat Position Calculate...\n",
      "Phase 2 -- Done! Cost: 0s\n",
      "Phase 3 -- Flight Track and BeamDir History Simulate...\n",
      "Phase 3 -- Done! Cost: 0s\n",
      "Phase 4 -- Signal Generate...\n",
      "Phase 4 -- Done! Cost: 0.101s\n",
      "Phase 5 -- Echo Calculate...\n",
      "        -- CPU ThreadNum: 48\n",
      "Phase 5 -- Done! Cost: 1.184s\n",
      "Phase 6 -- Result Save...\n",
      "Phase 6 -- Done! Cost: 0.184s\n",
      "  Final -- Total Cost: 1.479s\n",
      "回波仿真完成！\n",
      "图像大小：75 x 75\n"
     ]
    },
    {
     "name": "stderr",
     "output_type": "stream",
     "text": [
      "/home/liq/pro/new_production_1118/sklearn/cluster/_kmeans.py:1416: FutureWarning: The default value of `n_init` will change from 10 to 'auto' in 1.4. Set the value of `n_init` explicitly to suppress the warning\n",
      "  super()._check_params_vs_input(X, default_n_init=10)\n"
     ]
    },
    {
     "name": "stdout",
     "output_type": "stream",
     "text": [
      "开始回波仿真...\n",
      "========================= EchoSimProcess =========================\n",
      "Phase 1 -- Params read and config...\n",
      "Phase 1 -- Done! Cost: 0.012s\n",
      "Phase 2 -- Sat Position Calculate...\n",
      "Phase 2 -- Done! Cost: 0s\n",
      "Phase 3 -- Flight Track and BeamDir History Simulate...\n",
      "Phase 3 -- Done! Cost: 0s\n",
      "Phase 4 -- Signal Generate...\n",
      "Phase 4 -- Done! Cost: 0.086s\n",
      "Phase 5 -- Echo Calculate...\n",
      "        -- CPU ThreadNum: 48\n",
      "Phase 5 -- Done! Cost: 1.178s\n",
      "Phase 6 -- Result Save...\n",
      "Phase 6 -- Done! Cost: 0.166s\n",
      "  Final -- Total Cost: 1.452s\n",
      "回波仿真完成！\n",
      "图像大小：75 x 75\n"
     ]
    },
    {
     "name": "stderr",
     "output_type": "stream",
     "text": [
      "/home/liq/pro/new_production_1118/sklearn/cluster/_kmeans.py:1416: FutureWarning: The default value of `n_init` will change from 10 to 'auto' in 1.4. Set the value of `n_init` explicitly to suppress the warning\n",
      "  super()._check_params_vs_input(X, default_n_init=10)\n"
     ]
    },
    {
     "name": "stdout",
     "output_type": "stream",
     "text": [
      "开始回波仿真...\n",
      "========================= EchoSimProcess =========================\n",
      "Phase 1 -- Params read and config...\n",
      "Phase 1 -- Done! Cost: 0.016s\n",
      "Phase 2 -- Sat Position Calculate...\n",
      "Phase 2 -- Done! Cost: 0s\n",
      "Phase 3 -- Flight Track and BeamDir History Simulate...\n",
      "Phase 3 -- Done! Cost: 0s\n",
      "Phase 4 -- Signal Generate...\n",
      "Phase 4 -- Done! Cost: 0.099s\n",
      "Phase 5 -- Echo Calculate...\n",
      "        -- CPU ThreadNum: 48\n",
      "Phase 5 -- Done! Cost: 1.171s\n",
      "Phase 6 -- Result Save...\n",
      "Phase 6 -- Done! Cost: 0.186s\n",
      "  Final -- Total Cost: 1.474s\n",
      "回波仿真完成！\n",
      "图像大小：75 x 75\n"
     ]
    },
    {
     "name": "stderr",
     "output_type": "stream",
     "text": [
      "/home/liq/pro/new_production_1118/sklearn/cluster/_kmeans.py:1416: FutureWarning: The default value of `n_init` will change from 10 to 'auto' in 1.4. Set the value of `n_init` explicitly to suppress the warning\n",
      "  super()._check_params_vs_input(X, default_n_init=10)\n"
     ]
    },
    {
     "name": "stdout",
     "output_type": "stream",
     "text": [
      "开始回波仿真...\n",
      "========================= EchoSimProcess =========================\n",
      "Phase 1 -- Params read and config...\n",
      "Phase 1 -- Done! Cost: 0.01s\n",
      "Phase 2 -- Sat Position Calculate...\n",
      "Phase 2 -- Done! Cost: 0s\n",
      "Phase 3 -- Flight Track and BeamDir History Simulate...\n",
      "Phase 3 -- Done! Cost: 0s\n",
      "Phase 4 -- Signal Generate...\n",
      "Phase 4 -- Done! Cost: 0.076s\n",
      "Phase 5 -- Echo Calculate...\n",
      "        -- CPU ThreadNum: 48\n",
      "Phase 5 -- Done! Cost: 1.207s\n",
      "Phase 6 -- Result Save...\n",
      "Phase 6 -- Done! Cost: 0.186s\n",
      "  Final -- Total Cost: 1.492s\n",
      "回波仿真完成！\n",
      "图像大小：75 x 75\n"
     ]
    },
    {
     "name": "stderr",
     "output_type": "stream",
     "text": [
      "/home/liq/pro/new_production_1118/sklearn/cluster/_kmeans.py:1416: FutureWarning: The default value of `n_init` will change from 10 to 'auto' in 1.4. Set the value of `n_init` explicitly to suppress the warning\n",
      "  super()._check_params_vs_input(X, default_n_init=10)\n"
     ]
    },
    {
     "name": "stdout",
     "output_type": "stream",
     "text": [
      "开始回波仿真...\n",
      "========================= EchoSimProcess =========================\n",
      "Phase 1 -- Params read and config...\n",
      "Phase 1 -- Done! Cost: 0.014s\n",
      "Phase 2 -- Sat Position Calculate...\n",
      "Phase 2 -- Done! Cost: 0s\n",
      "Phase 3 -- Flight Track and BeamDir History Simulate...\n",
      "Phase 3 -- Done! Cost: 0s\n",
      "Phase 4 -- Signal Generate...\n",
      "Phase 4 -- Done! Cost: 0.1s\n",
      "Phase 5 -- Echo Calculate...\n",
      "        -- CPU ThreadNum: 48\n",
      "Phase 5 -- Done! Cost: 1.171s\n",
      "Phase 6 -- Result Save...\n",
      "Phase 6 -- Done! Cost: 0.185s\n",
      "  Final -- Total Cost: 1.473s\n",
      "回波仿真完成！\n",
      "图像大小：75 x 75\n"
     ]
    },
    {
     "name": "stderr",
     "output_type": "stream",
     "text": [
      "/home/liq/pro/new_production_1118/sklearn/cluster/_kmeans.py:1416: FutureWarning: The default value of `n_init` will change from 10 to 'auto' in 1.4. Set the value of `n_init` explicitly to suppress the warning\n",
      "  super()._check_params_vs_input(X, default_n_init=10)\n"
     ]
    },
    {
     "name": "stdout",
     "output_type": "stream",
     "text": [
      "开始回波仿真...\n",
      "========================= EchoSimProcess =========================\n",
      "Phase 1 -- Params read and config...\n",
      "Phase 1 -- Done! Cost: 0.012s\n",
      "Phase 2 -- Sat Position Calculate...\n",
      "Phase 2 -- Done! Cost: 0s\n",
      "Phase 3 -- Flight Track and BeamDir History Simulate...\n",
      "Phase 3 -- Done! Cost: 0s\n",
      "Phase 4 -- Signal Generate...\n",
      "Phase 4 -- Done! Cost: 0.09s\n",
      "Phase 5 -- Echo Calculate...\n",
      "        -- CPU ThreadNum: 48\n",
      "Phase 5 -- Done! Cost: 1.195s\n",
      "Phase 6 -- Result Save...\n",
      "Phase 6 -- Done! Cost: 0.186s\n",
      "  Final -- Total Cost: 1.493s\n",
      "回波仿真完成！\n",
      "图像大小：75 x 75\n"
     ]
    },
    {
     "name": "stderr",
     "output_type": "stream",
     "text": [
      "/home/liq/pro/new_production_1118/sklearn/cluster/_kmeans.py:1416: FutureWarning: The default value of `n_init` will change from 10 to 'auto' in 1.4. Set the value of `n_init` explicitly to suppress the warning\n",
      "  super()._check_params_vs_input(X, default_n_init=10)\n"
     ]
    },
    {
     "name": "stdout",
     "output_type": "stream",
     "text": [
      "开始回波仿真...\n",
      "========================= EchoSimProcess =========================\n",
      "Phase 1 -- Params read and config...\n",
      "Phase 1 -- Done! Cost: 0.01s\n",
      "Phase 2 -- Sat Position Calculate...\n",
      "Phase 2 -- Done! Cost: 0s\n",
      "Phase 3 -- Flight Track and BeamDir History Simulate...\n",
      "Phase 3 -- Done! Cost: 0s\n",
      "Phase 4 -- Signal Generate...\n",
      "Phase 4 -- Done! Cost: 0.08s\n",
      "Phase 5 -- Echo Calculate...\n",
      "        -- CPU ThreadNum: 48\n",
      "Phase 5 -- Done! Cost: 1.189s\n",
      "Phase 6 -- Result Save...\n",
      "Phase 6 -- Done! Cost: 0.181s\n",
      "  Final -- Total Cost: 1.467s\n",
      "回波仿真完成！\n",
      "图像大小：75 x 75\n"
     ]
    },
    {
     "name": "stderr",
     "output_type": "stream",
     "text": [
      "/home/liq/pro/new_production_1118/sklearn/cluster/_kmeans.py:1416: FutureWarning: The default value of `n_init` will change from 10 to 'auto' in 1.4. Set the value of `n_init` explicitly to suppress the warning\n",
      "  super()._check_params_vs_input(X, default_n_init=10)\n"
     ]
    },
    {
     "name": "stdout",
     "output_type": "stream",
     "text": [
      "开始回波仿真...\n",
      "========================= EchoSimProcess =========================\n",
      "Phase 1 -- Params read and config...\n",
      "Phase 1 -- Done! Cost: 0.008s\n",
      "Phase 2 -- Sat Position Calculate...\n",
      "Phase 2 -- Done! Cost: 0s\n",
      "Phase 3 -- Flight Track and BeamDir History Simulate...\n",
      "Phase 3 -- Done! Cost: 0s\n",
      "Phase 4 -- Signal Generate...\n",
      "Phase 4 -- Done! Cost: 0.113s\n",
      "Phase 5 -- Echo Calculate...\n",
      "        -- CPU ThreadNum: 48\n",
      "Phase 5 -- Done! Cost: 1.156s\n",
      "Phase 6 -- Result Save...\n",
      "Phase 6 -- Done! Cost: 0.195s\n",
      "  Final -- Total Cost: 1.474s\n",
      "回波仿真完成！\n",
      "图像大小：75 x 75\n"
     ]
    },
    {
     "name": "stderr",
     "output_type": "stream",
     "text": [
      "/home/liq/pro/new_production_1118/sklearn/cluster/_kmeans.py:1416: FutureWarning: The default value of `n_init` will change from 10 to 'auto' in 1.4. Set the value of `n_init` explicitly to suppress the warning\n",
      "  super()._check_params_vs_input(X, default_n_init=10)\n"
     ]
    },
    {
     "name": "stdout",
     "output_type": "stream",
     "text": [
      "开始回波仿真...\n",
      "========================= EchoSimProcess =========================\n",
      "Phase 1 -- Params read and config...\n",
      "Phase 1 -- Done! Cost: 0.008s\n",
      "Phase 2 -- Sat Position Calculate...\n",
      "Phase 2 -- Done! Cost: 0s\n",
      "Phase 3 -- Flight Track and BeamDir History Simulate...\n",
      "Phase 3 -- Done! Cost: 0s\n",
      "Phase 4 -- Signal Generate...\n",
      "Phase 4 -- Done! Cost: 0.112s\n",
      "Phase 5 -- Echo Calculate...\n",
      "        -- CPU ThreadNum: 48\n",
      "Phase 5 -- Done! Cost: 1.151s\n",
      "Phase 6 -- Result Save...\n",
      "Phase 6 -- Done! Cost: 0.187s\n",
      "  Final -- Total Cost: 1.46s\n",
      "回波仿真完成！\n",
      "图像大小：75 x 75\n"
     ]
    },
    {
     "name": "stderr",
     "output_type": "stream",
     "text": [
      "/home/liq/pro/new_production_1118/sklearn/cluster/_kmeans.py:1416: FutureWarning: The default value of `n_init` will change from 10 to 'auto' in 1.4. Set the value of `n_init` explicitly to suppress the warning\n",
      "  super()._check_params_vs_input(X, default_n_init=10)\n"
     ]
    },
    {
     "name": "stdout",
     "output_type": "stream",
     "text": [
      "开始回波仿真...\n",
      "========================= EchoSimProcess =========================\n",
      "Phase 1 -- Params read and config...\n",
      "Phase 1 -- Done! Cost: 0.007s\n",
      "Phase 2 -- Sat Position Calculate...\n",
      "Phase 2 -- Done! Cost: 0s\n",
      "Phase 3 -- Flight Track and BeamDir History Simulate...\n",
      "Phase 3 -- Done! Cost: 0s\n",
      "Phase 4 -- Signal Generate...\n",
      "Phase 4 -- Done! Cost: 0.032s\n",
      "Phase 5 -- Echo Calculate...\n",
      "        -- CPU ThreadNum: 48\n",
      "Phase 5 -- Done! Cost: 1.229s\n",
      "Phase 6 -- Result Save...\n",
      "Phase 6 -- Done! Cost: 0.177s\n",
      "  Final -- Total Cost: 1.449s\n",
      "回波仿真完成！\n",
      "图像大小：75 x 75\n"
     ]
    },
    {
     "name": "stderr",
     "output_type": "stream",
     "text": [
      "/home/liq/pro/new_production_1118/sklearn/cluster/_kmeans.py:1416: FutureWarning: The default value of `n_init` will change from 10 to 'auto' in 1.4. Set the value of `n_init` explicitly to suppress the warning\n",
      "  super()._check_params_vs_input(X, default_n_init=10)\n"
     ]
    },
    {
     "name": "stdout",
     "output_type": "stream",
     "text": [
      "开始回波仿真...\n",
      "========================= EchoSimProcess =========================\n",
      "Phase 1 -- Params read and config...\n",
      "Phase 1 -- Done! Cost: 0.01s\n",
      "Phase 2 -- Sat Position Calculate...\n",
      "Phase 2 -- Done! Cost: 0s\n",
      "Phase 3 -- Flight Track and BeamDir History Simulate...\n",
      "Phase 3 -- Done! Cost: 0s\n",
      "Phase 4 -- Signal Generate...\n",
      "Phase 4 -- Done! Cost: 0.113s\n",
      "Phase 5 -- Echo Calculate...\n",
      "        -- CPU ThreadNum: 48\n",
      "Phase 5 -- Done! Cost: 1.174s\n",
      "Phase 6 -- Result Save...\n",
      "Phase 6 -- Done! Cost: 0.184s\n",
      "  Final -- Total Cost: 1.482s\n",
      "回波仿真完成！\n",
      "图像大小：75 x 75\n"
     ]
    },
    {
     "name": "stderr",
     "output_type": "stream",
     "text": [
      "/home/liq/pro/new_production_1118/sklearn/cluster/_kmeans.py:1416: FutureWarning: The default value of `n_init` will change from 10 to 'auto' in 1.4. Set the value of `n_init` explicitly to suppress the warning\n",
      "  super()._check_params_vs_input(X, default_n_init=10)\n"
     ]
    },
    {
     "name": "stdout",
     "output_type": "stream",
     "text": [
      "开始回波仿真...\n",
      "========================= EchoSimProcess =========================\n",
      "Phase 1 -- Params read and config...\n",
      "Phase 1 -- Done! Cost: 0.008s\n",
      "Phase 2 -- Sat Position Calculate...\n",
      "Phase 2 -- Done! Cost: 0s\n",
      "Phase 3 -- Flight Track and BeamDir History Simulate...\n",
      "Phase 3 -- Done! Cost: 0s\n",
      "Phase 4 -- Signal Generate...\n",
      "Phase 4 -- Done! Cost: 0.095s\n",
      "Phase 5 -- Echo Calculate...\n",
      "        -- CPU ThreadNum: 48\n",
      "Phase 5 -- Done! Cost: 1.206s\n",
      "Phase 6 -- Result Save...\n",
      "Phase 6 -- Done! Cost: 0.186s\n",
      "  Final -- Total Cost: 1.497s\n",
      "回波仿真完成！\n",
      "图像大小：75 x 75\n"
     ]
    },
    {
     "name": "stderr",
     "output_type": "stream",
     "text": [
      "/home/liq/pro/new_production_1118/sklearn/cluster/_kmeans.py:1416: FutureWarning: The default value of `n_init` will change from 10 to 'auto' in 1.4. Set the value of `n_init` explicitly to suppress the warning\n",
      "  super()._check_params_vs_input(X, default_n_init=10)\n"
     ]
    },
    {
     "name": "stdout",
     "output_type": "stream",
     "text": [
      "开始回波仿真...\n",
      "========================= EchoSimProcess =========================\n",
      "Phase 1 -- Params read and config...\n",
      "Phase 1 -- Done! Cost: 0.012s\n",
      "Phase 2 -- Sat Position Calculate...\n",
      "Phase 2 -- Done! Cost: 0s\n",
      "Phase 3 -- Flight Track and BeamDir History Simulate...\n",
      "Phase 3 -- Done! Cost: 0s\n",
      "Phase 4 -- Signal Generate...\n",
      "Phase 4 -- Done! Cost: 0.082s\n",
      "Phase 5 -- Echo Calculate...\n",
      "        -- CPU ThreadNum: 48\n",
      "Phase 5 -- Done! Cost: 1.194s\n",
      "Phase 6 -- Result Save...\n",
      "Phase 6 -- Done! Cost: 0.185s\n",
      "  Final -- Total Cost: 1.481s\n",
      "回波仿真完成！\n",
      "图像大小：75 x 75\n"
     ]
    },
    {
     "name": "stderr",
     "output_type": "stream",
     "text": [
      "/home/liq/pro/new_production_1118/sklearn/cluster/_kmeans.py:1416: FutureWarning: The default value of `n_init` will change from 10 to 'auto' in 1.4. Set the value of `n_init` explicitly to suppress the warning\n",
      "  super()._check_params_vs_input(X, default_n_init=10)\n"
     ]
    },
    {
     "name": "stdout",
     "output_type": "stream",
     "text": [
      "开始回波仿真...\n",
      "========================= EchoSimProcess =========================\n",
      "Phase 1 -- Params read and config...\n",
      "Phase 1 -- Done! Cost: 0.008s\n",
      "Phase 2 -- Sat Position Calculate...\n",
      "Phase 2 -- Done! Cost: 0s\n",
      "Phase 3 -- Flight Track and BeamDir History Simulate...\n",
      "Phase 3 -- Done! Cost: 0s\n",
      "Phase 4 -- Signal Generate...\n",
      "Phase 4 -- Done! Cost: 0.106s\n",
      "Phase 5 -- Echo Calculate...\n",
      "        -- CPU ThreadNum: 48\n",
      "Phase 5 -- Done! Cost: 1.226s\n",
      "Phase 6 -- Result Save...\n",
      "Phase 6 -- Done! Cost: 0.177s\n",
      "  Final -- Total Cost: 1.52s\n",
      "回波仿真完成！\n",
      "图像大小：75 x 75\n"
     ]
    },
    {
     "name": "stderr",
     "output_type": "stream",
     "text": [
      "/home/liq/pro/new_production_1118/sklearn/cluster/_kmeans.py:1416: FutureWarning: The default value of `n_init` will change from 10 to 'auto' in 1.4. Set the value of `n_init` explicitly to suppress the warning\n",
      "  super()._check_params_vs_input(X, default_n_init=10)\n"
     ]
    },
    {
     "name": "stdout",
     "output_type": "stream",
     "text": [
      "开始回波仿真...\n",
      "========================= EchoSimProcess =========================\n",
      "Phase 1 -- Params read and config...\n",
      "Phase 1 -- Done! Cost: 0.006s\n",
      "Phase 2 -- Sat Position Calculate...\n",
      "Phase 2 -- Done! Cost: 0s\n",
      "Phase 3 -- Flight Track and BeamDir History Simulate...\n",
      "Phase 3 -- Done! Cost: 0s\n",
      "Phase 4 -- Signal Generate...\n",
      "Phase 4 -- Done! Cost: 0.092s\n",
      "Phase 5 -- Echo Calculate...\n",
      "        -- CPU ThreadNum: 48\n",
      "Phase 5 -- Done! Cost: 1.136s\n",
      "Phase 6 -- Result Save...\n",
      "Phase 6 -- Done! Cost: 0.178s\n",
      "  Final -- Total Cost: 1.432s\n",
      "回波仿真完成！\n",
      "图像大小：75 x 75\n"
     ]
    },
    {
     "name": "stderr",
     "output_type": "stream",
     "text": [
      "/home/liq/pro/new_production_1118/sklearn/cluster/_kmeans.py:1416: FutureWarning: The default value of `n_init` will change from 10 to 'auto' in 1.4. Set the value of `n_init` explicitly to suppress the warning\n",
      "  super()._check_params_vs_input(X, default_n_init=10)\n"
     ]
    },
    {
     "name": "stdout",
     "output_type": "stream",
     "text": [
      "开始回波仿真...\n",
      "========================= EchoSimProcess =========================\n",
      "Phase 1 -- Params read and config...\n",
      "Phase 1 -- Done! Cost: 0.007s\n",
      "Phase 2 -- Sat Position Calculate...\n",
      "Phase 2 -- Done! Cost: 0s\n",
      "Phase 3 -- Flight Track and BeamDir History Simulate...\n",
      "Phase 3 -- Done! Cost: 0s\n",
      "Phase 4 -- Signal Generate...\n",
      "Phase 4 -- Done! Cost: 0.077s\n",
      "Phase 5 -- Echo Calculate...\n",
      "        -- CPU ThreadNum: 48\n",
      "Phase 5 -- Done! Cost: 1.112s\n",
      "Phase 6 -- Result Save...\n",
      "Phase 6 -- Done! Cost: 0.179s\n",
      "  Final -- Total Cost: 1.394s\n",
      "回波仿真完成！\n",
      "图像大小：75 x 75\n"
     ]
    },
    {
     "name": "stderr",
     "output_type": "stream",
     "text": [
      "/home/liq/pro/new_production_1118/sklearn/cluster/_kmeans.py:1416: FutureWarning: The default value of `n_init` will change from 10 to 'auto' in 1.4. Set the value of `n_init` explicitly to suppress the warning\n",
      "  super()._check_params_vs_input(X, default_n_init=10)\n"
     ]
    },
    {
     "name": "stdout",
     "output_type": "stream",
     "text": [
      "开始回波仿真...\n",
      "========================= EchoSimProcess =========================\n",
      "Phase 1 -- Params read and config...\n",
      "Phase 1 -- Done! Cost: 0.007s\n",
      "Phase 2 -- Sat Position Calculate...\n",
      "Phase 2 -- Done! Cost: 0s\n",
      "Phase 3 -- Flight Track and BeamDir History Simulate...\n",
      "Phase 3 -- Done! Cost: 0s\n",
      "Phase 4 -- Signal Generate...\n",
      "Phase 4 -- Done! Cost: 0.086s\n",
      "Phase 5 -- Echo Calculate...\n",
      "        -- CPU ThreadNum: 48\n",
      "Phase 5 -- Done! Cost: 1.153s\n",
      "Phase 6 -- Result Save...\n",
      "Phase 6 -- Done! Cost: 0.179s\n",
      "  Final -- Total Cost: 1.434s\n",
      "回波仿真完成！\n",
      "图像大小：75 x 75\n"
     ]
    },
    {
     "name": "stderr",
     "output_type": "stream",
     "text": [
      "/home/liq/pro/new_production_1118/sklearn/cluster/_kmeans.py:1416: FutureWarning: The default value of `n_init` will change from 10 to 'auto' in 1.4. Set the value of `n_init` explicitly to suppress the warning\n",
      "  super()._check_params_vs_input(X, default_n_init=10)\n"
     ]
    },
    {
     "name": "stdout",
     "output_type": "stream",
     "text": [
      "开始回波仿真...\n",
      "========================= EchoSimProcess =========================\n",
      "Phase 1 -- Params read and config...\n",
      "Phase 1 -- Done! Cost: 0.008s\n",
      "Phase 2 -- Sat Position Calculate...\n",
      "Phase 2 -- Done! Cost: 0s\n",
      "Phase 3 -- Flight Track and BeamDir History Simulate...\n",
      "Phase 3 -- Done! Cost: 0s\n",
      "Phase 4 -- Signal Generate...\n",
      "Phase 4 -- Done! Cost: 0.099s\n",
      "Phase 5 -- Echo Calculate...\n",
      "        -- CPU ThreadNum: 48\n",
      "Phase 5 -- Done! Cost: 1.222s\n",
      "Phase 6 -- Result Save...\n",
      "Phase 6 -- Done! Cost: 0.186s\n",
      "  Final -- Total Cost: 1.516s\n",
      "回波仿真完成！\n",
      "图像大小：75 x 75\n"
     ]
    },
    {
     "name": "stderr",
     "output_type": "stream",
     "text": [
      "/home/liq/pro/new_production_1118/sklearn/cluster/_kmeans.py:1416: FutureWarning: The default value of `n_init` will change from 10 to 'auto' in 1.4. Set the value of `n_init` explicitly to suppress the warning\n",
      "  super()._check_params_vs_input(X, default_n_init=10)\n"
     ]
    },
    {
     "name": "stdout",
     "output_type": "stream",
     "text": [
      "开始回波仿真...\n",
      "========================= EchoSimProcess =========================\n",
      "Phase 1 -- Params read and config...\n",
      "Phase 1 -- Done! Cost: 0.007s\n",
      "Phase 2 -- Sat Position Calculate...\n",
      "Phase 2 -- Done! Cost: 0s\n",
      "Phase 3 -- Flight Track and BeamDir History Simulate...\n",
      "Phase 3 -- Done! Cost: 0s\n",
      "Phase 4 -- Signal Generate...\n",
      "Phase 4 -- Done! Cost: 0.073s\n",
      "Phase 5 -- Echo Calculate...\n",
      "        -- CPU ThreadNum: 48\n",
      "Phase 5 -- Done! Cost: 1.181s\n",
      "Phase 6 -- Result Save...\n",
      "Phase 6 -- Done! Cost: 0.179s\n",
      "  Final -- Total Cost: 1.461s\n",
      "回波仿真完成！\n",
      "图像大小：75 x 75\n"
     ]
    },
    {
     "name": "stderr",
     "output_type": "stream",
     "text": [
      "/home/liq/pro/new_production_1118/sklearn/cluster/_kmeans.py:1416: FutureWarning: The default value of `n_init` will change from 10 to 'auto' in 1.4. Set the value of `n_init` explicitly to suppress the warning\n",
      "  super()._check_params_vs_input(X, default_n_init=10)\n"
     ]
    },
    {
     "name": "stdout",
     "output_type": "stream",
     "text": [
      "开始回波仿真...\n",
      "========================= EchoSimProcess =========================\n",
      "Phase 1 -- Params read and config...\n",
      "Phase 1 -- Done! Cost: 0.007s\n",
      "Phase 2 -- Sat Position Calculate...\n",
      "Phase 2 -- Done! Cost: 0s\n",
      "Phase 3 -- Flight Track and BeamDir History Simulate...\n",
      "Phase 3 -- Done! Cost: 0s\n",
      "Phase 4 -- Signal Generate...\n",
      "Phase 4 -- Done! Cost: 0.083s\n",
      "Phase 5 -- Echo Calculate...\n",
      "        -- CPU ThreadNum: 48\n",
      "Phase 5 -- Done! Cost: 1.131s\n",
      "Phase 6 -- Result Save...\n",
      "Phase 6 -- Done! Cost: 0.178s\n",
      "  Final -- Total Cost: 1.401s\n",
      "回波仿真完成！\n",
      "图像大小：75 x 75\n"
     ]
    },
    {
     "name": "stderr",
     "output_type": "stream",
     "text": [
      "/home/liq/pro/new_production_1118/sklearn/cluster/_kmeans.py:1416: FutureWarning: The default value of `n_init` will change from 10 to 'auto' in 1.4. Set the value of `n_init` explicitly to suppress the warning\n",
      "  super()._check_params_vs_input(X, default_n_init=10)\n"
     ]
    },
    {
     "name": "stdout",
     "output_type": "stream",
     "text": [
      "开始回波仿真...\n",
      "========================= EchoSimProcess =========================\n",
      "Phase 1 -- Params read and config...\n",
      "Phase 1 -- Done! Cost: 0.012s\n",
      "Phase 2 -- Sat Position Calculate...\n",
      "Phase 2 -- Done! Cost: 0s\n",
      "Phase 3 -- Flight Track and BeamDir History Simulate...\n",
      "Phase 3 -- Done! Cost: 0s\n",
      "Phase 4 -- Signal Generate...\n",
      "Phase 4 -- Done! Cost: 0.086s\n",
      "Phase 5 -- Echo Calculate...\n",
      "        -- CPU ThreadNum: 48\n",
      "Phase 5 -- Done! Cost: 1.16s\n",
      "Phase 6 -- Result Save...\n",
      "Phase 6 -- Done! Cost: 0.178s\n",
      "  Final -- Total Cost: 1.44s\n",
      "回波仿真完成！\n",
      "图像大小：75 x 75\n"
     ]
    },
    {
     "name": "stderr",
     "output_type": "stream",
     "text": [
      "/home/liq/pro/new_production_1118/sklearn/cluster/_kmeans.py:1416: FutureWarning: The default value of `n_init` will change from 10 to 'auto' in 1.4. Set the value of `n_init` explicitly to suppress the warning\n",
      "  super()._check_params_vs_input(X, default_n_init=10)\n"
     ]
    },
    {
     "name": "stdout",
     "output_type": "stream",
     "text": [
      "开始回波仿真...\n",
      "========================= EchoSimProcess =========================\n",
      "Phase 1 -- Params read and config...\n",
      "Phase 1 -- Done! Cost: 0.01s\n",
      "Phase 2 -- Sat Position Calculate...\n",
      "Phase 2 -- Done! Cost: 0s\n",
      "Phase 3 -- Flight Track and BeamDir History Simulate...\n",
      "Phase 3 -- Done! Cost: 0s\n",
      "Phase 4 -- Signal Generate...\n",
      "Phase 4 -- Done! Cost: 0.104s\n",
      "Phase 5 -- Echo Calculate...\n",
      "        -- CPU ThreadNum: 48\n",
      "Phase 5 -- Done! Cost: 1.162s\n",
      "Phase 6 -- Result Save...\n",
      "Phase 6 -- Done! Cost: 0.166s\n",
      "  Final -- Total Cost: 1.449s\n",
      "回波仿真完成！\n",
      "图像大小：75 x 75\n"
     ]
    },
    {
     "name": "stderr",
     "output_type": "stream",
     "text": [
      "/home/liq/pro/new_production_1118/sklearn/cluster/_kmeans.py:1416: FutureWarning: The default value of `n_init` will change from 10 to 'auto' in 1.4. Set the value of `n_init` explicitly to suppress the warning\n",
      "  super()._check_params_vs_input(X, default_n_init=10)\n"
     ]
    },
    {
     "name": "stdout",
     "output_type": "stream",
     "text": [
      "开始回波仿真...\n",
      "========================= EchoSimProcess =========================\n",
      "Phase 1 -- Params read and config...\n",
      "Phase 1 -- Done! Cost: 0.007s\n",
      "Phase 2 -- Sat Position Calculate...\n",
      "Phase 2 -- Done! Cost: 0s\n",
      "Phase 3 -- Flight Track and BeamDir History Simulate...\n",
      "Phase 3 -- Done! Cost: 0s\n",
      "Phase 4 -- Signal Generate...\n",
      "Phase 4 -- Done! Cost: 0.089s\n",
      "Phase 5 -- Echo Calculate...\n",
      "        -- CPU ThreadNum: 48\n",
      "Phase 5 -- Done! Cost: 1.156s\n",
      "Phase 6 -- Result Save...\n",
      "Phase 6 -- Done! Cost: 0.18s\n",
      "  Final -- Total Cost: 1.434s\n",
      "回波仿真完成！\n",
      "图像大小：75 x 75\n"
     ]
    },
    {
     "name": "stderr",
     "output_type": "stream",
     "text": [
      "/home/liq/pro/new_production_1118/sklearn/cluster/_kmeans.py:1416: FutureWarning: The default value of `n_init` will change from 10 to 'auto' in 1.4. Set the value of `n_init` explicitly to suppress the warning\n",
      "  super()._check_params_vs_input(X, default_n_init=10)\n"
     ]
    },
    {
     "name": "stdout",
     "output_type": "stream",
     "text": [
      "开始回波仿真...\n",
      "========================= EchoSimProcess =========================\n",
      "Phase 1 -- Params read and config...\n",
      "Phase 1 -- Done! Cost: 0.007s\n",
      "Phase 2 -- Sat Position Calculate...\n",
      "Phase 2 -- Done! Cost: 0s\n",
      "Phase 3 -- Flight Track and BeamDir History Simulate...\n",
      "Phase 3 -- Done! Cost: 0s\n",
      "Phase 4 -- Signal Generate...\n",
      "Phase 4 -- Done! Cost: 0.065s\n",
      "Phase 5 -- Echo Calculate...\n",
      "        -- CPU ThreadNum: 48\n",
      "Phase 5 -- Done! Cost: 1.158s\n",
      "Phase 6 -- Result Save...\n",
      "Phase 6 -- Done! Cost: 0.184s\n",
      "  Final -- Total Cost: 1.432s\n",
      "回波仿真完成！\n",
      "图像大小：75 x 75\n"
     ]
    },
    {
     "name": "stderr",
     "output_type": "stream",
     "text": [
      "/home/liq/pro/new_production_1118/sklearn/cluster/_kmeans.py:1416: FutureWarning: The default value of `n_init` will change from 10 to 'auto' in 1.4. Set the value of `n_init` explicitly to suppress the warning\n",
      "  super()._check_params_vs_input(X, default_n_init=10)\n"
     ]
    },
    {
     "name": "stdout",
     "output_type": "stream",
     "text": [
      "开始回波仿真...\n",
      "========================= EchoSimProcess =========================\n",
      "Phase 1 -- Params read and config...\n",
      "Phase 1 -- Done! Cost: 0.007s\n",
      "Phase 2 -- Sat Position Calculate...\n",
      "Phase 2 -- Done! Cost: 0s\n",
      "Phase 3 -- Flight Track and BeamDir History Simulate...\n",
      "Phase 3 -- Done! Cost: 0s\n",
      "Phase 4 -- Signal Generate...\n",
      "Phase 4 -- Done! Cost: 0.09s\n",
      "Phase 5 -- Echo Calculate...\n",
      "        -- CPU ThreadNum: 48\n",
      "Phase 5 -- Done! Cost: 1.164s\n",
      "Phase 6 -- Result Save...\n",
      "Phase 6 -- Done! Cost: 0.18s\n",
      "  Final -- Total Cost: 1.451s\n",
      "回波仿真完成！\n",
      "图像大小：75 x 75\n"
     ]
    },
    {
     "name": "stderr",
     "output_type": "stream",
     "text": [
      "/home/liq/pro/new_production_1118/sklearn/cluster/_kmeans.py:1416: FutureWarning: The default value of `n_init` will change from 10 to 'auto' in 1.4. Set the value of `n_init` explicitly to suppress the warning\n",
      "  super()._check_params_vs_input(X, default_n_init=10)\n"
     ]
    },
    {
     "name": "stdout",
     "output_type": "stream",
     "text": [
      "开始回波仿真...\n",
      "========================= EchoSimProcess =========================\n",
      "Phase 1 -- Params read and config...\n",
      "Phase 1 -- Done! Cost: 0.01s\n",
      "Phase 2 -- Sat Position Calculate...\n",
      "Phase 2 -- Done! Cost: 0s\n",
      "Phase 3 -- Flight Track and BeamDir History Simulate...\n",
      "Phase 3 -- Done! Cost: 0s\n",
      "Phase 4 -- Signal Generate...\n",
      "Phase 4 -- Done! Cost: 0.11s\n",
      "Phase 5 -- Echo Calculate...\n",
      "        -- CPU ThreadNum: 48\n",
      "Phase 5 -- Done! Cost: 1.136s\n",
      "Phase 6 -- Result Save...\n",
      "Phase 6 -- Done! Cost: 0.188s\n",
      "  Final -- Total Cost: 1.449s\n",
      "回波仿真完成！\n",
      "图像大小：75 x 75\n"
     ]
    },
    {
     "name": "stderr",
     "output_type": "stream",
     "text": [
      "/home/liq/pro/new_production_1118/sklearn/cluster/_kmeans.py:1416: FutureWarning: The default value of `n_init` will change from 10 to 'auto' in 1.4. Set the value of `n_init` explicitly to suppress the warning\n",
      "  super()._check_params_vs_input(X, default_n_init=10)\n"
     ]
    },
    {
     "name": "stdout",
     "output_type": "stream",
     "text": [
      "开始回波仿真...\n",
      "========================= EchoSimProcess =========================\n",
      "Phase 1 -- Params read and config...\n",
      "Phase 1 -- Done! Cost: 0.013s\n",
      "Phase 2 -- Sat Position Calculate...\n",
      "Phase 2 -- Done! Cost: 0s\n",
      "Phase 3 -- Flight Track and BeamDir History Simulate...\n",
      "Phase 3 -- Done! Cost: 0s\n",
      "Phase 4 -- Signal Generate...\n",
      "Phase 4 -- Done! Cost: 0.104s\n",
      "Phase 5 -- Echo Calculate...\n",
      "        -- CPU ThreadNum: 48\n",
      "Phase 5 -- Done! Cost: 1.096s\n",
      "Phase 6 -- Result Save...\n",
      "Phase 6 -- Done! Cost: 0.175s\n",
      "  Final -- Total Cost: 1.391s\n",
      "回波仿真完成！\n",
      "图像大小：75 x 75\n"
     ]
    },
    {
     "name": "stderr",
     "output_type": "stream",
     "text": [
      "/home/liq/pro/new_production_1118/sklearn/cluster/_kmeans.py:1416: FutureWarning: The default value of `n_init` will change from 10 to 'auto' in 1.4. Set the value of `n_init` explicitly to suppress the warning\n",
      "  super()._check_params_vs_input(X, default_n_init=10)\n"
     ]
    },
    {
     "name": "stdout",
     "output_type": "stream",
     "text": [
      "开始回波仿真...\n",
      "========================= EchoSimProcess =========================\n",
      "Phase 1 -- Params read and config...\n",
      "Phase 1 -- Done! Cost: 0.006s\n",
      "Phase 2 -- Sat Position Calculate...\n",
      "Phase 2 -- Done! Cost: 0s\n",
      "Phase 3 -- Flight Track and BeamDir History Simulate...\n",
      "Phase 3 -- Done! Cost: 0s\n",
      "Phase 4 -- Signal Generate...\n",
      "Phase 4 -- Done! Cost: 0.052s\n",
      "Phase 5 -- Echo Calculate...\n",
      "        -- CPU ThreadNum: 48\n",
      "Phase 5 -- Done! Cost: 1.182s\n",
      "Phase 6 -- Result Save...\n",
      "Phase 6 -- Done! Cost: 0.17s\n",
      "  Final -- Total Cost: 1.412s\n",
      "回波仿真完成！\n",
      "图像大小：75 x 75\n"
     ]
    },
    {
     "name": "stderr",
     "output_type": "stream",
     "text": [
      "/home/liq/pro/new_production_1118/sklearn/cluster/_kmeans.py:1416: FutureWarning: The default value of `n_init` will change from 10 to 'auto' in 1.4. Set the value of `n_init` explicitly to suppress the warning\n",
      "  super()._check_params_vs_input(X, default_n_init=10)\n"
     ]
    },
    {
     "name": "stdout",
     "output_type": "stream",
     "text": [
      "开始回波仿真...\n",
      "========================= EchoSimProcess =========================\n",
      "Phase 1 -- Params read and config...\n",
      "Phase 1 -- Done! Cost: 0.007s\n",
      "Phase 2 -- Sat Position Calculate...\n",
      "Phase 2 -- Done! Cost: 0s\n",
      "Phase 3 -- Flight Track and BeamDir History Simulate...\n",
      "Phase 3 -- Done! Cost: 0s\n",
      "Phase 4 -- Signal Generate...\n",
      "Phase 4 -- Done! Cost: 0.101s\n",
      "Phase 5 -- Echo Calculate...\n",
      "        -- CPU ThreadNum: 48\n",
      "Phase 5 -- Done! Cost: 1.124s\n",
      "Phase 6 -- Result Save...\n",
      "Phase 6 -- Done! Cost: 0.179s\n",
      "  Final -- Total Cost: 1.413s\n",
      "回波仿真完成！\n",
      "图像大小：75 x 75\n"
     ]
    },
    {
     "name": "stderr",
     "output_type": "stream",
     "text": [
      "/home/liq/pro/new_production_1118/sklearn/cluster/_kmeans.py:1416: FutureWarning: The default value of `n_init` will change from 10 to 'auto' in 1.4. Set the value of `n_init` explicitly to suppress the warning\n",
      "  super()._check_params_vs_input(X, default_n_init=10)\n"
     ]
    },
    {
     "name": "stdout",
     "output_type": "stream",
     "text": [
      "开始回波仿真...\n",
      "========================= EchoSimProcess =========================\n",
      "Phase 1 -- Params read and config...\n",
      "Phase 1 -- Done! Cost: 0.007s\n",
      "Phase 2 -- Sat Position Calculate...\n",
      "Phase 2 -- Done! Cost: 0s\n",
      "Phase 3 -- Flight Track and BeamDir History Simulate...\n",
      "Phase 3 -- Done! Cost: 0s\n",
      "Phase 4 -- Signal Generate...\n",
      "Phase 4 -- Done! Cost: 0.1s\n",
      "Phase 5 -- Echo Calculate...\n",
      "        -- CPU ThreadNum: 48\n",
      "Phase 5 -- Done! Cost: 1.136s\n",
      "Phase 6 -- Result Save...\n",
      "Phase 6 -- Done! Cost: 0.179s\n",
      "  Final -- Total Cost: 1.432s\n",
      "回波仿真完成！\n",
      "图像大小：75 x 75\n"
     ]
    },
    {
     "name": "stderr",
     "output_type": "stream",
     "text": [
      "/home/liq/pro/new_production_1118/sklearn/cluster/_kmeans.py:1416: FutureWarning: The default value of `n_init` will change from 10 to 'auto' in 1.4. Set the value of `n_init` explicitly to suppress the warning\n",
      "  super()._check_params_vs_input(X, default_n_init=10)\n"
     ]
    },
    {
     "name": "stdout",
     "output_type": "stream",
     "text": [
      "开始回波仿真...\n",
      "========================= EchoSimProcess =========================\n",
      "Phase 1 -- Params read and config...\n",
      "Phase 1 -- Done! Cost: 0.008s\n",
      "Phase 2 -- Sat Position Calculate...\n",
      "Phase 2 -- Done! Cost: 0s\n",
      "Phase 3 -- Flight Track and BeamDir History Simulate...\n",
      "Phase 3 -- Done! Cost: 0s\n",
      "Phase 4 -- Signal Generate...\n",
      "Phase 4 -- Done! Cost: 0.097s\n",
      "Phase 5 -- Echo Calculate...\n",
      "        -- CPU ThreadNum: 48\n",
      "Phase 5 -- Done! Cost: 1.14s\n",
      "Phase 6 -- Result Save...\n",
      "Phase 6 -- Done! Cost: 0.179s\n",
      "  Final -- Total Cost: 1.43s\n",
      "回波仿真完成！\n",
      "图像大小：75 x 75\n"
     ]
    },
    {
     "name": "stderr",
     "output_type": "stream",
     "text": [
      "/home/liq/pro/new_production_1118/sklearn/cluster/_kmeans.py:1416: FutureWarning: The default value of `n_init` will change from 10 to 'auto' in 1.4. Set the value of `n_init` explicitly to suppress the warning\n",
      "  super()._check_params_vs_input(X, default_n_init=10)\n"
     ]
    },
    {
     "name": "stdout",
     "output_type": "stream",
     "text": [
      "开始回波仿真...\n",
      "========================= EchoSimProcess =========================\n",
      "Phase 1 -- Params read and config...\n",
      "Phase 1 -- Done! Cost: 0.014s\n",
      "Phase 2 -- Sat Position Calculate...\n",
      "Phase 2 -- Done! Cost: 0s\n",
      "Phase 3 -- Flight Track and BeamDir History Simulate...\n",
      "Phase 3 -- Done! Cost: 0s\n",
      "Phase 4 -- Signal Generate...\n",
      "Phase 4 -- Done! Cost: 0.096s\n",
      "Phase 5 -- Echo Calculate...\n",
      "        -- CPU ThreadNum: 48\n",
      "Phase 5 -- Done! Cost: 1.155s\n",
      "Phase 6 -- Result Save...\n",
      "Phase 6 -- Done! Cost: 0.179s\n",
      "  Final -- Total Cost: 1.445s\n",
      "回波仿真完成！\n",
      "图像大小：75 x 75\n"
     ]
    },
    {
     "name": "stderr",
     "output_type": "stream",
     "text": [
      "/home/liq/pro/new_production_1118/sklearn/cluster/_kmeans.py:1416: FutureWarning: The default value of `n_init` will change from 10 to 'auto' in 1.4. Set the value of `n_init` explicitly to suppress the warning\n",
      "  super()._check_params_vs_input(X, default_n_init=10)\n"
     ]
    },
    {
     "name": "stdout",
     "output_type": "stream",
     "text": [
      "开始回波仿真...\n",
      "========================= EchoSimProcess =========================\n",
      "Phase 1 -- Params read and config...\n",
      "Phase 1 -- Done! Cost: 0.005s\n",
      "Phase 2 -- Sat Position Calculate...\n",
      "Phase 2 -- Done! Cost: 0s\n",
      "Phase 3 -- Flight Track and BeamDir History Simulate...\n",
      "Phase 3 -- Done! Cost: 0s\n",
      "Phase 4 -- Signal Generate...\n",
      "Phase 4 -- Done! Cost: 0.037s\n",
      "Phase 5 -- Echo Calculate...\n",
      "        -- CPU ThreadNum: 48\n",
      "Phase 5 -- Done! Cost: 1.188s\n",
      "Phase 6 -- Result Save...\n",
      "Phase 6 -- Done! Cost: 0.174s\n",
      "  Final -- Total Cost: 1.407s\n",
      "回波仿真完成！\n",
      "图像大小：75 x 75\n"
     ]
    },
    {
     "name": "stderr",
     "output_type": "stream",
     "text": [
      "/home/liq/pro/new_production_1118/sklearn/cluster/_kmeans.py:1416: FutureWarning: The default value of `n_init` will change from 10 to 'auto' in 1.4. Set the value of `n_init` explicitly to suppress the warning\n",
      "  super()._check_params_vs_input(X, default_n_init=10)\n"
     ]
    },
    {
     "name": "stdout",
     "output_type": "stream",
     "text": [
      "开始回波仿真...\n",
      "========================= EchoSimProcess =========================\n",
      "Phase 1 -- Params read and config...\n",
      "Phase 1 -- Done! Cost: 0.006s\n",
      "Phase 2 -- Sat Position Calculate...\n",
      "Phase 2 -- Done! Cost: 0s\n",
      "Phase 3 -- Flight Track and BeamDir History Simulate...\n",
      "Phase 3 -- Done! Cost: 0s\n",
      "Phase 4 -- Signal Generate...\n",
      "Phase 4 -- Done! Cost: 0.115s\n",
      "Phase 5 -- Echo Calculate...\n",
      "        -- CPU ThreadNum: 48\n",
      "Phase 5 -- Done! Cost: 1.104s\n",
      "Phase 6 -- Result Save...\n",
      "Phase 6 -- Done! Cost: 0.174s\n",
      "  Final -- Total Cost: 1.402s\n",
      "回波仿真完成！\n",
      "图像大小：75 x 75\n"
     ]
    },
    {
     "name": "stderr",
     "output_type": "stream",
     "text": [
      "/home/liq/pro/new_production_1118/sklearn/cluster/_kmeans.py:1416: FutureWarning: The default value of `n_init` will change from 10 to 'auto' in 1.4. Set the value of `n_init` explicitly to suppress the warning\n",
      "  super()._check_params_vs_input(X, default_n_init=10)\n"
     ]
    },
    {
     "name": "stdout",
     "output_type": "stream",
     "text": [
      "开始回波仿真...\n",
      "========================= EchoSimProcess =========================\n",
      "Phase 1 -- Params read and config...\n",
      "Phase 1 -- Done! Cost: 0.006s\n",
      "Phase 2 -- Sat Position Calculate...\n",
      "Phase 2 -- Done! Cost: 0s\n",
      "Phase 3 -- Flight Track and BeamDir History Simulate...\n",
      "Phase 3 -- Done! Cost: 0s\n",
      "Phase 4 -- Signal Generate...\n",
      "Phase 4 -- Done! Cost: 0.098s\n",
      "Phase 5 -- Echo Calculate...\n",
      "        -- CPU ThreadNum: 48\n",
      "Phase 5 -- Done! Cost: 1.103s\n",
      "Phase 6 -- Result Save...\n",
      "Phase 6 -- Done! Cost: 0.174s\n",
      "  Final -- Total Cost: 1.384s\n",
      "回波仿真完成！\n",
      "图像大小：75 x 75\n"
     ]
    },
    {
     "name": "stderr",
     "output_type": "stream",
     "text": [
      "/home/liq/pro/new_production_1118/sklearn/cluster/_kmeans.py:1416: FutureWarning: The default value of `n_init` will change from 10 to 'auto' in 1.4. Set the value of `n_init` explicitly to suppress the warning\n",
      "  super()._check_params_vs_input(X, default_n_init=10)\n"
     ]
    },
    {
     "name": "stdout",
     "output_type": "stream",
     "text": [
      "开始回波仿真...\n",
      "========================= EchoSimProcess =========================\n",
      "Phase 1 -- Params read and config...\n",
      "Phase 1 -- Done! Cost: 0.013s\n",
      "Phase 2 -- Sat Position Calculate...\n",
      "Phase 2 -- Done! Cost: 0s\n",
      "Phase 3 -- Flight Track and BeamDir History Simulate...\n",
      "Phase 3 -- Done! Cost: 0s\n",
      "Phase 4 -- Signal Generate...\n",
      "Phase 4 -- Done! Cost: 0.077s\n",
      "Phase 5 -- Echo Calculate...\n",
      "        -- CPU ThreadNum: 48\n",
      "Phase 5 -- Done! Cost: 1.128s\n",
      "Phase 6 -- Result Save...\n",
      "Phase 6 -- Done! Cost: 0.174s\n",
      "  Final -- Total Cost: 1.395s\n",
      "回波仿真完成！\n",
      "图像大小：75 x 75\n"
     ]
    },
    {
     "name": "stderr",
     "output_type": "stream",
     "text": [
      "/home/liq/pro/new_production_1118/sklearn/cluster/_kmeans.py:1416: FutureWarning: The default value of `n_init` will change from 10 to 'auto' in 1.4. Set the value of `n_init` explicitly to suppress the warning\n",
      "  super()._check_params_vs_input(X, default_n_init=10)\n"
     ]
    },
    {
     "name": "stdout",
     "output_type": "stream",
     "text": [
      "开始回波仿真...\n",
      "========================= EchoSimProcess =========================\n",
      "Phase 1 -- Params read and config...\n",
      "Phase 1 -- Done! Cost: 0.01s\n",
      "Phase 2 -- Sat Position Calculate...\n",
      "Phase 2 -- Done! Cost: 0s\n",
      "Phase 3 -- Flight Track and BeamDir History Simulate...\n",
      "Phase 3 -- Done! Cost: 0s\n",
      "Phase 4 -- Signal Generate...\n",
      "Phase 4 -- Done! Cost: 0.078s\n",
      "Phase 5 -- Echo Calculate...\n",
      "        -- CPU ThreadNum: 48\n",
      "Phase 5 -- Done! Cost: 1.148s\n",
      "Phase 6 -- Result Save...\n",
      "Phase 6 -- Done! Cost: 0.174s\n",
      "  Final -- Total Cost: 1.422s\n",
      "回波仿真完成！\n",
      "图像大小：75 x 75\n"
     ]
    },
    {
     "name": "stderr",
     "output_type": "stream",
     "text": [
      "/home/liq/pro/new_production_1118/sklearn/cluster/_kmeans.py:1416: FutureWarning: The default value of `n_init` will change from 10 to 'auto' in 1.4. Set the value of `n_init` explicitly to suppress the warning\n",
      "  super()._check_params_vs_input(X, default_n_init=10)\n"
     ]
    },
    {
     "name": "stdout",
     "output_type": "stream",
     "text": [
      "开始回波仿真...\n",
      "========================= EchoSimProcess =========================\n",
      "Phase 1 -- Params read and config...\n",
      "Phase 1 -- Done! Cost: 0.006s\n",
      "Phase 2 -- Sat Position Calculate...\n",
      "Phase 2 -- Done! Cost: 0s\n",
      "Phase 3 -- Flight Track and BeamDir History Simulate...\n",
      "Phase 3 -- Done! Cost: 0s\n",
      "Phase 4 -- Signal Generate...\n",
      "Phase 4 -- Done! Cost: 0.1s\n",
      "Phase 5 -- Echo Calculate...\n",
      "        -- CPU ThreadNum: 48\n",
      "Phase 5 -- Done! Cost: 1.117s\n",
      "Phase 6 -- Result Save...\n",
      "Phase 6 -- Done! Cost: 0.174s\n",
      "  Final -- Total Cost: 1.399s\n",
      "回波仿真完成！\n",
      "图像大小：75 x 75\n"
     ]
    },
    {
     "name": "stderr",
     "output_type": "stream",
     "text": [
      "/home/liq/pro/new_production_1118/sklearn/cluster/_kmeans.py:1416: FutureWarning: The default value of `n_init` will change from 10 to 'auto' in 1.4. Set the value of `n_init` explicitly to suppress the warning\n",
      "  super()._check_params_vs_input(X, default_n_init=10)\n"
     ]
    },
    {
     "name": "stdout",
     "output_type": "stream",
     "text": [
      "开始回波仿真...\n",
      "========================= EchoSimProcess =========================\n",
      "Phase 1 -- Params read and config...\n",
      "Phase 1 -- Done! Cost: 0.006s\n",
      "Phase 2 -- Sat Position Calculate...\n",
      "Phase 2 -- Done! Cost: 0s\n",
      "Phase 3 -- Flight Track and BeamDir History Simulate...\n",
      "Phase 3 -- Done! Cost: 0s\n",
      "Phase 4 -- Signal Generate...\n",
      "Phase 4 -- Done! Cost: 0.077s\n",
      "Phase 5 -- Echo Calculate...\n",
      "        -- CPU ThreadNum: 48\n",
      "Phase 5 -- Done! Cost: 1.14s\n",
      "Phase 6 -- Result Save...\n",
      "Phase 6 -- Done! Cost: 0.164s\n",
      "  Final -- Total Cost: 1.389s\n",
      "回波仿真完成！\n",
      "图像大小：75 x 75\n"
     ]
    },
    {
     "name": "stderr",
     "output_type": "stream",
     "text": [
      "/home/liq/pro/new_production_1118/sklearn/cluster/_kmeans.py:1416: FutureWarning: The default value of `n_init` will change from 10 to 'auto' in 1.4. Set the value of `n_init` explicitly to suppress the warning\n",
      "  super()._check_params_vs_input(X, default_n_init=10)\n"
     ]
    },
    {
     "name": "stdout",
     "output_type": "stream",
     "text": [
      "开始回波仿真...\n",
      "========================= EchoSimProcess =========================\n",
      "Phase 1 -- Params read and config...\n",
      "Phase 1 -- Done! Cost: 0.006s\n",
      "Phase 2 -- Sat Position Calculate...\n",
      "Phase 2 -- Done! Cost: 0s\n",
      "Phase 3 -- Flight Track and BeamDir History Simulate...\n",
      "Phase 3 -- Done! Cost: 0s\n",
      "Phase 4 -- Signal Generate...\n",
      "Phase 4 -- Done! Cost: 0.1s\n",
      "Phase 5 -- Echo Calculate...\n",
      "        -- CPU ThreadNum: 48\n",
      "Phase 5 -- Done! Cost: 1.103s\n",
      "Phase 6 -- Result Save...\n",
      "Phase 6 -- Done! Cost: 0.175s\n",
      "  Final -- Total Cost: 1.393s\n",
      "回波仿真完成！\n",
      "图像大小：75 x 75\n"
     ]
    },
    {
     "name": "stderr",
     "output_type": "stream",
     "text": [
      "/home/liq/pro/new_production_1118/sklearn/cluster/_kmeans.py:1416: FutureWarning: The default value of `n_init` will change from 10 to 'auto' in 1.4. Set the value of `n_init` explicitly to suppress the warning\n",
      "  super()._check_params_vs_input(X, default_n_init=10)\n"
     ]
    },
    {
     "name": "stdout",
     "output_type": "stream",
     "text": [
      "开始回波仿真...\n",
      "========================= EchoSimProcess =========================\n",
      "Phase 1 -- Params read and config...\n",
      "Phase 1 -- Done! Cost: 0.006s\n",
      "Phase 2 -- Sat Position Calculate...\n",
      "Phase 2 -- Done! Cost: 0s\n",
      "Phase 3 -- Flight Track and BeamDir History Simulate...\n",
      "Phase 3 -- Done! Cost: 0s\n",
      "Phase 4 -- Signal Generate...\n",
      "Phase 4 -- Done! Cost: 0.049s\n",
      "Phase 5 -- Echo Calculate...\n",
      "        -- CPU ThreadNum: 48\n",
      "Phase 5 -- Done! Cost: 1.138s\n",
      "Phase 6 -- Result Save...\n",
      "Phase 6 -- Done! Cost: 0.192s\n",
      "  Final -- Total Cost: 1.395s\n",
      "回波仿真完成！\n",
      "图像大小：75 x 75\n"
     ]
    },
    {
     "name": "stderr",
     "output_type": "stream",
     "text": [
      "/home/liq/pro/new_production_1118/sklearn/cluster/_kmeans.py:1416: FutureWarning: The default value of `n_init` will change from 10 to 'auto' in 1.4. Set the value of `n_init` explicitly to suppress the warning\n",
      "  super()._check_params_vs_input(X, default_n_init=10)\n"
     ]
    },
    {
     "name": "stdout",
     "output_type": "stream",
     "text": [
      "开始回波仿真...\n",
      "========================= EchoSimProcess =========================\n",
      "Phase 1 -- Params read and config...\n",
      "Phase 1 -- Done! Cost: 0.008s\n",
      "Phase 2 -- Sat Position Calculate...\n",
      "Phase 2 -- Done! Cost: 0s\n",
      "Phase 3 -- Flight Track and BeamDir History Simulate...\n",
      "Phase 3 -- Done! Cost: 0s\n",
      "Phase 4 -- Signal Generate...\n",
      "Phase 4 -- Done! Cost: 0.105s\n",
      "Phase 5 -- Echo Calculate...\n",
      "        -- CPU ThreadNum: 48\n",
      "Phase 5 -- Done! Cost: 1.09s\n",
      "Phase 6 -- Result Save...\n",
      "Phase 6 -- Done! Cost: 0.175s\n",
      "  Final -- Total Cost: 1.385s\n",
      "回波仿真完成！\n",
      "图像大小：75 x 75\n"
     ]
    },
    {
     "name": "stderr",
     "output_type": "stream",
     "text": [
      "/home/liq/pro/new_production_1118/sklearn/cluster/_kmeans.py:1416: FutureWarning: The default value of `n_init` will change from 10 to 'auto' in 1.4. Set the value of `n_init` explicitly to suppress the warning\n",
      "  super()._check_params_vs_input(X, default_n_init=10)\n"
     ]
    },
    {
     "name": "stdout",
     "output_type": "stream",
     "text": [
      "开始回波仿真...\n",
      "========================= EchoSimProcess =========================\n",
      "Phase 1 -- Params read and config...\n",
      "Phase 1 -- Done! Cost: 0.006s\n",
      "Phase 2 -- Sat Position Calculate...\n",
      "Phase 2 -- Done! Cost: 0s\n",
      "Phase 3 -- Flight Track and BeamDir History Simulate...\n",
      "Phase 3 -- Done! Cost: 0s\n",
      "Phase 4 -- Signal Generate...\n",
      "Phase 4 -- Done! Cost: 0.099s\n",
      "Phase 5 -- Echo Calculate...\n",
      "        -- CPU ThreadNum: 48\n",
      "Phase 5 -- Done! Cost: 1.097s\n",
      "Phase 6 -- Result Save...\n",
      "Phase 6 -- Done! Cost: 0.16s\n",
      "  Final -- Total Cost: 1.371s\n",
      "回波仿真完成！\n",
      "图像大小：75 x 75\n"
     ]
    },
    {
     "name": "stderr",
     "output_type": "stream",
     "text": [
      "/home/liq/pro/new_production_1118/sklearn/cluster/_kmeans.py:1416: FutureWarning: The default value of `n_init` will change from 10 to 'auto' in 1.4. Set the value of `n_init` explicitly to suppress the warning\n",
      "  super()._check_params_vs_input(X, default_n_init=10)\n"
     ]
    },
    {
     "name": "stdout",
     "output_type": "stream",
     "text": [
      "开始回波仿真...\n",
      "========================= EchoSimProcess =========================\n",
      "Phase 1 -- Params read and config...\n",
      "Phase 1 -- Done! Cost: 0.006s\n",
      "Phase 2 -- Sat Position Calculate...\n",
      "Phase 2 -- Done! Cost: 0s\n",
      "Phase 3 -- Flight Track and BeamDir History Simulate...\n",
      "Phase 3 -- Done! Cost: 0s\n",
      "Phase 4 -- Signal Generate...\n",
      "Phase 4 -- Done! Cost: 0.105s\n",
      "Phase 5 -- Echo Calculate...\n",
      "        -- CPU ThreadNum: 48\n",
      "Phase 5 -- Done! Cost: 1.121s\n",
      "Phase 6 -- Result Save...\n",
      "Phase 6 -- Done! Cost: 0.166s\n",
      "  Final -- Total Cost: 1.405s\n",
      "回波仿真完成！\n",
      "图像大小：75 x 75\n"
     ]
    },
    {
     "name": "stderr",
     "output_type": "stream",
     "text": [
      "/home/liq/pro/new_production_1118/sklearn/cluster/_kmeans.py:1416: FutureWarning: The default value of `n_init` will change from 10 to 'auto' in 1.4. Set the value of `n_init` explicitly to suppress the warning\n",
      "  super()._check_params_vs_input(X, default_n_init=10)\n"
     ]
    },
    {
     "name": "stdout",
     "output_type": "stream",
     "text": [
      "开始回波仿真...\n",
      "========================= EchoSimProcess =========================\n",
      "Phase 1 -- Params read and config...\n",
      "Phase 1 -- Done! Cost: 0.006s\n",
      "Phase 2 -- Sat Position Calculate...\n",
      "Phase 2 -- Done! Cost: 0s\n",
      "Phase 3 -- Flight Track and BeamDir History Simulate...\n",
      "Phase 3 -- Done! Cost: 0s\n",
      "Phase 4 -- Signal Generate...\n",
      "Phase 4 -- Done! Cost: 0.104s\n",
      "Phase 5 -- Echo Calculate...\n",
      "        -- CPU ThreadNum: 48\n",
      "Phase 5 -- Done! Cost: 1.147s\n",
      "Phase 6 -- Result Save...\n",
      "Phase 6 -- Done! Cost: 0.174s\n",
      "  Final -- Total Cost: 1.443s\n",
      "回波仿真完成！\n",
      "图像大小：75 x 75\n"
     ]
    },
    {
     "name": "stderr",
     "output_type": "stream",
     "text": [
      "/home/liq/pro/new_production_1118/sklearn/cluster/_kmeans.py:1416: FutureWarning: The default value of `n_init` will change from 10 to 'auto' in 1.4. Set the value of `n_init` explicitly to suppress the warning\n",
      "  super()._check_params_vs_input(X, default_n_init=10)\n"
     ]
    },
    {
     "name": "stdout",
     "output_type": "stream",
     "text": [
      "开始回波仿真...\n",
      "========================= EchoSimProcess =========================\n",
      "Phase 1 -- Params read and config...\n",
      "Phase 1 -- Done! Cost: 0.006s\n",
      "Phase 2 -- Sat Position Calculate...\n",
      "Phase 2 -- Done! Cost: 0s\n",
      "Phase 3 -- Flight Track and BeamDir History Simulate...\n",
      "Phase 3 -- Done! Cost: 0s\n",
      "Phase 4 -- Signal Generate...\n",
      "Phase 4 -- Done! Cost: 0.1s\n",
      "Phase 5 -- Echo Calculate...\n",
      "        -- CPU ThreadNum: 48\n",
      "Phase 5 -- Done! Cost: 1.125s\n",
      "Phase 6 -- Result Save...\n",
      "Phase 6 -- Done! Cost: 0.173s\n",
      "  Final -- Total Cost: 1.408s\n",
      "回波仿真完成！\n",
      "图像大小：75 x 75\n"
     ]
    },
    {
     "name": "stderr",
     "output_type": "stream",
     "text": [
      "/home/liq/pro/new_production_1118/sklearn/cluster/_kmeans.py:1416: FutureWarning: The default value of `n_init` will change from 10 to 'auto' in 1.4. Set the value of `n_init` explicitly to suppress the warning\n",
      "  super()._check_params_vs_input(X, default_n_init=10)\n"
     ]
    },
    {
     "name": "stdout",
     "output_type": "stream",
     "text": [
      "开始回波仿真...\n",
      "========================= EchoSimProcess =========================\n",
      "Phase 1 -- Params read and config...\n",
      "Phase 1 -- Done! Cost: 0.012s\n",
      "Phase 2 -- Sat Position Calculate...\n",
      "Phase 2 -- Done! Cost: 0s\n",
      "Phase 3 -- Flight Track and BeamDir History Simulate...\n",
      "Phase 3 -- Done! Cost: 0s\n",
      "Phase 4 -- Signal Generate...\n",
      "Phase 4 -- Done! Cost: 0.104s\n",
      "Phase 5 -- Echo Calculate...\n",
      "        -- CPU ThreadNum: 48\n",
      "Phase 5 -- Done! Cost: 1.116s\n",
      "Phase 6 -- Result Save...\n",
      "Phase 6 -- Done! Cost: 0.171s\n",
      "  Final -- Total Cost: 1.405s\n",
      "回波仿真完成！\n",
      "图像大小：75 x 75\n"
     ]
    },
    {
     "name": "stderr",
     "output_type": "stream",
     "text": [
      "/home/liq/pro/new_production_1118/sklearn/cluster/_kmeans.py:1416: FutureWarning: The default value of `n_init` will change from 10 to 'auto' in 1.4. Set the value of `n_init` explicitly to suppress the warning\n",
      "  super()._check_params_vs_input(X, default_n_init=10)\n"
     ]
    },
    {
     "name": "stdout",
     "output_type": "stream",
     "text": [
      "开始回波仿真...\n",
      "========================= EchoSimProcess =========================\n",
      "Phase 1 -- Params read and config...\n",
      "Phase 1 -- Done! Cost: 0.005s\n",
      "Phase 2 -- Sat Position Calculate...\n",
      "Phase 2 -- Done! Cost: 0s\n",
      "Phase 3 -- Flight Track and BeamDir History Simulate...\n",
      "Phase 3 -- Done! Cost: 0s\n",
      "Phase 4 -- Signal Generate...\n",
      "Phase 4 -- Done! Cost: 0.079s\n",
      "Phase 5 -- Echo Calculate...\n",
      "        -- CPU ThreadNum: 48\n",
      "Phase 5 -- Done! Cost: 1.137s\n",
      "Phase 6 -- Result Save...\n",
      "Phase 6 -- Done! Cost: 0.176s\n",
      "  Final -- Total Cost: 1.406s\n",
      "回波仿真完成！\n",
      "图像大小：75 x 75\n"
     ]
    },
    {
     "name": "stderr",
     "output_type": "stream",
     "text": [
      "/home/liq/pro/new_production_1118/sklearn/cluster/_kmeans.py:1416: FutureWarning: The default value of `n_init` will change from 10 to 'auto' in 1.4. Set the value of `n_init` explicitly to suppress the warning\n",
      "  super()._check_params_vs_input(X, default_n_init=10)\n"
     ]
    },
    {
     "name": "stdout",
     "output_type": "stream",
     "text": [
      "开始回波仿真...\n",
      "========================= EchoSimProcess =========================\n",
      "Phase 1 -- Params read and config...\n",
      "Phase 1 -- Done! Cost: 0.006s\n",
      "Phase 2 -- Sat Position Calculate...\n",
      "Phase 2 -- Done! Cost: 0s\n",
      "Phase 3 -- Flight Track and BeamDir History Simulate...\n",
      "Phase 3 -- Done! Cost: 0s\n",
      "Phase 4 -- Signal Generate...\n",
      "Phase 4 -- Done! Cost: 0.084s\n",
      "Phase 5 -- Echo Calculate...\n",
      "        -- CPU ThreadNum: 48\n",
      "Phase 5 -- Done! Cost: 1.132s\n",
      "Phase 6 -- Result Save...\n",
      "Phase 6 -- Done! Cost: 0.178s\n",
      "  Final -- Total Cost: 1.41s\n",
      "回波仿真完成！\n",
      "图像大小：75 x 75\n"
     ]
    },
    {
     "name": "stderr",
     "output_type": "stream",
     "text": [
      "/home/liq/pro/new_production_1118/sklearn/cluster/_kmeans.py:1416: FutureWarning: The default value of `n_init` will change from 10 to 'auto' in 1.4. Set the value of `n_init` explicitly to suppress the warning\n",
      "  super()._check_params_vs_input(X, default_n_init=10)\n"
     ]
    },
    {
     "name": "stdout",
     "output_type": "stream",
     "text": [
      "开始回波仿真...\n",
      "========================= EchoSimProcess =========================\n",
      "Phase 1 -- Params read and config...\n",
      "Phase 1 -- Done! Cost: 0.005s\n",
      "Phase 2 -- Sat Position Calculate...\n",
      "Phase 2 -- Done! Cost: 0s\n",
      "Phase 3 -- Flight Track and BeamDir History Simulate...\n",
      "Phase 3 -- Done! Cost: 0s\n",
      "Phase 4 -- Signal Generate...\n",
      "Phase 4 -- Done! Cost: 0.104s\n",
      "Phase 5 -- Echo Calculate...\n",
      "        -- CPU ThreadNum: 48\n",
      "Phase 5 -- Done! Cost: 1.132s\n",
      "Phase 6 -- Result Save...\n",
      "Phase 6 -- Done! Cost: 0.171s\n",
      "  Final -- Total Cost: 1.415s\n",
      "回波仿真完成！\n",
      "图像大小：75 x 75\n"
     ]
    },
    {
     "name": "stderr",
     "output_type": "stream",
     "text": [
      "/home/liq/pro/new_production_1118/sklearn/cluster/_kmeans.py:1416: FutureWarning: The default value of `n_init` will change from 10 to 'auto' in 1.4. Set the value of `n_init` explicitly to suppress the warning\n",
      "  super()._check_params_vs_input(X, default_n_init=10)\n"
     ]
    },
    {
     "name": "stdout",
     "output_type": "stream",
     "text": [
      "开始回波仿真...\n",
      "========================= EchoSimProcess =========================\n",
      "Phase 1 -- Params read and config...\n",
      "Phase 1 -- Done! Cost: 0.005s\n",
      "Phase 2 -- Sat Position Calculate...\n",
      "Phase 2 -- Done! Cost: 0s\n",
      "Phase 3 -- Flight Track and BeamDir History Simulate...\n",
      "Phase 3 -- Done! Cost: 0s\n",
      "Phase 4 -- Signal Generate...\n",
      "Phase 4 -- Done! Cost: 0.1s\n",
      "Phase 5 -- Echo Calculate...\n",
      "        -- CPU ThreadNum: 48\n",
      "Phase 5 -- Done! Cost: 1.111s\n",
      "Phase 6 -- Result Save...\n",
      "Phase 6 -- Done! Cost: 0.171s\n",
      "  Final -- Total Cost: 1.389s\n",
      "回波仿真完成！\n",
      "图像大小：75 x 75\n"
     ]
    },
    {
     "name": "stderr",
     "output_type": "stream",
     "text": [
      "/home/liq/pro/new_production_1118/sklearn/cluster/_kmeans.py:1416: FutureWarning: The default value of `n_init` will change from 10 to 'auto' in 1.4. Set the value of `n_init` explicitly to suppress the warning\n",
      "  super()._check_params_vs_input(X, default_n_init=10)\n"
     ]
    },
    {
     "name": "stdout",
     "output_type": "stream",
     "text": [
      "开始回波仿真...\n",
      "========================= EchoSimProcess =========================\n",
      "Phase 1 -- Params read and config...\n",
      "Phase 1 -- Done! Cost: 0.006s\n",
      "Phase 2 -- Sat Position Calculate...\n",
      "Phase 2 -- Done! Cost: 0s\n",
      "Phase 3 -- Flight Track and BeamDir History Simulate...\n",
      "Phase 3 -- Done! Cost: 0s\n",
      "Phase 4 -- Signal Generate...\n",
      "Phase 4 -- Done! Cost: 0.105s\n",
      "Phase 5 -- Echo Calculate...\n",
      "        -- CPU ThreadNum: 48\n",
      "Phase 5 -- Done! Cost: 1.059s\n",
      "Phase 6 -- Result Save...\n",
      "Phase 6 -- Done! Cost: 0.171s\n",
      "  Final -- Total Cost: 1.351s\n",
      "回波仿真完成！\n",
      "图像大小：75 x 75\n"
     ]
    },
    {
     "name": "stderr",
     "output_type": "stream",
     "text": [
      "/home/liq/pro/new_production_1118/sklearn/cluster/_kmeans.py:1416: FutureWarning: The default value of `n_init` will change from 10 to 'auto' in 1.4. Set the value of `n_init` explicitly to suppress the warning\n",
      "  super()._check_params_vs_input(X, default_n_init=10)\n"
     ]
    },
    {
     "name": "stdout",
     "output_type": "stream",
     "text": [
      "开始回波仿真...\n",
      "========================= EchoSimProcess =========================\n",
      "Phase 1 -- Params read and config...\n",
      "Phase 1 -- Done! Cost: 0.005s\n",
      "Phase 2 -- Sat Position Calculate...\n",
      "Phase 2 -- Done! Cost: 0s\n",
      "Phase 3 -- Flight Track and BeamDir History Simulate...\n",
      "Phase 3 -- Done! Cost: 0s\n",
      "Phase 4 -- Signal Generate...\n",
      "Phase 4 -- Done! Cost: 0.072s\n",
      "Phase 5 -- Echo Calculate...\n",
      "        -- CPU ThreadNum: 48\n",
      "Phase 5 -- Done! Cost: 1.095s\n",
      "Phase 6 -- Result Save...\n",
      "Phase 6 -- Done! Cost: 0.155s\n",
      "  Final -- Total Cost: 1.328s\n",
      "回波仿真完成！\n",
      "图像大小：75 x 75\n"
     ]
    },
    {
     "name": "stderr",
     "output_type": "stream",
     "text": [
      "/home/liq/pro/new_production_1118/sklearn/cluster/_kmeans.py:1416: FutureWarning: The default value of `n_init` will change from 10 to 'auto' in 1.4. Set the value of `n_init` explicitly to suppress the warning\n",
      "  super()._check_params_vs_input(X, default_n_init=10)\n"
     ]
    },
    {
     "name": "stdout",
     "output_type": "stream",
     "text": [
      "开始回波仿真...\n",
      "========================= EchoSimProcess =========================\n",
      "Phase 1 -- Params read and config...\n",
      "Phase 1 -- Done! Cost: 0.009s\n",
      "Phase 2 -- Sat Position Calculate...\n",
      "Phase 2 -- Done! Cost: 0s\n",
      "Phase 3 -- Flight Track and BeamDir History Simulate...\n",
      "Phase 3 -- Done! Cost: 0s\n",
      "Phase 4 -- Signal Generate...\n",
      "Phase 4 -- Done! Cost: 0.094s\n",
      "Phase 5 -- Echo Calculate...\n",
      "        -- CPU ThreadNum: 48\n",
      "Phase 5 -- Done! Cost: 1.102s\n",
      "Phase 6 -- Result Save...\n",
      "Phase 6 -- Done! Cost: 0.176s\n",
      "  Final -- Total Cost: 1.382s\n",
      "回波仿真完成！\n",
      "图像大小：75 x 75\n"
     ]
    },
    {
     "name": "stderr",
     "output_type": "stream",
     "text": [
      "/home/liq/pro/new_production_1118/sklearn/cluster/_kmeans.py:1416: FutureWarning: The default value of `n_init` will change from 10 to 'auto' in 1.4. Set the value of `n_init` explicitly to suppress the warning\n",
      "  super()._check_params_vs_input(X, default_n_init=10)\n"
     ]
    },
    {
     "name": "stdout",
     "output_type": "stream",
     "text": [
      "开始回波仿真...\n",
      "========================= EchoSimProcess =========================\n",
      "Phase 1 -- Params read and config...\n",
      "Phase 1 -- Done! Cost: 0.006s\n",
      "Phase 2 -- Sat Position Calculate...\n",
      "Phase 2 -- Done! Cost: 0s\n",
      "Phase 3 -- Flight Track and BeamDir History Simulate...\n",
      "Phase 3 -- Done! Cost: 0s\n",
      "Phase 4 -- Signal Generate...\n",
      "Phase 4 -- Done! Cost: 0.066s\n",
      "Phase 5 -- Echo Calculate...\n",
      "        -- CPU ThreadNum: 48\n",
      "Phase 5 -- Done! Cost: 1.117s\n",
      "Phase 6 -- Result Save...\n",
      "Phase 6 -- Done! Cost: 0.168s\n",
      "  Final -- Total Cost: 1.359s\n",
      "回波仿真完成！\n",
      "图像大小：75 x 75\n"
     ]
    },
    {
     "name": "stderr",
     "output_type": "stream",
     "text": [
      "/home/liq/pro/new_production_1118/sklearn/cluster/_kmeans.py:1416: FutureWarning: The default value of `n_init` will change from 10 to 'auto' in 1.4. Set the value of `n_init` explicitly to suppress the warning\n",
      "  super()._check_params_vs_input(X, default_n_init=10)\n"
     ]
    },
    {
     "name": "stdout",
     "output_type": "stream",
     "text": [
      "开始回波仿真...\n",
      "========================= EchoSimProcess =========================\n",
      "Phase 1 -- Params read and config...\n",
      "Phase 1 -- Done! Cost: 0.006s\n",
      "Phase 2 -- Sat Position Calculate...\n",
      "Phase 2 -- Done! Cost: 0s\n",
      "Phase 3 -- Flight Track and BeamDir History Simulate...\n",
      "Phase 3 -- Done! Cost: 0s\n",
      "Phase 4 -- Signal Generate...\n",
      "Phase 4 -- Done! Cost: 0.069s\n",
      "Phase 5 -- Echo Calculate...\n",
      "        -- CPU ThreadNum: 48\n",
      "Phase 5 -- Done! Cost: 1.128s\n",
      "Phase 6 -- Result Save...\n",
      "Phase 6 -- Done! Cost: 0.159s\n",
      "  Final -- Total Cost: 1.369s\n",
      "回波仿真完成！\n",
      "图像大小：75 x 75\n"
     ]
    },
    {
     "name": "stderr",
     "output_type": "stream",
     "text": [
      "/home/liq/pro/new_production_1118/sklearn/cluster/_kmeans.py:1416: FutureWarning: The default value of `n_init` will change from 10 to 'auto' in 1.4. Set the value of `n_init` explicitly to suppress the warning\n",
      "  super()._check_params_vs_input(X, default_n_init=10)\n"
     ]
    },
    {
     "name": "stdout",
     "output_type": "stream",
     "text": [
      "开始回波仿真...\n",
      "========================= EchoSimProcess =========================\n",
      "Phase 1 -- Params read and config...\n",
      "Phase 1 -- Done! Cost: 0.006s\n",
      "Phase 2 -- Sat Position Calculate...\n",
      "Phase 2 -- Done! Cost: 0s\n",
      "Phase 3 -- Flight Track and BeamDir History Simulate...\n",
      "Phase 3 -- Done! Cost: 0s\n",
      "Phase 4 -- Signal Generate...\n",
      "Phase 4 -- Done! Cost: 0.085s\n",
      "Phase 5 -- Echo Calculate...\n",
      "        -- CPU ThreadNum: 48\n",
      "Phase 5 -- Done! Cost: 1.09s\n",
      "Phase 6 -- Result Save...\n",
      "Phase 6 -- Done! Cost: 0.171s\n",
      "  Final -- Total Cost: 1.36s\n",
      "回波仿真完成！\n",
      "图像大小：75 x 75\n"
     ]
    },
    {
     "name": "stderr",
     "output_type": "stream",
     "text": [
      "/home/liq/pro/new_production_1118/sklearn/cluster/_kmeans.py:1416: FutureWarning: The default value of `n_init` will change from 10 to 'auto' in 1.4. Set the value of `n_init` explicitly to suppress the warning\n",
      "  super()._check_params_vs_input(X, default_n_init=10)\n"
     ]
    },
    {
     "name": "stdout",
     "output_type": "stream",
     "text": [
      "开始回波仿真...\n",
      "========================= EchoSimProcess =========================\n",
      "Phase 1 -- Params read and config...\n",
      "Phase 1 -- Done! Cost: 0.005s\n",
      "Phase 2 -- Sat Position Calculate...\n",
      "Phase 2 -- Done! Cost: 0s\n",
      "Phase 3 -- Flight Track and BeamDir History Simulate...\n",
      "Phase 3 -- Done! Cost: 0s\n",
      "Phase 4 -- Signal Generate...\n",
      "Phase 4 -- Done! Cost: 0.032s\n",
      "Phase 5 -- Echo Calculate...\n",
      "        -- CPU ThreadNum: 48\n",
      "Phase 5 -- Done! Cost: 1.137s\n",
      "Phase 6 -- Result Save...\n",
      "Phase 6 -- Done! Cost: 0.171s\n",
      "  Final -- Total Cost: 1.348s\n",
      "回波仿真完成！\n",
      "图像大小：75 x 75\n"
     ]
    },
    {
     "name": "stderr",
     "output_type": "stream",
     "text": [
      "/home/liq/pro/new_production_1118/sklearn/cluster/_kmeans.py:1416: FutureWarning: The default value of `n_init` will change from 10 to 'auto' in 1.4. Set the value of `n_init` explicitly to suppress the warning\n",
      "  super()._check_params_vs_input(X, default_n_init=10)\n"
     ]
    },
    {
     "name": "stdout",
     "output_type": "stream",
     "text": [
      "开始回波仿真...\n",
      "========================= EchoSimProcess =========================\n",
      "Phase 1 -- Params read and config...\n",
      "Phase 1 -- Done! Cost: 0.008s\n",
      "Phase 2 -- Sat Position Calculate...\n",
      "Phase 2 -- Done! Cost: 0s\n",
      "Phase 3 -- Flight Track and BeamDir History Simulate...\n",
      "Phase 3 -- Done! Cost: 0s\n",
      "Phase 4 -- Signal Generate...\n",
      "Phase 4 -- Done! Cost: 0.081s\n",
      "Phase 5 -- Echo Calculate...\n",
      "        -- CPU ThreadNum: 48\n",
      "Phase 5 -- Done! Cost: 1.093s\n",
      "Phase 6 -- Result Save...\n",
      "Phase 6 -- Done! Cost: 0.172s\n",
      "  Final -- Total Cost: 1.36s\n",
      "回波仿真完成！\n",
      "图像大小：75 x 75\n"
     ]
    },
    {
     "name": "stderr",
     "output_type": "stream",
     "text": [
      "/home/liq/pro/new_production_1118/sklearn/cluster/_kmeans.py:1416: FutureWarning: The default value of `n_init` will change from 10 to 'auto' in 1.4. Set the value of `n_init` explicitly to suppress the warning\n",
      "  super()._check_params_vs_input(X, default_n_init=10)\n"
     ]
    },
    {
     "name": "stdout",
     "output_type": "stream",
     "text": [
      "开始回波仿真...\n",
      "========================= EchoSimProcess =========================\n",
      "Phase 1 -- Params read and config...\n",
      "Phase 1 -- Done! Cost: 0.006s\n",
      "Phase 2 -- Sat Position Calculate...\n",
      "Phase 2 -- Done! Cost: 0s\n",
      "Phase 3 -- Flight Track and BeamDir History Simulate...\n",
      "Phase 3 -- Done! Cost: 0s\n",
      "Phase 4 -- Signal Generate...\n",
      "Phase 4 -- Done! Cost: 0.095s\n",
      "Phase 5 -- Echo Calculate...\n",
      "        -- CPU ThreadNum: 48\n",
      "Phase 5 -- Done! Cost: 1.105s\n",
      "Phase 6 -- Result Save...\n",
      "Phase 6 -- Done! Cost: 0.173s\n",
      "  Final -- Total Cost: 1.38s\n",
      "回波仿真完成！\n",
      "图像大小：75 x 75\n"
     ]
    },
    {
     "name": "stderr",
     "output_type": "stream",
     "text": [
      "/home/liq/pro/new_production_1118/sklearn/cluster/_kmeans.py:1416: FutureWarning: The default value of `n_init` will change from 10 to 'auto' in 1.4. Set the value of `n_init` explicitly to suppress the warning\n",
      "  super()._check_params_vs_input(X, default_n_init=10)\n"
     ]
    },
    {
     "name": "stdout",
     "output_type": "stream",
     "text": [
      "开始回波仿真...\n",
      "========================= EchoSimProcess =========================\n",
      "Phase 1 -- Params read and config...\n",
      "Phase 1 -- Done! Cost: 0.006s\n",
      "Phase 2 -- Sat Position Calculate...\n",
      "Phase 2 -- Done! Cost: 0s\n",
      "Phase 3 -- Flight Track and BeamDir History Simulate...\n",
      "Phase 3 -- Done! Cost: 0s\n",
      "Phase 4 -- Signal Generate...\n",
      "Phase 4 -- Done! Cost: 0.083s\n",
      "Phase 5 -- Echo Calculate...\n",
      "        -- CPU ThreadNum: 48\n",
      "Phase 5 -- Done! Cost: 1.103s\n",
      "Phase 6 -- Result Save...\n",
      "Phase 6 -- Done! Cost: 0.171s\n",
      "  Final -- Total Cost: 1.372s\n",
      "回波仿真完成！\n",
      "图像大小：75 x 75\n"
     ]
    },
    {
     "name": "stderr",
     "output_type": "stream",
     "text": [
      "/home/liq/pro/new_production_1118/sklearn/cluster/_kmeans.py:1416: FutureWarning: The default value of `n_init` will change from 10 to 'auto' in 1.4. Set the value of `n_init` explicitly to suppress the warning\n",
      "  super()._check_params_vs_input(X, default_n_init=10)\n"
     ]
    },
    {
     "name": "stdout",
     "output_type": "stream",
     "text": [
      "开始回波仿真...\n",
      "========================= EchoSimProcess =========================\n",
      "Phase 1 -- Params read and config...\n",
      "Phase 1 -- Done! Cost: 0.006s\n",
      "Phase 2 -- Sat Position Calculate...\n",
      "Phase 2 -- Done! Cost: 0s\n",
      "Phase 3 -- Flight Track and BeamDir History Simulate...\n",
      "Phase 3 -- Done! Cost: 0s\n",
      "Phase 4 -- Signal Generate...\n",
      "Phase 4 -- Done! Cost: 0.077s\n",
      "Phase 5 -- Echo Calculate...\n",
      "        -- CPU ThreadNum: 48\n",
      "Phase 5 -- Done! Cost: 1.121s\n",
      "Phase 6 -- Result Save...\n",
      "Phase 6 -- Done! Cost: 0.17s\n",
      "  Final -- Total Cost: 1.378s\n",
      "回波仿真完成！\n",
      "图像大小：75 x 75\n"
     ]
    },
    {
     "name": "stderr",
     "output_type": "stream",
     "text": [
      "/home/liq/pro/new_production_1118/sklearn/cluster/_kmeans.py:1416: FutureWarning: The default value of `n_init` will change from 10 to 'auto' in 1.4. Set the value of `n_init` explicitly to suppress the warning\n",
      "  super()._check_params_vs_input(X, default_n_init=10)\n"
     ]
    },
    {
     "name": "stdout",
     "output_type": "stream",
     "text": [
      "开始回波仿真...\n",
      "========================= EchoSimProcess =========================\n",
      "Phase 1 -- Params read and config...\n",
      "Phase 1 -- Done! Cost: 0.006s\n",
      "Phase 2 -- Sat Position Calculate...\n",
      "Phase 2 -- Done! Cost: 0s\n",
      "Phase 3 -- Flight Track and BeamDir History Simulate...\n",
      "Phase 3 -- Done! Cost: 0s\n",
      "Phase 4 -- Signal Generate...\n",
      "Phase 4 -- Done! Cost: 0.084s\n",
      "Phase 5 -- Echo Calculate...\n",
      "        -- CPU ThreadNum: 48\n",
      "Phase 5 -- Done! Cost: 1.108s\n",
      "Phase 6 -- Result Save...\n",
      "Phase 6 -- Done! Cost: 0.169s\n",
      "  Final -- Total Cost: 1.374s\n",
      "回波仿真完成！\n",
      "图像大小：75 x 75\n"
     ]
    },
    {
     "name": "stderr",
     "output_type": "stream",
     "text": [
      "/home/liq/pro/new_production_1118/sklearn/cluster/_kmeans.py:1416: FutureWarning: The default value of `n_init` will change from 10 to 'auto' in 1.4. Set the value of `n_init` explicitly to suppress the warning\n",
      "  super()._check_params_vs_input(X, default_n_init=10)\n"
     ]
    },
    {
     "name": "stdout",
     "output_type": "stream",
     "text": [
      "开始回波仿真...\n",
      "========================= EchoSimProcess =========================\n",
      "Phase 1 -- Params read and config...\n",
      "Phase 1 -- Done! Cost: 0.006s\n",
      "Phase 2 -- Sat Position Calculate...\n",
      "Phase 2 -- Done! Cost: 0s\n",
      "Phase 3 -- Flight Track and BeamDir History Simulate...\n",
      "Phase 3 -- Done! Cost: 0s\n",
      "Phase 4 -- Signal Generate...\n",
      "Phase 4 -- Done! Cost: 0.116s\n",
      "Phase 5 -- Echo Calculate...\n",
      "        -- CPU ThreadNum: 48\n",
      "Phase 5 -- Done! Cost: 1.112s\n",
      "Phase 6 -- Result Save...\n",
      "Phase 6 -- Done! Cost: 0.171s\n",
      "  Final -- Total Cost: 1.406s\n",
      "回波仿真完成！\n",
      "图像大小：75 x 75\n"
     ]
    },
    {
     "name": "stderr",
     "output_type": "stream",
     "text": [
      "/home/liq/pro/new_production_1118/sklearn/cluster/_kmeans.py:1416: FutureWarning: The default value of `n_init` will change from 10 to 'auto' in 1.4. Set the value of `n_init` explicitly to suppress the warning\n",
      "  super()._check_params_vs_input(X, default_n_init=10)\n"
     ]
    },
    {
     "name": "stdout",
     "output_type": "stream",
     "text": [
      "开始回波仿真...\n",
      "========================= EchoSimProcess =========================\n",
      "Phase 1 -- Params read and config...\n",
      "Phase 1 -- Done! Cost: 0.006s\n",
      "Phase 2 -- Sat Position Calculate...\n",
      "Phase 2 -- Done! Cost: 0s\n",
      "Phase 3 -- Flight Track and BeamDir History Simulate...\n",
      "Phase 3 -- Done! Cost: 0s\n",
      "Phase 4 -- Signal Generate...\n",
      "Phase 4 -- Done! Cost: 0.08s\n",
      "Phase 5 -- Echo Calculate...\n",
      "        -- CPU ThreadNum: 48\n",
      "Phase 5 -- Done! Cost: 1.11s\n",
      "Phase 6 -- Result Save...\n",
      "Phase 6 -- Done! Cost: 0.171s\n",
      "  Final -- Total Cost: 1.369s\n",
      "回波仿真完成！\n",
      "图像大小：75 x 75\n"
     ]
    },
    {
     "name": "stderr",
     "output_type": "stream",
     "text": [
      "/home/liq/pro/new_production_1118/sklearn/cluster/_kmeans.py:1416: FutureWarning: The default value of `n_init` will change from 10 to 'auto' in 1.4. Set the value of `n_init` explicitly to suppress the warning\n",
      "  super()._check_params_vs_input(X, default_n_init=10)\n"
     ]
    },
    {
     "name": "stdout",
     "output_type": "stream",
     "text": [
      "开始回波仿真...\n",
      "========================= EchoSimProcess =========================\n",
      "Phase 1 -- Params read and config...\n",
      "Phase 1 -- Done! Cost: 0.005s\n",
      "Phase 2 -- Sat Position Calculate...\n",
      "Phase 2 -- Done! Cost: 0s\n",
      "Phase 3 -- Flight Track and BeamDir History Simulate...\n",
      "Phase 3 -- Done! Cost: 0s\n",
      "Phase 4 -- Signal Generate...\n",
      "Phase 4 -- Done! Cost: 0.074s\n",
      "Phase 5 -- Echo Calculate...\n",
      "        -- CPU ThreadNum: 48\n",
      "Phase 5 -- Done! Cost: 1.133s\n",
      "Phase 6 -- Result Save...\n",
      "Phase 6 -- Done! Cost: 0.172s\n",
      "  Final -- Total Cost: 1.386s\n",
      "回波仿真完成！\n",
      "图像大小：75 x 75\n"
     ]
    },
    {
     "name": "stderr",
     "output_type": "stream",
     "text": [
      "/home/liq/pro/new_production_1118/sklearn/cluster/_kmeans.py:1416: FutureWarning: The default value of `n_init` will change from 10 to 'auto' in 1.4. Set the value of `n_init` explicitly to suppress the warning\n",
      "  super()._check_params_vs_input(X, default_n_init=10)\n"
     ]
    },
    {
     "name": "stdout",
     "output_type": "stream",
     "text": [
      "开始回波仿真...\n",
      "========================= EchoSimProcess =========================\n",
      "Phase 1 -- Params read and config...\n",
      "Phase 1 -- Done! Cost: 0.006s\n",
      "Phase 2 -- Sat Position Calculate...\n",
      "Phase 2 -- Done! Cost: 0s\n",
      "Phase 3 -- Flight Track and BeamDir History Simulate...\n",
      "Phase 3 -- Done! Cost: 0s\n",
      "Phase 4 -- Signal Generate...\n",
      "Phase 4 -- Done! Cost: 0.096s\n",
      "Phase 5 -- Echo Calculate...\n",
      "        -- CPU ThreadNum: 48\n",
      "Phase 5 -- Done! Cost: 1.079s\n",
      "Phase 6 -- Result Save...\n",
      "Phase 6 -- Done! Cost: 0.172s\n",
      "  Final -- Total Cost: 1.353s\n",
      "回波仿真完成！\n",
      "图像大小：75 x 75\n"
     ]
    },
    {
     "name": "stderr",
     "output_type": "stream",
     "text": [
      "/home/liq/pro/new_production_1118/sklearn/cluster/_kmeans.py:1416: FutureWarning: The default value of `n_init` will change from 10 to 'auto' in 1.4. Set the value of `n_init` explicitly to suppress the warning\n",
      "  super()._check_params_vs_input(X, default_n_init=10)\n"
     ]
    },
    {
     "name": "stdout",
     "output_type": "stream",
     "text": [
      "开始回波仿真...\n",
      "========================= EchoSimProcess =========================\n",
      "Phase 1 -- Params read and config...\n",
      "Phase 1 -- Done! Cost: 0.006s\n",
      "Phase 2 -- Sat Position Calculate...\n",
      "Phase 2 -- Done! Cost: 0s\n",
      "Phase 3 -- Flight Track and BeamDir History Simulate...\n",
      "Phase 3 -- Done! Cost: 0s\n",
      "Phase 4 -- Signal Generate...\n",
      "Phase 4 -- Done! Cost: 0.034s\n",
      "Phase 5 -- Echo Calculate...\n",
      "        -- CPU ThreadNum: 48\n",
      "Phase 5 -- Done! Cost: 1.162s\n",
      "Phase 6 -- Result Save...\n",
      "Phase 6 -- Done! Cost: 0.162s\n",
      "  Final -- Total Cost: 1.367s\n",
      "回波仿真完成！\n",
      "图像大小：75 x 75\n"
     ]
    },
    {
     "name": "stderr",
     "output_type": "stream",
     "text": [
      "/home/liq/pro/new_production_1118/sklearn/cluster/_kmeans.py:1416: FutureWarning: The default value of `n_init` will change from 10 to 'auto' in 1.4. Set the value of `n_init` explicitly to suppress the warning\n",
      "  super()._check_params_vs_input(X, default_n_init=10)\n"
     ]
    },
    {
     "name": "stdout",
     "output_type": "stream",
     "text": [
      "开始生产目标：KC135，目标类型：FJ，极化：HH，波段：X，分辨率：0.5\n",
      "开始回波仿真...\n",
      "========================= EchoSimProcess =========================\n",
      "Phase 1 -- Params read and config...\n",
      "Phase 1 -- Done! Cost: 0.129s\n",
      "Phase 2 -- Sat Position Calculate...\n",
      "Phase 2 -- Done! Cost: 0s\n",
      "Phase 3 -- Flight Track and BeamDir History Simulate...\n",
      "Phase 3 -- Done! Cost: 0s\n",
      "Phase 4 -- Signal Generate...\n",
      "Phase 4 -- Done! Cost: 0.035s\n",
      "Phase 5 -- Echo Calculate...\n",
      "        -- CPU ThreadNum: 48\n",
      "Phase 5 -- Done! Cost: 10.544s\n",
      "Phase 6 -- Result Save...\n",
      "Phase 6 -- Done! Cost: 1.34s\n",
      "  Final -- Total Cost: 12.05s\n",
      "回波仿真完成！\n",
      "图像大小：150 x 150\n"
     ]
    },
    {
     "name": "stderr",
     "output_type": "stream",
     "text": [
      "/home/liq/pro/new_production_1118/sklearn/cluster/_kmeans.py:1416: FutureWarning: The default value of `n_init` will change from 10 to 'auto' in 1.4. Set the value of `n_init` explicitly to suppress the warning\n",
      "  super()._check_params_vs_input(X, default_n_init=10)\n"
     ]
    },
    {
     "name": "stdout",
     "output_type": "stream",
     "text": [
      "开始回波仿真...\n",
      "========================= EchoSimProcess =========================\n",
      "Phase 1 -- Params read and config...\n",
      "Phase 1 -- Done! Cost: 0.114s\n",
      "Phase 2 -- Sat Position Calculate...\n",
      "Phase 2 -- Done! Cost: 0s\n",
      "Phase 3 -- Flight Track and BeamDir History Simulate...\n",
      "Phase 3 -- Done! Cost: 0s\n",
      "Phase 4 -- Signal Generate...\n",
      "Phase 4 -- Done! Cost: 0.039s\n",
      "Phase 5 -- Echo Calculate...\n",
      "        -- CPU ThreadNum: 48\n",
      "Phase 5 -- Done! Cost: 11.078s\n",
      "Phase 6 -- Result Save...\n",
      "Phase 6 -- Done! Cost: 1.231s\n",
      "  Final -- Total Cost: 12.47s\n",
      "回波仿真完成！\n",
      "图像大小：150 x 150\n"
     ]
    },
    {
     "name": "stderr",
     "output_type": "stream",
     "text": [
      "/home/liq/pro/new_production_1118/sklearn/cluster/_kmeans.py:1416: FutureWarning: The default value of `n_init` will change from 10 to 'auto' in 1.4. Set the value of `n_init` explicitly to suppress the warning\n",
      "  super()._check_params_vs_input(X, default_n_init=10)\n"
     ]
    },
    {
     "name": "stdout",
     "output_type": "stream",
     "text": [
      "开始回波仿真...\n",
      "========================= EchoSimProcess =========================\n",
      "Phase 1 -- Params read and config...\n",
      "Phase 1 -- Done! Cost: 0.124s\n",
      "Phase 2 -- Sat Position Calculate...\n",
      "Phase 2 -- Done! Cost: 0s\n",
      "Phase 3 -- Flight Track and BeamDir History Simulate...\n",
      "Phase 3 -- Done! Cost: 0s\n",
      "Phase 4 -- Signal Generate...\n",
      "Phase 4 -- Done! Cost: 0.05s\n",
      "Phase 5 -- Echo Calculate...\n",
      "        -- CPU ThreadNum: 48\n",
      "Phase 5 -- Done! Cost: 10.565s\n",
      "Phase 6 -- Result Save...\n",
      "Phase 6 -- Done! Cost: 1.21s\n",
      "  Final -- Total Cost: 11.951s\n",
      "回波仿真完成！\n",
      "图像大小：150 x 150\n"
     ]
    },
    {
     "name": "stderr",
     "output_type": "stream",
     "text": [
      "/home/liq/pro/new_production_1118/sklearn/cluster/_kmeans.py:1416: FutureWarning: The default value of `n_init` will change from 10 to 'auto' in 1.4. Set the value of `n_init` explicitly to suppress the warning\n",
      "  super()._check_params_vs_input(X, default_n_init=10)\n"
     ]
    },
    {
     "name": "stdout",
     "output_type": "stream",
     "text": [
      "开始回波仿真...\n",
      "========================= EchoSimProcess =========================\n",
      "Phase 1 -- Params read and config...\n",
      "Phase 1 -- Done! Cost: 0.122s\n",
      "Phase 2 -- Sat Position Calculate...\n",
      "Phase 2 -- Done! Cost: 0s\n",
      "Phase 3 -- Flight Track and BeamDir History Simulate...\n",
      "Phase 3 -- Done! Cost: 0s\n",
      "Phase 4 -- Signal Generate...\n",
      "Phase 4 -- Done! Cost: 0.049s\n",
      "Phase 5 -- Echo Calculate...\n",
      "        -- CPU ThreadNum: 48\n",
      "Phase 5 -- Done! Cost: 10.681s\n",
      "Phase 6 -- Result Save...\n",
      "Phase 6 -- Done! Cost: 1.161s\n",
      "  Final -- Total Cost: 12.016s\n",
      "回波仿真完成！\n",
      "图像大小：150 x 150\n"
     ]
    },
    {
     "name": "stderr",
     "output_type": "stream",
     "text": [
      "/home/liq/pro/new_production_1118/sklearn/cluster/_kmeans.py:1416: FutureWarning: The default value of `n_init` will change from 10 to 'auto' in 1.4. Set the value of `n_init` explicitly to suppress the warning\n",
      "  super()._check_params_vs_input(X, default_n_init=10)\n"
     ]
    },
    {
     "name": "stdout",
     "output_type": "stream",
     "text": [
      "开始回波仿真...\n",
      "========================= EchoSimProcess =========================\n",
      "Phase 1 -- Params read and config...\n",
      "Phase 1 -- Done! Cost: 0.132s\n",
      "Phase 2 -- Sat Position Calculate...\n",
      "Phase 2 -- Done! Cost: 0s\n",
      "Phase 3 -- Flight Track and BeamDir History Simulate...\n",
      "Phase 3 -- Done! Cost: 0s\n",
      "Phase 4 -- Signal Generate...\n",
      "Phase 4 -- Done! Cost: 0.032s\n",
      "Phase 5 -- Echo Calculate...\n",
      "        -- CPU ThreadNum: 48\n",
      "Phase 5 -- Done! Cost: 10.572s\n",
      "Phase 6 -- Result Save...\n",
      "Phase 6 -- Done! Cost: 1.548s\n",
      "  Final -- Total Cost: 12.288s\n",
      "回波仿真完成！\n",
      "图像大小：150 x 150\n"
     ]
    },
    {
     "name": "stderr",
     "output_type": "stream",
     "text": [
      "/home/liq/pro/new_production_1118/sklearn/cluster/_kmeans.py:1416: FutureWarning: The default value of `n_init` will change from 10 to 'auto' in 1.4. Set the value of `n_init` explicitly to suppress the warning\n",
      "  super()._check_params_vs_input(X, default_n_init=10)\n"
     ]
    },
    {
     "name": "stdout",
     "output_type": "stream",
     "text": [
      "开始回波仿真...\n",
      "========================= EchoSimProcess =========================\n",
      "Phase 1 -- Params read and config...\n",
      "Phase 1 -- Done! Cost: 0.133s\n",
      "Phase 2 -- Sat Position Calculate...\n",
      "Phase 2 -- Done! Cost: 0s\n",
      "Phase 3 -- Flight Track and BeamDir History Simulate...\n",
      "Phase 3 -- Done! Cost: 0s\n",
      "Phase 4 -- Signal Generate...\n",
      "Phase 4 -- Done! Cost: 0.049s\n",
      "Phase 5 -- Echo Calculate...\n",
      "        -- CPU ThreadNum: 48\n",
      "Phase 5 -- Done! Cost: 11.067s\n",
      "Phase 6 -- Result Save...\n",
      "Phase 6 -- Done! Cost: 1.241s\n",
      "  Final -- Total Cost: 12.493s\n",
      "回波仿真完成！\n",
      "图像大小：150 x 150\n"
     ]
    },
    {
     "name": "stderr",
     "output_type": "stream",
     "text": [
      "/home/liq/pro/new_production_1118/sklearn/cluster/_kmeans.py:1416: FutureWarning: The default value of `n_init` will change from 10 to 'auto' in 1.4. Set the value of `n_init` explicitly to suppress the warning\n",
      "  super()._check_params_vs_input(X, default_n_init=10)\n"
     ]
    },
    {
     "name": "stdout",
     "output_type": "stream",
     "text": [
      "开始回波仿真...\n",
      "========================= EchoSimProcess =========================\n",
      "Phase 1 -- Params read and config...\n",
      "Phase 1 -- Done! Cost: 0.082s\n",
      "Phase 2 -- Sat Position Calculate...\n",
      "Phase 2 -- Done! Cost: 0s\n",
      "Phase 3 -- Flight Track and BeamDir History Simulate...\n",
      "Phase 3 -- Done! Cost: 0s\n",
      "Phase 4 -- Signal Generate...\n",
      "Phase 4 -- Done! Cost: 0.07s\n",
      "Phase 5 -- Echo Calculate...\n",
      "        -- CPU ThreadNum: 48\n",
      "Phase 5 -- Done! Cost: 10.606s\n",
      "Phase 6 -- Result Save...\n",
      "Phase 6 -- Done! Cost: 1.174s\n",
      "  Final -- Total Cost: 11.935s\n",
      "回波仿真完成！\n",
      "图像大小：150 x 150\n"
     ]
    },
    {
     "name": "stderr",
     "output_type": "stream",
     "text": [
      "/home/liq/pro/new_production_1118/sklearn/cluster/_kmeans.py:1416: FutureWarning: The default value of `n_init` will change from 10 to 'auto' in 1.4. Set the value of `n_init` explicitly to suppress the warning\n",
      "  super()._check_params_vs_input(X, default_n_init=10)\n"
     ]
    },
    {
     "name": "stdout",
     "output_type": "stream",
     "text": [
      "开始回波仿真...\n",
      "========================= EchoSimProcess =========================\n",
      "Phase 1 -- Params read and config...\n",
      "Phase 1 -- Done! Cost: 0.132s\n",
      "Phase 2 -- Sat Position Calculate...\n",
      "Phase 2 -- Done! Cost: 0s\n",
      "Phase 3 -- Flight Track and BeamDir History Simulate...\n",
      "Phase 3 -- Done! Cost: 0s\n",
      "Phase 4 -- Signal Generate...\n",
      "Phase 4 -- Done! Cost: 0.05s\n",
      "Phase 5 -- Echo Calculate...\n",
      "        -- CPU ThreadNum: 48\n",
      "Phase 5 -- Done! Cost: 10.887s\n",
      "Phase 6 -- Result Save...\n",
      "Phase 6 -- Done! Cost: 1.394s\n",
      "  Final -- Total Cost: 12.464s\n",
      "回波仿真完成！\n",
      "图像大小：150 x 150\n"
     ]
    },
    {
     "name": "stderr",
     "output_type": "stream",
     "text": [
      "/home/liq/pro/new_production_1118/sklearn/cluster/_kmeans.py:1416: FutureWarning: The default value of `n_init` will change from 10 to 'auto' in 1.4. Set the value of `n_init` explicitly to suppress the warning\n",
      "  super()._check_params_vs_input(X, default_n_init=10)\n"
     ]
    },
    {
     "name": "stdout",
     "output_type": "stream",
     "text": [
      "开始回波仿真...\n",
      "========================= EchoSimProcess =========================\n",
      "Phase 1 -- Params read and config...\n",
      "Phase 1 -- Done! Cost: 0.133s\n",
      "Phase 2 -- Sat Position Calculate...\n",
      "Phase 2 -- Done! Cost: 0s\n",
      "Phase 3 -- Flight Track and BeamDir History Simulate...\n",
      "Phase 3 -- Done! Cost: 0s\n",
      "Phase 4 -- Signal Generate...\n",
      "Phase 4 -- Done! Cost: 0.035s\n",
      "Phase 5 -- Echo Calculate...\n",
      "        -- CPU ThreadNum: 48\n",
      "Phase 5 -- Done! Cost: 10.762s\n",
      "Phase 6 -- Result Save...\n",
      "Phase 6 -- Done! Cost: 1.183s\n",
      "  Final -- Total Cost: 12.116s\n",
      "回波仿真完成！\n",
      "图像大小：150 x 150\n"
     ]
    },
    {
     "name": "stderr",
     "output_type": "stream",
     "text": [
      "/home/liq/pro/new_production_1118/sklearn/cluster/_kmeans.py:1416: FutureWarning: The default value of `n_init` will change from 10 to 'auto' in 1.4. Set the value of `n_init` explicitly to suppress the warning\n",
      "  super()._check_params_vs_input(X, default_n_init=10)\n"
     ]
    },
    {
     "name": "stdout",
     "output_type": "stream",
     "text": [
      "开始回波仿真...\n",
      "========================= EchoSimProcess =========================\n",
      "Phase 1 -- Params read and config...\n",
      "Phase 1 -- Done! Cost: 0.124s\n",
      "Phase 2 -- Sat Position Calculate...\n",
      "Phase 2 -- Done! Cost: 0s\n",
      "Phase 3 -- Flight Track and BeamDir History Simulate...\n",
      "Phase 3 -- Done! Cost: 0s\n",
      "Phase 4 -- Signal Generate...\n",
      "Phase 4 -- Done! Cost: 0.05s\n",
      "Phase 5 -- Echo Calculate...\n",
      "        -- CPU ThreadNum: 48\n",
      "Phase 5 -- Done! Cost: 10.517s\n",
      "Phase 6 -- Result Save...\n",
      "Phase 6 -- Done! Cost: 1.344s\n",
      "  Final -- Total Cost: 12.037s\n",
      "回波仿真完成！\n",
      "图像大小：150 x 150\n"
     ]
    },
    {
     "name": "stderr",
     "output_type": "stream",
     "text": [
      "/home/liq/pro/new_production_1118/sklearn/cluster/_kmeans.py:1416: FutureWarning: The default value of `n_init` will change from 10 to 'auto' in 1.4. Set the value of `n_init` explicitly to suppress the warning\n",
      "  super()._check_params_vs_input(X, default_n_init=10)\n"
     ]
    },
    {
     "name": "stdout",
     "output_type": "stream",
     "text": [
      "开始回波仿真...\n",
      "========================= EchoSimProcess =========================\n",
      "Phase 1 -- Params read and config...\n",
      "Phase 1 -- Done! Cost: 0.127s\n",
      "Phase 2 -- Sat Position Calculate...\n",
      "Phase 2 -- Done! Cost: 0s\n",
      "Phase 3 -- Flight Track and BeamDir History Simulate...\n",
      "Phase 3 -- Done! Cost: 0s\n",
      "Phase 4 -- Signal Generate...\n",
      "Phase 4 -- Done! Cost: 0.036s\n",
      "Phase 5 -- Echo Calculate...\n",
      "        -- CPU ThreadNum: 48\n",
      "Phase 5 -- Done! Cost: 10.791s\n",
      "Phase 6 -- Result Save...\n",
      "Phase 6 -- Done! Cost: 1.289s\n",
      "  Final -- Total Cost: 12.245s\n",
      "回波仿真完成！\n",
      "图像大小：150 x 150\n"
     ]
    },
    {
     "name": "stderr",
     "output_type": "stream",
     "text": [
      "/home/liq/pro/new_production_1118/sklearn/cluster/_kmeans.py:1416: FutureWarning: The default value of `n_init` will change from 10 to 'auto' in 1.4. Set the value of `n_init` explicitly to suppress the warning\n",
      "  super()._check_params_vs_input(X, default_n_init=10)\n"
     ]
    },
    {
     "name": "stdout",
     "output_type": "stream",
     "text": [
      "开始回波仿真...\n",
      "========================= EchoSimProcess =========================\n",
      "Phase 1 -- Params read and config...\n",
      "Phase 1 -- Done! Cost: 0.098s\n",
      "Phase 2 -- Sat Position Calculate...\n",
      "Phase 2 -- Done! Cost: 0s\n",
      "Phase 3 -- Flight Track and BeamDir History Simulate...\n",
      "Phase 3 -- Done! Cost: 0s\n",
      "Phase 4 -- Signal Generate...\n",
      "Phase 4 -- Done! Cost: 0.07s\n",
      "Phase 5 -- Echo Calculate...\n",
      "        -- CPU ThreadNum: 48\n",
      "Phase 5 -- Done! Cost: 11.017s\n",
      "Phase 6 -- Result Save...\n",
      "Phase 6 -- Done! Cost: 1.516s\n",
      "  Final -- Total Cost: 12.704s\n",
      "回波仿真完成！\n",
      "图像大小：150 x 150\n"
     ]
    },
    {
     "name": "stderr",
     "output_type": "stream",
     "text": [
      "/home/liq/pro/new_production_1118/sklearn/cluster/_kmeans.py:1416: FutureWarning: The default value of `n_init` will change from 10 to 'auto' in 1.4. Set the value of `n_init` explicitly to suppress the warning\n",
      "  super()._check_params_vs_input(X, default_n_init=10)\n"
     ]
    },
    {
     "name": "stdout",
     "output_type": "stream",
     "text": [
      "开始回波仿真...\n",
      "========================= EchoSimProcess =========================\n",
      "Phase 1 -- Params read and config...\n",
      "Phase 1 -- Done! Cost: 0.054s\n",
      "Phase 2 -- Sat Position Calculate...\n",
      "Phase 2 -- Done! Cost: 0s\n",
      "Phase 3 -- Flight Track and BeamDir History Simulate...\n",
      "Phase 3 -- Done! Cost: 0s\n",
      "Phase 4 -- Signal Generate...\n",
      "Phase 4 -- Done! Cost: 0.082s\n",
      "Phase 5 -- Echo Calculate...\n",
      "        -- CPU ThreadNum: 48\n",
      "Phase 5 -- Done! Cost: 10.558s\n",
      "Phase 6 -- Result Save...\n",
      "Phase 6 -- Done! Cost: 1.338s\n",
      "  Final -- Total Cost: 12.035s\n",
      "回波仿真完成！\n",
      "图像大小：150 x 150\n"
     ]
    },
    {
     "name": "stderr",
     "output_type": "stream",
     "text": [
      "/home/liq/pro/new_production_1118/sklearn/cluster/_kmeans.py:1416: FutureWarning: The default value of `n_init` will change from 10 to 'auto' in 1.4. Set the value of `n_init` explicitly to suppress the warning\n",
      "  super()._check_params_vs_input(X, default_n_init=10)\n"
     ]
    },
    {
     "name": "stdout",
     "output_type": "stream",
     "text": [
      "开始回波仿真...\n",
      "========================= EchoSimProcess =========================\n",
      "Phase 1 -- Params read and config...\n",
      "Phase 1 -- Done! Cost: 0.127s\n",
      "Phase 2 -- Sat Position Calculate...\n",
      "Phase 2 -- Done! Cost: 0s\n",
      "Phase 3 -- Flight Track and BeamDir History Simulate...\n",
      "Phase 3 -- Done! Cost: 0s\n",
      "Phase 4 -- Signal Generate...\n",
      "Phase 4 -- Done! Cost: 0.035s\n",
      "Phase 5 -- Echo Calculate...\n",
      "        -- CPU ThreadNum: 48\n",
      "Phase 5 -- Done! Cost: 10.442s\n",
      "Phase 6 -- Result Save...\n",
      "Phase 6 -- Done! Cost: 1.355s\n",
      "  Final -- Total Cost: 11.96s\n",
      "回波仿真完成！\n",
      "图像大小：150 x 150\n"
     ]
    },
    {
     "name": "stderr",
     "output_type": "stream",
     "text": [
      "/home/liq/pro/new_production_1118/sklearn/cluster/_kmeans.py:1416: FutureWarning: The default value of `n_init` will change from 10 to 'auto' in 1.4. Set the value of `n_init` explicitly to suppress the warning\n",
      "  super()._check_params_vs_input(X, default_n_init=10)\n"
     ]
    },
    {
     "name": "stdout",
     "output_type": "stream",
     "text": [
      "开始回波仿真...\n",
      "========================= EchoSimProcess =========================\n",
      "Phase 1 -- Params read and config...\n",
      "Phase 1 -- Done! Cost: 0.125s\n",
      "Phase 2 -- Sat Position Calculate...\n",
      "Phase 2 -- Done! Cost: 0s\n",
      "Phase 3 -- Flight Track and BeamDir History Simulate...\n",
      "Phase 3 -- Done! Cost: 0s\n",
      "Phase 4 -- Signal Generate...\n",
      "Phase 4 -- Done! Cost: 0.035s\n",
      "Phase 5 -- Echo Calculate...\n",
      "        -- CPU ThreadNum: 48\n",
      "Phase 5 -- Done! Cost: 10.635s\n",
      "Phase 6 -- Result Save...\n",
      "Phase 6 -- Done! Cost: 1.163s\n",
      "  Final -- Total Cost: 11.96s\n",
      "回波仿真完成！\n",
      "图像大小：150 x 150\n"
     ]
    },
    {
     "name": "stderr",
     "output_type": "stream",
     "text": [
      "/home/liq/pro/new_production_1118/sklearn/cluster/_kmeans.py:1416: FutureWarning: The default value of `n_init` will change from 10 to 'auto' in 1.4. Set the value of `n_init` explicitly to suppress the warning\n",
      "  super()._check_params_vs_input(X, default_n_init=10)\n"
     ]
    },
    {
     "name": "stdout",
     "output_type": "stream",
     "text": [
      "开始回波仿真...\n",
      "========================= EchoSimProcess =========================\n",
      "Phase 1 -- Params read and config...\n",
      "Phase 1 -- Done! Cost: 0.131s\n",
      "Phase 2 -- Sat Position Calculate...\n",
      "Phase 2 -- Done! Cost: 0s\n",
      "Phase 3 -- Flight Track and BeamDir History Simulate...\n",
      "Phase 3 -- Done! Cost: 0s\n",
      "Phase 4 -- Signal Generate...\n",
      "Phase 4 -- Done! Cost: 0.05s\n",
      "Phase 5 -- Echo Calculate...\n",
      "        -- CPU ThreadNum: 48\n",
      "Phase 5 -- Done! Cost: 10.9s\n",
      "Phase 6 -- Result Save...\n",
      "Phase 6 -- Done! Cost: 1.478s\n",
      "  Final -- Total Cost: 12.561s\n",
      "回波仿真完成！\n",
      "图像大小：150 x 150\n"
     ]
    },
    {
     "name": "stderr",
     "output_type": "stream",
     "text": [
      "/home/liq/pro/new_production_1118/sklearn/cluster/_kmeans.py:1416: FutureWarning: The default value of `n_init` will change from 10 to 'auto' in 1.4. Set the value of `n_init` explicitly to suppress the warning\n",
      "  super()._check_params_vs_input(X, default_n_init=10)\n"
     ]
    },
    {
     "name": "stdout",
     "output_type": "stream",
     "text": [
      "开始回波仿真...\n",
      "========================= EchoSimProcess =========================\n",
      "Phase 1 -- Params read and config...\n",
      "Phase 1 -- Done! Cost: 0.129s\n",
      "Phase 2 -- Sat Position Calculate...\n",
      "Phase 2 -- Done! Cost: 0s\n",
      "Phase 3 -- Flight Track and BeamDir History Simulate...\n",
      "Phase 3 -- Done! Cost: 0s\n",
      "Phase 4 -- Signal Generate...\n",
      "Phase 4 -- Done! Cost: 0.051s\n",
      "Phase 5 -- Echo Calculate...\n",
      "        -- CPU ThreadNum: 48\n",
      "Phase 5 -- Done! Cost: 10.64s\n",
      "Phase 6 -- Result Save...\n",
      "Phase 6 -- Done! Cost: 1.55s\n",
      "  Final -- Total Cost: 12.373s\n",
      "回波仿真完成！\n",
      "图像大小：150 x 150\n"
     ]
    },
    {
     "name": "stderr",
     "output_type": "stream",
     "text": [
      "/home/liq/pro/new_production_1118/sklearn/cluster/_kmeans.py:1416: FutureWarning: The default value of `n_init` will change from 10 to 'auto' in 1.4. Set the value of `n_init` explicitly to suppress the warning\n",
      "  super()._check_params_vs_input(X, default_n_init=10)\n"
     ]
    },
    {
     "name": "stdout",
     "output_type": "stream",
     "text": [
      "开始回波仿真...\n",
      "========================= EchoSimProcess =========================\n",
      "Phase 1 -- Params read and config...\n",
      "Phase 1 -- Done! Cost: 0.127s\n",
      "Phase 2 -- Sat Position Calculate...\n",
      "Phase 2 -- Done! Cost: 0s\n",
      "Phase 3 -- Flight Track and BeamDir History Simulate...\n",
      "Phase 3 -- Done! Cost: 0s\n",
      "Phase 4 -- Signal Generate...\n",
      "Phase 4 -- Done! Cost: 0.034s\n",
      "Phase 5 -- Echo Calculate...\n",
      "        -- CPU ThreadNum: 48\n",
      "Phase 5 -- Done! Cost: 10.592s\n",
      "Phase 6 -- Result Save...\n",
      "Phase 6 -- Done! Cost: 1.128s\n",
      "  Final -- Total Cost: 11.884s\n",
      "回波仿真完成！\n",
      "图像大小：150 x 150\n"
     ]
    },
    {
     "name": "stderr",
     "output_type": "stream",
     "text": [
      "/home/liq/pro/new_production_1118/sklearn/cluster/_kmeans.py:1416: FutureWarning: The default value of `n_init` will change from 10 to 'auto' in 1.4. Set the value of `n_init` explicitly to suppress the warning\n",
      "  super()._check_params_vs_input(X, default_n_init=10)\n"
     ]
    },
    {
     "name": "stdout",
     "output_type": "stream",
     "text": [
      "开始回波仿真...\n",
      "========================= EchoSimProcess =========================\n",
      "Phase 1 -- Params read and config...\n",
      "Phase 1 -- Done! Cost: 0.121s\n",
      "Phase 2 -- Sat Position Calculate...\n",
      "Phase 2 -- Done! Cost: 0s\n",
      "Phase 3 -- Flight Track and BeamDir History Simulate...\n",
      "Phase 3 -- Done! Cost: 0s\n",
      "Phase 4 -- Signal Generate...\n",
      "Phase 4 -- Done! Cost: 0.036s\n",
      "Phase 5 -- Echo Calculate...\n",
      "        -- CPU ThreadNum: 48\n",
      "Phase 5 -- Done! Cost: 8.888s\n",
      "Phase 6 -- Result Save...\n",
      "Phase 6 -- Done! Cost: 1.366s\n",
      "  Final -- Total Cost: 10.414s\n",
      "回波仿真完成！\n",
      "图像大小：150 x 150\n"
     ]
    },
    {
     "name": "stderr",
     "output_type": "stream",
     "text": [
      "/home/liq/pro/new_production_1118/sklearn/cluster/_kmeans.py:1416: FutureWarning: The default value of `n_init` will change from 10 to 'auto' in 1.4. Set the value of `n_init` explicitly to suppress the warning\n",
      "  super()._check_params_vs_input(X, default_n_init=10)\n"
     ]
    },
    {
     "name": "stdout",
     "output_type": "stream",
     "text": [
      "开始回波仿真...\n",
      "========================= EchoSimProcess =========================\n",
      "Phase 1 -- Params read and config...\n",
      "Phase 1 -- Done! Cost: 0.039s\n",
      "Phase 2 -- Sat Position Calculate...\n",
      "Phase 2 -- Done! Cost: 0s\n",
      "Phase 3 -- Flight Track and BeamDir History Simulate...\n",
      "Phase 3 -- Done! Cost: 0s\n",
      "Phase 4 -- Signal Generate...\n",
      "Phase 4 -- Done! Cost: 0.098s\n",
      "Phase 5 -- Echo Calculate...\n",
      "        -- CPU ThreadNum: 48\n",
      "Phase 5 -- Done! Cost: 9.173s\n",
      "Phase 6 -- Result Save...\n",
      "Phase 6 -- Done! Cost: 1.02s\n",
      "  Final -- Total Cost: 10.333s\n",
      "回波仿真完成！\n",
      "图像大小：150 x 150\n"
     ]
    },
    {
     "name": "stderr",
     "output_type": "stream",
     "text": [
      "/home/liq/pro/new_production_1118/sklearn/cluster/_kmeans.py:1416: FutureWarning: The default value of `n_init` will change from 10 to 'auto' in 1.4. Set the value of `n_init` explicitly to suppress the warning\n",
      "  super()._check_params_vs_input(X, default_n_init=10)\n"
     ]
    },
    {
     "name": "stdout",
     "output_type": "stream",
     "text": [
      "开始回波仿真...\n",
      "========================= EchoSimProcess =========================\n",
      "Phase 1 -- Params read and config...\n",
      "Phase 1 -- Done! Cost: 0.103s\n",
      "Phase 2 -- Sat Position Calculate...\n",
      "Phase 2 -- Done! Cost: 0s\n",
      "Phase 3 -- Flight Track and BeamDir History Simulate...\n",
      "Phase 3 -- Done! Cost: 0s\n",
      "Phase 4 -- Signal Generate...\n",
      "Phase 4 -- Done! Cost: 0.045s\n",
      "Phase 5 -- Echo Calculate...\n",
      "        -- CPU ThreadNum: 48\n",
      "Phase 5 -- Done! Cost: 9.394s\n",
      "Phase 6 -- Result Save...\n",
      "Phase 6 -- Done! Cost: 1.051s\n",
      "  Final -- Total Cost: 10.596s\n",
      "回波仿真完成！\n",
      "图像大小：150 x 150\n"
     ]
    },
    {
     "name": "stderr",
     "output_type": "stream",
     "text": [
      "/home/liq/pro/new_production_1118/sklearn/cluster/_kmeans.py:1416: FutureWarning: The default value of `n_init` will change from 10 to 'auto' in 1.4. Set the value of `n_init` explicitly to suppress the warning\n",
      "  super()._check_params_vs_input(X, default_n_init=10)\n"
     ]
    },
    {
     "name": "stdout",
     "output_type": "stream",
     "text": [
      "开始回波仿真...\n",
      "========================= EchoSimProcess =========================\n",
      "Phase 1 -- Params read and config...\n",
      "Phase 1 -- Done! Cost: 0.122s\n",
      "Phase 2 -- Sat Position Calculate...\n",
      "Phase 2 -- Done! Cost: 0s\n",
      "Phase 3 -- Flight Track and BeamDir History Simulate...\n",
      "Phase 3 -- Done! Cost: 0s\n",
      "Phase 4 -- Signal Generate...\n",
      "Phase 4 -- Done! Cost: 0.05s\n",
      "Phase 5 -- Echo Calculate...\n",
      "        -- CPU ThreadNum: 48\n",
      "Phase 5 -- Done! Cost: 9.646s\n",
      "Phase 6 -- Result Save...\n",
      "Phase 6 -- Done! Cost: 1.005s\n",
      "  Final -- Total Cost: 10.825s\n",
      "回波仿真完成！\n",
      "图像大小：150 x 150\n"
     ]
    },
    {
     "name": "stderr",
     "output_type": "stream",
     "text": [
      "/home/liq/pro/new_production_1118/sklearn/cluster/_kmeans.py:1416: FutureWarning: The default value of `n_init` will change from 10 to 'auto' in 1.4. Set the value of `n_init` explicitly to suppress the warning\n",
      "  super()._check_params_vs_input(X, default_n_init=10)\n"
     ]
    },
    {
     "name": "stdout",
     "output_type": "stream",
     "text": [
      "开始回波仿真...\n",
      "========================= EchoSimProcess =========================\n",
      "Phase 1 -- Params read and config...\n",
      "Phase 1 -- Done! Cost: 0.042s\n",
      "Phase 2 -- Sat Position Calculate...\n",
      "Phase 2 -- Done! Cost: 0s\n",
      "Phase 3 -- Flight Track and BeamDir History Simulate...\n",
      "Phase 3 -- Done! Cost: 0s\n",
      "Phase 4 -- Signal Generate...\n",
      "Phase 4 -- Done! Cost: 0.118s\n",
      "Phase 5 -- Echo Calculate...\n",
      "        -- CPU ThreadNum: 48\n",
      "Phase 5 -- Done! Cost: 9.08s\n",
      "Phase 6 -- Result Save...\n",
      "Phase 6 -- Done! Cost: 0.999s\n",
      "  Final -- Total Cost: 10.245s\n",
      "回波仿真完成！\n",
      "图像大小：150 x 150\n"
     ]
    },
    {
     "name": "stderr",
     "output_type": "stream",
     "text": [
      "/home/liq/pro/new_production_1118/sklearn/cluster/_kmeans.py:1416: FutureWarning: The default value of `n_init` will change from 10 to 'auto' in 1.4. Set the value of `n_init` explicitly to suppress the warning\n",
      "  super()._check_params_vs_input(X, default_n_init=10)\n"
     ]
    },
    {
     "name": "stdout",
     "output_type": "stream",
     "text": [
      "开始回波仿真...\n",
      "========================= EchoSimProcess =========================\n",
      "Phase 1 -- Params read and config...\n",
      "Phase 1 -- Done! Cost: 0.117s\n",
      "Phase 2 -- Sat Position Calculate...\n",
      "Phase 2 -- Done! Cost: 0s\n",
      "Phase 3 -- Flight Track and BeamDir History Simulate...\n",
      "Phase 3 -- Done! Cost: 0s\n",
      "Phase 4 -- Signal Generate...\n",
      "Phase 4 -- Done! Cost: 0.036s\n",
      "Phase 5 -- Echo Calculate...\n",
      "        -- CPU ThreadNum: 48\n",
      "Phase 5 -- Done! Cost: 9.048s\n",
      "Phase 6 -- Result Save...\n",
      "Phase 6 -- Done! Cost: 1.05s\n",
      "  Final -- Total Cost: 10.256s\n",
      "回波仿真完成！\n",
      "图像大小：150 x 150\n"
     ]
    },
    {
     "name": "stderr",
     "output_type": "stream",
     "text": [
      "/home/liq/pro/new_production_1118/sklearn/cluster/_kmeans.py:1416: FutureWarning: The default value of `n_init` will change from 10 to 'auto' in 1.4. Set the value of `n_init` explicitly to suppress the warning\n",
      "  super()._check_params_vs_input(X, default_n_init=10)\n"
     ]
    },
    {
     "name": "stdout",
     "output_type": "stream",
     "text": [
      "开始回波仿真...\n",
      "========================= EchoSimProcess =========================\n",
      "Phase 1 -- Params read and config...\n",
      "Phase 1 -- Done! Cost: 0.103s\n",
      "Phase 2 -- Sat Position Calculate...\n",
      "Phase 2 -- Done! Cost: 0s\n",
      "Phase 3 -- Flight Track and BeamDir History Simulate...\n",
      "Phase 3 -- Done! Cost: 0s\n",
      "Phase 4 -- Signal Generate...\n",
      "Phase 4 -- Done! Cost: 0.065s\n",
      "Phase 5 -- Echo Calculate...\n",
      "        -- CPU ThreadNum: 48\n",
      "Phase 5 -- Done! Cost: 9.166s\n",
      "Phase 6 -- Result Save...\n",
      "Phase 6 -- Done! Cost: 1.357s\n",
      "  Final -- Total Cost: 10.695s\n",
      "回波仿真完成！\n",
      "图像大小：150 x 150\n"
     ]
    },
    {
     "name": "stderr",
     "output_type": "stream",
     "text": [
      "/home/liq/pro/new_production_1118/sklearn/cluster/_kmeans.py:1416: FutureWarning: The default value of `n_init` will change from 10 to 'auto' in 1.4. Set the value of `n_init` explicitly to suppress the warning\n",
      "  super()._check_params_vs_input(X, default_n_init=10)\n"
     ]
    },
    {
     "name": "stdout",
     "output_type": "stream",
     "text": [
      "开始回波仿真...\n",
      "========================= EchoSimProcess =========================\n",
      "Phase 1 -- Params read and config...\n",
      "Phase 1 -- Done! Cost: 0.085s\n",
      "Phase 2 -- Sat Position Calculate...\n",
      "Phase 2 -- Done! Cost: 0s\n",
      "Phase 3 -- Flight Track and BeamDir History Simulate...\n",
      "Phase 3 -- Done! Cost: 0s\n",
      "Phase 4 -- Signal Generate...\n",
      "Phase 4 -- Done! Cost: 0.075s\n",
      "Phase 5 -- Echo Calculate...\n",
      "        -- CPU ThreadNum: 48\n",
      "Phase 5 -- Done! Cost: 9.131s\n",
      "Phase 6 -- Result Save...\n",
      "Phase 6 -- Done! Cost: 1.07s\n",
      "  Final -- Total Cost: 10.368s\n",
      "回波仿真完成！\n",
      "图像大小：150 x 150\n"
     ]
    },
    {
     "name": "stderr",
     "output_type": "stream",
     "text": [
      "/home/liq/pro/new_production_1118/sklearn/cluster/_kmeans.py:1416: FutureWarning: The default value of `n_init` will change from 10 to 'auto' in 1.4. Set the value of `n_init` explicitly to suppress the warning\n",
      "  super()._check_params_vs_input(X, default_n_init=10)\n"
     ]
    },
    {
     "name": "stdout",
     "output_type": "stream",
     "text": [
      "开始回波仿真...\n",
      "========================= EchoSimProcess =========================\n",
      "Phase 1 -- Params read and config...\n",
      "Phase 1 -- Done! Cost: 0.042s\n",
      "Phase 2 -- Sat Position Calculate...\n",
      "Phase 2 -- Done! Cost: 0s\n",
      "Phase 3 -- Flight Track and BeamDir History Simulate...\n",
      "Phase 3 -- Done! Cost: 0s\n",
      "Phase 4 -- Signal Generate...\n",
      "Phase 4 -- Done! Cost: 0.098s\n",
      "Phase 5 -- Echo Calculate...\n",
      "        -- CPU ThreadNum: 48\n",
      "Phase 5 -- Done! Cost: 8.991s\n",
      "Phase 6 -- Result Save...\n",
      "Phase 6 -- Done! Cost: 1.393s\n",
      "  Final -- Total Cost: 10.528s\n",
      "回波仿真完成！\n",
      "图像大小：150 x 150\n"
     ]
    },
    {
     "name": "stderr",
     "output_type": "stream",
     "text": [
      "/home/liq/pro/new_production_1118/sklearn/cluster/_kmeans.py:1416: FutureWarning: The default value of `n_init` will change from 10 to 'auto' in 1.4. Set the value of `n_init` explicitly to suppress the warning\n",
      "  super()._check_params_vs_input(X, default_n_init=10)\n"
     ]
    },
    {
     "name": "stdout",
     "output_type": "stream",
     "text": [
      "开始回波仿真...\n",
      "========================= EchoSimProcess =========================\n",
      "Phase 1 -- Params read and config...\n",
      "Phase 1 -- Done! Cost: 0.088s\n",
      "Phase 2 -- Sat Position Calculate...\n",
      "Phase 2 -- Done! Cost: 0s\n",
      "Phase 3 -- Flight Track and BeamDir History Simulate...\n",
      "Phase 3 -- Done! Cost: 0s\n",
      "Phase 4 -- Signal Generate...\n",
      "Phase 4 -- Done! Cost: 0.049s\n",
      "Phase 5 -- Echo Calculate...\n",
      "        -- CPU ThreadNum: 48\n",
      "Phase 5 -- Done! Cost: 9.32s\n",
      "Phase 6 -- Result Save...\n",
      "Phase 6 -- Done! Cost: 1.014s\n",
      "  Final -- Total Cost: 10.477s\n",
      "回波仿真完成！\n",
      "图像大小：150 x 150\n"
     ]
    },
    {
     "name": "stderr",
     "output_type": "stream",
     "text": [
      "/home/liq/pro/new_production_1118/sklearn/cluster/_kmeans.py:1416: FutureWarning: The default value of `n_init` will change from 10 to 'auto' in 1.4. Set the value of `n_init` explicitly to suppress the warning\n",
      "  super()._check_params_vs_input(X, default_n_init=10)\n"
     ]
    },
    {
     "name": "stdout",
     "output_type": "stream",
     "text": [
      "开始回波仿真...\n",
      "========================= EchoSimProcess =========================\n",
      "Phase 1 -- Params read and config...\n",
      "Phase 1 -- Done! Cost: 0.089s\n",
      "Phase 2 -- Sat Position Calculate...\n",
      "Phase 2 -- Done! Cost: 0s\n",
      "Phase 3 -- Flight Track and BeamDir History Simulate...\n",
      "Phase 3 -- Done! Cost: 0s\n",
      "Phase 4 -- Signal Generate...\n",
      "Phase 4 -- Done! Cost: 0.076s\n",
      "Phase 5 -- Echo Calculate...\n",
      "        -- CPU ThreadNum: 48\n",
      "Phase 5 -- Done! Cost: 9.319s\n",
      "Phase 6 -- Result Save...\n",
      "Phase 6 -- Done! Cost: 1.201s\n",
      "  Final -- Total Cost: 10.692s\n",
      "回波仿真完成！\n",
      "图像大小：150 x 150\n"
     ]
    },
    {
     "name": "stderr",
     "output_type": "stream",
     "text": [
      "/home/liq/pro/new_production_1118/sklearn/cluster/_kmeans.py:1416: FutureWarning: The default value of `n_init` will change from 10 to 'auto' in 1.4. Set the value of `n_init` explicitly to suppress the warning\n",
      "  super()._check_params_vs_input(X, default_n_init=10)\n"
     ]
    },
    {
     "name": "stdout",
     "output_type": "stream",
     "text": [
      "开始回波仿真...\n",
      "========================= EchoSimProcess =========================\n",
      "Phase 1 -- Params read and config...\n",
      "Phase 1 -- Done! Cost: 0.107s\n",
      "Phase 2 -- Sat Position Calculate...\n",
      "Phase 2 -- Done! Cost: 0s\n",
      "Phase 3 -- Flight Track and BeamDir History Simulate...\n",
      "Phase 3 -- Done! Cost: 0s\n",
      "Phase 4 -- Signal Generate...\n",
      "Phase 4 -- Done! Cost: 0.04s\n",
      "Phase 5 -- Echo Calculate...\n",
      "        -- CPU ThreadNum: 48\n",
      "Phase 5 -- Done! Cost: 9.207s\n",
      "Phase 6 -- Result Save...\n",
      "Phase 6 -- Done! Cost: 1.077s\n",
      "  Final -- Total Cost: 10.433s\n",
      "回波仿真完成！\n",
      "图像大小：150 x 150\n"
     ]
    },
    {
     "name": "stderr",
     "output_type": "stream",
     "text": [
      "/home/liq/pro/new_production_1118/sklearn/cluster/_kmeans.py:1416: FutureWarning: The default value of `n_init` will change from 10 to 'auto' in 1.4. Set the value of `n_init` explicitly to suppress the warning\n",
      "  super()._check_params_vs_input(X, default_n_init=10)\n"
     ]
    },
    {
     "name": "stdout",
     "output_type": "stream",
     "text": [
      "开始回波仿真...\n",
      "========================= EchoSimProcess =========================\n",
      "Phase 1 -- Params read and config...\n",
      "Phase 1 -- Done! Cost: 0.09s\n",
      "Phase 2 -- Sat Position Calculate...\n",
      "Phase 2 -- Done! Cost: 0s\n",
      "Phase 3 -- Flight Track and BeamDir History Simulate...\n",
      "Phase 3 -- Done! Cost: 0s\n",
      "Phase 4 -- Signal Generate...\n",
      "Phase 4 -- Done! Cost: 0.078s\n",
      "Phase 5 -- Echo Calculate...\n",
      "        -- CPU ThreadNum: 48\n",
      "Phase 5 -- Done! Cost: 9.493s\n",
      "Phase 6 -- Result Save...\n",
      "Phase 6 -- Done! Cost: 1.009s\n",
      "  Final -- Total Cost: 10.673s\n",
      "回波仿真完成！\n",
      "图像大小：150 x 150\n"
     ]
    },
    {
     "name": "stderr",
     "output_type": "stream",
     "text": [
      "/home/liq/pro/new_production_1118/sklearn/cluster/_kmeans.py:1416: FutureWarning: The default value of `n_init` will change from 10 to 'auto' in 1.4. Set the value of `n_init` explicitly to suppress the warning\n",
      "  super()._check_params_vs_input(X, default_n_init=10)\n"
     ]
    },
    {
     "name": "stdout",
     "output_type": "stream",
     "text": [
      "开始回波仿真...\n",
      "========================= EchoSimProcess =========================\n",
      "Phase 1 -- Params read and config...\n",
      "Phase 1 -- Done! Cost: 0.122s\n",
      "Phase 2 -- Sat Position Calculate...\n",
      "Phase 2 -- Done! Cost: 0s\n",
      "Phase 3 -- Flight Track and BeamDir History Simulate...\n",
      "Phase 3 -- Done! Cost: 0s\n",
      "Phase 4 -- Signal Generate...\n",
      "Phase 4 -- Done! Cost: 0.035s\n",
      "Phase 5 -- Echo Calculate...\n",
      "        -- CPU ThreadNum: 48\n",
      "Phase 5 -- Done! Cost: 9.195s\n",
      "Phase 6 -- Result Save...\n",
      "Phase 6 -- Done! Cost: 1.349s\n",
      "  Final -- Total Cost: 10.703s\n",
      "回波仿真完成！\n",
      "图像大小：150 x 150\n"
     ]
    },
    {
     "name": "stderr",
     "output_type": "stream",
     "text": [
      "/home/liq/pro/new_production_1118/sklearn/cluster/_kmeans.py:1416: FutureWarning: The default value of `n_init` will change from 10 to 'auto' in 1.4. Set the value of `n_init` explicitly to suppress the warning\n",
      "  super()._check_params_vs_input(X, default_n_init=10)\n"
     ]
    },
    {
     "name": "stdout",
     "output_type": "stream",
     "text": [
      "开始回波仿真...\n",
      "========================= EchoSimProcess =========================\n",
      "Phase 1 -- Params read and config...\n",
      "Phase 1 -- Done! Cost: 0.122s\n",
      "Phase 2 -- Sat Position Calculate...\n",
      "Phase 2 -- Done! Cost: 0s\n",
      "Phase 3 -- Flight Track and BeamDir History Simulate...\n",
      "Phase 3 -- Done! Cost: 0s\n",
      "Phase 4 -- Signal Generate...\n",
      "Phase 4 -- Done! Cost: 0.034s\n",
      "Phase 5 -- Echo Calculate...\n",
      "        -- CPU ThreadNum: 48\n",
      "Phase 5 -- Done! Cost: 9.192s\n",
      "Phase 6 -- Result Save...\n",
      "Phase 6 -- Done! Cost: 1.147s\n",
      "  Final -- Total Cost: 10.498s\n",
      "回波仿真完成！\n",
      "图像大小：150 x 150\n"
     ]
    },
    {
     "name": "stderr",
     "output_type": "stream",
     "text": [
      "/home/liq/pro/new_production_1118/sklearn/cluster/_kmeans.py:1416: FutureWarning: The default value of `n_init` will change from 10 to 'auto' in 1.4. Set the value of `n_init` explicitly to suppress the warning\n",
      "  super()._check_params_vs_input(X, default_n_init=10)\n"
     ]
    },
    {
     "name": "stdout",
     "output_type": "stream",
     "text": [
      "开始回波仿真...\n",
      "========================= EchoSimProcess =========================\n",
      "Phase 1 -- Params read and config...\n",
      "Phase 1 -- Done! Cost: 0.092s\n",
      "Phase 2 -- Sat Position Calculate...\n",
      "Phase 2 -- Done! Cost: 0s\n",
      "Phase 3 -- Flight Track and BeamDir History Simulate...\n",
      "Phase 3 -- Done! Cost: 0.013s\n",
      "Phase 4 -- Signal Generate...\n",
      "Phase 4 -- Done! Cost: 0.042s\n",
      "Phase 5 -- Echo Calculate...\n",
      "        -- CPU ThreadNum: 48\n",
      "Phase 5 -- Done! Cost: 9.203s\n",
      "Phase 6 -- Result Save...\n",
      "Phase 6 -- Done! Cost: 1.298s\n",
      "  Final -- Total Cost: 10.65s\n",
      "回波仿真完成！\n",
      "图像大小：150 x 150\n"
     ]
    },
    {
     "name": "stderr",
     "output_type": "stream",
     "text": [
      "/home/liq/pro/new_production_1118/sklearn/cluster/_kmeans.py:1416: FutureWarning: The default value of `n_init` will change from 10 to 'auto' in 1.4. Set the value of `n_init` explicitly to suppress the warning\n",
      "  super()._check_params_vs_input(X, default_n_init=10)\n"
     ]
    },
    {
     "name": "stdout",
     "output_type": "stream",
     "text": [
      "开始回波仿真...\n",
      "========================= EchoSimProcess =========================\n",
      "Phase 1 -- Params read and config...\n",
      "Phase 1 -- Done! Cost: 0.042s\n",
      "Phase 2 -- Sat Position Calculate...\n",
      "Phase 2 -- Done! Cost: 0s\n",
      "Phase 3 -- Flight Track and BeamDir History Simulate...\n",
      "Phase 3 -- Done! Cost: 0s\n",
      "Phase 4 -- Signal Generate...\n",
      "Phase 4 -- Done! Cost: 0.088s\n",
      "Phase 5 -- Echo Calculate...\n",
      "        -- CPU ThreadNum: 48\n",
      "Phase 5 -- Done! Cost: 9.142s\n",
      "Phase 6 -- Result Save...\n",
      "Phase 6 -- Done! Cost: 1.194s\n",
      "  Final -- Total Cost: 10.47s\n",
      "回波仿真完成！\n",
      "图像大小：150 x 150\n"
     ]
    },
    {
     "name": "stderr",
     "output_type": "stream",
     "text": [
      "/home/liq/pro/new_production_1118/sklearn/cluster/_kmeans.py:1416: FutureWarning: The default value of `n_init` will change from 10 to 'auto' in 1.4. Set the value of `n_init` explicitly to suppress the warning\n",
      "  super()._check_params_vs_input(X, default_n_init=10)\n"
     ]
    },
    {
     "name": "stdout",
     "output_type": "stream",
     "text": [
      "开始回波仿真...\n",
      "========================= EchoSimProcess =========================\n",
      "Phase 1 -- Params read and config...\n",
      "Phase 1 -- Done! Cost: 0.106s\n",
      "Phase 2 -- Sat Position Calculate...\n",
      "Phase 2 -- Done! Cost: 0s\n",
      "Phase 3 -- Flight Track and BeamDir History Simulate...\n",
      "Phase 3 -- Done! Cost: 0s\n",
      "Phase 4 -- Signal Generate...\n",
      "Phase 4 -- Done! Cost: 0.04s\n",
      "Phase 5 -- Echo Calculate...\n",
      "        -- CPU ThreadNum: 48\n",
      "Phase 5 -- Done! Cost: 9.166s\n",
      "Phase 6 -- Result Save...\n",
      "Phase 6 -- Done! Cost: 1.2s\n",
      "  Final -- Total Cost: 10.515s\n",
      "回波仿真完成！\n",
      "图像大小：150 x 150\n"
     ]
    },
    {
     "name": "stderr",
     "output_type": "stream",
     "text": [
      "/home/liq/pro/new_production_1118/sklearn/cluster/_kmeans.py:1416: FutureWarning: The default value of `n_init` will change from 10 to 'auto' in 1.4. Set the value of `n_init` explicitly to suppress the warning\n",
      "  super()._check_params_vs_input(X, default_n_init=10)\n"
     ]
    },
    {
     "name": "stdout",
     "output_type": "stream",
     "text": [
      "开始回波仿真...\n",
      "========================= EchoSimProcess =========================\n",
      "Phase 1 -- Params read and config...\n",
      "Phase 1 -- Done! Cost: 0.034s\n",
      "Phase 2 -- Sat Position Calculate...\n",
      "Phase 2 -- Done! Cost: 0s\n",
      "Phase 3 -- Flight Track and BeamDir History Simulate...\n",
      "Phase 3 -- Done! Cost: 0s\n",
      "Phase 4 -- Signal Generate...\n",
      "Phase 4 -- Done! Cost: 0.097s\n",
      "Phase 5 -- Echo Calculate...\n",
      "        -- CPU ThreadNum: 48\n",
      "Phase 5 -- Done! Cost: 8.091s\n",
      "Phase 6 -- Result Save...\n",
      "Phase 6 -- Done! Cost: 1.03s\n",
      "  Final -- Total Cost: 9.256s\n",
      "回波仿真完成！\n",
      "图像大小：150 x 150\n"
     ]
    },
    {
     "name": "stderr",
     "output_type": "stream",
     "text": [
      "/home/liq/pro/new_production_1118/sklearn/cluster/_kmeans.py:1416: FutureWarning: The default value of `n_init` will change from 10 to 'auto' in 1.4. Set the value of `n_init` explicitly to suppress the warning\n",
      "  super()._check_params_vs_input(X, default_n_init=10)\n"
     ]
    },
    {
     "name": "stdout",
     "output_type": "stream",
     "text": [
      "开始回波仿真...\n",
      "========================= EchoSimProcess =========================\n",
      "Phase 1 -- Params read and config...\n",
      "Phase 1 -- Done! Cost: 0.076s\n",
      "Phase 2 -- Sat Position Calculate...\n",
      "Phase 2 -- Done! Cost: 0s\n",
      "Phase 3 -- Flight Track and BeamDir History Simulate...\n",
      "Phase 3 -- Done! Cost: 0s\n",
      "Phase 4 -- Signal Generate...\n",
      "Phase 4 -- Done! Cost: 0.072s\n",
      "Phase 5 -- Echo Calculate...\n",
      "        -- CPU ThreadNum: 48\n",
      "Phase 5 -- Done! Cost: 8.063s\n",
      "Phase 6 -- Result Save...\n",
      "Phase 6 -- Done! Cost: 1.175s\n",
      "  Final -- Total Cost: 9.389s\n",
      "回波仿真完成！\n",
      "图像大小：150 x 150\n"
     ]
    },
    {
     "name": "stderr",
     "output_type": "stream",
     "text": [
      "/home/liq/pro/new_production_1118/sklearn/cluster/_kmeans.py:1416: FutureWarning: The default value of `n_init` will change from 10 to 'auto' in 1.4. Set the value of `n_init` explicitly to suppress the warning\n",
      "  super()._check_params_vs_input(X, default_n_init=10)\n"
     ]
    },
    {
     "name": "stdout",
     "output_type": "stream",
     "text": [
      "开始回波仿真...\n",
      "========================= EchoSimProcess =========================\n",
      "Phase 1 -- Params read and config...\n",
      "Phase 1 -- Done! Cost: 0.032s\n",
      "Phase 2 -- Sat Position Calculate...\n",
      "Phase 2 -- Done! Cost: 0s\n",
      "Phase 3 -- Flight Track and BeamDir History Simulate...\n",
      "Phase 3 -- Done! Cost: 0s\n",
      "Phase 4 -- Signal Generate...\n",
      "Phase 4 -- Done! Cost: 0.096s\n",
      "Phase 5 -- Echo Calculate...\n",
      "        -- CPU ThreadNum: 48\n",
      "Phase 5 -- Done! Cost: 7.993s\n",
      "Phase 6 -- Result Save...\n",
      "Phase 6 -- Done! Cost: 1.08s\n",
      "  Final -- Total Cost: 9.204s\n",
      "回波仿真完成！\n",
      "图像大小：150 x 150\n"
     ]
    },
    {
     "name": "stderr",
     "output_type": "stream",
     "text": [
      "/home/liq/pro/new_production_1118/sklearn/cluster/_kmeans.py:1416: FutureWarning: The default value of `n_init` will change from 10 to 'auto' in 1.4. Set the value of `n_init` explicitly to suppress the warning\n",
      "  super()._check_params_vs_input(X, default_n_init=10)\n"
     ]
    },
    {
     "name": "stdout",
     "output_type": "stream",
     "text": [
      "开始回波仿真...\n",
      "========================= EchoSimProcess =========================\n",
      "Phase 1 -- Params read and config...\n",
      "Phase 1 -- Done! Cost: 0.031s\n",
      "Phase 2 -- Sat Position Calculate...\n",
      "Phase 2 -- Done! Cost: 0s\n",
      "Phase 3 -- Flight Track and BeamDir History Simulate...\n",
      "Phase 3 -- Done! Cost: 0s\n",
      "Phase 4 -- Signal Generate...\n",
      "Phase 4 -- Done! Cost: 0.107s\n",
      "Phase 5 -- Echo Calculate...\n",
      "        -- CPU ThreadNum: 48\n",
      "Phase 5 -- Done! Cost: 8.006s\n",
      "Phase 6 -- Result Save...\n",
      "Phase 6 -- Done! Cost: 0.928s\n",
      "  Final -- Total Cost: 9.075s\n",
      "回波仿真完成！\n",
      "图像大小：150 x 150\n"
     ]
    },
    {
     "name": "stderr",
     "output_type": "stream",
     "text": [
      "/home/liq/pro/new_production_1118/sklearn/cluster/_kmeans.py:1416: FutureWarning: The default value of `n_init` will change from 10 to 'auto' in 1.4. Set the value of `n_init` explicitly to suppress the warning\n",
      "  super()._check_params_vs_input(X, default_n_init=10)\n"
     ]
    },
    {
     "name": "stdout",
     "output_type": "stream",
     "text": [
      "开始回波仿真...\n",
      "========================= EchoSimProcess =========================\n",
      "Phase 1 -- Params read and config...\n",
      "Phase 1 -- Done! Cost: 0.034s\n",
      "Phase 2 -- Sat Position Calculate...\n",
      "Phase 2 -- Done! Cost: 0s\n",
      "Phase 3 -- Flight Track and BeamDir History Simulate...\n",
      "Phase 3 -- Done! Cost: 0s\n",
      "Phase 4 -- Signal Generate...\n",
      "Phase 4 -- Done! Cost: 0.098s\n",
      "Phase 5 -- Echo Calculate...\n",
      "        -- CPU ThreadNum: 48\n",
      "Phase 5 -- Done! Cost: 8.464s\n",
      "Phase 6 -- Result Save...\n",
      "Phase 6 -- Done! Cost: 1.055s\n",
      "  Final -- Total Cost: 9.653s\n",
      "回波仿真完成！\n",
      "图像大小：150 x 150\n"
     ]
    },
    {
     "name": "stderr",
     "output_type": "stream",
     "text": [
      "/home/liq/pro/new_production_1118/sklearn/cluster/_kmeans.py:1416: FutureWarning: The default value of `n_init` will change from 10 to 'auto' in 1.4. Set the value of `n_init` explicitly to suppress the warning\n",
      "  super()._check_params_vs_input(X, default_n_init=10)\n"
     ]
    },
    {
     "name": "stdout",
     "output_type": "stream",
     "text": [
      "开始回波仿真...\n",
      "========================= EchoSimProcess =========================\n",
      "Phase 1 -- Params read and config...\n",
      "Phase 1 -- Done! Cost: 0.058s\n",
      "Phase 2 -- Sat Position Calculate...\n",
      "Phase 2 -- Done! Cost: 0s\n",
      "Phase 3 -- Flight Track and BeamDir History Simulate...\n",
      "Phase 3 -- Done! Cost: 0s\n",
      "Phase 4 -- Signal Generate...\n",
      "Phase 4 -- Done! Cost: 0.065s\n",
      "Phase 5 -- Echo Calculate...\n",
      "        -- CPU ThreadNum: 48\n",
      "Phase 5 -- Done! Cost: 8.281s\n",
      "Phase 6 -- Result Save...\n",
      "Phase 6 -- Done! Cost: 1.157s\n",
      "  Final -- Total Cost: 9.568s\n",
      "回波仿真完成！\n",
      "图像大小：150 x 150\n"
     ]
    },
    {
     "name": "stderr",
     "output_type": "stream",
     "text": [
      "/home/liq/pro/new_production_1118/sklearn/cluster/_kmeans.py:1416: FutureWarning: The default value of `n_init` will change from 10 to 'auto' in 1.4. Set the value of `n_init` explicitly to suppress the warning\n",
      "  super()._check_params_vs_input(X, default_n_init=10)\n"
     ]
    },
    {
     "name": "stdout",
     "output_type": "stream",
     "text": [
      "开始回波仿真...\n",
      "========================= EchoSimProcess =========================\n",
      "Phase 1 -- Params read and config...\n",
      "Phase 1 -- Done! Cost: 0.079s\n",
      "Phase 2 -- Sat Position Calculate...\n",
      "Phase 2 -- Done! Cost: 0s\n",
      "Phase 3 -- Flight Track and BeamDir History Simulate...\n",
      "Phase 3 -- Done! Cost: 0s\n",
      "Phase 4 -- Signal Generate...\n",
      "Phase 4 -- Done! Cost: 0.064s\n",
      "Phase 5 -- Echo Calculate...\n",
      "        -- CPU ThreadNum: 48\n",
      "Phase 5 -- Done! Cost: 8.249s\n",
      "Phase 6 -- Result Save...\n",
      "Phase 6 -- Done! Cost: 1.182s\n",
      "  Final -- Total Cost: 9.577s\n",
      "回波仿真完成！\n",
      "图像大小：150 x 150\n"
     ]
    },
    {
     "name": "stderr",
     "output_type": "stream",
     "text": [
      "/home/liq/pro/new_production_1118/sklearn/cluster/_kmeans.py:1416: FutureWarning: The default value of `n_init` will change from 10 to 'auto' in 1.4. Set the value of `n_init` explicitly to suppress the warning\n",
      "  super()._check_params_vs_input(X, default_n_init=10)\n"
     ]
    },
    {
     "name": "stdout",
     "output_type": "stream",
     "text": [
      "开始回波仿真...\n",
      "========================= EchoSimProcess =========================\n",
      "Phase 1 -- Params read and config...\n",
      "Phase 1 -- Done! Cost: 0.074s\n",
      "Phase 2 -- Sat Position Calculate...\n",
      "Phase 2 -- Done! Cost: 0s\n",
      "Phase 3 -- Flight Track and BeamDir History Simulate...\n",
      "Phase 3 -- Done! Cost: 0s\n",
      "Phase 4 -- Signal Generate...\n",
      "Phase 4 -- Done! Cost: 0.073s\n",
      "Phase 5 -- Echo Calculate...\n",
      "        -- CPU ThreadNum: 48\n",
      "Phase 5 -- Done! Cost: 8.228s\n",
      "Phase 6 -- Result Save...\n",
      "Phase 6 -- Done! Cost: 0.921s\n",
      "  Final -- Total Cost: 9.299s\n",
      "回波仿真完成！\n",
      "图像大小：150 x 150\n"
     ]
    },
    {
     "name": "stderr",
     "output_type": "stream",
     "text": [
      "/home/liq/pro/new_production_1118/sklearn/cluster/_kmeans.py:1416: FutureWarning: The default value of `n_init` will change from 10 to 'auto' in 1.4. Set the value of `n_init` explicitly to suppress the warning\n",
      "  super()._check_params_vs_input(X, default_n_init=10)\n"
     ]
    },
    {
     "name": "stdout",
     "output_type": "stream",
     "text": [
      "开始回波仿真...\n",
      "========================= EchoSimProcess =========================\n",
      "Phase 1 -- Params read and config...\n",
      "Phase 1 -- Done! Cost: 0.046s\n",
      "Phase 2 -- Sat Position Calculate...\n",
      "Phase 2 -- Done! Cost: 0s\n",
      "Phase 3 -- Flight Track and BeamDir History Simulate...\n",
      "Phase 3 -- Done! Cost: 0s\n",
      "Phase 4 -- Signal Generate...\n",
      "Phase 4 -- Done! Cost: 0.069s\n",
      "Phase 5 -- Echo Calculate...\n",
      "        -- CPU ThreadNum: 48\n",
      "Phase 5 -- Done! Cost: 8.166s\n",
      "Phase 6 -- Result Save...\n",
      "Phase 6 -- Done! Cost: 1.256s\n",
      "  Final -- Total Cost: 9.549s\n",
      "回波仿真完成！\n",
      "图像大小：150 x 150\n"
     ]
    },
    {
     "name": "stderr",
     "output_type": "stream",
     "text": [
      "/home/liq/pro/new_production_1118/sklearn/cluster/_kmeans.py:1416: FutureWarning: The default value of `n_init` will change from 10 to 'auto' in 1.4. Set the value of `n_init` explicitly to suppress the warning\n",
      "  super()._check_params_vs_input(X, default_n_init=10)\n"
     ]
    },
    {
     "name": "stdout",
     "output_type": "stream",
     "text": [
      "开始回波仿真...\n",
      "========================= EchoSimProcess =========================\n",
      "Phase 1 -- Params read and config...\n",
      "Phase 1 -- Done! Cost: 0.08s\n",
      "Phase 2 -- Sat Position Calculate...\n",
      "Phase 2 -- Done! Cost: 0s\n",
      "Phase 3 -- Flight Track and BeamDir History Simulate...\n",
      "Phase 3 -- Done! Cost: 0s\n",
      "Phase 4 -- Signal Generate...\n",
      "Phase 4 -- Done! Cost: 0.063s\n",
      "Phase 5 -- Echo Calculate...\n",
      "        -- CPU ThreadNum: 48\n",
      "Phase 5 -- Done! Cost: 8.069s\n",
      "Phase 6 -- Result Save...\n",
      "Phase 6 -- Done! Cost: 0.962s\n",
      "  Final -- Total Cost: 9.182s\n",
      "回波仿真完成！\n",
      "图像大小：150 x 150\n"
     ]
    },
    {
     "name": "stderr",
     "output_type": "stream",
     "text": [
      "/home/liq/pro/new_production_1118/sklearn/cluster/_kmeans.py:1416: FutureWarning: The default value of `n_init` will change from 10 to 'auto' in 1.4. Set the value of `n_init` explicitly to suppress the warning\n",
      "  super()._check_params_vs_input(X, default_n_init=10)\n"
     ]
    },
    {
     "name": "stdout",
     "output_type": "stream",
     "text": [
      "开始回波仿真...\n",
      "========================= EchoSimProcess =========================\n",
      "Phase 1 -- Params read and config...\n",
      "Phase 1 -- Done! Cost: 0.081s\n",
      "Phase 2 -- Sat Position Calculate...\n",
      "Phase 2 -- Done! Cost: 0s\n",
      "Phase 3 -- Flight Track and BeamDir History Simulate...\n",
      "Phase 3 -- Done! Cost: 0s\n",
      "Phase 4 -- Signal Generate...\n",
      "Phase 4 -- Done! Cost: 0.06s\n",
      "Phase 5 -- Echo Calculate...\n",
      "        -- CPU ThreadNum: 48\n",
      "Phase 5 -- Done! Cost: 8.663s\n",
      "Phase 6 -- Result Save...\n",
      "Phase 6 -- Done! Cost: 1.262s\n",
      "  Final -- Total Cost: 10.071s\n",
      "回波仿真完成！\n",
      "图像大小：150 x 150\n"
     ]
    },
    {
     "name": "stderr",
     "output_type": "stream",
     "text": [
      "/home/liq/pro/new_production_1118/sklearn/cluster/_kmeans.py:1416: FutureWarning: The default value of `n_init` will change from 10 to 'auto' in 1.4. Set the value of `n_init` explicitly to suppress the warning\n",
      "  super()._check_params_vs_input(X, default_n_init=10)\n"
     ]
    },
    {
     "name": "stdout",
     "output_type": "stream",
     "text": [
      "开始回波仿真...\n",
      "========================= EchoSimProcess =========================\n",
      "Phase 1 -- Params read and config...\n",
      "Phase 1 -- Done! Cost: 0.034s\n",
      "Phase 2 -- Sat Position Calculate...\n",
      "Phase 2 -- Done! Cost: 0s\n",
      "Phase 3 -- Flight Track and BeamDir History Simulate...\n",
      "Phase 3 -- Done! Cost: 0s\n",
      "Phase 4 -- Signal Generate...\n",
      "Phase 4 -- Done! Cost: 0.09s\n",
      "Phase 5 -- Echo Calculate...\n",
      "        -- CPU ThreadNum: 48\n",
      "Phase 5 -- Done! Cost: 8.222s\n",
      "Phase 6 -- Result Save...\n",
      "Phase 6 -- Done! Cost: 0.916s\n",
      "  Final -- Total Cost: 9.264s\n",
      "回波仿真完成！\n",
      "图像大小：150 x 150\n"
     ]
    },
    {
     "name": "stderr",
     "output_type": "stream",
     "text": [
      "/home/liq/pro/new_production_1118/sklearn/cluster/_kmeans.py:1416: FutureWarning: The default value of `n_init` will change from 10 to 'auto' in 1.4. Set the value of `n_init` explicitly to suppress the warning\n",
      "  super()._check_params_vs_input(X, default_n_init=10)\n"
     ]
    },
    {
     "name": "stdout",
     "output_type": "stream",
     "text": [
      "开始回波仿真...\n",
      "========================= EchoSimProcess =========================\n",
      "Phase 1 -- Params read and config...\n",
      "Phase 1 -- Done! Cost: 0.076s\n",
      "Phase 2 -- Sat Position Calculate...\n",
      "Phase 2 -- Done! Cost: 0s\n",
      "Phase 3 -- Flight Track and BeamDir History Simulate...\n",
      "Phase 3 -- Done! Cost: 0s\n",
      "Phase 4 -- Signal Generate...\n",
      "Phase 4 -- Done! Cost: 0.069s\n",
      "Phase 5 -- Echo Calculate...\n",
      "        -- CPU ThreadNum: 48\n",
      "Phase 5 -- Done! Cost: 8.198s\n",
      "Phase 6 -- Result Save...\n",
      "Phase 6 -- Done! Cost: 1.174s\n",
      "  Final -- Total Cost: 9.52s\n",
      "回波仿真完成！\n",
      "图像大小：150 x 150\n"
     ]
    },
    {
     "name": "stderr",
     "output_type": "stream",
     "text": [
      "/home/liq/pro/new_production_1118/sklearn/cluster/_kmeans.py:1416: FutureWarning: The default value of `n_init` will change from 10 to 'auto' in 1.4. Set the value of `n_init` explicitly to suppress the warning\n",
      "  super()._check_params_vs_input(X, default_n_init=10)\n"
     ]
    },
    {
     "name": "stdout",
     "output_type": "stream",
     "text": [
      "开始回波仿真...\n",
      "========================= EchoSimProcess =========================\n",
      "Phase 1 -- Params read and config...\n",
      "Phase 1 -- Done! Cost: 0.111s\n",
      "Phase 2 -- Sat Position Calculate...\n",
      "Phase 2 -- Done! Cost: 0s\n",
      "Phase 3 -- Flight Track and BeamDir History Simulate...\n",
      "Phase 3 -- Done! Cost: 0.001s\n",
      "Phase 4 -- Signal Generate...\n",
      "Phase 4 -- Done! Cost: 0.042s\n",
      "Phase 5 -- Echo Calculate...\n",
      "        -- CPU ThreadNum: 48\n",
      "Phase 5 -- Done! Cost: 8.059s\n",
      "Phase 6 -- Result Save...\n",
      "Phase 6 -- Done! Cost: 0.923s\n",
      "  Final -- Total Cost: 9.138s\n",
      "回波仿真完成！\n",
      "图像大小：150 x 150\n"
     ]
    },
    {
     "name": "stderr",
     "output_type": "stream",
     "text": [
      "/home/liq/pro/new_production_1118/sklearn/cluster/_kmeans.py:1416: FutureWarning: The default value of `n_init` will change from 10 to 'auto' in 1.4. Set the value of `n_init` explicitly to suppress the warning\n",
      "  super()._check_params_vs_input(X, default_n_init=10)\n"
     ]
    },
    {
     "name": "stdout",
     "output_type": "stream",
     "text": [
      "开始回波仿真...\n",
      "========================= EchoSimProcess =========================\n",
      "Phase 1 -- Params read and config...\n",
      "Phase 1 -- Done! Cost: 0.034s\n",
      "Phase 2 -- Sat Position Calculate...\n",
      "Phase 2 -- Done! Cost: 0s\n",
      "Phase 3 -- Flight Track and BeamDir History Simulate...\n",
      "Phase 3 -- Done! Cost: 0s\n",
      "Phase 4 -- Signal Generate...\n",
      "Phase 4 -- Done! Cost: 0.097s\n",
      "Phase 5 -- Echo Calculate...\n",
      "        -- CPU ThreadNum: 48\n",
      "Phase 5 -- Done! Cost: 8.148s\n",
      "Phase 6 -- Result Save...\n",
      "Phase 6 -- Done! Cost: 0.945s\n",
      "  Final -- Total Cost: 9.226s\n",
      "回波仿真完成！\n",
      "图像大小：150 x 150\n"
     ]
    },
    {
     "name": "stderr",
     "output_type": "stream",
     "text": [
      "/home/liq/pro/new_production_1118/sklearn/cluster/_kmeans.py:1416: FutureWarning: The default value of `n_init` will change from 10 to 'auto' in 1.4. Set the value of `n_init` explicitly to suppress the warning\n",
      "  super()._check_params_vs_input(X, default_n_init=10)\n"
     ]
    },
    {
     "name": "stdout",
     "output_type": "stream",
     "text": [
      "开始回波仿真...\n",
      "========================= EchoSimProcess =========================\n",
      "Phase 1 -- Params read and config...\n",
      "Phase 1 -- Done! Cost: 0.056s\n",
      "Phase 2 -- Sat Position Calculate...\n",
      "Phase 2 -- Done! Cost: 0s\n",
      "Phase 3 -- Flight Track and BeamDir History Simulate...\n",
      "Phase 3 -- Done! Cost: 0s\n",
      "Phase 4 -- Signal Generate...\n",
      "Phase 4 -- Done! Cost: 0.063s\n",
      "Phase 5 -- Echo Calculate...\n",
      "        -- CPU ThreadNum: 48\n",
      "Phase 5 -- Done! Cost: 8.25s\n",
      "Phase 6 -- Result Save...\n",
      "Phase 6 -- Done! Cost: 0.946s\n",
      "  Final -- Total Cost: 9.325s\n",
      "回波仿真完成！\n",
      "图像大小：150 x 150\n"
     ]
    },
    {
     "name": "stderr",
     "output_type": "stream",
     "text": [
      "/home/liq/pro/new_production_1118/sklearn/cluster/_kmeans.py:1416: FutureWarning: The default value of `n_init` will change from 10 to 'auto' in 1.4. Set the value of `n_init` explicitly to suppress the warning\n",
      "  super()._check_params_vs_input(X, default_n_init=10)\n"
     ]
    },
    {
     "name": "stdout",
     "output_type": "stream",
     "text": [
      "开始回波仿真...\n",
      "========================= EchoSimProcess =========================\n",
      "Phase 1 -- Params read and config...\n",
      "Phase 1 -- Done! Cost: 0.073s\n",
      "Phase 2 -- Sat Position Calculate...\n",
      "Phase 2 -- Done! Cost: 0s\n",
      "Phase 3 -- Flight Track and BeamDir History Simulate...\n",
      "Phase 3 -- Done! Cost: 0s\n",
      "Phase 4 -- Signal Generate...\n",
      "Phase 4 -- Done! Cost: 0.063s\n",
      "Phase 5 -- Echo Calculate...\n",
      "        -- CPU ThreadNum: 48\n",
      "Phase 5 -- Done! Cost: 8.065s\n",
      "Phase 6 -- Result Save...\n",
      "Phase 6 -- Done! Cost: 1.169s\n",
      "  Final -- Total Cost: 9.381s\n",
      "回波仿真完成！\n",
      "图像大小：150 x 150\n"
     ]
    },
    {
     "name": "stderr",
     "output_type": "stream",
     "text": [
      "/home/liq/pro/new_production_1118/sklearn/cluster/_kmeans.py:1416: FutureWarning: The default value of `n_init` will change from 10 to 'auto' in 1.4. Set the value of `n_init` explicitly to suppress the warning\n",
      "  super()._check_params_vs_input(X, default_n_init=10)\n"
     ]
    },
    {
     "name": "stdout",
     "output_type": "stream",
     "text": [
      "开始回波仿真...\n",
      "========================= EchoSimProcess =========================\n",
      "Phase 1 -- Params read and config...\n",
      "Phase 1 -- Done! Cost: 0.034s\n",
      "Phase 2 -- Sat Position Calculate...\n",
      "Phase 2 -- Done! Cost: 0s\n",
      "Phase 3 -- Flight Track and BeamDir History Simulate...\n",
      "Phase 3 -- Done! Cost: 0s\n",
      "Phase 4 -- Signal Generate...\n",
      "Phase 4 -- Done! Cost: 0.096s\n",
      "Phase 5 -- Echo Calculate...\n",
      "        -- CPU ThreadNum: 48\n",
      "Phase 5 -- Done! Cost: 8.176s\n",
      "Phase 6 -- Result Save...\n",
      "Phase 6 -- Done! Cost: 0.982s\n",
      "  Final -- Total Cost: 9.292s\n",
      "回波仿真完成！\n",
      "图像大小：150 x 150\n"
     ]
    },
    {
     "name": "stderr",
     "output_type": "stream",
     "text": [
      "/home/liq/pro/new_production_1118/sklearn/cluster/_kmeans.py:1416: FutureWarning: The default value of `n_init` will change from 10 to 'auto' in 1.4. Set the value of `n_init` explicitly to suppress the warning\n",
      "  super()._check_params_vs_input(X, default_n_init=10)\n"
     ]
    },
    {
     "name": "stdout",
     "output_type": "stream",
     "text": [
      "开始回波仿真...\n",
      "========================= EchoSimProcess =========================\n",
      "Phase 1 -- Params read and config...\n",
      "Phase 1 -- Done! Cost: 0.057s\n",
      "Phase 2 -- Sat Position Calculate...\n",
      "Phase 2 -- Done! Cost: 0s\n",
      "Phase 3 -- Flight Track and BeamDir History Simulate...\n",
      "Phase 3 -- Done! Cost: 0s\n",
      "Phase 4 -- Signal Generate...\n",
      "Phase 4 -- Done! Cost: 0.077s\n",
      "Phase 5 -- Echo Calculate...\n",
      "        -- CPU ThreadNum: 48\n",
      "Phase 5 -- Done! Cost: 7.478s\n",
      "Phase 6 -- Result Save...\n",
      "Phase 6 -- Done! Cost: 0.851s\n",
      "  Final -- Total Cost: 8.471s\n",
      "回波仿真完成！\n",
      "图像大小：150 x 150\n"
     ]
    },
    {
     "name": "stderr",
     "output_type": "stream",
     "text": [
      "/home/liq/pro/new_production_1118/sklearn/cluster/_kmeans.py:1416: FutureWarning: The default value of `n_init` will change from 10 to 'auto' in 1.4. Set the value of `n_init` explicitly to suppress the warning\n",
      "  super()._check_params_vs_input(X, default_n_init=10)\n"
     ]
    },
    {
     "name": "stdout",
     "output_type": "stream",
     "text": [
      "开始回波仿真...\n",
      "========================= EchoSimProcess =========================\n",
      "Phase 1 -- Params read and config...\n",
      "Phase 1 -- Done! Cost: 0.062s\n",
      "Phase 2 -- Sat Position Calculate...\n",
      "Phase 2 -- Done! Cost: 0s\n",
      "Phase 3 -- Flight Track and BeamDir History Simulate...\n",
      "Phase 3 -- Done! Cost: 0s\n",
      "Phase 4 -- Signal Generate...\n",
      "Phase 4 -- Done! Cost: 0.103s\n",
      "Phase 5 -- Echo Calculate...\n",
      "        -- CPU ThreadNum: 48\n",
      "Phase 5 -- Done! Cost: 7.578s\n",
      "Phase 6 -- Result Save...\n",
      "Phase 6 -- Done! Cost: 1.088s\n",
      "  Final -- Total Cost: 8.832s\n",
      "回波仿真完成！\n",
      "图像大小：150 x 150\n"
     ]
    },
    {
     "name": "stderr",
     "output_type": "stream",
     "text": [
      "/home/liq/pro/new_production_1118/sklearn/cluster/_kmeans.py:1416: FutureWarning: The default value of `n_init` will change from 10 to 'auto' in 1.4. Set the value of `n_init` explicitly to suppress the warning\n",
      "  super()._check_params_vs_input(X, default_n_init=10)\n"
     ]
    },
    {
     "name": "stdout",
     "output_type": "stream",
     "text": [
      "开始回波仿真...\n",
      "========================= EchoSimProcess =========================\n",
      "Phase 1 -- Params read and config...\n",
      "Phase 1 -- Done! Cost: 0.052s\n",
      "Phase 2 -- Sat Position Calculate...\n",
      "Phase 2 -- Done! Cost: 0s\n",
      "Phase 3 -- Flight Track and BeamDir History Simulate...\n",
      "Phase 3 -- Done! Cost: 0s\n",
      "Phase 4 -- Signal Generate...\n",
      "Phase 4 -- Done! Cost: 0.092s\n",
      "Phase 5 -- Echo Calculate...\n",
      "        -- CPU ThreadNum: 48\n",
      "Phase 5 -- Done! Cost: 7.568s\n",
      "Phase 6 -- Result Save...\n",
      "Phase 6 -- Done! Cost: 0.849s\n",
      "  Final -- Total Cost: 8.58s\n",
      "回波仿真完成！\n",
      "图像大小：150 x 150\n"
     ]
    },
    {
     "name": "stderr",
     "output_type": "stream",
     "text": [
      "/home/liq/pro/new_production_1118/sklearn/cluster/_kmeans.py:1416: FutureWarning: The default value of `n_init` will change from 10 to 'auto' in 1.4. Set the value of `n_init` explicitly to suppress the warning\n",
      "  super()._check_params_vs_input(X, default_n_init=10)\n"
     ]
    },
    {
     "name": "stdout",
     "output_type": "stream",
     "text": [
      "开始回波仿真...\n",
      "========================= EchoSimProcess =========================\n",
      "Phase 1 -- Params read and config...\n",
      "Phase 1 -- Done! Cost: 0.028s\n",
      "Phase 2 -- Sat Position Calculate...\n",
      "Phase 2 -- Done! Cost: 0s\n",
      "Phase 3 -- Flight Track and BeamDir History Simulate...\n",
      "Phase 3 -- Done! Cost: 0s\n",
      "Phase 4 -- Signal Generate...\n",
      "Phase 4 -- Done! Cost: 0.084s\n",
      "Phase 5 -- Echo Calculate...\n",
      "        -- CPU ThreadNum: 48\n",
      "Phase 5 -- Done! Cost: 7.648s\n",
      "Phase 6 -- Result Save...\n",
      "Phase 6 -- Done! Cost: 1.063s\n",
      "  Final -- Total Cost: 8.825s\n",
      "回波仿真完成！\n",
      "图像大小：150 x 150\n"
     ]
    },
    {
     "name": "stderr",
     "output_type": "stream",
     "text": [
      "/home/liq/pro/new_production_1118/sklearn/cluster/_kmeans.py:1416: FutureWarning: The default value of `n_init` will change from 10 to 'auto' in 1.4. Set the value of `n_init` explicitly to suppress the warning\n",
      "  super()._check_params_vs_input(X, default_n_init=10)\n"
     ]
    },
    {
     "name": "stdout",
     "output_type": "stream",
     "text": [
      "开始回波仿真...\n",
      "========================= EchoSimProcess =========================\n",
      "Phase 1 -- Params read and config...\n",
      "Phase 1 -- Done! Cost: 0.048s\n",
      "Phase 2 -- Sat Position Calculate...\n",
      "Phase 2 -- Done! Cost: 0s\n",
      "Phase 3 -- Flight Track and BeamDir History Simulate...\n",
      "Phase 3 -- Done! Cost: 0s\n",
      "Phase 4 -- Signal Generate...\n",
      "Phase 4 -- Done! Cost: 0.085s\n",
      "Phase 5 -- Echo Calculate...\n",
      "        -- CPU ThreadNum: 48\n",
      "Phase 5 -- Done! Cost: 7.615s\n",
      "Phase 6 -- Result Save...\n",
      "Phase 6 -- Done! Cost: 1.183s\n",
      "  Final -- Total Cost: 8.939s\n",
      "回波仿真完成！\n",
      "图像大小：150 x 150\n"
     ]
    },
    {
     "name": "stderr",
     "output_type": "stream",
     "text": [
      "/home/liq/pro/new_production_1118/sklearn/cluster/_kmeans.py:1416: FutureWarning: The default value of `n_init` will change from 10 to 'auto' in 1.4. Set the value of `n_init` explicitly to suppress the warning\n",
      "  super()._check_params_vs_input(X, default_n_init=10)\n"
     ]
    },
    {
     "name": "stdout",
     "output_type": "stream",
     "text": [
      "开始回波仿真...\n",
      "========================= EchoSimProcess =========================\n",
      "Phase 1 -- Params read and config...\n",
      "Phase 1 -- Done! Cost: 0.028s\n",
      "Phase 2 -- Sat Position Calculate...\n",
      "Phase 2 -- Done! Cost: 0s\n",
      "Phase 3 -- Flight Track and BeamDir History Simulate...\n",
      "Phase 3 -- Done! Cost: 0s\n",
      "Phase 4 -- Signal Generate...\n",
      "Phase 4 -- Done! Cost: 0.107s\n",
      "Phase 5 -- Echo Calculate...\n",
      "        -- CPU ThreadNum: 48\n",
      "Phase 5 -- Done! Cost: 7.262s\n",
      "Phase 6 -- Result Save...\n",
      "Phase 6 -- Done! Cost: 1.178s\n",
      "  Final -- Total Cost: 8.578s\n",
      "回波仿真完成！\n",
      "图像大小：150 x 150\n"
     ]
    },
    {
     "name": "stderr",
     "output_type": "stream",
     "text": [
      "/home/liq/pro/new_production_1118/sklearn/cluster/_kmeans.py:1416: FutureWarning: The default value of `n_init` will change from 10 to 'auto' in 1.4. Set the value of `n_init` explicitly to suppress the warning\n",
      "  super()._check_params_vs_input(X, default_n_init=10)\n"
     ]
    },
    {
     "name": "stdout",
     "output_type": "stream",
     "text": [
      "开始回波仿真...\n",
      "========================= EchoSimProcess =========================\n",
      "Phase 1 -- Params read and config...\n",
      "Phase 1 -- Done! Cost: 0.028s\n",
      "Phase 2 -- Sat Position Calculate...\n",
      "Phase 2 -- Done! Cost: 0s\n",
      "Phase 3 -- Flight Track and BeamDir History Simulate...\n",
      "Phase 3 -- Done! Cost: 0s\n",
      "Phase 4 -- Signal Generate...\n",
      "Phase 4 -- Done! Cost: 0.111s\n",
      "Phase 5 -- Echo Calculate...\n",
      "        -- CPU ThreadNum: 48\n",
      "Phase 5 -- Done! Cost: 7.457s\n",
      "Phase 6 -- Result Save...\n",
      "Phase 6 -- Done! Cost: 1.19s\n",
      "  Final -- Total Cost: 8.789s\n",
      "回波仿真完成！\n",
      "图像大小：150 x 150\n"
     ]
    },
    {
     "name": "stderr",
     "output_type": "stream",
     "text": [
      "/home/liq/pro/new_production_1118/sklearn/cluster/_kmeans.py:1416: FutureWarning: The default value of `n_init` will change from 10 to 'auto' in 1.4. Set the value of `n_init` explicitly to suppress the warning\n",
      "  super()._check_params_vs_input(X, default_n_init=10)\n"
     ]
    },
    {
     "name": "stdout",
     "output_type": "stream",
     "text": [
      "开始回波仿真...\n",
      "========================= EchoSimProcess =========================\n",
      "Phase 1 -- Params read and config...\n",
      "Phase 1 -- Done! Cost: 0.026s\n",
      "Phase 2 -- Sat Position Calculate...\n",
      "Phase 2 -- Done! Cost: 0s\n",
      "Phase 3 -- Flight Track and BeamDir History Simulate...\n",
      "Phase 3 -- Done! Cost: 0s\n",
      "Phase 4 -- Signal Generate...\n",
      "Phase 4 -- Done! Cost: 0.11s\n",
      "Phase 5 -- Echo Calculate...\n",
      "        -- CPU ThreadNum: 48\n",
      "Phase 5 -- Done! Cost: 7.489s\n",
      "Phase 6 -- Result Save...\n",
      "Phase 6 -- Done! Cost: 1.195s\n",
      "  Final -- Total Cost: 8.822s\n",
      "回波仿真完成！\n",
      "图像大小：150 x 150\n"
     ]
    },
    {
     "name": "stderr",
     "output_type": "stream",
     "text": [
      "/home/liq/pro/new_production_1118/sklearn/cluster/_kmeans.py:1416: FutureWarning: The default value of `n_init` will change from 10 to 'auto' in 1.4. Set the value of `n_init` explicitly to suppress the warning\n",
      "  super()._check_params_vs_input(X, default_n_init=10)\n"
     ]
    },
    {
     "name": "stdout",
     "output_type": "stream",
     "text": [
      "开始回波仿真...\n",
      "========================= EchoSimProcess =========================\n",
      "Phase 1 -- Params read and config...\n",
      "Phase 1 -- Done! Cost: 0.076s\n",
      "Phase 2 -- Sat Position Calculate...\n",
      "Phase 2 -- Done! Cost: 0s\n",
      "Phase 3 -- Flight Track and BeamDir History Simulate...\n",
      "Phase 3 -- Done! Cost: 0s\n",
      "Phase 4 -- Signal Generate...\n",
      "Phase 4 -- Done! Cost: 0.071s\n",
      "Phase 5 -- Echo Calculate...\n",
      "        -- CPU ThreadNum: 48\n",
      "Phase 5 -- Done! Cost: 7.716s\n",
      "Phase 6 -- Result Save...\n",
      "Phase 6 -- Done! Cost: 1.162s\n",
      "  Final -- Total Cost: 9.028s\n",
      "回波仿真完成！\n",
      "图像大小：150 x 150\n"
     ]
    },
    {
     "name": "stderr",
     "output_type": "stream",
     "text": [
      "/home/liq/pro/new_production_1118/sklearn/cluster/_kmeans.py:1416: FutureWarning: The default value of `n_init` will change from 10 to 'auto' in 1.4. Set the value of `n_init` explicitly to suppress the warning\n",
      "  super()._check_params_vs_input(X, default_n_init=10)\n"
     ]
    },
    {
     "name": "stdout",
     "output_type": "stream",
     "text": [
      "开始回波仿真...\n",
      "========================= EchoSimProcess =========================\n",
      "Phase 1 -- Params read and config...\n",
      "Phase 1 -- Done! Cost: 0.085s\n",
      "Phase 2 -- Sat Position Calculate...\n",
      "Phase 2 -- Done! Cost: 0s\n",
      "Phase 3 -- Flight Track and BeamDir History Simulate...\n",
      "Phase 3 -- Done! Cost: 0s\n",
      "Phase 4 -- Signal Generate...\n",
      "Phase 4 -- Done! Cost: 0.077s\n",
      "Phase 5 -- Echo Calculate...\n",
      "        -- CPU ThreadNum: 48\n",
      "Phase 5 -- Done! Cost: 7.488s\n",
      "Phase 6 -- Result Save...\n",
      "Phase 6 -- Done! Cost: 0.887s\n",
      "  Final -- Total Cost: 8.544s\n",
      "回波仿真完成！\n",
      "图像大小：150 x 150\n"
     ]
    },
    {
     "name": "stderr",
     "output_type": "stream",
     "text": [
      "/home/liq/pro/new_production_1118/sklearn/cluster/_kmeans.py:1416: FutureWarning: The default value of `n_init` will change from 10 to 'auto' in 1.4. Set the value of `n_init` explicitly to suppress the warning\n",
      "  super()._check_params_vs_input(X, default_n_init=10)\n"
     ]
    },
    {
     "name": "stdout",
     "output_type": "stream",
     "text": [
      "开始回波仿真...\n",
      "========================= EchoSimProcess =========================\n",
      "Phase 1 -- Params read and config...\n",
      "Phase 1 -- Done! Cost: 0.056s\n",
      "Phase 2 -- Sat Position Calculate...\n",
      "Phase 2 -- Done! Cost: 0s\n",
      "Phase 3 -- Flight Track and BeamDir History Simulate...\n",
      "Phase 3 -- Done! Cost: 0s\n",
      "Phase 4 -- Signal Generate...\n",
      "Phase 4 -- Done! Cost: 0.088s\n",
      "Phase 5 -- Echo Calculate...\n",
      "        -- CPU ThreadNum: 48\n",
      "Phase 5 -- Done! Cost: 7.59s\n",
      "Phase 6 -- Result Save...\n",
      "Phase 6 -- Done! Cost: 1.201s\n",
      "  Final -- Total Cost: 8.938s\n",
      "回波仿真完成！\n",
      "图像大小：150 x 150\n"
     ]
    },
    {
     "name": "stderr",
     "output_type": "stream",
     "text": [
      "/home/liq/pro/new_production_1118/sklearn/cluster/_kmeans.py:1416: FutureWarning: The default value of `n_init` will change from 10 to 'auto' in 1.4. Set the value of `n_init` explicitly to suppress the warning\n",
      "  super()._check_params_vs_input(X, default_n_init=10)\n"
     ]
    },
    {
     "name": "stdout",
     "output_type": "stream",
     "text": [
      "开始回波仿真...\n",
      "========================= EchoSimProcess =========================\n",
      "Phase 1 -- Params read and config...\n",
      "Phase 1 -- Done! Cost: 0.038s\n",
      "Phase 2 -- Sat Position Calculate...\n",
      "Phase 2 -- Done! Cost: 0s\n",
      "Phase 3 -- Flight Track and BeamDir History Simulate...\n",
      "Phase 3 -- Done! Cost: 0s\n",
      "Phase 4 -- Signal Generate...\n",
      "Phase 4 -- Done! Cost: 0.082s\n",
      "Phase 5 -- Echo Calculate...\n",
      "        -- CPU ThreadNum: 48\n",
      "Phase 5 -- Done! Cost: 7.298s\n",
      "Phase 6 -- Result Save...\n",
      "Phase 6 -- Done! Cost: 0.859s\n",
      "  Final -- Total Cost: 8.285s\n",
      "回波仿真完成！\n",
      "图像大小：150 x 150\n"
     ]
    },
    {
     "name": "stderr",
     "output_type": "stream",
     "text": [
      "/home/liq/pro/new_production_1118/sklearn/cluster/_kmeans.py:1416: FutureWarning: The default value of `n_init` will change from 10 to 'auto' in 1.4. Set the value of `n_init` explicitly to suppress the warning\n",
      "  super()._check_params_vs_input(X, default_n_init=10)\n"
     ]
    },
    {
     "name": "stdout",
     "output_type": "stream",
     "text": [
      "开始回波仿真...\n",
      "========================= EchoSimProcess =========================\n",
      "Phase 1 -- Params read and config...\n",
      "Phase 1 -- Done! Cost: 0.054s\n",
      "Phase 2 -- Sat Position Calculate...\n",
      "Phase 2 -- Done! Cost: 0s\n",
      "Phase 3 -- Flight Track and BeamDir History Simulate...\n",
      "Phase 3 -- Done! Cost: 0s\n",
      "Phase 4 -- Signal Generate...\n",
      "Phase 4 -- Done! Cost: 0.094s\n",
      "Phase 5 -- Echo Calculate...\n",
      "        -- CPU ThreadNum: 48\n",
      "Phase 5 -- Done! Cost: 7.596s\n",
      "Phase 6 -- Result Save...\n",
      "Phase 6 -- Done! Cost: 0.853s\n",
      "  Final -- Total Cost: 8.599s\n",
      "回波仿真完成！\n",
      "图像大小：150 x 150\n"
     ]
    },
    {
     "name": "stderr",
     "output_type": "stream",
     "text": [
      "/home/liq/pro/new_production_1118/sklearn/cluster/_kmeans.py:1416: FutureWarning: The default value of `n_init` will change from 10 to 'auto' in 1.4. Set the value of `n_init` explicitly to suppress the warning\n",
      "  super()._check_params_vs_input(X, default_n_init=10)\n"
     ]
    },
    {
     "name": "stdout",
     "output_type": "stream",
     "text": [
      "开始回波仿真...\n",
      "========================= EchoSimProcess =========================\n",
      "Phase 1 -- Params read and config...\n",
      "Phase 1 -- Done! Cost: 0.059s\n",
      "Phase 2 -- Sat Position Calculate...\n",
      "Phase 2 -- Done! Cost: 0s\n",
      "Phase 3 -- Flight Track and BeamDir History Simulate...\n",
      "Phase 3 -- Done! Cost: 0s\n",
      "Phase 4 -- Signal Generate...\n",
      "Phase 4 -- Done! Cost: 0.094s\n",
      "Phase 5 -- Echo Calculate...\n",
      "        -- CPU ThreadNum: 48\n",
      "Phase 5 -- Done! Cost: 7.517s\n",
      "Phase 6 -- Result Save...\n",
      "Phase 6 -- Done! Cost: 0.9s\n",
      "  Final -- Total Cost: 8.581s\n",
      "回波仿真完成！\n",
      "图像大小：150 x 150\n"
     ]
    },
    {
     "name": "stderr",
     "output_type": "stream",
     "text": [
      "/home/liq/pro/new_production_1118/sklearn/cluster/_kmeans.py:1416: FutureWarning: The default value of `n_init` will change from 10 to 'auto' in 1.4. Set the value of `n_init` explicitly to suppress the warning\n",
      "  super()._check_params_vs_input(X, default_n_init=10)\n"
     ]
    },
    {
     "name": "stdout",
     "output_type": "stream",
     "text": [
      "开始回波仿真...\n",
      "========================= EchoSimProcess =========================\n",
      "Phase 1 -- Params read and config...\n",
      "Phase 1 -- Done! Cost: 0.06s\n",
      "Phase 2 -- Sat Position Calculate...\n",
      "Phase 2 -- Done! Cost: 0s\n",
      "Phase 3 -- Flight Track and BeamDir History Simulate...\n",
      "Phase 3 -- Done! Cost: 0s\n",
      "Phase 4 -- Signal Generate...\n",
      "Phase 4 -- Done! Cost: 0.07s\n",
      "Phase 5 -- Echo Calculate...\n",
      "        -- CPU ThreadNum: 48\n",
      "Phase 5 -- Done! Cost: 7.667s\n",
      "Phase 6 -- Result Save...\n",
      "Phase 6 -- Done! Cost: 0.896s\n",
      "  Final -- Total Cost: 8.705s\n",
      "回波仿真完成！\n",
      "图像大小：150 x 150\n"
     ]
    },
    {
     "name": "stderr",
     "output_type": "stream",
     "text": [
      "/home/liq/pro/new_production_1118/sklearn/cluster/_kmeans.py:1416: FutureWarning: The default value of `n_init` will change from 10 to 'auto' in 1.4. Set the value of `n_init` explicitly to suppress the warning\n",
      "  super()._check_params_vs_input(X, default_n_init=10)\n"
     ]
    },
    {
     "name": "stdout",
     "output_type": "stream",
     "text": [
      "开始回波仿真...\n",
      "========================= EchoSimProcess =========================\n",
      "Phase 1 -- Params read and config...\n",
      "Phase 1 -- Done! Cost: 0.041s\n",
      "Phase 2 -- Sat Position Calculate...\n",
      "Phase 2 -- Done! Cost: 0s\n",
      "Phase 3 -- Flight Track and BeamDir History Simulate...\n",
      "Phase 3 -- Done! Cost: 0s\n",
      "Phase 4 -- Signal Generate...\n",
      "Phase 4 -- Done! Cost: 0.097s\n",
      "Phase 5 -- Echo Calculate...\n",
      "        -- CPU ThreadNum: 48\n",
      "Phase 5 -- Done! Cost: 7.578s\n",
      "Phase 6 -- Result Save...\n",
      "Phase 6 -- Done! Cost: 0.937s\n",
      "  Final -- Total Cost: 8.655s\n",
      "回波仿真完成！\n",
      "图像大小：150 x 150\n"
     ]
    },
    {
     "name": "stderr",
     "output_type": "stream",
     "text": [
      "/home/liq/pro/new_production_1118/sklearn/cluster/_kmeans.py:1416: FutureWarning: The default value of `n_init` will change from 10 to 'auto' in 1.4. Set the value of `n_init` explicitly to suppress the warning\n",
      "  super()._check_params_vs_input(X, default_n_init=10)\n"
     ]
    },
    {
     "name": "stdout",
     "output_type": "stream",
     "text": [
      "开始回波仿真...\n",
      "========================= EchoSimProcess =========================\n",
      "Phase 1 -- Params read and config...\n",
      "Phase 1 -- Done! Cost: 0.029s\n",
      "Phase 2 -- Sat Position Calculate...\n",
      "Phase 2 -- Done! Cost: 0s\n",
      "Phase 3 -- Flight Track and BeamDir History Simulate...\n",
      "Phase 3 -- Done! Cost: 0s\n",
      "Phase 4 -- Signal Generate...\n",
      "Phase 4 -- Done! Cost: 0.103s\n",
      "Phase 5 -- Echo Calculate...\n",
      "        -- CPU ThreadNum: 48\n",
      "Phase 5 -- Done! Cost: 7.518s\n",
      "Phase 6 -- Result Save...\n",
      "Phase 6 -- Done! Cost: 0.921s\n",
      "  Final -- Total Cost: 8.576s\n",
      "回波仿真完成！\n",
      "图像大小：150 x 150\n"
     ]
    },
    {
     "name": "stderr",
     "output_type": "stream",
     "text": [
      "/home/liq/pro/new_production_1118/sklearn/cluster/_kmeans.py:1416: FutureWarning: The default value of `n_init` will change from 10 to 'auto' in 1.4. Set the value of `n_init` explicitly to suppress the warning\n",
      "  super()._check_params_vs_input(X, default_n_init=10)\n"
     ]
    },
    {
     "name": "stdout",
     "output_type": "stream",
     "text": [
      "开始回波仿真...\n",
      "========================= EchoSimProcess =========================\n",
      "Phase 1 -- Params read and config...\n",
      "Phase 1 -- Done! Cost: 0.028s\n",
      "Phase 2 -- Sat Position Calculate...\n",
      "Phase 2 -- Done! Cost: 0s\n",
      "Phase 3 -- Flight Track and BeamDir History Simulate...\n",
      "Phase 3 -- Done! Cost: 0s\n",
      "Phase 4 -- Signal Generate...\n",
      "Phase 4 -- Done! Cost: 0.097s\n",
      "Phase 5 -- Echo Calculate...\n",
      "        -- CPU ThreadNum: 48\n",
      "Phase 5 -- Done! Cost: 7.285s\n",
      "Phase 6 -- Result Save...\n",
      "Phase 6 -- Done! Cost: 0.875s\n",
      "  Final -- Total Cost: 8.291s\n",
      "回波仿真完成！\n",
      "图像大小：150 x 150\n"
     ]
    },
    {
     "name": "stderr",
     "output_type": "stream",
     "text": [
      "/home/liq/pro/new_production_1118/sklearn/cluster/_kmeans.py:1416: FutureWarning: The default value of `n_init` will change from 10 to 'auto' in 1.4. Set the value of `n_init` explicitly to suppress the warning\n",
      "  super()._check_params_vs_input(X, default_n_init=10)\n"
     ]
    },
    {
     "name": "stdout",
     "output_type": "stream",
     "text": [
      "开始回波仿真...\n",
      "========================= EchoSimProcess =========================\n",
      "Phase 1 -- Params read and config...\n",
      "Phase 1 -- Done! Cost: 0.023s\n",
      "Phase 2 -- Sat Position Calculate...\n",
      "Phase 2 -- Done! Cost: 0s\n",
      "Phase 3 -- Flight Track and BeamDir History Simulate...\n",
      "Phase 3 -- Done! Cost: 0s\n",
      "Phase 4 -- Signal Generate...\n",
      "Phase 4 -- Done! Cost: 0.099s\n",
      "Phase 5 -- Echo Calculate...\n",
      "        -- CPU ThreadNum: 48\n",
      "Phase 5 -- Done! Cost: 6.74s\n",
      "Phase 6 -- Result Save...\n",
      "Phase 6 -- Done! Cost: 0.984s\n",
      "  Final -- Total Cost: 7.853s\n",
      "回波仿真完成！\n",
      "图像大小：150 x 150\n"
     ]
    },
    {
     "name": "stderr",
     "output_type": "stream",
     "text": [
      "/home/liq/pro/new_production_1118/sklearn/cluster/_kmeans.py:1416: FutureWarning: The default value of `n_init` will change from 10 to 'auto' in 1.4. Set the value of `n_init` explicitly to suppress the warning\n",
      "  super()._check_params_vs_input(X, default_n_init=10)\n"
     ]
    },
    {
     "name": "stdout",
     "output_type": "stream",
     "text": [
      "开始回波仿真...\n",
      "========================= EchoSimProcess =========================\n",
      "Phase 1 -- Params read and config...\n",
      "Phase 1 -- Done! Cost: 0.046s\n",
      "Phase 2 -- Sat Position Calculate...\n",
      "Phase 2 -- Done! Cost: 0s\n",
      "Phase 3 -- Flight Track and BeamDir History Simulate...\n",
      "Phase 3 -- Done! Cost: 0s\n",
      "Phase 4 -- Signal Generate...\n",
      "Phase 4 -- Done! Cost: 0.088s\n",
      "Phase 5 -- Echo Calculate...\n",
      "        -- CPU ThreadNum: 48\n",
      "Phase 5 -- Done! Cost: 7.198s\n",
      "Phase 6 -- Result Save...\n",
      "Phase 6 -- Done! Cost: 1.023s\n",
      "  Final -- Total Cost: 8.366s\n",
      "回波仿真完成！\n",
      "图像大小：150 x 150\n"
     ]
    },
    {
     "name": "stderr",
     "output_type": "stream",
     "text": [
      "/home/liq/pro/new_production_1118/sklearn/cluster/_kmeans.py:1416: FutureWarning: The default value of `n_init` will change from 10 to 'auto' in 1.4. Set the value of `n_init` explicitly to suppress the warning\n",
      "  super()._check_params_vs_input(X, default_n_init=10)\n"
     ]
    },
    {
     "name": "stdout",
     "output_type": "stream",
     "text": [
      "开始回波仿真...\n",
      "========================= EchoSimProcess =========================\n",
      "Phase 1 -- Params read and config...\n",
      "Phase 1 -- Done! Cost: 0.048s\n",
      "Phase 2 -- Sat Position Calculate...\n",
      "Phase 2 -- Done! Cost: 0s\n",
      "Phase 3 -- Flight Track and BeamDir History Simulate...\n",
      "Phase 3 -- Done! Cost: 0s\n",
      "Phase 4 -- Signal Generate...\n",
      "Phase 4 -- Done! Cost: 0.103s\n",
      "Phase 5 -- Echo Calculate...\n",
      "        -- CPU ThreadNum: 48\n",
      "Phase 5 -- Done! Cost: 7.012s\n",
      "Phase 6 -- Result Save...\n",
      "Phase 6 -- Done! Cost: 1.147s\n",
      "  Final -- Total Cost: 8.319s\n",
      "回波仿真完成！\n",
      "图像大小：150 x 150\n"
     ]
    },
    {
     "name": "stderr",
     "output_type": "stream",
     "text": [
      "/home/liq/pro/new_production_1118/sklearn/cluster/_kmeans.py:1416: FutureWarning: The default value of `n_init` will change from 10 to 'auto' in 1.4. Set the value of `n_init` explicitly to suppress the warning\n",
      "  super()._check_params_vs_input(X, default_n_init=10)\n"
     ]
    },
    {
     "name": "stdout",
     "output_type": "stream",
     "text": [
      "开始回波仿真...\n",
      "========================= EchoSimProcess =========================\n",
      "Phase 1 -- Params read and config...\n",
      "Phase 1 -- Done! Cost: 0.053s\n",
      "Phase 2 -- Sat Position Calculate...\n",
      "Phase 2 -- Done! Cost: 0s\n",
      "Phase 3 -- Flight Track and BeamDir History Simulate...\n",
      "Phase 3 -- Done! Cost: 0s\n",
      "Phase 4 -- Signal Generate...\n",
      "Phase 4 -- Done! Cost: 0.089s\n",
      "Phase 5 -- Echo Calculate...\n",
      "        -- CPU ThreadNum: 48\n",
      "Phase 5 -- Done! Cost: 6.893s\n",
      "Phase 6 -- Result Save...\n",
      "Phase 6 -- Done! Cost: 1.142s\n",
      "  Final -- Total Cost: 8.179s\n",
      "回波仿真完成！\n",
      "图像大小：150 x 150\n"
     ]
    },
    {
     "name": "stderr",
     "output_type": "stream",
     "text": [
      "/home/liq/pro/new_production_1118/sklearn/cluster/_kmeans.py:1416: FutureWarning: The default value of `n_init` will change from 10 to 'auto' in 1.4. Set the value of `n_init` explicitly to suppress the warning\n",
      "  super()._check_params_vs_input(X, default_n_init=10)\n"
     ]
    },
    {
     "name": "stdout",
     "output_type": "stream",
     "text": [
      "开始回波仿真...\n",
      "========================= EchoSimProcess =========================\n",
      "Phase 1 -- Params read and config...\n",
      "Phase 1 -- Done! Cost: 0.04s\n",
      "Phase 2 -- Sat Position Calculate...\n",
      "Phase 2 -- Done! Cost: 0s\n",
      "Phase 3 -- Flight Track and BeamDir History Simulate...\n",
      "Phase 3 -- Done! Cost: 0s\n",
      "Phase 4 -- Signal Generate...\n",
      "Phase 4 -- Done! Cost: 0.105s\n",
      "Phase 5 -- Echo Calculate...\n",
      "        -- CPU ThreadNum: 48\n",
      "Phase 5 -- Done! Cost: 7.082s\n",
      "Phase 6 -- Result Save...\n",
      "Phase 6 -- Done! Cost: 0.957s\n",
      "  Final -- Total Cost: 8.202s\n",
      "回波仿真完成！\n",
      "图像大小：150 x 150\n"
     ]
    },
    {
     "name": "stderr",
     "output_type": "stream",
     "text": [
      "/home/liq/pro/new_production_1118/sklearn/cluster/_kmeans.py:1416: FutureWarning: The default value of `n_init` will change from 10 to 'auto' in 1.4. Set the value of `n_init` explicitly to suppress the warning\n",
      "  super()._check_params_vs_input(X, default_n_init=10)\n"
     ]
    },
    {
     "name": "stdout",
     "output_type": "stream",
     "text": [
      "开始回波仿真...\n",
      "========================= EchoSimProcess =========================\n",
      "Phase 1 -- Params read and config...\n",
      "Phase 1 -- Done! Cost: 0.024s\n",
      "Phase 2 -- Sat Position Calculate...\n",
      "Phase 2 -- Done! Cost: 0s\n",
      "Phase 3 -- Flight Track and BeamDir History Simulate...\n",
      "Phase 3 -- Done! Cost: 0s\n",
      "Phase 4 -- Signal Generate...\n",
      "Phase 4 -- Done! Cost: 0.09s\n",
      "Phase 5 -- Echo Calculate...\n",
      "        -- CPU ThreadNum: 48\n",
      "Phase 5 -- Done! Cost: 7.224s\n",
      "Phase 6 -- Result Save...\n",
      "Phase 6 -- Done! Cost: 1.05s\n",
      "  Final -- Total Cost: 8.395s\n",
      "回波仿真完成！\n",
      "图像大小：150 x 150\n"
     ]
    },
    {
     "name": "stderr",
     "output_type": "stream",
     "text": [
      "/home/liq/pro/new_production_1118/sklearn/cluster/_kmeans.py:1416: FutureWarning: The default value of `n_init` will change from 10 to 'auto' in 1.4. Set the value of `n_init` explicitly to suppress the warning\n",
      "  super()._check_params_vs_input(X, default_n_init=10)\n"
     ]
    },
    {
     "name": "stdout",
     "output_type": "stream",
     "text": [
      "开始回波仿真...\n",
      "========================= EchoSimProcess =========================\n",
      "Phase 1 -- Params read and config...\n",
      "Phase 1 -- Done! Cost: 0.034s\n",
      "Phase 2 -- Sat Position Calculate...\n",
      "Phase 2 -- Done! Cost: 0s\n",
      "Phase 3 -- Flight Track and BeamDir History Simulate...\n",
      "Phase 3 -- Done! Cost: 0s\n",
      "Phase 4 -- Signal Generate...\n",
      "Phase 4 -- Done! Cost: 0.1s\n",
      "Phase 5 -- Echo Calculate...\n",
      "        -- CPU ThreadNum: 48\n",
      "Phase 5 -- Done! Cost: 7.243s\n",
      "Phase 6 -- Result Save...\n",
      "Phase 6 -- Done! Cost: 1.134s\n",
      "  Final -- Total Cost: 8.515s\n",
      "回波仿真完成！\n",
      "图像大小：150 x 150\n"
     ]
    },
    {
     "name": "stderr",
     "output_type": "stream",
     "text": [
      "/home/liq/pro/new_production_1118/sklearn/cluster/_kmeans.py:1416: FutureWarning: The default value of `n_init` will change from 10 to 'auto' in 1.4. Set the value of `n_init` explicitly to suppress the warning\n",
      "  super()._check_params_vs_input(X, default_n_init=10)\n"
     ]
    },
    {
     "name": "stdout",
     "output_type": "stream",
     "text": [
      "开始回波仿真...\n",
      "========================= EchoSimProcess =========================\n",
      "Phase 1 -- Params read and config...\n",
      "Phase 1 -- Done! Cost: 0.053s\n",
      "Phase 2 -- Sat Position Calculate...\n",
      "Phase 2 -- Done! Cost: 0s\n",
      "Phase 3 -- Flight Track and BeamDir History Simulate...\n",
      "Phase 3 -- Done! Cost: 0s\n",
      "Phase 4 -- Signal Generate...\n",
      "Phase 4 -- Done! Cost: 0.082s\n",
      "Phase 5 -- Echo Calculate...\n",
      "        -- CPU ThreadNum: 48\n",
      "Phase 5 -- Done! Cost: 7.085s\n",
      "Phase 6 -- Result Save...\n",
      "Phase 6 -- Done! Cost: 1.136s\n",
      "  Final -- Total Cost: 8.361s\n",
      "回波仿真完成！\n",
      "图像大小：150 x 150\n"
     ]
    },
    {
     "name": "stderr",
     "output_type": "stream",
     "text": [
      "/home/liq/pro/new_production_1118/sklearn/cluster/_kmeans.py:1416: FutureWarning: The default value of `n_init` will change from 10 to 'auto' in 1.4. Set the value of `n_init` explicitly to suppress the warning\n",
      "  super()._check_params_vs_input(X, default_n_init=10)\n"
     ]
    },
    {
     "name": "stdout",
     "output_type": "stream",
     "text": [
      "开始回波仿真...\n",
      "========================= EchoSimProcess =========================\n",
      "Phase 1 -- Params read and config...\n",
      "Phase 1 -- Done! Cost: 0.023s\n",
      "Phase 2 -- Sat Position Calculate...\n",
      "Phase 2 -- Done! Cost: 0s\n",
      "Phase 3 -- Flight Track and BeamDir History Simulate...\n",
      "Phase 3 -- Done! Cost: 0s\n",
      "Phase 4 -- Signal Generate...\n",
      "Phase 4 -- Done! Cost: 0.084s\n",
      "Phase 5 -- Echo Calculate...\n",
      "        -- CPU ThreadNum: 48\n",
      "Phase 5 -- Done! Cost: 6.985s\n",
      "Phase 6 -- Result Save...\n",
      "Phase 6 -- Done! Cost: 1.051s\n",
      "  Final -- Total Cost: 8.148s\n",
      "回波仿真完成！\n",
      "图像大小：150 x 150\n"
     ]
    },
    {
     "name": "stderr",
     "output_type": "stream",
     "text": [
      "/home/liq/pro/new_production_1118/sklearn/cluster/_kmeans.py:1416: FutureWarning: The default value of `n_init` will change from 10 to 'auto' in 1.4. Set the value of `n_init` explicitly to suppress the warning\n",
      "  super()._check_params_vs_input(X, default_n_init=10)\n"
     ]
    },
    {
     "name": "stdout",
     "output_type": "stream",
     "text": [
      "开始回波仿真...\n",
      "========================= EchoSimProcess =========================\n",
      "Phase 1 -- Params read and config...\n",
      "Phase 1 -- Done! Cost: 0.046s\n",
      "Phase 2 -- Sat Position Calculate...\n",
      "Phase 2 -- Done! Cost: 0s\n",
      "Phase 3 -- Flight Track and BeamDir History Simulate...\n",
      "Phase 3 -- Done! Cost: 0s\n",
      "Phase 4 -- Signal Generate...\n",
      "Phase 4 -- Done! Cost: 0.093s\n",
      "Phase 5 -- Echo Calculate...\n",
      "        -- CPU ThreadNum: 48\n",
      "Phase 5 -- Done! Cost: 7.124s\n",
      "Phase 6 -- Result Save...\n",
      "Phase 6 -- Done! Cost: 1.064s\n",
      "  Final -- Total Cost: 8.34s\n",
      "回波仿真完成！\n",
      "图像大小：150 x 150\n"
     ]
    },
    {
     "name": "stderr",
     "output_type": "stream",
     "text": [
      "/home/liq/pro/new_production_1118/sklearn/cluster/_kmeans.py:1416: FutureWarning: The default value of `n_init` will change from 10 to 'auto' in 1.4. Set the value of `n_init` explicitly to suppress the warning\n",
      "  super()._check_params_vs_input(X, default_n_init=10)\n"
     ]
    },
    {
     "name": "stdout",
     "output_type": "stream",
     "text": [
      "开始回波仿真...\n",
      "========================= EchoSimProcess =========================\n",
      "Phase 1 -- Params read and config...\n",
      "Phase 1 -- Done! Cost: 0.024s\n",
      "Phase 2 -- Sat Position Calculate...\n",
      "Phase 2 -- Done! Cost: 0s\n",
      "Phase 3 -- Flight Track and BeamDir History Simulate...\n",
      "Phase 3 -- Done! Cost: 0s\n",
      "Phase 4 -- Signal Generate...\n",
      "Phase 4 -- Done! Cost: 0.103s\n",
      "Phase 5 -- Echo Calculate...\n",
      "        -- CPU ThreadNum: 48\n",
      "Phase 5 -- Done! Cost: 7.179s\n",
      "Phase 6 -- Result Save...\n",
      "Phase 6 -- Done! Cost: 0.927s\n",
      "  Final -- Total Cost: 8.235s\n",
      "回波仿真完成！\n",
      "图像大小：150 x 150\n"
     ]
    },
    {
     "name": "stderr",
     "output_type": "stream",
     "text": [
      "/home/liq/pro/new_production_1118/sklearn/cluster/_kmeans.py:1416: FutureWarning: The default value of `n_init` will change from 10 to 'auto' in 1.4. Set the value of `n_init` explicitly to suppress the warning\n",
      "  super()._check_params_vs_input(X, default_n_init=10)\n"
     ]
    },
    {
     "name": "stdout",
     "output_type": "stream",
     "text": [
      "开始回波仿真...\n",
      "========================= EchoSimProcess =========================\n",
      "Phase 1 -- Params read and config...\n",
      "Phase 1 -- Done! Cost: 0.047s\n",
      "Phase 2 -- Sat Position Calculate...\n",
      "Phase 2 -- Done! Cost: 0s\n",
      "Phase 3 -- Flight Track and BeamDir History Simulate...\n",
      "Phase 3 -- Done! Cost: 0s\n",
      "Phase 4 -- Signal Generate...\n",
      "Phase 4 -- Done! Cost: 0.092s\n",
      "Phase 5 -- Echo Calculate...\n",
      "        -- CPU ThreadNum: 48\n",
      "Phase 5 -- Done! Cost: 6.723s\n",
      "Phase 6 -- Result Save...\n",
      "Phase 6 -- Done! Cost: 0.833s\n",
      "  Final -- Total Cost: 7.705s\n",
      "回波仿真完成！\n",
      "图像大小：150 x 150\n"
     ]
    },
    {
     "name": "stderr",
     "output_type": "stream",
     "text": [
      "/home/liq/pro/new_production_1118/sklearn/cluster/_kmeans.py:1416: FutureWarning: The default value of `n_init` will change from 10 to 'auto' in 1.4. Set the value of `n_init` explicitly to suppress the warning\n",
      "  super()._check_params_vs_input(X, default_n_init=10)\n"
     ]
    },
    {
     "name": "stdout",
     "output_type": "stream",
     "text": [
      "开始回波仿真...\n",
      "========================= EchoSimProcess =========================\n",
      "Phase 1 -- Params read and config...\n",
      "Phase 1 -- Done! Cost: 0.042s\n",
      "Phase 2 -- Sat Position Calculate...\n",
      "Phase 2 -- Done! Cost: 0s\n",
      "Phase 3 -- Flight Track and BeamDir History Simulate...\n",
      "Phase 3 -- Done! Cost: 0s\n",
      "Phase 4 -- Signal Generate...\n",
      "Phase 4 -- Done! Cost: 0.111s\n",
      "Phase 5 -- Echo Calculate...\n",
      "        -- CPU ThreadNum: 48\n",
      "Phase 5 -- Done! Cost: 6.975s\n",
      "Phase 6 -- Result Save...\n",
      "Phase 6 -- Done! Cost: 1.145s\n",
      "  Final -- Total Cost: 8.276s\n",
      "回波仿真完成！\n",
      "图像大小：150 x 150\n"
     ]
    },
    {
     "name": "stderr",
     "output_type": "stream",
     "text": [
      "/home/liq/pro/new_production_1118/sklearn/cluster/_kmeans.py:1416: FutureWarning: The default value of `n_init` will change from 10 to 'auto' in 1.4. Set the value of `n_init` explicitly to suppress the warning\n",
      "  super()._check_params_vs_input(X, default_n_init=10)\n"
     ]
    },
    {
     "name": "stdout",
     "output_type": "stream",
     "text": [
      "开始回波仿真...\n",
      "========================= EchoSimProcess =========================\n",
      "Phase 1 -- Params read and config...\n",
      "Phase 1 -- Done! Cost: 0.028s\n",
      "Phase 2 -- Sat Position Calculate...\n",
      "Phase 2 -- Done! Cost: 0s\n",
      "Phase 3 -- Flight Track and BeamDir History Simulate...\n",
      "Phase 3 -- Done! Cost: 0s\n",
      "Phase 4 -- Signal Generate...\n",
      "Phase 4 -- Done! Cost: 0.106s\n",
      "Phase 5 -- Echo Calculate...\n",
      "        -- CPU ThreadNum: 48\n",
      "Phase 5 -- Done! Cost: 7.322s\n",
      "Phase 6 -- Result Save...\n",
      "Phase 6 -- Done! Cost: 1.013s\n",
      "  Final -- Total Cost: 8.471s\n",
      "回波仿真完成！\n",
      "图像大小：150 x 150\n"
     ]
    },
    {
     "name": "stderr",
     "output_type": "stream",
     "text": [
      "/home/liq/pro/new_production_1118/sklearn/cluster/_kmeans.py:1416: FutureWarning: The default value of `n_init` will change from 10 to 'auto' in 1.4. Set the value of `n_init` explicitly to suppress the warning\n",
      "  super()._check_params_vs_input(X, default_n_init=10)\n"
     ]
    },
    {
     "name": "stdout",
     "output_type": "stream",
     "text": [
      "开始回波仿真...\n",
      "========================= EchoSimProcess =========================\n",
      "Phase 1 -- Params read and config...\n",
      "Phase 1 -- Done! Cost: 0.039s\n",
      "Phase 2 -- Sat Position Calculate...\n",
      "Phase 2 -- Done! Cost: 0s\n",
      "Phase 3 -- Flight Track and BeamDir History Simulate...\n",
      "Phase 3 -- Done! Cost: 0s\n",
      "Phase 4 -- Signal Generate...\n",
      "Phase 4 -- Done! Cost: 0.092s\n",
      "Phase 5 -- Echo Calculate...\n",
      "        -- CPU ThreadNum: 48\n",
      "Phase 5 -- Done! Cost: 7.286s\n",
      "Phase 6 -- Result Save...\n",
      "Phase 6 -- Done! Cost: 1.095s\n",
      "  Final -- Total Cost: 8.518s\n",
      "回波仿真完成！\n",
      "图像大小：150 x 150\n"
     ]
    },
    {
     "name": "stderr",
     "output_type": "stream",
     "text": [
      "/home/liq/pro/new_production_1118/sklearn/cluster/_kmeans.py:1416: FutureWarning: The default value of `n_init` will change from 10 to 'auto' in 1.4. Set the value of `n_init` explicitly to suppress the warning\n",
      "  super()._check_params_vs_input(X, default_n_init=10)\n"
     ]
    },
    {
     "name": "stdout",
     "output_type": "stream",
     "text": [
      "开始回波仿真...\n",
      "========================= EchoSimProcess =========================\n",
      "Phase 1 -- Params read and config...\n",
      "Phase 1 -- Done! Cost: 0.05s\n",
      "Phase 2 -- Sat Position Calculate...\n",
      "Phase 2 -- Done! Cost: 0s\n",
      "Phase 3 -- Flight Track and BeamDir History Simulate...\n",
      "Phase 3 -- Done! Cost: 0s\n",
      "Phase 4 -- Signal Generate...\n",
      "Phase 4 -- Done! Cost: 0.104s\n",
      "Phase 5 -- Echo Calculate...\n",
      "        -- CPU ThreadNum: 48\n",
      "Phase 5 -- Done! Cost: 7.056s\n",
      "Phase 6 -- Result Save...\n",
      "Phase 6 -- Done! Cost: 1.134s\n",
      "  Final -- Total Cost: 8.352s\n",
      "回波仿真完成！\n",
      "图像大小：150 x 150\n"
     ]
    },
    {
     "name": "stderr",
     "output_type": "stream",
     "text": [
      "/home/liq/pro/new_production_1118/sklearn/cluster/_kmeans.py:1416: FutureWarning: The default value of `n_init` will change from 10 to 'auto' in 1.4. Set the value of `n_init` explicitly to suppress the warning\n",
      "  super()._check_params_vs_input(X, default_n_init=10)\n"
     ]
    },
    {
     "name": "stdout",
     "output_type": "stream",
     "text": [
      "开始回波仿真...\n",
      "========================= EchoSimProcess =========================\n",
      "Phase 1 -- Params read and config...\n",
      "Phase 1 -- Done! Cost: 0.054s\n",
      "Phase 2 -- Sat Position Calculate...\n",
      "Phase 2 -- Done! Cost: 0s\n",
      "Phase 3 -- Flight Track and BeamDir History Simulate...\n",
      "Phase 3 -- Done! Cost: 0s\n",
      "Phase 4 -- Signal Generate...\n",
      "Phase 4 -- Done! Cost: 0.097s\n",
      "Phase 5 -- Echo Calculate...\n",
      "        -- CPU ThreadNum: 48\n",
      "Phase 5 -- Done! Cost: 7.233s\n",
      "Phase 6 -- Result Save...\n",
      "Phase 6 -- Done! Cost: 0.817s\n",
      "  Final -- Total Cost: 8.206s\n",
      "回波仿真完成！\n",
      "图像大小：150 x 150\n"
     ]
    },
    {
     "name": "stderr",
     "output_type": "stream",
     "text": [
      "/home/liq/pro/new_production_1118/sklearn/cluster/_kmeans.py:1416: FutureWarning: The default value of `n_init` will change from 10 to 'auto' in 1.4. Set the value of `n_init` explicitly to suppress the warning\n",
      "  super()._check_params_vs_input(X, default_n_init=10)\n"
     ]
    },
    {
     "name": "stdout",
     "output_type": "stream",
     "text": [
      "开始回波仿真...\n",
      "========================= EchoSimProcess =========================\n",
      "Phase 1 -- Params read and config...\n",
      "Phase 1 -- Done! Cost: 0.052s\n",
      "Phase 2 -- Sat Position Calculate...\n",
      "Phase 2 -- Done! Cost: 0s\n",
      "Phase 3 -- Flight Track and BeamDir History Simulate...\n",
      "Phase 3 -- Done! Cost: 0s\n",
      "Phase 4 -- Signal Generate...\n",
      "Phase 4 -- Done! Cost: 0.104s\n",
      "Phase 5 -- Echo Calculate...\n",
      "        -- CPU ThreadNum: 48\n",
      "Phase 5 -- Done! Cost: 7.095s\n",
      "Phase 6 -- Result Save...\n",
      "Phase 6 -- Done! Cost: 1.019s\n",
      "  Final -- Total Cost: 8.272s\n",
      "回波仿真完成！\n",
      "图像大小：150 x 150\n"
     ]
    },
    {
     "name": "stderr",
     "output_type": "stream",
     "text": [
      "/home/liq/pro/new_production_1118/sklearn/cluster/_kmeans.py:1416: FutureWarning: The default value of `n_init` will change from 10 to 'auto' in 1.4. Set the value of `n_init` explicitly to suppress the warning\n",
      "  super()._check_params_vs_input(X, default_n_init=10)\n"
     ]
    },
    {
     "name": "stdout",
     "output_type": "stream",
     "text": [
      "开始回波仿真...\n",
      "========================= EchoSimProcess =========================\n",
      "Phase 1 -- Params read and config...\n",
      "Phase 1 -- Done! Cost: 0.042s\n",
      "Phase 2 -- Sat Position Calculate...\n",
      "Phase 2 -- Done! Cost: 0s\n",
      "Phase 3 -- Flight Track and BeamDir History Simulate...\n",
      "Phase 3 -- Done! Cost: 0s\n",
      "Phase 4 -- Signal Generate...\n",
      "Phase 4 -- Done! Cost: 0.116s\n",
      "Phase 5 -- Echo Calculate...\n",
      "        -- CPU ThreadNum: 48\n",
      "Phase 5 -- Done! Cost: 6.61s\n",
      "Phase 6 -- Result Save...\n",
      "Phase 6 -- Done! Cost: 0.791s\n",
      "  Final -- Total Cost: 7.561s\n",
      "回波仿真完成！\n",
      "图像大小：150 x 150\n"
     ]
    },
    {
     "name": "stderr",
     "output_type": "stream",
     "text": [
      "/home/liq/pro/new_production_1118/sklearn/cluster/_kmeans.py:1416: FutureWarning: The default value of `n_init` will change from 10 to 'auto' in 1.4. Set the value of `n_init` explicitly to suppress the warning\n",
      "  super()._check_params_vs_input(X, default_n_init=10)\n"
     ]
    },
    {
     "name": "stdout",
     "output_type": "stream",
     "text": [
      "开始回波仿真...\n",
      "========================= EchoSimProcess =========================\n",
      "Phase 1 -- Params read and config...\n",
      "Phase 1 -- Done! Cost: 0.04s\n",
      "Phase 2 -- Sat Position Calculate...\n",
      "Phase 2 -- Done! Cost: 0s\n",
      "Phase 3 -- Flight Track and BeamDir History Simulate...\n",
      "Phase 3 -- Done! Cost: 0s\n",
      "Phase 4 -- Signal Generate...\n",
      "Phase 4 -- Done! Cost: 0.089s\n",
      "Phase 5 -- Echo Calculate...\n",
      "        -- CPU ThreadNum: 48\n",
      "Phase 5 -- Done! Cost: 6.504s\n",
      "Phase 6 -- Result Save...\n",
      "Phase 6 -- Done! Cost: 0.951s\n",
      "  Final -- Total Cost: 7.593s\n",
      "回波仿真完成！\n",
      "图像大小：150 x 150\n"
     ]
    },
    {
     "name": "stderr",
     "output_type": "stream",
     "text": [
      "/home/liq/pro/new_production_1118/sklearn/cluster/_kmeans.py:1416: FutureWarning: The default value of `n_init` will change from 10 to 'auto' in 1.4. Set the value of `n_init` explicitly to suppress the warning\n",
      "  super()._check_params_vs_input(X, default_n_init=10)\n"
     ]
    },
    {
     "name": "stdout",
     "output_type": "stream",
     "text": [
      "开始回波仿真...\n",
      "========================= EchoSimProcess =========================\n",
      "Phase 1 -- Params read and config...\n",
      "Phase 1 -- Done! Cost: 0.021s\n",
      "Phase 2 -- Sat Position Calculate...\n",
      "Phase 2 -- Done! Cost: 0s\n",
      "Phase 3 -- Flight Track and BeamDir History Simulate...\n",
      "Phase 3 -- Done! Cost: 0s\n",
      "Phase 4 -- Signal Generate...\n",
      "Phase 4 -- Done! Cost: 0.087s\n",
      "Phase 5 -- Echo Calculate...\n",
      "        -- CPU ThreadNum: 48\n",
      "Phase 5 -- Done! Cost: 6.429s\n",
      "Phase 6 -- Result Save...\n",
      "Phase 6 -- Done! Cost: 0.816s\n",
      "  Final -- Total Cost: 7.356s\n",
      "回波仿真完成！\n",
      "图像大小：150 x 150\n"
     ]
    },
    {
     "name": "stderr",
     "output_type": "stream",
     "text": [
      "/home/liq/pro/new_production_1118/sklearn/cluster/_kmeans.py:1416: FutureWarning: The default value of `n_init` will change from 10 to 'auto' in 1.4. Set the value of `n_init` explicitly to suppress the warning\n",
      "  super()._check_params_vs_input(X, default_n_init=10)\n"
     ]
    },
    {
     "name": "stdout",
     "output_type": "stream",
     "text": [
      "开始回波仿真...\n",
      "========================= EchoSimProcess =========================\n",
      "Phase 1 -- Params read and config...\n",
      "Phase 1 -- Done! Cost: 0.02s\n",
      "Phase 2 -- Sat Position Calculate...\n",
      "Phase 2 -- Done! Cost: 0s\n",
      "Phase 3 -- Flight Track and BeamDir History Simulate...\n",
      "Phase 3 -- Done! Cost: 0s\n",
      "Phase 4 -- Signal Generate...\n",
      "Phase 4 -- Done! Cost: 0.086s\n",
      "Phase 5 -- Echo Calculate...\n",
      "        -- CPU ThreadNum: 48\n",
      "Phase 5 -- Done! Cost: 6.502s\n",
      "Phase 6 -- Result Save...\n",
      "Phase 6 -- Done! Cost: 0.996s\n",
      "  Final -- Total Cost: 7.607s\n",
      "回波仿真完成！\n",
      "图像大小：150 x 150\n"
     ]
    },
    {
     "name": "stderr",
     "output_type": "stream",
     "text": [
      "/home/liq/pro/new_production_1118/sklearn/cluster/_kmeans.py:1416: FutureWarning: The default value of `n_init` will change from 10 to 'auto' in 1.4. Set the value of `n_init` explicitly to suppress the warning\n",
      "  super()._check_params_vs_input(X, default_n_init=10)\n"
     ]
    },
    {
     "name": "stdout",
     "output_type": "stream",
     "text": [
      "开始回波仿真...\n",
      "========================= EchoSimProcess =========================\n",
      "Phase 1 -- Params read and config...\n",
      "Phase 1 -- Done! Cost: 0.037s\n",
      "Phase 2 -- Sat Position Calculate...\n",
      "Phase 2 -- Done! Cost: 0s\n",
      "Phase 3 -- Flight Track and BeamDir History Simulate...\n",
      "Phase 3 -- Done! Cost: 0s\n",
      "Phase 4 -- Signal Generate...\n",
      "Phase 4 -- Done! Cost: 0.111s\n",
      "Phase 5 -- Echo Calculate...\n",
      "        -- CPU ThreadNum: 48\n",
      "Phase 5 -- Done! Cost: 6.433s\n",
      "Phase 6 -- Result Save...\n",
      "Phase 6 -- Done! Cost: 0.792s\n",
      "  Final -- Total Cost: 7.384s\n",
      "回波仿真完成！\n",
      "图像大小：150 x 150\n"
     ]
    },
    {
     "name": "stderr",
     "output_type": "stream",
     "text": [
      "/home/liq/pro/new_production_1118/sklearn/cluster/_kmeans.py:1416: FutureWarning: The default value of `n_init` will change from 10 to 'auto' in 1.4. Set the value of `n_init` explicitly to suppress the warning\n",
      "  super()._check_params_vs_input(X, default_n_init=10)\n"
     ]
    },
    {
     "name": "stdout",
     "output_type": "stream",
     "text": [
      "开始回波仿真...\n",
      "========================= EchoSimProcess =========================\n",
      "Phase 1 -- Params read and config...\n",
      "Phase 1 -- Done! Cost: 0.02s\n",
      "Phase 2 -- Sat Position Calculate...\n",
      "Phase 2 -- Done! Cost: 0s\n",
      "Phase 3 -- Flight Track and BeamDir History Simulate...\n",
      "Phase 3 -- Done! Cost: 0s\n",
      "Phase 4 -- Signal Generate...\n",
      "Phase 4 -- Done! Cost: 0.086s\n",
      "Phase 5 -- Echo Calculate...\n",
      "        -- CPU ThreadNum: 48\n",
      "Phase 5 -- Done! Cost: 6.472s\n",
      "Phase 6 -- Result Save...\n",
      "Phase 6 -- Done! Cost: 0.898s\n",
      "  Final -- Total Cost: 7.48s\n",
      "回波仿真完成！\n",
      "图像大小：150 x 150\n"
     ]
    },
    {
     "name": "stderr",
     "output_type": "stream",
     "text": [
      "/home/liq/pro/new_production_1118/sklearn/cluster/_kmeans.py:1416: FutureWarning: The default value of `n_init` will change from 10 to 'auto' in 1.4. Set the value of `n_init` explicitly to suppress the warning\n",
      "  super()._check_params_vs_input(X, default_n_init=10)\n"
     ]
    },
    {
     "name": "stdout",
     "output_type": "stream",
     "text": [
      "开始回波仿真...\n",
      "========================= EchoSimProcess =========================\n",
      "Phase 1 -- Params read and config...\n",
      "Phase 1 -- Done! Cost: 0.02s\n",
      "Phase 2 -- Sat Position Calculate...\n",
      "Phase 2 -- Done! Cost: 0s\n",
      "Phase 3 -- Flight Track and BeamDir History Simulate...\n",
      "Phase 3 -- Done! Cost: 0s\n",
      "Phase 4 -- Signal Generate...\n",
      "Phase 4 -- Done! Cost: 0.087s\n",
      "Phase 5 -- Echo Calculate...\n",
      "        -- CPU ThreadNum: 48\n",
      "Phase 5 -- Done! Cost: 6.692s\n",
      "Phase 6 -- Result Save...\n",
      "Phase 6 -- Done! Cost: 0.931s\n",
      "  Final -- Total Cost: 7.739s\n",
      "回波仿真完成！\n",
      "图像大小：150 x 150\n"
     ]
    },
    {
     "name": "stderr",
     "output_type": "stream",
     "text": [
      "/home/liq/pro/new_production_1118/sklearn/cluster/_kmeans.py:1416: FutureWarning: The default value of `n_init` will change from 10 to 'auto' in 1.4. Set the value of `n_init` explicitly to suppress the warning\n",
      "  super()._check_params_vs_input(X, default_n_init=10)\n"
     ]
    },
    {
     "name": "stdout",
     "output_type": "stream",
     "text": [
      "开始回波仿真...\n",
      "========================= EchoSimProcess =========================\n",
      "Phase 1 -- Params read and config...\n",
      "Phase 1 -- Done! Cost: 0.042s\n",
      "Phase 2 -- Sat Position Calculate...\n",
      "Phase 2 -- Done! Cost: 0s\n",
      "Phase 3 -- Flight Track and BeamDir History Simulate...\n",
      "Phase 3 -- Done! Cost: 0s\n",
      "Phase 4 -- Signal Generate...\n",
      "Phase 4 -- Done! Cost: 0.097s\n",
      "Phase 5 -- Echo Calculate...\n",
      "        -- CPU ThreadNum: 48\n",
      "Phase 5 -- Done! Cost: 6.702s\n",
      "Phase 6 -- Result Save...\n",
      "Phase 6 -- Done! Cost: 1.09s\n",
      "  Final -- Total Cost: 7.94s\n",
      "回波仿真完成！\n",
      "图像大小：150 x 150\n"
     ]
    },
    {
     "name": "stderr",
     "output_type": "stream",
     "text": [
      "/home/liq/pro/new_production_1118/sklearn/cluster/_kmeans.py:1416: FutureWarning: The default value of `n_init` will change from 10 to 'auto' in 1.4. Set the value of `n_init` explicitly to suppress the warning\n",
      "  super()._check_params_vs_input(X, default_n_init=10)\n"
     ]
    },
    {
     "name": "stdout",
     "output_type": "stream",
     "text": [
      "开始回波仿真...\n",
      "========================= EchoSimProcess =========================\n",
      "Phase 1 -- Params read and config...\n",
      "Phase 1 -- Done! Cost: 0.043s\n",
      "Phase 2 -- Sat Position Calculate...\n",
      "Phase 2 -- Done! Cost: 0s\n",
      "Phase 3 -- Flight Track and BeamDir History Simulate...\n",
      "Phase 3 -- Done! Cost: 0s\n",
      "Phase 4 -- Signal Generate...\n",
      "Phase 4 -- Done! Cost: 0.099s\n",
      "Phase 5 -- Echo Calculate...\n",
      "        -- CPU ThreadNum: 48\n",
      "Phase 5 -- Done! Cost: 6.884s\n",
      "Phase 6 -- Result Save...\n",
      "Phase 6 -- Done! Cost: 1.104s\n",
      "  Final -- Total Cost: 8.134s\n",
      "回波仿真完成！\n",
      "图像大小：150 x 150\n"
     ]
    },
    {
     "name": "stderr",
     "output_type": "stream",
     "text": [
      "/home/liq/pro/new_production_1118/sklearn/cluster/_kmeans.py:1416: FutureWarning: The default value of `n_init` will change from 10 to 'auto' in 1.4. Set the value of `n_init` explicitly to suppress the warning\n",
      "  super()._check_params_vs_input(X, default_n_init=10)\n"
     ]
    },
    {
     "name": "stdout",
     "output_type": "stream",
     "text": [
      "开始回波仿真...\n",
      "========================= EchoSimProcess =========================\n",
      "Phase 1 -- Params read and config...\n",
      "Phase 1 -- Done! Cost: 0.024s\n",
      "Phase 2 -- Sat Position Calculate...\n",
      "Phase 2 -- Done! Cost: 0s\n",
      "Phase 3 -- Flight Track and BeamDir History Simulate...\n",
      "Phase 3 -- Done! Cost: 0s\n",
      "Phase 4 -- Signal Generate...\n",
      "Phase 4 -- Done! Cost: 0.108s\n",
      "Phase 5 -- Echo Calculate...\n",
      "        -- CPU ThreadNum: 48\n",
      "Phase 5 -- Done! Cost: 6.593s\n",
      "Phase 6 -- Result Save...\n",
      "Phase 6 -- Done! Cost: 0.959s\n",
      "  Final -- Total Cost: 7.69s\n",
      "回波仿真完成！\n",
      "图像大小：150 x 150\n"
     ]
    },
    {
     "name": "stderr",
     "output_type": "stream",
     "text": [
      "/home/liq/pro/new_production_1118/sklearn/cluster/_kmeans.py:1416: FutureWarning: The default value of `n_init` will change from 10 to 'auto' in 1.4. Set the value of `n_init` explicitly to suppress the warning\n",
      "  super()._check_params_vs_input(X, default_n_init=10)\n"
     ]
    },
    {
     "name": "stdout",
     "output_type": "stream",
     "text": [
      "开始回波仿真...\n",
      "========================= EchoSimProcess =========================\n",
      "Phase 1 -- Params read and config...\n",
      "Phase 1 -- Done! Cost: 0.045s\n",
      "Phase 2 -- Sat Position Calculate...\n",
      "Phase 2 -- Done! Cost: 0s\n",
      "Phase 3 -- Flight Track and BeamDir History Simulate...\n",
      "Phase 3 -- Done! Cost: 0s\n",
      "Phase 4 -- Signal Generate...\n",
      "Phase 4 -- Done! Cost: 0.091s\n",
      "Phase 5 -- Echo Calculate...\n",
      "        -- CPU ThreadNum: 48\n",
      "Phase 5 -- Done! Cost: 6.396s\n",
      "Phase 6 -- Result Save...\n",
      "Phase 6 -- Done! Cost: 0.792s\n",
      "  Final -- Total Cost: 7.328s\n",
      "回波仿真完成！\n",
      "图像大小：150 x 150\n"
     ]
    },
    {
     "name": "stderr",
     "output_type": "stream",
     "text": [
      "/home/liq/pro/new_production_1118/sklearn/cluster/_kmeans.py:1416: FutureWarning: The default value of `n_init` will change from 10 to 'auto' in 1.4. Set the value of `n_init` explicitly to suppress the warning\n",
      "  super()._check_params_vs_input(X, default_n_init=10)\n"
     ]
    },
    {
     "name": "stdout",
     "output_type": "stream",
     "text": [
      "开始回波仿真...\n",
      "========================= EchoSimProcess =========================\n",
      "Phase 1 -- Params read and config...\n",
      "Phase 1 -- Done! Cost: 0.045s\n",
      "Phase 2 -- Sat Position Calculate...\n",
      "Phase 2 -- Done! Cost: 0s\n",
      "Phase 3 -- Flight Track and BeamDir History Simulate...\n",
      "Phase 3 -- Done! Cost: 0s\n",
      "Phase 4 -- Signal Generate...\n",
      "Phase 4 -- Done! Cost: 0.09s\n",
      "Phase 5 -- Echo Calculate...\n",
      "        -- CPU ThreadNum: 48\n",
      "Phase 5 -- Done! Cost: 6.6s\n",
      "Phase 6 -- Result Save...\n",
      "Phase 6 -- Done! Cost: 1.008s\n",
      "  Final -- Total Cost: 7.748s\n",
      "回波仿真完成！\n",
      "图像大小：150 x 150\n"
     ]
    },
    {
     "name": "stderr",
     "output_type": "stream",
     "text": [
      "/home/liq/pro/new_production_1118/sklearn/cluster/_kmeans.py:1416: FutureWarning: The default value of `n_init` will change from 10 to 'auto' in 1.4. Set the value of `n_init` explicitly to suppress the warning\n",
      "  super()._check_params_vs_input(X, default_n_init=10)\n"
     ]
    },
    {
     "name": "stdout",
     "output_type": "stream",
     "text": [
      "开始回波仿真...\n",
      "========================= EchoSimProcess =========================\n",
      "Phase 1 -- Params read and config...\n",
      "Phase 1 -- Done! Cost: 0.044s\n",
      "Phase 2 -- Sat Position Calculate...\n",
      "Phase 2 -- Done! Cost: 0s\n",
      "Phase 3 -- Flight Track and BeamDir History Simulate...\n",
      "Phase 3 -- Done! Cost: 0s\n",
      "Phase 4 -- Signal Generate...\n",
      "Phase 4 -- Done! Cost: 0.096s\n",
      "Phase 5 -- Echo Calculate...\n",
      "        -- CPU ThreadNum: 48\n",
      "Phase 5 -- Done! Cost: 6.443s\n",
      "Phase 6 -- Result Save...\n",
      "Phase 6 -- Done! Cost: 1.097s\n",
      "  Final -- Total Cost: 7.685s\n",
      "回波仿真完成！\n",
      "图像大小：150 x 150\n"
     ]
    },
    {
     "name": "stderr",
     "output_type": "stream",
     "text": [
      "/home/liq/pro/new_production_1118/sklearn/cluster/_kmeans.py:1416: FutureWarning: The default value of `n_init` will change from 10 to 'auto' in 1.4. Set the value of `n_init` explicitly to suppress the warning\n",
      "  super()._check_params_vs_input(X, default_n_init=10)\n"
     ]
    },
    {
     "name": "stdout",
     "output_type": "stream",
     "text": [
      "开始回波仿真...\n",
      "========================= EchoSimProcess =========================\n",
      "Phase 1 -- Params read and config...\n",
      "Phase 1 -- Done! Cost: 0.026s\n",
      "Phase 2 -- Sat Position Calculate...\n",
      "Phase 2 -- Done! Cost: 0s\n",
      "Phase 3 -- Flight Track and BeamDir History Simulate...\n",
      "Phase 3 -- Done! Cost: 0s\n",
      "Phase 4 -- Signal Generate...\n",
      "Phase 4 -- Done! Cost: 0.11s\n",
      "Phase 5 -- Echo Calculate...\n",
      "        -- CPU ThreadNum: 48\n",
      "Phase 5 -- Done! Cost: 6.244s\n",
      "Phase 6 -- Result Save...\n",
      "Phase 6 -- Done! Cost: 0.841s\n",
      "  Final -- Total Cost: 7.226s\n",
      "回波仿真完成！\n",
      "图像大小：150 x 150\n"
     ]
    },
    {
     "name": "stderr",
     "output_type": "stream",
     "text": [
      "/home/liq/pro/new_production_1118/sklearn/cluster/_kmeans.py:1416: FutureWarning: The default value of `n_init` will change from 10 to 'auto' in 1.4. Set the value of `n_init` explicitly to suppress the warning\n",
      "  super()._check_params_vs_input(X, default_n_init=10)\n"
     ]
    },
    {
     "name": "stdout",
     "output_type": "stream",
     "text": [
      "开始回波仿真...\n",
      "========================= EchoSimProcess =========================\n",
      "Phase 1 -- Params read and config...\n",
      "Phase 1 -- Done! Cost: 0.028s\n",
      "Phase 2 -- Sat Position Calculate...\n",
      "Phase 2 -- Done! Cost: 0s\n",
      "Phase 3 -- Flight Track and BeamDir History Simulate...\n",
      "Phase 3 -- Done! Cost: 0s\n",
      "Phase 4 -- Signal Generate...\n",
      "Phase 4 -- Done! Cost: 0.112s\n",
      "Phase 5 -- Echo Calculate...\n",
      "        -- CPU ThreadNum: 48\n",
      "Phase 5 -- Done! Cost: 6.549s\n",
      "Phase 6 -- Result Save...\n",
      "Phase 6 -- Done! Cost: 0.915s\n",
      "  Final -- Total Cost: 7.608s\n",
      "回波仿真完成！\n",
      "图像大小：150 x 150\n"
     ]
    },
    {
     "name": "stderr",
     "output_type": "stream",
     "text": [
      "/home/liq/pro/new_production_1118/sklearn/cluster/_kmeans.py:1416: FutureWarning: The default value of `n_init` will change from 10 to 'auto' in 1.4. Set the value of `n_init` explicitly to suppress the warning\n",
      "  super()._check_params_vs_input(X, default_n_init=10)\n"
     ]
    },
    {
     "name": "stdout",
     "output_type": "stream",
     "text": [
      "开始回波仿真...\n",
      "========================= EchoSimProcess =========================\n",
      "Phase 1 -- Params read and config...\n",
      "Phase 1 -- Done! Cost: 0.045s\n",
      "Phase 2 -- Sat Position Calculate...\n",
      "Phase 2 -- Done! Cost: 0s\n",
      "Phase 3 -- Flight Track and BeamDir History Simulate...\n",
      "Phase 3 -- Done! Cost: 0s\n",
      "Phase 4 -- Signal Generate...\n",
      "Phase 4 -- Done! Cost: 0.091s\n",
      "Phase 5 -- Echo Calculate...\n",
      "        -- CPU ThreadNum: 48\n",
      "Phase 5 -- Done! Cost: 6.673s\n",
      "Phase 6 -- Result Save...\n",
      "Phase 6 -- Done! Cost: 0.907s\n",
      "  Final -- Total Cost: 7.718s\n",
      "回波仿真完成！\n",
      "图像大小：150 x 150\n"
     ]
    },
    {
     "name": "stderr",
     "output_type": "stream",
     "text": [
      "/home/liq/pro/new_production_1118/sklearn/cluster/_kmeans.py:1416: FutureWarning: The default value of `n_init` will change from 10 to 'auto' in 1.4. Set the value of `n_init` explicitly to suppress the warning\n",
      "  super()._check_params_vs_input(X, default_n_init=10)\n"
     ]
    },
    {
     "name": "stdout",
     "output_type": "stream",
     "text": [
      "开始回波仿真...\n",
      "========================= EchoSimProcess =========================\n",
      "Phase 1 -- Params read and config...\n",
      "Phase 1 -- Done! Cost: 0.019s\n",
      "Phase 2 -- Sat Position Calculate...\n",
      "Phase 2 -- Done! Cost: 0s\n",
      "Phase 3 -- Flight Track and BeamDir History Simulate...\n",
      "Phase 3 -- Done! Cost: 0s\n",
      "Phase 4 -- Signal Generate...\n",
      "Phase 4 -- Done! Cost: 0.104s\n",
      "Phase 5 -- Echo Calculate...\n",
      "        -- CPU ThreadNum: 48\n",
      "Phase 5 -- Done! Cost: 6.448s\n",
      "Phase 6 -- Result Save...\n",
      "Phase 6 -- Done! Cost: 1.093s\n",
      "  Final -- Total Cost: 7.668s\n",
      "回波仿真完成！\n",
      "图像大小：150 x 150\n"
     ]
    },
    {
     "name": "stderr",
     "output_type": "stream",
     "text": [
      "/home/liq/pro/new_production_1118/sklearn/cluster/_kmeans.py:1416: FutureWarning: The default value of `n_init` will change from 10 to 'auto' in 1.4. Set the value of `n_init` explicitly to suppress the warning\n",
      "  super()._check_params_vs_input(X, default_n_init=10)\n"
     ]
    },
    {
     "name": "stdout",
     "output_type": "stream",
     "text": [
      "开始回波仿真...\n",
      "========================= EchoSimProcess =========================\n",
      "Phase 1 -- Params read and config...\n",
      "Phase 1 -- Done! Cost: 0.044s\n",
      "Phase 2 -- Sat Position Calculate...\n",
      "Phase 2 -- Done! Cost: 0s\n",
      "Phase 3 -- Flight Track and BeamDir History Simulate...\n",
      "Phase 3 -- Done! Cost: 0s\n",
      "Phase 4 -- Signal Generate...\n",
      "Phase 4 -- Done! Cost: 0.106s\n",
      "Phase 5 -- Echo Calculate...\n",
      "        -- CPU ThreadNum: 48\n",
      "Phase 5 -- Done! Cost: 6.492s\n",
      "Phase 6 -- Result Save...\n",
      "Phase 6 -- Done! Cost: 1.099s\n",
      "  Final -- Total Cost: 7.747s\n",
      "回波仿真完成！\n",
      "图像大小：150 x 150\n"
     ]
    },
    {
     "name": "stderr",
     "output_type": "stream",
     "text": [
      "/home/liq/pro/new_production_1118/sklearn/cluster/_kmeans.py:1416: FutureWarning: The default value of `n_init` will change from 10 to 'auto' in 1.4. Set the value of `n_init` explicitly to suppress the warning\n",
      "  super()._check_params_vs_input(X, default_n_init=10)\n"
     ]
    },
    {
     "name": "stdout",
     "output_type": "stream",
     "text": [
      "开始回波仿真...\n",
      "========================= EchoSimProcess =========================\n",
      "Phase 1 -- Params read and config...\n",
      "Phase 1 -- Done! Cost: 0.016s\n",
      "Phase 2 -- Sat Position Calculate...\n",
      "Phase 2 -- Done! Cost: 0s\n",
      "Phase 3 -- Flight Track and BeamDir History Simulate...\n",
      "Phase 3 -- Done! Cost: 0s\n",
      "Phase 4 -- Signal Generate...\n",
      "Phase 4 -- Done! Cost: 0.083s\n",
      "Phase 5 -- Echo Calculate...\n",
      "        -- CPU ThreadNum: 48\n",
      "Phase 5 -- Done! Cost: 6.301s\n",
      "Phase 6 -- Result Save...\n",
      "Phase 6 -- Done! Cost: 1.066s\n",
      "  Final -- Total Cost: 7.471s\n",
      "回波仿真完成！\n",
      "图像大小：150 x 150\n"
     ]
    },
    {
     "name": "stderr",
     "output_type": "stream",
     "text": [
      "/home/liq/pro/new_production_1118/sklearn/cluster/_kmeans.py:1416: FutureWarning: The default value of `n_init` will change from 10 to 'auto' in 1.4. Set the value of `n_init` explicitly to suppress the warning\n",
      "  super()._check_params_vs_input(X, default_n_init=10)\n"
     ]
    },
    {
     "name": "stdout",
     "output_type": "stream",
     "text": [
      "开始回波仿真...\n",
      "========================= EchoSimProcess =========================\n",
      "Phase 1 -- Params read and config...\n",
      "Phase 1 -- Done! Cost: 0.031s\n",
      "Phase 2 -- Sat Position Calculate...\n",
      "Phase 2 -- Done! Cost: 0s\n",
      "Phase 3 -- Flight Track and BeamDir History Simulate...\n",
      "Phase 3 -- Done! Cost: 0s\n",
      "Phase 4 -- Signal Generate...\n",
      "Phase 4 -- Done! Cost: 0.092s\n",
      "Phase 5 -- Echo Calculate...\n",
      "        -- CPU ThreadNum: 48\n",
      "Phase 5 -- Done! Cost: 6.379s\n",
      "Phase 6 -- Result Save...\n",
      "Phase 6 -- Done! Cost: 1.006s\n",
      "  Final -- Total Cost: 7.519s\n",
      "回波仿真完成！\n",
      "图像大小：150 x 150\n"
     ]
    },
    {
     "name": "stderr",
     "output_type": "stream",
     "text": [
      "/home/liq/pro/new_production_1118/sklearn/cluster/_kmeans.py:1416: FutureWarning: The default value of `n_init` will change from 10 to 'auto' in 1.4. Set the value of `n_init` explicitly to suppress the warning\n",
      "  super()._check_params_vs_input(X, default_n_init=10)\n"
     ]
    },
    {
     "name": "stdout",
     "output_type": "stream",
     "text": [
      "开始回波仿真...\n",
      "========================= EchoSimProcess =========================\n",
      "Phase 1 -- Params read and config...\n",
      "Phase 1 -- Done! Cost: 0.02s\n",
      "Phase 2 -- Sat Position Calculate...\n",
      "Phase 2 -- Done! Cost: 0s\n",
      "Phase 3 -- Flight Track and BeamDir History Simulate...\n",
      "Phase 3 -- Done! Cost: 0s\n",
      "Phase 4 -- Signal Generate...\n",
      "Phase 4 -- Done! Cost: 0.111s\n",
      "Phase 5 -- Echo Calculate...\n",
      "        -- CPU ThreadNum: 48\n",
      "Phase 5 -- Done! Cost: 6.301s\n",
      "Phase 6 -- Result Save...\n",
      "Phase 6 -- Done! Cost: 1.068s\n",
      "  Final -- Total Cost: 7.507s\n",
      "回波仿真完成！\n",
      "图像大小：150 x 150\n"
     ]
    },
    {
     "name": "stderr",
     "output_type": "stream",
     "text": [
      "/home/liq/pro/new_production_1118/sklearn/cluster/_kmeans.py:1416: FutureWarning: The default value of `n_init` will change from 10 to 'auto' in 1.4. Set the value of `n_init` explicitly to suppress the warning\n",
      "  super()._check_params_vs_input(X, default_n_init=10)\n"
     ]
    },
    {
     "name": "stdout",
     "output_type": "stream",
     "text": [
      "开始回波仿真...\n",
      "========================= EchoSimProcess =========================\n",
      "Phase 1 -- Params read and config...\n",
      "Phase 1 -- Done! Cost: 0.035s\n",
      "Phase 2 -- Sat Position Calculate...\n",
      "Phase 2 -- Done! Cost: 0s\n",
      "Phase 3 -- Flight Track and BeamDir History Simulate...\n",
      "Phase 3 -- Done! Cost: 0s\n",
      "Phase 4 -- Signal Generate...\n",
      "Phase 4 -- Done! Cost: 0.091s\n",
      "Phase 5 -- Echo Calculate...\n",
      "        -- CPU ThreadNum: 48\n",
      "Phase 5 -- Done! Cost: 6.052s\n",
      "Phase 6 -- Result Save...\n",
      "Phase 6 -- Done! Cost: 0.947s\n",
      "  Final -- Total Cost: 7.13s\n",
      "回波仿真完成！\n",
      "图像大小：150 x 150\n"
     ]
    },
    {
     "name": "stderr",
     "output_type": "stream",
     "text": [
      "/home/liq/pro/new_production_1118/sklearn/cluster/_kmeans.py:1416: FutureWarning: The default value of `n_init` will change from 10 to 'auto' in 1.4. Set the value of `n_init` explicitly to suppress the warning\n",
      "  super()._check_params_vs_input(X, default_n_init=10)\n"
     ]
    },
    {
     "name": "stdout",
     "output_type": "stream",
     "text": [
      "开始回波仿真...\n",
      "========================= EchoSimProcess =========================\n",
      "Phase 1 -- Params read and config...\n",
      "Phase 1 -- Done! Cost: 0.018s\n",
      "Phase 2 -- Sat Position Calculate...\n",
      "Phase 2 -- Done! Cost: 0s\n",
      "Phase 3 -- Flight Track and BeamDir History Simulate...\n",
      "Phase 3 -- Done! Cost: 0s\n",
      "Phase 4 -- Signal Generate...\n",
      "Phase 4 -- Done! Cost: 0.108s\n",
      "Phase 5 -- Echo Calculate...\n",
      "        -- CPU ThreadNum: 48\n",
      "Phase 5 -- Done! Cost: 6.03s\n",
      "Phase 6 -- Result Save...\n",
      "Phase 6 -- Done! Cost: 0.945s\n",
      "  Final -- Total Cost: 7.11s\n",
      "回波仿真完成！\n",
      "图像大小：150 x 150\n"
     ]
    },
    {
     "name": "stderr",
     "output_type": "stream",
     "text": [
      "/home/liq/pro/new_production_1118/sklearn/cluster/_kmeans.py:1416: FutureWarning: The default value of `n_init` will change from 10 to 'auto' in 1.4. Set the value of `n_init` explicitly to suppress the warning\n",
      "  super()._check_params_vs_input(X, default_n_init=10)\n"
     ]
    },
    {
     "name": "stdout",
     "output_type": "stream",
     "text": [
      "开始回波仿真...\n",
      "========================= EchoSimProcess =========================\n",
      "Phase 1 -- Params read and config...\n",
      "Phase 1 -- Done! Cost: 0.032s\n",
      "Phase 2 -- Sat Position Calculate...\n",
      "Phase 2 -- Done! Cost: 0s\n",
      "Phase 3 -- Flight Track and BeamDir History Simulate...\n",
      "Phase 3 -- Done! Cost: 0s\n",
      "Phase 4 -- Signal Generate...\n",
      "Phase 4 -- Done! Cost: 0.1s\n",
      "Phase 5 -- Echo Calculate...\n",
      "        -- CPU ThreadNum: 48\n",
      "Phase 5 -- Done! Cost: 6.165s\n",
      "Phase 6 -- Result Save...\n",
      "Phase 6 -- Done! Cost: 0.765s\n",
      "  Final -- Total Cost: 7.064s\n",
      "回波仿真完成！\n",
      "图像大小：150 x 150\n"
     ]
    },
    {
     "name": "stderr",
     "output_type": "stream",
     "text": [
      "/home/liq/pro/new_production_1118/sklearn/cluster/_kmeans.py:1416: FutureWarning: The default value of `n_init` will change from 10 to 'auto' in 1.4. Set the value of `n_init` explicitly to suppress the warning\n",
      "  super()._check_params_vs_input(X, default_n_init=10)\n"
     ]
    },
    {
     "name": "stdout",
     "output_type": "stream",
     "text": [
      "开始回波仿真...\n",
      "========================= EchoSimProcess =========================\n",
      "Phase 1 -- Params read and config...\n",
      "Phase 1 -- Done! Cost: 0.025s\n",
      "Phase 2 -- Sat Position Calculate...\n",
      "Phase 2 -- Done! Cost: 0s\n",
      "Phase 3 -- Flight Track and BeamDir History Simulate...\n",
      "Phase 3 -- Done! Cost: 0s\n",
      "Phase 4 -- Signal Generate...\n",
      "Phase 4 -- Done! Cost: 0.109s\n",
      "Phase 5 -- Echo Calculate...\n",
      "        -- CPU ThreadNum: 48\n",
      "Phase 5 -- Done! Cost: 6.348s\n",
      "Phase 6 -- Result Save...\n",
      "Phase 6 -- Done! Cost: 1.068s\n",
      "  Final -- Total Cost: 7.552s\n",
      "回波仿真完成！\n",
      "图像大小：150 x 150\n"
     ]
    },
    {
     "name": "stderr",
     "output_type": "stream",
     "text": [
      "/home/liq/pro/new_production_1118/sklearn/cluster/_kmeans.py:1416: FutureWarning: The default value of `n_init` will change from 10 to 'auto' in 1.4. Set the value of `n_init` explicitly to suppress the warning\n",
      "  super()._check_params_vs_input(X, default_n_init=10)\n"
     ]
    },
    {
     "name": "stdout",
     "output_type": "stream",
     "text": [
      "开始回波仿真...\n",
      "========================= EchoSimProcess =========================\n",
      "Phase 1 -- Params read and config...\n",
      "Phase 1 -- Done! Cost: 0.032s\n",
      "Phase 2 -- Sat Position Calculate...\n",
      "Phase 2 -- Done! Cost: 0s\n",
      "Phase 3 -- Flight Track and BeamDir History Simulate...\n",
      "Phase 3 -- Done! Cost: 0s\n",
      "Phase 4 -- Signal Generate...\n",
      "Phase 4 -- Done! Cost: 0.104s\n",
      "Phase 5 -- Echo Calculate...\n",
      "        -- CPU ThreadNum: 48\n",
      "Phase 5 -- Done! Cost: 6.117s\n",
      "Phase 6 -- Result Save...\n",
      "Phase 6 -- Done! Cost: 0.781s\n",
      "  Final -- Total Cost: 7.037s\n",
      "回波仿真完成！\n",
      "图像大小：150 x 150\n"
     ]
    },
    {
     "name": "stderr",
     "output_type": "stream",
     "text": [
      "/home/liq/pro/new_production_1118/sklearn/cluster/_kmeans.py:1416: FutureWarning: The default value of `n_init` will change from 10 to 'auto' in 1.4. Set the value of `n_init` explicitly to suppress the warning\n",
      "  super()._check_params_vs_input(X, default_n_init=10)\n"
     ]
    },
    {
     "name": "stdout",
     "output_type": "stream",
     "text": [
      "开始回波仿真...\n",
      "========================= EchoSimProcess =========================\n",
      "Phase 1 -- Params read and config...\n",
      "Phase 1 -- Done! Cost: 0.037s\n",
      "Phase 2 -- Sat Position Calculate...\n",
      "Phase 2 -- Done! Cost: 0s\n",
      "Phase 3 -- Flight Track and BeamDir History Simulate...\n",
      "Phase 3 -- Done! Cost: 0s\n",
      "Phase 4 -- Signal Generate...\n",
      "Phase 4 -- Done! Cost: 0.098s\n",
      "Phase 5 -- Echo Calculate...\n",
      "        -- CPU ThreadNum: 48\n",
      "Phase 5 -- Done! Cost: 6.152s\n",
      "Phase 6 -- Result Save...\n",
      "Phase 6 -- Done! Cost: 0.837s\n",
      "  Final -- Total Cost: 7.128s\n",
      "回波仿真完成！\n",
      "图像大小：150 x 150\n"
     ]
    },
    {
     "name": "stderr",
     "output_type": "stream",
     "text": [
      "/home/liq/pro/new_production_1118/sklearn/cluster/_kmeans.py:1416: FutureWarning: The default value of `n_init` will change from 10 to 'auto' in 1.4. Set the value of `n_init` explicitly to suppress the warning\n",
      "  super()._check_params_vs_input(X, default_n_init=10)\n"
     ]
    },
    {
     "name": "stdout",
     "output_type": "stream",
     "text": [
      "开始回波仿真...\n",
      "========================= EchoSimProcess =========================\n",
      "Phase 1 -- Params read and config...\n",
      "Phase 1 -- Done! Cost: 0.031s\n",
      "Phase 2 -- Sat Position Calculate...\n",
      "Phase 2 -- Done! Cost: 0s\n",
      "Phase 3 -- Flight Track and BeamDir History Simulate...\n",
      "Phase 3 -- Done! Cost: 0s\n",
      "Phase 4 -- Signal Generate...\n",
      "Phase 4 -- Done! Cost: 0.108s\n",
      "Phase 5 -- Echo Calculate...\n",
      "        -- CPU ThreadNum: 48\n",
      "Phase 5 -- Done! Cost: 6.1s\n",
      "Phase 6 -- Result Save...\n",
      "Phase 6 -- Done! Cost: 1.071s\n",
      "  Final -- Total Cost: 7.311s\n",
      "回波仿真完成！\n",
      "图像大小：150 x 150\n"
     ]
    },
    {
     "name": "stderr",
     "output_type": "stream",
     "text": [
      "/home/liq/pro/new_production_1118/sklearn/cluster/_kmeans.py:1416: FutureWarning: The default value of `n_init` will change from 10 to 'auto' in 1.4. Set the value of `n_init` explicitly to suppress the warning\n",
      "  super()._check_params_vs_input(X, default_n_init=10)\n"
     ]
    },
    {
     "name": "stdout",
     "output_type": "stream",
     "text": [
      "开始回波仿真...\n",
      "========================= EchoSimProcess =========================\n",
      "Phase 1 -- Params read and config...\n",
      "Phase 1 -- Done! Cost: 0.016s\n",
      "Phase 2 -- Sat Position Calculate...\n",
      "Phase 2 -- Done! Cost: 0s\n",
      "Phase 3 -- Flight Track and BeamDir History Simulate...\n",
      "Phase 3 -- Done! Cost: 0s\n",
      "Phase 4 -- Signal Generate...\n",
      "Phase 4 -- Done! Cost: 0.118s\n",
      "Phase 5 -- Echo Calculate...\n",
      "        -- CPU ThreadNum: 48\n",
      "Phase 5 -- Done! Cost: 6.057s\n",
      "Phase 6 -- Result Save...\n",
      "Phase 6 -- Done! Cost: 1.071s\n",
      "  Final -- Total Cost: 7.27s\n",
      "回波仿真完成！\n",
      "图像大小：150 x 150\n"
     ]
    },
    {
     "name": "stderr",
     "output_type": "stream",
     "text": [
      "/home/liq/pro/new_production_1118/sklearn/cluster/_kmeans.py:1416: FutureWarning: The default value of `n_init` will change from 10 to 'auto' in 1.4. Set the value of `n_init` explicitly to suppress the warning\n",
      "  super()._check_params_vs_input(X, default_n_init=10)\n"
     ]
    },
    {
     "name": "stdout",
     "output_type": "stream",
     "text": [
      "开始回波仿真...\n",
      "========================= EchoSimProcess =========================\n",
      "Phase 1 -- Params read and config...\n",
      "Phase 1 -- Done! Cost: 0.036s\n",
      "Phase 2 -- Sat Position Calculate...\n",
      "Phase 2 -- Done! Cost: 0s\n",
      "Phase 3 -- Flight Track and BeamDir History Simulate...\n",
      "Phase 3 -- Done! Cost: 0s\n",
      "Phase 4 -- Signal Generate...\n",
      "Phase 4 -- Done! Cost: 0.105s\n",
      "Phase 5 -- Echo Calculate...\n",
      "        -- CPU ThreadNum: 48\n",
      "Phase 5 -- Done! Cost: 6.067s\n",
      "Phase 6 -- Result Save...\n",
      "Phase 6 -- Done! Cost: 1.028s\n",
      "  Final -- Total Cost: 7.239s\n",
      "回波仿真完成！\n",
      "图像大小：150 x 150\n"
     ]
    },
    {
     "name": "stderr",
     "output_type": "stream",
     "text": [
      "/home/liq/pro/new_production_1118/sklearn/cluster/_kmeans.py:1416: FutureWarning: The default value of `n_init` will change from 10 to 'auto' in 1.4. Set the value of `n_init` explicitly to suppress the warning\n",
      "  super()._check_params_vs_input(X, default_n_init=10)\n"
     ]
    },
    {
     "name": "stdout",
     "output_type": "stream",
     "text": [
      "开始回波仿真...\n",
      "========================= EchoSimProcess =========================\n",
      "Phase 1 -- Params read and config...\n",
      "Phase 1 -- Done! Cost: 0.03s\n",
      "Phase 2 -- Sat Position Calculate...\n",
      "Phase 2 -- Done! Cost: 0s\n",
      "Phase 3 -- Flight Track and BeamDir History Simulate...\n",
      "Phase 3 -- Done! Cost: 0s\n",
      "Phase 4 -- Signal Generate...\n",
      "Phase 4 -- Done! Cost: 0.109s\n",
      "Phase 5 -- Echo Calculate...\n",
      "        -- CPU ThreadNum: 48\n",
      "Phase 5 -- Done! Cost: 6.264s\n",
      "Phase 6 -- Result Save...\n",
      "Phase 6 -- Done! Cost: 1.019s\n",
      "  Final -- Total Cost: 7.433s\n",
      "回波仿真完成！\n",
      "图像大小：150 x 150\n"
     ]
    },
    {
     "name": "stderr",
     "output_type": "stream",
     "text": [
      "/home/liq/pro/new_production_1118/sklearn/cluster/_kmeans.py:1416: FutureWarning: The default value of `n_init` will change from 10 to 'auto' in 1.4. Set the value of `n_init` explicitly to suppress the warning\n",
      "  super()._check_params_vs_input(X, default_n_init=10)\n"
     ]
    },
    {
     "name": "stdout",
     "output_type": "stream",
     "text": [
      "开始回波仿真...\n",
      "========================= EchoSimProcess =========================\n",
      "Phase 1 -- Params read and config...\n",
      "Phase 1 -- Done! Cost: 0.035s\n",
      "Phase 2 -- Sat Position Calculate...\n",
      "Phase 2 -- Done! Cost: 0s\n",
      "Phase 3 -- Flight Track and BeamDir History Simulate...\n",
      "Phase 3 -- Done! Cost: 0.002s\n",
      "Phase 4 -- Signal Generate...\n",
      "Phase 4 -- Done! Cost: 0.1s\n",
      "Phase 5 -- Echo Calculate...\n",
      "        -- CPU ThreadNum: 48\n",
      "Phase 5 -- Done! Cost: 6.24s\n",
      "Phase 6 -- Result Save...\n",
      "Phase 6 -- Done! Cost: 0.794s\n",
      "  Final -- Total Cost: 7.173s\n",
      "回波仿真完成！\n",
      "图像大小：150 x 150\n"
     ]
    },
    {
     "name": "stderr",
     "output_type": "stream",
     "text": [
      "/home/liq/pro/new_production_1118/sklearn/cluster/_kmeans.py:1416: FutureWarning: The default value of `n_init` will change from 10 to 'auto' in 1.4. Set the value of `n_init` explicitly to suppress the warning\n",
      "  super()._check_params_vs_input(X, default_n_init=10)\n"
     ]
    },
    {
     "name": "stdout",
     "output_type": "stream",
     "text": [
      "开始回波仿真...\n",
      "========================= EchoSimProcess =========================\n",
      "Phase 1 -- Params read and config...\n",
      "Phase 1 -- Done! Cost: 0.016s\n",
      "Phase 2 -- Sat Position Calculate...\n",
      "Phase 2 -- Done! Cost: 0s\n",
      "Phase 3 -- Flight Track and BeamDir History Simulate...\n",
      "Phase 3 -- Done! Cost: 0s\n",
      "Phase 4 -- Signal Generate...\n",
      "Phase 4 -- Done! Cost: 0.106s\n",
      "Phase 5 -- Echo Calculate...\n",
      "        -- CPU ThreadNum: 48\n",
      "Phase 5 -- Done! Cost: 6.236s\n",
      "Phase 6 -- Result Save...\n",
      "Phase 6 -- Done! Cost: 0.776s\n",
      "  Final -- Total Cost: 7.139s\n",
      "回波仿真完成！\n",
      "图像大小：150 x 150\n"
     ]
    },
    {
     "name": "stderr",
     "output_type": "stream",
     "text": [
      "/home/liq/pro/new_production_1118/sklearn/cluster/_kmeans.py:1416: FutureWarning: The default value of `n_init` will change from 10 to 'auto' in 1.4. Set the value of `n_init` explicitly to suppress the warning\n",
      "  super()._check_params_vs_input(X, default_n_init=10)\n"
     ]
    },
    {
     "name": "stdout",
     "output_type": "stream",
     "text": [
      "开始回波仿真...\n",
      "========================= EchoSimProcess =========================\n",
      "Phase 1 -- Params read and config...\n",
      "Phase 1 -- Done! Cost: 0.033s\n",
      "Phase 2 -- Sat Position Calculate...\n",
      "Phase 2 -- Done! Cost: 0s\n",
      "Phase 3 -- Flight Track and BeamDir History Simulate...\n",
      "Phase 3 -- Done! Cost: 0s\n",
      "Phase 4 -- Signal Generate...\n",
      "Phase 4 -- Done! Cost: 0.107s\n",
      "Phase 5 -- Echo Calculate...\n",
      "        -- CPU ThreadNum: 48\n",
      "Phase 5 -- Done! Cost: 6.279s\n",
      "Phase 6 -- Result Save...\n",
      "Phase 6 -- Done! Cost: 0.768s\n",
      "  Final -- Total Cost: 7.196s\n",
      "回波仿真完成！\n",
      "图像大小：150 x 150\n"
     ]
    },
    {
     "name": "stderr",
     "output_type": "stream",
     "text": [
      "/home/liq/pro/new_production_1118/sklearn/cluster/_kmeans.py:1416: FutureWarning: The default value of `n_init` will change from 10 to 'auto' in 1.4. Set the value of `n_init` explicitly to suppress the warning\n",
      "  super()._check_params_vs_input(X, default_n_init=10)\n"
     ]
    },
    {
     "name": "stdout",
     "output_type": "stream",
     "text": [
      "开始回波仿真...\n",
      "========================= EchoSimProcess =========================\n",
      "Phase 1 -- Params read and config...\n",
      "Phase 1 -- Done! Cost: 0.036s\n",
      "Phase 2 -- Sat Position Calculate...\n",
      "Phase 2 -- Done! Cost: 0s\n",
      "Phase 3 -- Flight Track and BeamDir History Simulate...\n",
      "Phase 3 -- Done! Cost: 0s\n",
      "Phase 4 -- Signal Generate...\n",
      "Phase 4 -- Done! Cost: 0.118s\n",
      "Phase 5 -- Echo Calculate...\n",
      "        -- CPU ThreadNum: 48\n",
      "Phase 5 -- Done! Cost: 6.097s\n",
      "Phase 6 -- Result Save...\n",
      "Phase 6 -- Done! Cost: 1.057s\n",
      "  Final -- Total Cost: 7.313s\n",
      "回波仿真完成！\n",
      "图像大小：150 x 150\n"
     ]
    },
    {
     "name": "stderr",
     "output_type": "stream",
     "text": [
      "/home/liq/pro/new_production_1118/sklearn/cluster/_kmeans.py:1416: FutureWarning: The default value of `n_init` will change from 10 to 'auto' in 1.4. Set the value of `n_init` explicitly to suppress the warning\n",
      "  super()._check_params_vs_input(X, default_n_init=10)\n"
     ]
    },
    {
     "name": "stdout",
     "output_type": "stream",
     "text": [
      "开始回波仿真...\n",
      "========================= EchoSimProcess =========================\n",
      "Phase 1 -- Params read and config...\n",
      "Phase 1 -- Done! Cost: 0.022s\n",
      "Phase 2 -- Sat Position Calculate...\n",
      "Phase 2 -- Done! Cost: 0s\n",
      "Phase 3 -- Flight Track and BeamDir History Simulate...\n",
      "Phase 3 -- Done! Cost: 0s\n",
      "Phase 4 -- Signal Generate...\n",
      "Phase 4 -- Done! Cost: 0.094s\n",
      "Phase 5 -- Echo Calculate...\n",
      "        -- CPU ThreadNum: 48\n",
      "Phase 5 -- Done! Cost: 6.11s\n",
      "Phase 6 -- Result Save...\n",
      "Phase 6 -- Done! Cost: 0.916s\n",
      "  Final -- Total Cost: 7.146s\n",
      "回波仿真完成！\n",
      "图像大小：150 x 150\n"
     ]
    },
    {
     "name": "stderr",
     "output_type": "stream",
     "text": [
      "/home/liq/pro/new_production_1118/sklearn/cluster/_kmeans.py:1416: FutureWarning: The default value of `n_init` will change from 10 to 'auto' in 1.4. Set the value of `n_init` explicitly to suppress the warning\n",
      "  super()._check_params_vs_input(X, default_n_init=10)\n"
     ]
    },
    {
     "name": "stdout",
     "output_type": "stream",
     "text": [
      "开始回波仿真...\n",
      "========================= EchoSimProcess =========================\n",
      "Phase 1 -- Params read and config...\n",
      "Phase 1 -- Done! Cost: 0.014s\n",
      "Phase 2 -- Sat Position Calculate...\n",
      "Phase 2 -- Done! Cost: 0s\n",
      "Phase 3 -- Flight Track and BeamDir History Simulate...\n",
      "Phase 3 -- Done! Cost: 0s\n",
      "Phase 4 -- Signal Generate...\n",
      "Phase 4 -- Done! Cost: 0.096s\n",
      "Phase 5 -- Echo Calculate...\n",
      "        -- CPU ThreadNum: 48\n",
      "Phase 5 -- Done! Cost: 6.243s\n",
      "Phase 6 -- Result Save...\n",
      "Phase 6 -- Done! Cost: 0.897s\n",
      "  Final -- Total Cost: 7.253s\n",
      "回波仿真完成！\n",
      "图像大小：150 x 150\n"
     ]
    },
    {
     "name": "stderr",
     "output_type": "stream",
     "text": [
      "/home/liq/pro/new_production_1118/sklearn/cluster/_kmeans.py:1416: FutureWarning: The default value of `n_init` will change from 10 to 'auto' in 1.4. Set the value of `n_init` explicitly to suppress the warning\n",
      "  super()._check_params_vs_input(X, default_n_init=10)\n"
     ]
    },
    {
     "name": "stdout",
     "output_type": "stream",
     "text": [
      "开始回波仿真...\n",
      "========================= EchoSimProcess =========================\n",
      "Phase 1 -- Params read and config...\n",
      "Phase 1 -- Done! Cost: 0.014s\n",
      "Phase 2 -- Sat Position Calculate...\n",
      "Phase 2 -- Done! Cost: 0s\n",
      "Phase 3 -- Flight Track and BeamDir History Simulate...\n",
      "Phase 3 -- Done! Cost: 0s\n",
      "Phase 4 -- Signal Generate...\n",
      "Phase 4 -- Done! Cost: 0.051s\n",
      "Phase 5 -- Echo Calculate...\n",
      "        -- CPU ThreadNum: 48\n",
      "Phase 5 -- Done! Cost: 6.302s\n",
      "Phase 6 -- Result Save...\n",
      "Phase 6 -- Done! Cost: 1.045s\n",
      "  Final -- Total Cost: 7.414s\n",
      "回波仿真完成！\n",
      "图像大小：150 x 150\n"
     ]
    },
    {
     "name": "stderr",
     "output_type": "stream",
     "text": [
      "/home/liq/pro/new_production_1118/sklearn/cluster/_kmeans.py:1416: FutureWarning: The default value of `n_init` will change from 10 to 'auto' in 1.4. Set the value of `n_init` explicitly to suppress the warning\n",
      "  super()._check_params_vs_input(X, default_n_init=10)\n"
     ]
    },
    {
     "name": "stdout",
     "output_type": "stream",
     "text": [
      "开始回波仿真...\n",
      "========================= EchoSimProcess =========================\n",
      "Phase 1 -- Params read and config...\n",
      "Phase 1 -- Done! Cost: 0.023s\n",
      "Phase 2 -- Sat Position Calculate...\n",
      "Phase 2 -- Done! Cost: 0s\n",
      "Phase 3 -- Flight Track and BeamDir History Simulate...\n",
      "Phase 3 -- Done! Cost: 0s\n",
      "Phase 4 -- Signal Generate...\n",
      "Phase 4 -- Done! Cost: 0.114s\n",
      "Phase 5 -- Echo Calculate...\n",
      "        -- CPU ThreadNum: 48\n",
      "Phase 5 -- Done! Cost: 5.962s\n",
      "Phase 6 -- Result Save...\n",
      "Phase 6 -- Done! Cost: 0.845s\n",
      "  Final -- Total Cost: 6.946s\n",
      "回波仿真完成！\n",
      "图像大小：150 x 150\n"
     ]
    },
    {
     "name": "stderr",
     "output_type": "stream",
     "text": [
      "/home/liq/pro/new_production_1118/sklearn/cluster/_kmeans.py:1416: FutureWarning: The default value of `n_init` will change from 10 to 'auto' in 1.4. Set the value of `n_init` explicitly to suppress the warning\n",
      "  super()._check_params_vs_input(X, default_n_init=10)\n"
     ]
    },
    {
     "name": "stdout",
     "output_type": "stream",
     "text": [
      "开始回波仿真...\n",
      "========================= EchoSimProcess =========================\n",
      "Phase 1 -- Params read and config...\n",
      "Phase 1 -- Done! Cost: 0.041s\n",
      "Phase 2 -- Sat Position Calculate...\n",
      "Phase 2 -- Done! Cost: 0s\n",
      "Phase 3 -- Flight Track and BeamDir History Simulate...\n",
      "Phase 3 -- Done! Cost: 0s\n",
      "Phase 4 -- Signal Generate...\n",
      "Phase 4 -- Done! Cost: 0.09s\n",
      "Phase 5 -- Echo Calculate...\n",
      "        -- CPU ThreadNum: 48\n",
      "Phase 5 -- Done! Cost: 5.868s\n",
      "Phase 6 -- Result Save...\n",
      "Phase 6 -- Done! Cost: 0.733s\n",
      "  Final -- Total Cost: 6.739s\n",
      "回波仿真完成！\n",
      "图像大小：150 x 150\n"
     ]
    },
    {
     "name": "stderr",
     "output_type": "stream",
     "text": [
      "/home/liq/pro/new_production_1118/sklearn/cluster/_kmeans.py:1416: FutureWarning: The default value of `n_init` will change from 10 to 'auto' in 1.4. Set the value of `n_init` explicitly to suppress the warning\n",
      "  super()._check_params_vs_input(X, default_n_init=10)\n"
     ]
    },
    {
     "name": "stdout",
     "output_type": "stream",
     "text": [
      "开始回波仿真...\n",
      "========================= EchoSimProcess =========================\n",
      "Phase 1 -- Params read and config...\n",
      "Phase 1 -- Done! Cost: 0.015s\n",
      "Phase 2 -- Sat Position Calculate...\n",
      "Phase 2 -- Done! Cost: 0s\n",
      "Phase 3 -- Flight Track and BeamDir History Simulate...\n",
      "Phase 3 -- Done! Cost: 0s\n",
      "Phase 4 -- Signal Generate...\n",
      "Phase 4 -- Done! Cost: 0.088s\n",
      "Phase 5 -- Echo Calculate...\n",
      "        -- CPU ThreadNum: 48\n",
      "Phase 5 -- Done! Cost: 6.378s\n",
      "Phase 6 -- Result Save...\n",
      "Phase 6 -- Done! Cost: 1.062s\n",
      "  Final -- Total Cost: 7.547s\n",
      "回波仿真完成！\n",
      "图像大小：150 x 150\n"
     ]
    },
    {
     "name": "stderr",
     "output_type": "stream",
     "text": [
      "/home/liq/pro/new_production_1118/sklearn/cluster/_kmeans.py:1416: FutureWarning: The default value of `n_init` will change from 10 to 'auto' in 1.4. Set the value of `n_init` explicitly to suppress the warning\n",
      "  super()._check_params_vs_input(X, default_n_init=10)\n"
     ]
    },
    {
     "name": "stdout",
     "output_type": "stream",
     "text": [
      "开始回波仿真...\n",
      "========================= EchoSimProcess =========================\n",
      "Phase 1 -- Params read and config...\n",
      "Phase 1 -- Done! Cost: 0.023s\n",
      "Phase 2 -- Sat Position Calculate...\n",
      "Phase 2 -- Done! Cost: 0s\n",
      "Phase 3 -- Flight Track and BeamDir History Simulate...\n",
      "Phase 3 -- Done! Cost: 0s\n",
      "Phase 4 -- Signal Generate...\n",
      "Phase 4 -- Done! Cost: 0.096s\n",
      "Phase 5 -- Echo Calculate...\n",
      "        -- CPU ThreadNum: 48\n",
      "Phase 5 -- Done! Cost: 6.379s\n",
      "Phase 6 -- Result Save...\n",
      "Phase 6 -- Done! Cost: 1.049s\n",
      "  Final -- Total Cost: 7.557s\n",
      "回波仿真完成！\n",
      "图像大小：150 x 150\n"
     ]
    },
    {
     "name": "stderr",
     "output_type": "stream",
     "text": [
      "/home/liq/pro/new_production_1118/sklearn/cluster/_kmeans.py:1416: FutureWarning: The default value of `n_init` will change from 10 to 'auto' in 1.4. Set the value of `n_init` explicitly to suppress the warning\n",
      "  super()._check_params_vs_input(X, default_n_init=10)\n"
     ]
    },
    {
     "name": "stdout",
     "output_type": "stream",
     "text": [
      "开始回波仿真...\n",
      "========================= EchoSimProcess =========================\n",
      "Phase 1 -- Params read and config...\n",
      "Phase 1 -- Done! Cost: 0.018s\n",
      "Phase 2 -- Sat Position Calculate...\n",
      "Phase 2 -- Done! Cost: 0s\n",
      "Phase 3 -- Flight Track and BeamDir History Simulate...\n",
      "Phase 3 -- Done! Cost: 0s\n",
      "Phase 4 -- Signal Generate...\n",
      "Phase 4 -- Done! Cost: 0.113s\n",
      "Phase 5 -- Echo Calculate...\n",
      "        -- CPU ThreadNum: 48\n",
      "Phase 5 -- Done! Cost: 6.087s\n",
      "Phase 6 -- Result Save...\n",
      "Phase 6 -- Done! Cost: 0.755s\n",
      "  Final -- Total Cost: 6.976s\n",
      "回波仿真完成！\n",
      "图像大小：150 x 150\n"
     ]
    },
    {
     "name": "stderr",
     "output_type": "stream",
     "text": [
      "/home/liq/pro/new_production_1118/sklearn/cluster/_kmeans.py:1416: FutureWarning: The default value of `n_init` will change from 10 to 'auto' in 1.4. Set the value of `n_init` explicitly to suppress the warning\n",
      "  super()._check_params_vs_input(X, default_n_init=10)\n"
     ]
    },
    {
     "name": "stdout",
     "output_type": "stream",
     "text": [
      "开始回波仿真...\n",
      "========================= EchoSimProcess =========================\n",
      "Phase 1 -- Params read and config...\n",
      "Phase 1 -- Done! Cost: 0.019s\n",
      "Phase 2 -- Sat Position Calculate...\n",
      "Phase 2 -- Done! Cost: 0s\n",
      "Phase 3 -- Flight Track and BeamDir History Simulate...\n",
      "Phase 3 -- Done! Cost: 0s\n",
      "Phase 4 -- Signal Generate...\n",
      "Phase 4 -- Done! Cost: 0.121s\n",
      "Phase 5 -- Echo Calculate...\n",
      "        -- CPU ThreadNum: 48\n",
      "Phase 5 -- Done! Cost: 6.255s\n",
      "Phase 6 -- Result Save...\n",
      "Phase 6 -- Done! Cost: 0.978s\n",
      "  Final -- Total Cost: 7.376s\n",
      "回波仿真完成！\n",
      "图像大小：150 x 150\n"
     ]
    },
    {
     "name": "stderr",
     "output_type": "stream",
     "text": [
      "/home/liq/pro/new_production_1118/sklearn/cluster/_kmeans.py:1416: FutureWarning: The default value of `n_init` will change from 10 to 'auto' in 1.4. Set the value of `n_init` explicitly to suppress the warning\n",
      "  super()._check_params_vs_input(X, default_n_init=10)\n"
     ]
    },
    {
     "name": "stdout",
     "output_type": "stream",
     "text": [
      "开始回波仿真...\n",
      "========================= EchoSimProcess =========================\n",
      "Phase 1 -- Params read and config...\n",
      "Phase 1 -- Done! Cost: 0.014s\n",
      "Phase 2 -- Sat Position Calculate...\n",
      "Phase 2 -- Done! Cost: 0s\n",
      "Phase 3 -- Flight Track and BeamDir History Simulate...\n",
      "Phase 3 -- Done! Cost: 0s\n",
      "Phase 4 -- Signal Generate...\n",
      "Phase 4 -- Done! Cost: 0.107s\n",
      "Phase 5 -- Echo Calculate...\n",
      "        -- CPU ThreadNum: 48\n",
      "Phase 5 -- Done! Cost: 6.187s\n",
      "Phase 6 -- Result Save...\n",
      "Phase 6 -- Done! Cost: 0.773s\n",
      "  Final -- Total Cost: 7.087s\n",
      "回波仿真完成！\n",
      "图像大小：150 x 150\n"
     ]
    },
    {
     "name": "stderr",
     "output_type": "stream",
     "text": [
      "/home/liq/pro/new_production_1118/sklearn/cluster/_kmeans.py:1416: FutureWarning: The default value of `n_init` will change from 10 to 'auto' in 1.4. Set the value of `n_init` explicitly to suppress the warning\n",
      "  super()._check_params_vs_input(X, default_n_init=10)\n"
     ]
    },
    {
     "name": "stdout",
     "output_type": "stream",
     "text": [
      "开始回波仿真...\n",
      "========================= EchoSimProcess =========================\n",
      "Phase 1 -- Params read and config...\n",
      "Phase 1 -- Done! Cost: 0.013s\n",
      "Phase 2 -- Sat Position Calculate...\n",
      "Phase 2 -- Done! Cost: 0s\n",
      "Phase 3 -- Flight Track and BeamDir History Simulate...\n",
      "Phase 3 -- Done! Cost: 0s\n",
      "Phase 4 -- Signal Generate...\n",
      "Phase 4 -- Done! Cost: 0.105s\n",
      "Phase 5 -- Echo Calculate...\n",
      "        -- CPU ThreadNum: 48\n",
      "Phase 5 -- Done! Cost: 5.935s\n",
      "Phase 6 -- Result Save...\n",
      "Phase 6 -- Done! Cost: 0.967s\n",
      "  Final -- Total Cost: 7.025s\n",
      "回波仿真完成！\n",
      "图像大小：150 x 150\n"
     ]
    },
    {
     "name": "stderr",
     "output_type": "stream",
     "text": [
      "/home/liq/pro/new_production_1118/sklearn/cluster/_kmeans.py:1416: FutureWarning: The default value of `n_init` will change from 10 to 'auto' in 1.4. Set the value of `n_init` explicitly to suppress the warning\n",
      "  super()._check_params_vs_input(X, default_n_init=10)\n"
     ]
    },
    {
     "name": "stdout",
     "output_type": "stream",
     "text": [
      "开始回波仿真...\n",
      "========================= EchoSimProcess =========================\n",
      "Phase 1 -- Params read and config...\n",
      "Phase 1 -- Done! Cost: 0.024s\n",
      "Phase 2 -- Sat Position Calculate...\n",
      "Phase 2 -- Done! Cost: 0s\n",
      "Phase 3 -- Flight Track and BeamDir History Simulate...\n",
      "Phase 3 -- Done! Cost: 0s\n",
      "Phase 4 -- Signal Generate...\n",
      "Phase 4 -- Done! Cost: 0.107s\n",
      "Phase 5 -- Echo Calculate...\n",
      "        -- CPU ThreadNum: 48\n",
      "Phase 5 -- Done! Cost: 6.056s\n",
      "Phase 6 -- Result Save...\n",
      "Phase 6 -- Done! Cost: 0.766s\n",
      "  Final -- Total Cost: 6.963s\n",
      "回波仿真完成！\n",
      "图像大小：150 x 150\n"
     ]
    },
    {
     "name": "stderr",
     "output_type": "stream",
     "text": [
      "/home/liq/pro/new_production_1118/sklearn/cluster/_kmeans.py:1416: FutureWarning: The default value of `n_init` will change from 10 to 'auto' in 1.4. Set the value of `n_init` explicitly to suppress the warning\n",
      "  super()._check_params_vs_input(X, default_n_init=10)\n"
     ]
    },
    {
     "name": "stdout",
     "output_type": "stream",
     "text": [
      "开始回波仿真...\n",
      "========================= EchoSimProcess =========================\n",
      "Phase 1 -- Params read and config...\n",
      "Phase 1 -- Done! Cost: 0.022s\n",
      "Phase 2 -- Sat Position Calculate...\n",
      "Phase 2 -- Done! Cost: 0s\n",
      "Phase 3 -- Flight Track and BeamDir History Simulate...\n",
      "Phase 3 -- Done! Cost: 0s\n",
      "Phase 4 -- Signal Generate...\n",
      "Phase 4 -- Done! Cost: 0.104s\n",
      "Phase 5 -- Echo Calculate...\n",
      "        -- CPU ThreadNum: 48\n",
      "Phase 5 -- Done! Cost: 6.205s\n",
      "Phase 6 -- Result Save...\n",
      "Phase 6 -- Done! Cost: 1.074s\n",
      "  Final -- Total Cost: 7.406s\n",
      "回波仿真完成！\n",
      "图像大小：150 x 150\n"
     ]
    },
    {
     "name": "stderr",
     "output_type": "stream",
     "text": [
      "/home/liq/pro/new_production_1118/sklearn/cluster/_kmeans.py:1416: FutureWarning: The default value of `n_init` will change from 10 to 'auto' in 1.4. Set the value of `n_init` explicitly to suppress the warning\n",
      "  super()._check_params_vs_input(X, default_n_init=10)\n"
     ]
    },
    {
     "name": "stdout",
     "output_type": "stream",
     "text": [
      "开始回波仿真...\n",
      "========================= EchoSimProcess =========================\n",
      "Phase 1 -- Params read and config...\n",
      "Phase 1 -- Done! Cost: 0.014s\n",
      "Phase 2 -- Sat Position Calculate...\n",
      "Phase 2 -- Done! Cost: 0s\n",
      "Phase 3 -- Flight Track and BeamDir History Simulate...\n",
      "Phase 3 -- Done! Cost: 0s\n",
      "Phase 4 -- Signal Generate...\n",
      "Phase 4 -- Done! Cost: 0.063s\n",
      "Phase 5 -- Echo Calculate...\n",
      "        -- CPU ThreadNum: 48\n",
      "Phase 5 -- Done! Cost: 6.048s\n",
      "Phase 6 -- Result Save...\n",
      "Phase 6 -- Done! Cost: 0.835s\n",
      "  Final -- Total Cost: 6.963s\n",
      "回波仿真完成！\n",
      "图像大小：150 x 150\n"
     ]
    },
    {
     "name": "stderr",
     "output_type": "stream",
     "text": [
      "/home/liq/pro/new_production_1118/sklearn/cluster/_kmeans.py:1416: FutureWarning: The default value of `n_init` will change from 10 to 'auto' in 1.4. Set the value of `n_init` explicitly to suppress the warning\n",
      "  super()._check_params_vs_input(X, default_n_init=10)\n"
     ]
    },
    {
     "name": "stdout",
     "output_type": "stream",
     "text": [
      "开始回波仿真...\n",
      "========================= EchoSimProcess =========================\n",
      "Phase 1 -- Params read and config...\n",
      "Phase 1 -- Done! Cost: 0.023s\n",
      "Phase 2 -- Sat Position Calculate...\n",
      "Phase 2 -- Done! Cost: 0s\n",
      "Phase 3 -- Flight Track and BeamDir History Simulate...\n",
      "Phase 3 -- Done! Cost: 0s\n",
      "Phase 4 -- Signal Generate...\n",
      "Phase 4 -- Done! Cost: 0.105s\n",
      "Phase 5 -- Echo Calculate...\n",
      "        -- CPU ThreadNum: 48\n",
      "Phase 5 -- Done! Cost: 6.438s\n",
      "Phase 6 -- Result Save...\n",
      "Phase 6 -- Done! Cost: 0.917s\n",
      "  Final -- Total Cost: 7.493s\n",
      "回波仿真完成！\n",
      "图像大小：150 x 150\n"
     ]
    },
    {
     "name": "stderr",
     "output_type": "stream",
     "text": [
      "/home/liq/pro/new_production_1118/sklearn/cluster/_kmeans.py:1416: FutureWarning: The default value of `n_init` will change from 10 to 'auto' in 1.4. Set the value of `n_init` explicitly to suppress the warning\n",
      "  super()._check_params_vs_input(X, default_n_init=10)\n"
     ]
    },
    {
     "name": "stdout",
     "output_type": "stream",
     "text": [
      "开始回波仿真...\n",
      "========================= EchoSimProcess =========================\n",
      "Phase 1 -- Params read and config...\n",
      "Phase 1 -- Done! Cost: 0.019s\n",
      "Phase 2 -- Sat Position Calculate...\n",
      "Phase 2 -- Done! Cost: 0s\n",
      "Phase 3 -- Flight Track and BeamDir History Simulate...\n",
      "Phase 3 -- Done! Cost: 0s\n",
      "Phase 4 -- Signal Generate...\n",
      "Phase 4 -- Done! Cost: 0.115s\n",
      "Phase 5 -- Echo Calculate...\n",
      "        -- CPU ThreadNum: 48\n",
      "Phase 5 -- Done! Cost: 6.065s\n",
      "Phase 6 -- Result Save...\n",
      "Phase 6 -- Done! Cost: 1.039s\n",
      "  Final -- Total Cost: 7.243s\n",
      "回波仿真完成！\n",
      "图像大小：150 x 150\n"
     ]
    },
    {
     "name": "stderr",
     "output_type": "stream",
     "text": [
      "/home/liq/pro/new_production_1118/sklearn/cluster/_kmeans.py:1416: FutureWarning: The default value of `n_init` will change from 10 to 'auto' in 1.4. Set the value of `n_init` explicitly to suppress the warning\n",
      "  super()._check_params_vs_input(X, default_n_init=10)\n"
     ]
    },
    {
     "name": "stdout",
     "output_type": "stream",
     "text": [
      "开始回波仿真...\n",
      "========================= EchoSimProcess =========================\n",
      "Phase 1 -- Params read and config...\n",
      "Phase 1 -- Done! Cost: 0.026s\n",
      "Phase 2 -- Sat Position Calculate...\n",
      "Phase 2 -- Done! Cost: 0s\n",
      "Phase 3 -- Flight Track and BeamDir History Simulate...\n",
      "Phase 3 -- Done! Cost: 0s\n",
      "Phase 4 -- Signal Generate...\n",
      "Phase 4 -- Done! Cost: 0.11s\n",
      "Phase 5 -- Echo Calculate...\n",
      "        -- CPU ThreadNum: 48\n",
      "Phase 5 -- Done! Cost: 6.233s\n",
      "Phase 6 -- Result Save...\n",
      "Phase 6 -- Done! Cost: 0.811s\n",
      "  Final -- Total Cost: 7.185s\n",
      "回波仿真完成！\n",
      "图像大小：150 x 150\n"
     ]
    },
    {
     "name": "stderr",
     "output_type": "stream",
     "text": [
      "/home/liq/pro/new_production_1118/sklearn/cluster/_kmeans.py:1416: FutureWarning: The default value of `n_init` will change from 10 to 'auto' in 1.4. Set the value of `n_init` explicitly to suppress the warning\n",
      "  super()._check_params_vs_input(X, default_n_init=10)\n"
     ]
    },
    {
     "name": "stdout",
     "output_type": "stream",
     "text": [
      "开始回波仿真...\n",
      "========================= EchoSimProcess =========================\n",
      "Phase 1 -- Params read and config...\n",
      "Phase 1 -- Done! Cost: 0.021s\n",
      "Phase 2 -- Sat Position Calculate...\n",
      "Phase 2 -- Done! Cost: 0s\n",
      "Phase 3 -- Flight Track and BeamDir History Simulate...\n",
      "Phase 3 -- Done! Cost: 0s\n",
      "Phase 4 -- Signal Generate...\n",
      "Phase 4 -- Done! Cost: 0.11s\n",
      "Phase 5 -- Echo Calculate...\n",
      "        -- CPU ThreadNum: 48\n",
      "Phase 5 -- Done! Cost: 6.338s\n",
      "Phase 6 -- Result Save...\n",
      "Phase 6 -- Done! Cost: 1.077s\n",
      "  Final -- Total Cost: 7.558s\n",
      "回波仿真完成！\n",
      "图像大小：150 x 150\n"
     ]
    },
    {
     "name": "stderr",
     "output_type": "stream",
     "text": [
      "/home/liq/pro/new_production_1118/sklearn/cluster/_kmeans.py:1416: FutureWarning: The default value of `n_init` will change from 10 to 'auto' in 1.4. Set the value of `n_init` explicitly to suppress the warning\n",
      "  super()._check_params_vs_input(X, default_n_init=10)\n"
     ]
    },
    {
     "name": "stdout",
     "output_type": "stream",
     "text": [
      "开始回波仿真...\n",
      "========================= EchoSimProcess =========================\n",
      "Phase 1 -- Params read and config...\n",
      "Phase 1 -- Done! Cost: 0.015s\n",
      "Phase 2 -- Sat Position Calculate...\n",
      "Phase 2 -- Done! Cost: 0s\n",
      "Phase 3 -- Flight Track and BeamDir History Simulate...\n",
      "Phase 3 -- Done! Cost: 0s\n",
      "Phase 4 -- Signal Generate...\n",
      "Phase 4 -- Done! Cost: 0.099s\n",
      "Phase 5 -- Echo Calculate...\n",
      "        -- CPU ThreadNum: 48\n",
      "Phase 5 -- Done! Cost: 5.932s\n",
      "Phase 6 -- Result Save...\n",
      "Phase 6 -- Done! Cost: 0.76s\n",
      "  Final -- Total Cost: 6.811s\n",
      "回波仿真完成！\n",
      "图像大小：150 x 150\n"
     ]
    },
    {
     "name": "stderr",
     "output_type": "stream",
     "text": [
      "/home/liq/pro/new_production_1118/sklearn/cluster/_kmeans.py:1416: FutureWarning: The default value of `n_init` will change from 10 to 'auto' in 1.4. Set the value of `n_init` explicitly to suppress the warning\n",
      "  super()._check_params_vs_input(X, default_n_init=10)\n"
     ]
    },
    {
     "name": "stdout",
     "output_type": "stream",
     "text": [
      "开始生产目标：KC135，目标类型：FJ，极化：HH，波段：X，分辨率：0.3\n",
      "开始回波仿真...\n",
      "========================= EchoSimProcess =========================\n",
      "Phase 1 -- Params read and config...\n",
      "Phase 1 -- Done! Cost: 0.214s\n",
      "Phase 2 -- Sat Position Calculate...\n",
      "Phase 2 -- Done! Cost: 0s\n",
      "Phase 3 -- Flight Track and BeamDir History Simulate...\n",
      "Phase 3 -- Done! Cost: 0s\n",
      "Phase 4 -- Signal Generate...\n",
      "Phase 4 -- Done! Cost: 0.074s\n",
      "Phase 5 -- Echo Calculate...\n",
      "        -- CPU ThreadNum: 48\n",
      "Phase 5 -- Done! Cost: 63.252s\n",
      "Phase 6 -- Result Save...\n",
      "Phase 6 -- Done! Cost: 5.218s\n",
      "  Final -- Total Cost: 68.76s\n",
      "回波仿真完成！\n",
      "图像大小：256 x 256\n"
     ]
    },
    {
     "name": "stderr",
     "output_type": "stream",
     "text": [
      "/home/liq/pro/new_production_1118/sklearn/cluster/_kmeans.py:1416: FutureWarning: The default value of `n_init` will change from 10 to 'auto' in 1.4. Set the value of `n_init` explicitly to suppress the warning\n",
      "  super()._check_params_vs_input(X, default_n_init=10)\n"
     ]
    },
    {
     "name": "stdout",
     "output_type": "stream",
     "text": [
      "开始回波仿真...\n",
      "========================= EchoSimProcess =========================\n",
      "Phase 1 -- Params read and config...\n",
      "Phase 1 -- Done! Cost: 0.21s\n",
      "Phase 2 -- Sat Position Calculate...\n",
      "Phase 2 -- Done! Cost: 0s\n",
      "Phase 3 -- Flight Track and BeamDir History Simulate...\n",
      "Phase 3 -- Done! Cost: 0s\n",
      "Phase 4 -- Signal Generate...\n",
      "Phase 4 -- Done! Cost: 0.073s\n",
      "Phase 5 -- Echo Calculate...\n",
      "        -- CPU ThreadNum: 48\n",
      "Phase 5 -- Done! Cost: 62.685s\n",
      "Phase 6 -- Result Save...\n",
      "Phase 6 -- Done! Cost: 4.863s\n",
      "  Final -- Total Cost: 67.833s\n",
      "回波仿真完成！\n",
      "图像大小：256 x 256\n"
     ]
    },
    {
     "name": "stderr",
     "output_type": "stream",
     "text": [
      "/home/liq/pro/new_production_1118/sklearn/cluster/_kmeans.py:1416: FutureWarning: The default value of `n_init` will change from 10 to 'auto' in 1.4. Set the value of `n_init` explicitly to suppress the warning\n",
      "  super()._check_params_vs_input(X, default_n_init=10)\n"
     ]
    },
    {
     "name": "stdout",
     "output_type": "stream",
     "text": [
      "开始回波仿真...\n",
      "========================= EchoSimProcess =========================\n",
      "Phase 1 -- Params read and config...\n",
      "Phase 1 -- Done! Cost: 0.201s\n",
      "Phase 2 -- Sat Position Calculate...\n",
      "Phase 2 -- Done! Cost: 0s\n",
      "Phase 3 -- Flight Track and BeamDir History Simulate...\n",
      "Phase 3 -- Done! Cost: 0s\n",
      "Phase 4 -- Signal Generate...\n",
      "Phase 4 -- Done! Cost: 0.073s\n",
      "Phase 5 -- Echo Calculate...\n",
      "        -- CPU ThreadNum: 48\n",
      "Phase 5 -- Done! Cost: 63.373s\n",
      "Phase 6 -- Result Save...\n",
      "Phase 6 -- Done! Cost: 5.199s\n",
      "  Final -- Total Cost: 68.849s\n",
      "回波仿真完成！\n",
      "图像大小：256 x 256\n"
     ]
    },
    {
     "name": "stderr",
     "output_type": "stream",
     "text": [
      "/home/liq/pro/new_production_1118/sklearn/cluster/_kmeans.py:1416: FutureWarning: The default value of `n_init` will change from 10 to 'auto' in 1.4. Set the value of `n_init` explicitly to suppress the warning\n",
      "  super()._check_params_vs_input(X, default_n_init=10)\n"
     ]
    },
    {
     "name": "stdout",
     "output_type": "stream",
     "text": [
      "开始回波仿真...\n",
      "========================= EchoSimProcess =========================\n",
      "Phase 1 -- Params read and config...\n",
      "Phase 1 -- Done! Cost: 0.226s\n",
      "Phase 2 -- Sat Position Calculate...\n",
      "Phase 2 -- Done! Cost: 0s\n",
      "Phase 3 -- Flight Track and BeamDir History Simulate...\n",
      "Phase 3 -- Done! Cost: 0s\n",
      "Phase 4 -- Signal Generate...\n",
      "Phase 4 -- Done! Cost: 0.112s\n",
      "Phase 5 -- Echo Calculate...\n",
      "        -- CPU ThreadNum: 48\n",
      "Phase 5 -- Done! Cost: 63.307s\n",
      "Phase 6 -- Result Save...\n",
      "Phase 6 -- Done! Cost: 5.503s\n",
      "  Final -- Total Cost: 69.15s\n",
      "回波仿真完成！\n",
      "图像大小：256 x 256\n"
     ]
    },
    {
     "name": "stderr",
     "output_type": "stream",
     "text": [
      "/home/liq/pro/new_production_1118/sklearn/cluster/_kmeans.py:1416: FutureWarning: The default value of `n_init` will change from 10 to 'auto' in 1.4. Set the value of `n_init` explicitly to suppress the warning\n",
      "  super()._check_params_vs_input(X, default_n_init=10)\n"
     ]
    },
    {
     "name": "stdout",
     "output_type": "stream",
     "text": [
      "开始回波仿真...\n",
      "========================= EchoSimProcess =========================\n",
      "Phase 1 -- Params read and config...\n",
      "Phase 1 -- Done! Cost: 0.22s\n",
      "Phase 2 -- Sat Position Calculate...\n",
      "Phase 2 -- Done! Cost: 0s\n",
      "Phase 3 -- Flight Track and BeamDir History Simulate...\n",
      "Phase 3 -- Done! Cost: 0s\n",
      "Phase 4 -- Signal Generate...\n",
      "Phase 4 -- Done! Cost: 0.074s\n",
      "Phase 5 -- Echo Calculate...\n",
      "        -- CPU ThreadNum: 48\n",
      "Phase 5 -- Done! Cost: 62.851s\n",
      "Phase 6 -- Result Save...\n",
      "Phase 6 -- Done! Cost: 4.793s\n",
      "  Final -- Total Cost: 67.941s\n",
      "回波仿真完成！\n",
      "图像大小：256 x 256\n"
     ]
    },
    {
     "name": "stderr",
     "output_type": "stream",
     "text": [
      "/home/liq/pro/new_production_1118/sklearn/cluster/_kmeans.py:1416: FutureWarning: The default value of `n_init` will change from 10 to 'auto' in 1.4. Set the value of `n_init` explicitly to suppress the warning\n",
      "  super()._check_params_vs_input(X, default_n_init=10)\n"
     ]
    },
    {
     "name": "stdout",
     "output_type": "stream",
     "text": [
      "开始回波仿真...\n",
      "========================= EchoSimProcess =========================\n",
      "Phase 1 -- Params read and config...\n",
      "Phase 1 -- Done! Cost: 0.148s\n",
      "Phase 2 -- Sat Position Calculate...\n",
      "Phase 2 -- Done! Cost: 0s\n",
      "Phase 3 -- Flight Track and BeamDir History Simulate...\n",
      "Phase 3 -- Done! Cost: 0s\n",
      "Phase 4 -- Signal Generate...\n",
      "Phase 4 -- Done! Cost: 0.11s\n",
      "Phase 5 -- Echo Calculate...\n",
      "        -- CPU ThreadNum: 48\n",
      "Phase 5 -- Done! Cost: 62.81s\n",
      "Phase 6 -- Result Save...\n",
      "Phase 6 -- Done! Cost: 5.051s\n",
      "  Final -- Total Cost: 68.122s\n",
      "回波仿真完成！\n",
      "图像大小：256 x 256\n"
     ]
    },
    {
     "name": "stderr",
     "output_type": "stream",
     "text": [
      "/home/liq/pro/new_production_1118/sklearn/cluster/_kmeans.py:1416: FutureWarning: The default value of `n_init` will change from 10 to 'auto' in 1.4. Set the value of `n_init` explicitly to suppress the warning\n",
      "  super()._check_params_vs_input(X, default_n_init=10)\n"
     ]
    },
    {
     "name": "stdout",
     "output_type": "stream",
     "text": [
      "开始回波仿真...\n",
      "========================= EchoSimProcess =========================\n",
      "Phase 1 -- Params read and config...\n",
      "Phase 1 -- Done! Cost: 0.223s\n",
      "Phase 2 -- Sat Position Calculate...\n",
      "Phase 2 -- Done! Cost: 0s\n",
      "Phase 3 -- Flight Track and BeamDir History Simulate...\n",
      "Phase 3 -- Done! Cost: 0s\n",
      "Phase 4 -- Signal Generate...\n",
      "Phase 4 -- Done! Cost: 0.111s\n",
      "Phase 5 -- Echo Calculate...\n",
      "        -- CPU ThreadNum: 48\n",
      "Phase 5 -- Done! Cost: 62.804s\n",
      "Phase 6 -- Result Save...\n",
      "Phase 6 -- Done! Cost: 5.11s\n",
      "  Final -- Total Cost: 68.252s\n",
      "回波仿真完成！\n",
      "图像大小：256 x 256\n"
     ]
    },
    {
     "name": "stderr",
     "output_type": "stream",
     "text": [
      "/home/liq/pro/new_production_1118/sklearn/cluster/_kmeans.py:1416: FutureWarning: The default value of `n_init` will change from 10 to 'auto' in 1.4. Set the value of `n_init` explicitly to suppress the warning\n",
      "  super()._check_params_vs_input(X, default_n_init=10)\n"
     ]
    },
    {
     "name": "stdout",
     "output_type": "stream",
     "text": [
      "开始回波仿真...\n",
      "========================= EchoSimProcess =========================\n",
      "Phase 1 -- Params read and config...\n",
      "Phase 1 -- Done! Cost: 0.205s\n",
      "Phase 2 -- Sat Position Calculate...\n",
      "Phase 2 -- Done! Cost: 0s\n",
      "Phase 3 -- Flight Track and BeamDir History Simulate...\n",
      "Phase 3 -- Done! Cost: 0s\n",
      "Phase 4 -- Signal Generate...\n",
      "Phase 4 -- Done! Cost: 0.074s\n",
      "Phase 5 -- Echo Calculate...\n",
      "        -- CPU ThreadNum: 48\n",
      "Phase 5 -- Done! Cost: 64.022s\n",
      "Phase 6 -- Result Save...\n",
      "Phase 6 -- Done! Cost: 5.07s\n",
      "  Final -- Total Cost: 69.373s\n",
      "回波仿真完成！\n",
      "图像大小：256 x 256\n"
     ]
    },
    {
     "name": "stderr",
     "output_type": "stream",
     "text": [
      "/home/liq/pro/new_production_1118/sklearn/cluster/_kmeans.py:1416: FutureWarning: The default value of `n_init` will change from 10 to 'auto' in 1.4. Set the value of `n_init` explicitly to suppress the warning\n",
      "  super()._check_params_vs_input(X, default_n_init=10)\n"
     ]
    },
    {
     "name": "stdout",
     "output_type": "stream",
     "text": [
      "开始回波仿真...\n",
      "========================= EchoSimProcess =========================\n",
      "Phase 1 -- Params read and config...\n",
      "Phase 1 -- Done! Cost: 0.212s\n",
      "Phase 2 -- Sat Position Calculate...\n",
      "Phase 2 -- Done! Cost: 0s\n",
      "Phase 3 -- Flight Track and BeamDir History Simulate...\n",
      "Phase 3 -- Done! Cost: 0s\n",
      "Phase 4 -- Signal Generate...\n",
      "Phase 4 -- Done! Cost: 0.074s\n",
      "Phase 5 -- Echo Calculate...\n",
      "        -- CPU ThreadNum: 48\n",
      "Phase 5 -- Done! Cost: 62.566s\n",
      "Phase 6 -- Result Save...\n",
      "Phase 6 -- Done! Cost: 4.865s\n",
      "  Final -- Total Cost: 67.72s\n",
      "回波仿真完成！\n",
      "图像大小：256 x 256\n"
     ]
    },
    {
     "name": "stderr",
     "output_type": "stream",
     "text": [
      "/home/liq/pro/new_production_1118/sklearn/cluster/_kmeans.py:1416: FutureWarning: The default value of `n_init` will change from 10 to 'auto' in 1.4. Set the value of `n_init` explicitly to suppress the warning\n",
      "  super()._check_params_vs_input(X, default_n_init=10)\n"
     ]
    },
    {
     "name": "stdout",
     "output_type": "stream",
     "text": [
      "开始回波仿真...\n",
      "========================= EchoSimProcess =========================\n",
      "Phase 1 -- Params read and config...\n",
      "Phase 1 -- Done! Cost: 0.23s\n",
      "Phase 2 -- Sat Position Calculate...\n",
      "Phase 2 -- Done! Cost: 0s\n",
      "Phase 3 -- Flight Track and BeamDir History Simulate...\n",
      "Phase 3 -- Done! Cost: 0s\n",
      "Phase 4 -- Signal Generate...\n",
      "Phase 4 -- Done! Cost: 0.11s\n",
      "Phase 5 -- Echo Calculate...\n",
      "        -- CPU ThreadNum: 48\n",
      "Phase 5 -- Done! Cost: 63.364s\n",
      "Phase 6 -- Result Save...\n",
      "Phase 6 -- Done! Cost: 4.856s\n",
      "  Final -- Total Cost: 68.562s\n",
      "回波仿真完成！\n",
      "图像大小：256 x 256\n"
     ]
    },
    {
     "name": "stderr",
     "output_type": "stream",
     "text": [
      "/home/liq/pro/new_production_1118/sklearn/cluster/_kmeans.py:1416: FutureWarning: The default value of `n_init` will change from 10 to 'auto' in 1.4. Set the value of `n_init` explicitly to suppress the warning\n",
      "  super()._check_params_vs_input(X, default_n_init=10)\n"
     ]
    },
    {
     "name": "stdout",
     "output_type": "stream",
     "text": [
      "开始回波仿真...\n",
      "========================= EchoSimProcess =========================\n",
      "Phase 1 -- Params read and config...\n",
      "Phase 1 -- Done! Cost: 0.229s\n",
      "Phase 2 -- Sat Position Calculate...\n",
      "Phase 2 -- Done! Cost: 0s\n",
      "Phase 3 -- Flight Track and BeamDir History Simulate...\n",
      "Phase 3 -- Done! Cost: 0s\n",
      "Phase 4 -- Signal Generate...\n",
      "Phase 4 -- Done! Cost: 0.11s\n",
      "Phase 5 -- Echo Calculate...\n",
      "        -- CPU ThreadNum: 48\n",
      "Phase 5 -- Done! Cost: 61.906s\n",
      "Phase 6 -- Result Save...\n",
      "Phase 6 -- Done! Cost: 4.877s\n",
      "  Final -- Total Cost: 67.125s\n",
      "回波仿真完成！\n",
      "图像大小：256 x 256\n"
     ]
    },
    {
     "name": "stderr",
     "output_type": "stream",
     "text": [
      "/home/liq/pro/new_production_1118/sklearn/cluster/_kmeans.py:1416: FutureWarning: The default value of `n_init` will change from 10 to 'auto' in 1.4. Set the value of `n_init` explicitly to suppress the warning\n",
      "  super()._check_params_vs_input(X, default_n_init=10)\n"
     ]
    },
    {
     "name": "stdout",
     "output_type": "stream",
     "text": [
      "开始回波仿真...\n",
      "========================= EchoSimProcess =========================\n",
      "Phase 1 -- Params read and config...\n",
      "Phase 1 -- Done! Cost: 0.201s\n",
      "Phase 2 -- Sat Position Calculate...\n",
      "Phase 2 -- Done! Cost: 0s\n",
      "Phase 3 -- Flight Track and BeamDir History Simulate...\n",
      "Phase 3 -- Done! Cost: 0s\n",
      "Phase 4 -- Signal Generate...\n",
      "Phase 4 -- Done! Cost: 0.08s\n",
      "Phase 5 -- Echo Calculate...\n",
      "        -- CPU ThreadNum: 48\n",
      "Phase 5 -- Done! Cost: 62.973s\n",
      "Phase 6 -- Result Save...\n",
      "Phase 6 -- Done! Cost: 5.283s\n",
      "  Final -- Total Cost: 68.539s\n",
      "回波仿真完成！\n",
      "图像大小：256 x 256\n"
     ]
    },
    {
     "name": "stderr",
     "output_type": "stream",
     "text": [
      "/home/liq/pro/new_production_1118/sklearn/cluster/_kmeans.py:1416: FutureWarning: The default value of `n_init` will change from 10 to 'auto' in 1.4. Set the value of `n_init` explicitly to suppress the warning\n",
      "  super()._check_params_vs_input(X, default_n_init=10)\n"
     ]
    },
    {
     "name": "stdout",
     "output_type": "stream",
     "text": [
      "开始回波仿真...\n",
      "========================= EchoSimProcess =========================\n",
      "Phase 1 -- Params read and config...\n",
      "Phase 1 -- Done! Cost: 0.226s\n",
      "Phase 2 -- Sat Position Calculate...\n",
      "Phase 2 -- Done! Cost: 0s\n",
      "Phase 3 -- Flight Track and BeamDir History Simulate...\n",
      "Phase 3 -- Done! Cost: 0s\n",
      "Phase 4 -- Signal Generate...\n",
      "Phase 4 -- Done! Cost: 0.111s\n",
      "Phase 5 -- Echo Calculate...\n",
      "        -- CPU ThreadNum: 48\n",
      "Phase 5 -- Done! Cost: 63.559s\n",
      "Phase 6 -- Result Save...\n",
      "Phase 6 -- Done! Cost: 4.891s\n",
      "  Final -- Total Cost: 68.79s\n",
      "回波仿真完成！\n",
      "图像大小：256 x 256\n"
     ]
    },
    {
     "name": "stderr",
     "output_type": "stream",
     "text": [
      "/home/liq/pro/new_production_1118/sklearn/cluster/_kmeans.py:1416: FutureWarning: The default value of `n_init` will change from 10 to 'auto' in 1.4. Set the value of `n_init` explicitly to suppress the warning\n",
      "  super()._check_params_vs_input(X, default_n_init=10)\n"
     ]
    },
    {
     "name": "stdout",
     "output_type": "stream",
     "text": [
      "开始回波仿真...\n",
      "========================= EchoSimProcess =========================\n",
      "Phase 1 -- Params read and config...\n",
      "Phase 1 -- Done! Cost: 0.204s\n",
      "Phase 2 -- Sat Position Calculate...\n",
      "Phase 2 -- Done! Cost: 0s\n",
      "Phase 3 -- Flight Track and BeamDir History Simulate...\n",
      "Phase 3 -- Done! Cost: 0s\n",
      "Phase 4 -- Signal Generate...\n",
      "Phase 4 -- Done! Cost: 0.075s\n",
      "Phase 5 -- Echo Calculate...\n",
      "        -- CPU ThreadNum: 48\n",
      "Phase 5 -- Done! Cost: 63.031s\n",
      "Phase 6 -- Result Save...\n",
      "Phase 6 -- Done! Cost: 5.261s\n",
      "  Final -- Total Cost: 68.572s\n",
      "回波仿真完成！\n",
      "图像大小：256 x 256\n"
     ]
    },
    {
     "name": "stderr",
     "output_type": "stream",
     "text": [
      "/home/liq/pro/new_production_1118/sklearn/cluster/_kmeans.py:1416: FutureWarning: The default value of `n_init` will change from 10 to 'auto' in 1.4. Set the value of `n_init` explicitly to suppress the warning\n",
      "  super()._check_params_vs_input(X, default_n_init=10)\n"
     ]
    },
    {
     "name": "stdout",
     "output_type": "stream",
     "text": [
      "开始回波仿真...\n",
      "========================= EchoSimProcess =========================\n",
      "Phase 1 -- Params read and config...\n",
      "Phase 1 -- Done! Cost: 0.203s\n",
      "Phase 2 -- Sat Position Calculate...\n",
      "Phase 2 -- Done! Cost: 0s\n",
      "Phase 3 -- Flight Track and BeamDir History Simulate...\n",
      "Phase 3 -- Done! Cost: 0s\n",
      "Phase 4 -- Signal Generate...\n",
      "Phase 4 -- Done! Cost: 0.111s\n",
      "Phase 5 -- Echo Calculate...\n",
      "        -- CPU ThreadNum: 48\n",
      "Phase 5 -- Done! Cost: 63.551s\n",
      "Phase 6 -- Result Save...\n",
      "Phase 6 -- Done! Cost: 4.985s\n",
      "  Final -- Total Cost: 68.859s\n",
      "回波仿真完成！\n",
      "图像大小：256 x 256\n"
     ]
    },
    {
     "name": "stderr",
     "output_type": "stream",
     "text": [
      "/home/liq/pro/new_production_1118/sklearn/cluster/_kmeans.py:1416: FutureWarning: The default value of `n_init` will change from 10 to 'auto' in 1.4. Set the value of `n_init` explicitly to suppress the warning\n",
      "  super()._check_params_vs_input(X, default_n_init=10)\n"
     ]
    },
    {
     "name": "stdout",
     "output_type": "stream",
     "text": [
      "开始回波仿真...\n",
      "========================= EchoSimProcess =========================\n",
      "Phase 1 -- Params read and config...\n",
      "Phase 1 -- Done! Cost: 0.211s\n",
      "Phase 2 -- Sat Position Calculate...\n",
      "Phase 2 -- Done! Cost: 0s\n",
      "Phase 3 -- Flight Track and BeamDir History Simulate...\n",
      "Phase 3 -- Done! Cost: 0s\n",
      "Phase 4 -- Signal Generate...\n",
      "Phase 4 -- Done! Cost: 0.074s\n",
      "Phase 5 -- Echo Calculate...\n",
      "        -- CPU ThreadNum: 48\n",
      "Phase 5 -- Done! Cost: 61.914s\n",
      "Phase 6 -- Result Save...\n",
      "Phase 6 -- Done! Cost: 4.954s\n",
      "  Final -- Total Cost: 67.155s\n",
      "回波仿真完成！\n",
      "图像大小：256 x 256\n"
     ]
    },
    {
     "name": "stderr",
     "output_type": "stream",
     "text": [
      "/home/liq/pro/new_production_1118/sklearn/cluster/_kmeans.py:1416: FutureWarning: The default value of `n_init` will change from 10 to 'auto' in 1.4. Set the value of `n_init` explicitly to suppress the warning\n",
      "  super()._check_params_vs_input(X, default_n_init=10)\n"
     ]
    },
    {
     "name": "stdout",
     "output_type": "stream",
     "text": [
      "开始回波仿真...\n",
      "========================= EchoSimProcess =========================\n",
      "Phase 1 -- Params read and config...\n",
      "Phase 1 -- Done! Cost: 0.206s\n",
      "Phase 2 -- Sat Position Calculate...\n",
      "Phase 2 -- Done! Cost: 0s\n",
      "Phase 3 -- Flight Track and BeamDir History Simulate...\n",
      "Phase 3 -- Done! Cost: 0s\n",
      "Phase 4 -- Signal Generate...\n",
      "Phase 4 -- Done! Cost: 0.073s\n",
      "Phase 5 -- Echo Calculate...\n",
      "        -- CPU ThreadNum: 48\n",
      "Phase 5 -- Done! Cost: 62.715s\n",
      "Phase 6 -- Result Save...\n",
      "Phase 6 -- Done! Cost: 4.869s\n",
      "  Final -- Total Cost: 67.865s\n",
      "回波仿真完成！\n",
      "图像大小：256 x 256\n"
     ]
    },
    {
     "name": "stderr",
     "output_type": "stream",
     "text": [
      "/home/liq/pro/new_production_1118/sklearn/cluster/_kmeans.py:1416: FutureWarning: The default value of `n_init` will change from 10 to 'auto' in 1.4. Set the value of `n_init` explicitly to suppress the warning\n",
      "  super()._check_params_vs_input(X, default_n_init=10)\n"
     ]
    },
    {
     "name": "stdout",
     "output_type": "stream",
     "text": [
      "开始回波仿真...\n",
      "========================= EchoSimProcess =========================\n",
      "Phase 1 -- Params read and config...\n",
      "Phase 1 -- Done! Cost: 0.185s\n",
      "Phase 2 -- Sat Position Calculate...\n",
      "Phase 2 -- Done! Cost: 0s\n",
      "Phase 3 -- Flight Track and BeamDir History Simulate...\n",
      "Phase 3 -- Done! Cost: 0s\n",
      "Phase 4 -- Signal Generate...\n",
      "Phase 4 -- Done! Cost: 0.073s\n",
      "Phase 5 -- Echo Calculate...\n",
      "        -- CPU ThreadNum: 48\n",
      "Phase 5 -- Done! Cost: 61.971s\n",
      "Phase 6 -- Result Save...\n",
      "Phase 6 -- Done! Cost: 5.021s\n",
      "  Final -- Total Cost: 67.253s\n",
      "回波仿真完成！\n",
      "图像大小：256 x 256\n"
     ]
    },
    {
     "name": "stderr",
     "output_type": "stream",
     "text": [
      "/home/liq/pro/new_production_1118/sklearn/cluster/_kmeans.py:1416: FutureWarning: The default value of `n_init` will change from 10 to 'auto' in 1.4. Set the value of `n_init` explicitly to suppress the warning\n",
      "  super()._check_params_vs_input(X, default_n_init=10)\n"
     ]
    },
    {
     "name": "stdout",
     "output_type": "stream",
     "text": [
      "开始回波仿真...\n",
      "========================= EchoSimProcess =========================\n",
      "Phase 1 -- Params read and config...\n",
      "Phase 1 -- Done! Cost: 0.181s\n",
      "Phase 2 -- Sat Position Calculate...\n",
      "Phase 2 -- Done! Cost: 0s\n",
      "Phase 3 -- Flight Track and BeamDir History Simulate...\n",
      "Phase 3 -- Done! Cost: 0s\n",
      "Phase 4 -- Signal Generate...\n",
      "Phase 4 -- Done! Cost: 0.085s\n",
      "Phase 5 -- Echo Calculate...\n",
      "        -- CPU ThreadNum: 48\n",
      "Phase 5 -- Done! Cost: 53.625s\n",
      "Phase 6 -- Result Save...\n",
      "Phase 6 -- Done! Cost: 5.725s\n",
      "  Final -- Total Cost: 59.618s\n",
      "回波仿真完成！\n",
      "图像大小：256 x 256\n"
     ]
    },
    {
     "name": "stderr",
     "output_type": "stream",
     "text": [
      "/home/liq/pro/new_production_1118/sklearn/cluster/_kmeans.py:1416: FutureWarning: The default value of `n_init` will change from 10 to 'auto' in 1.4. Set the value of `n_init` explicitly to suppress the warning\n",
      "  super()._check_params_vs_input(X, default_n_init=10)\n"
     ]
    },
    {
     "name": "stdout",
     "output_type": "stream",
     "text": [
      "开始回波仿真...\n",
      "========================= EchoSimProcess =========================\n",
      "Phase 1 -- Params read and config...\n",
      "Phase 1 -- Done! Cost: 0.115s\n",
      "Phase 2 -- Sat Position Calculate...\n",
      "Phase 2 -- Done! Cost: 0s\n",
      "Phase 3 -- Flight Track and BeamDir History Simulate...\n",
      "Phase 3 -- Done! Cost: 0s\n",
      "Phase 4 -- Signal Generate...\n",
      "Phase 4 -- Done! Cost: 0.11s\n",
      "Phase 5 -- Echo Calculate...\n",
      "        -- CPU ThreadNum: 48\n",
      "Phase 5 -- Done! Cost: 53.523s\n",
      "Phase 6 -- Result Save...\n",
      "Phase 6 -- Done! Cost: 4.435s\n",
      "  Final -- Total Cost: 58.192s\n",
      "回波仿真完成！\n",
      "图像大小：256 x 256\n"
     ]
    },
    {
     "name": "stderr",
     "output_type": "stream",
     "text": [
      "/home/liq/pro/new_production_1118/sklearn/cluster/_kmeans.py:1416: FutureWarning: The default value of `n_init` will change from 10 to 'auto' in 1.4. Set the value of `n_init` explicitly to suppress the warning\n",
      "  super()._check_params_vs_input(X, default_n_init=10)\n"
     ]
    },
    {
     "name": "stdout",
     "output_type": "stream",
     "text": [
      "开始回波仿真...\n",
      "========================= EchoSimProcess =========================\n",
      "Phase 1 -- Params read and config...\n",
      "Phase 1 -- Done! Cost: 0.185s\n",
      "Phase 2 -- Sat Position Calculate...\n",
      "Phase 2 -- Done! Cost: 0s\n",
      "Phase 3 -- Flight Track and BeamDir History Simulate...\n",
      "Phase 3 -- Done! Cost: 0s\n",
      "Phase 4 -- Signal Generate...\n",
      "Phase 4 -- Done! Cost: 0.077s\n",
      "Phase 5 -- Echo Calculate...\n",
      "        -- CPU ThreadNum: 48\n",
      "Phase 5 -- Done! Cost: 53.71s\n",
      "Phase 6 -- Result Save...\n",
      "Phase 6 -- Done! Cost: 4.679s\n",
      "  Final -- Total Cost: 58.653s\n",
      "回波仿真完成！\n",
      "图像大小：256 x 256\n"
     ]
    },
    {
     "name": "stderr",
     "output_type": "stream",
     "text": [
      "/home/liq/pro/new_production_1118/sklearn/cluster/_kmeans.py:1416: FutureWarning: The default value of `n_init` will change from 10 to 'auto' in 1.4. Set the value of `n_init` explicitly to suppress the warning\n",
      "  super()._check_params_vs_input(X, default_n_init=10)\n"
     ]
    },
    {
     "name": "stdout",
     "output_type": "stream",
     "text": [
      "开始回波仿真...\n",
      "========================= EchoSimProcess =========================\n",
      "Phase 1 -- Params read and config...\n",
      "Phase 1 -- Done! Cost: 0.193s\n",
      "Phase 2 -- Sat Position Calculate...\n",
      "Phase 2 -- Done! Cost: 0s\n",
      "Phase 3 -- Flight Track and BeamDir History Simulate...\n",
      "Phase 3 -- Done! Cost: 0s\n",
      "Phase 4 -- Signal Generate...\n",
      "Phase 4 -- Done! Cost: 0.073s\n",
      "Phase 5 -- Echo Calculate...\n",
      "        -- CPU ThreadNum: 48\n",
      "Phase 5 -- Done! Cost: 52.999s\n",
      "Phase 6 -- Result Save...\n",
      "Phase 6 -- Done! Cost: 4.522s\n",
      "  Final -- Total Cost: 57.789s\n",
      "回波仿真完成！\n",
      "图像大小：256 x 256\n"
     ]
    },
    {
     "name": "stderr",
     "output_type": "stream",
     "text": [
      "/home/liq/pro/new_production_1118/sklearn/cluster/_kmeans.py:1416: FutureWarning: The default value of `n_init` will change from 10 to 'auto' in 1.4. Set the value of `n_init` explicitly to suppress the warning\n",
      "  super()._check_params_vs_input(X, default_n_init=10)\n"
     ]
    },
    {
     "name": "stdout",
     "output_type": "stream",
     "text": [
      "开始回波仿真...\n",
      "========================= EchoSimProcess =========================\n",
      "Phase 1 -- Params read and config...\n",
      "Phase 1 -- Done! Cost: 0.184s\n",
      "Phase 2 -- Sat Position Calculate...\n",
      "Phase 2 -- Done! Cost: 0s\n",
      "Phase 3 -- Flight Track and BeamDir History Simulate...\n",
      "Phase 3 -- Done! Cost: 0s\n",
      "Phase 4 -- Signal Generate...\n",
      "Phase 4 -- Done! Cost: 0.078s\n",
      "Phase 5 -- Echo Calculate...\n",
      "        -- CPU ThreadNum: 48\n",
      "Phase 5 -- Done! Cost: 52.581s\n",
      "Phase 6 -- Result Save...\n",
      "Phase 6 -- Done! Cost: 4.745s\n",
      "  Final -- Total Cost: 57.589s\n",
      "回波仿真完成！\n",
      "图像大小：256 x 256\n"
     ]
    },
    {
     "name": "stderr",
     "output_type": "stream",
     "text": [
      "/home/liq/pro/new_production_1118/sklearn/cluster/_kmeans.py:1416: FutureWarning: The default value of `n_init` will change from 10 to 'auto' in 1.4. Set the value of `n_init` explicitly to suppress the warning\n",
      "  super()._check_params_vs_input(X, default_n_init=10)\n"
     ]
    },
    {
     "name": "stdout",
     "output_type": "stream",
     "text": [
      "开始回波仿真...\n",
      "========================= EchoSimProcess =========================\n",
      "Phase 1 -- Params read and config...\n",
      "Phase 1 -- Done! Cost: 0.194s\n",
      "Phase 2 -- Sat Position Calculate...\n",
      "Phase 2 -- Done! Cost: 0s\n",
      "Phase 3 -- Flight Track and BeamDir History Simulate...\n",
      "Phase 3 -- Done! Cost: 0s\n",
      "Phase 4 -- Signal Generate...\n",
      "Phase 4 -- Done! Cost: 0.109s\n",
      "Phase 5 -- Echo Calculate...\n",
      "        -- CPU ThreadNum: 48\n",
      "Phase 5 -- Done! Cost: 53.488s\n",
      "Phase 6 -- Result Save...\n",
      "Phase 6 -- Done! Cost: 4.175s\n",
      "  Final -- Total Cost: 57.969s\n",
      "回波仿真完成！\n",
      "图像大小：256 x 256\n"
     ]
    },
    {
     "name": "stderr",
     "output_type": "stream",
     "text": [
      "/home/liq/pro/new_production_1118/sklearn/cluster/_kmeans.py:1416: FutureWarning: The default value of `n_init` will change from 10 to 'auto' in 1.4. Set the value of `n_init` explicitly to suppress the warning\n",
      "  super()._check_params_vs_input(X, default_n_init=10)\n"
     ]
    },
    {
     "name": "stdout",
     "output_type": "stream",
     "text": [
      "开始回波仿真...\n",
      "========================= EchoSimProcess =========================\n",
      "Phase 1 -- Params read and config...\n",
      "Phase 1 -- Done! Cost: 0.175s\n",
      "Phase 2 -- Sat Position Calculate...\n",
      "Phase 2 -- Done! Cost: 0s\n",
      "Phase 3 -- Flight Track and BeamDir History Simulate...\n",
      "Phase 3 -- Done! Cost: 0s\n",
      "Phase 4 -- Signal Generate...\n",
      "Phase 4 -- Done! Cost: 0.073s\n",
      "Phase 5 -- Echo Calculate...\n",
      "        -- CPU ThreadNum: 48\n",
      "Phase 5 -- Done! Cost: 52.186s\n",
      "Phase 6 -- Result Save...\n",
      "Phase 6 -- Done! Cost: 4.49s\n",
      "  Final -- Total Cost: 56.927s\n",
      "回波仿真完成！\n",
      "图像大小：256 x 256\n"
     ]
    },
    {
     "name": "stderr",
     "output_type": "stream",
     "text": [
      "/home/liq/pro/new_production_1118/sklearn/cluster/_kmeans.py:1416: FutureWarning: The default value of `n_init` will change from 10 to 'auto' in 1.4. Set the value of `n_init` explicitly to suppress the warning\n",
      "  super()._check_params_vs_input(X, default_n_init=10)\n"
     ]
    },
    {
     "name": "stdout",
     "output_type": "stream",
     "text": [
      "开始回波仿真...\n",
      "========================= EchoSimProcess =========================\n",
      "Phase 1 -- Params read and config...\n",
      "Phase 1 -- Done! Cost: 0.189s\n",
      "Phase 2 -- Sat Position Calculate...\n",
      "Phase 2 -- Done! Cost: 0s\n",
      "Phase 3 -- Flight Track and BeamDir History Simulate...\n",
      "Phase 3 -- Done! Cost: 0s\n",
      "Phase 4 -- Signal Generate...\n",
      "Phase 4 -- Done! Cost: 0.073s\n",
      "Phase 5 -- Echo Calculate...\n",
      "        -- CPU ThreadNum: 48\n",
      "Phase 5 -- Done! Cost: 53.981s\n",
      "Phase 6 -- Result Save...\n",
      "Phase 6 -- Done! Cost: 4.176s\n",
      "  Final -- Total Cost: 58.422s\n",
      "回波仿真完成！\n",
      "图像大小：256 x 256\n"
     ]
    },
    {
     "name": "stderr",
     "output_type": "stream",
     "text": [
      "/home/liq/pro/new_production_1118/sklearn/cluster/_kmeans.py:1416: FutureWarning: The default value of `n_init` will change from 10 to 'auto' in 1.4. Set the value of `n_init` explicitly to suppress the warning\n",
      "  super()._check_params_vs_input(X, default_n_init=10)\n"
     ]
    },
    {
     "name": "stdout",
     "output_type": "stream",
     "text": [
      "开始回波仿真...\n",
      "========================= EchoSimProcess =========================\n",
      "Phase 1 -- Params read and config...\n",
      "Phase 1 -- Done! Cost: 0.114s\n",
      "Phase 2 -- Sat Position Calculate...\n",
      "Phase 2 -- Done! Cost: 0s\n",
      "Phase 3 -- Flight Track and BeamDir History Simulate...\n",
      "Phase 3 -- Done! Cost: 0s\n",
      "Phase 4 -- Signal Generate...\n",
      "Phase 4 -- Done! Cost: 0.109s\n",
      "Phase 5 -- Echo Calculate...\n",
      "        -- CPU ThreadNum: 48\n",
      "Phase 5 -- Done! Cost: 52.724s\n",
      "Phase 6 -- Result Save...\n",
      "Phase 6 -- Done! Cost: 4.336s\n",
      "  Final -- Total Cost: 57.286s\n",
      "回波仿真完成！\n",
      "图像大小：256 x 256\n"
     ]
    },
    {
     "name": "stderr",
     "output_type": "stream",
     "text": [
      "/home/liq/pro/new_production_1118/sklearn/cluster/_kmeans.py:1416: FutureWarning: The default value of `n_init` will change from 10 to 'auto' in 1.4. Set the value of `n_init` explicitly to suppress the warning\n",
      "  super()._check_params_vs_input(X, default_n_init=10)\n"
     ]
    },
    {
     "name": "stdout",
     "output_type": "stream",
     "text": [
      "开始回波仿真...\n",
      "========================= EchoSimProcess =========================\n",
      "Phase 1 -- Params read and config...\n",
      "Phase 1 -- Done! Cost: 0.186s\n",
      "Phase 2 -- Sat Position Calculate...\n",
      "Phase 2 -- Done! Cost: 0s\n",
      "Phase 3 -- Flight Track and BeamDir History Simulate...\n",
      "Phase 3 -- Done! Cost: 0s\n",
      "Phase 4 -- Signal Generate...\n",
      "Phase 4 -- Done! Cost: 0.113s\n",
      "Phase 5 -- Echo Calculate...\n",
      "        -- CPU ThreadNum: 48\n",
      "Phase 5 -- Done! Cost: 54.062s\n",
      "Phase 6 -- Result Save...\n",
      "Phase 6 -- Done! Cost: 4.446s\n",
      "  Final -- Total Cost: 58.809s\n",
      "回波仿真完成！\n",
      "图像大小：256 x 256\n"
     ]
    },
    {
     "name": "stderr",
     "output_type": "stream",
     "text": [
      "/home/liq/pro/new_production_1118/sklearn/cluster/_kmeans.py:1416: FutureWarning: The default value of `n_init` will change from 10 to 'auto' in 1.4. Set the value of `n_init` explicitly to suppress the warning\n",
      "  super()._check_params_vs_input(X, default_n_init=10)\n"
     ]
    },
    {
     "name": "stdout",
     "output_type": "stream",
     "text": [
      "开始回波仿真...\n",
      "========================= EchoSimProcess =========================\n",
      "Phase 1 -- Params read and config...\n",
      "Phase 1 -- Done! Cost: 0.197s\n",
      "Phase 2 -- Sat Position Calculate...\n",
      "Phase 2 -- Done! Cost: 0s\n",
      "Phase 3 -- Flight Track and BeamDir History Simulate...\n",
      "Phase 3 -- Done! Cost: 0s\n",
      "Phase 4 -- Signal Generate...\n",
      "Phase 4 -- Done! Cost: 0.076s\n",
      "Phase 5 -- Echo Calculate...\n",
      "        -- CPU ThreadNum: 48\n",
      "Phase 5 -- Done! Cost: 52.643s\n",
      "Phase 6 -- Result Save...\n",
      "Phase 6 -- Done! Cost: 4.518s\n",
      "  Final -- Total Cost: 57.436s\n",
      "回波仿真完成！\n",
      "图像大小：256 x 256\n"
     ]
    },
    {
     "name": "stderr",
     "output_type": "stream",
     "text": [
      "/home/liq/pro/new_production_1118/sklearn/cluster/_kmeans.py:1416: FutureWarning: The default value of `n_init` will change from 10 to 'auto' in 1.4. Set the value of `n_init` explicitly to suppress the warning\n",
      "  super()._check_params_vs_input(X, default_n_init=10)\n"
     ]
    },
    {
     "name": "stdout",
     "output_type": "stream",
     "text": [
      "开始回波仿真...\n",
      "========================= EchoSimProcess =========================\n",
      "Phase 1 -- Params read and config...\n",
      "Phase 1 -- Done! Cost: 0.181s\n",
      "Phase 2 -- Sat Position Calculate...\n",
      "Phase 2 -- Done! Cost: 0s\n",
      "Phase 3 -- Flight Track and BeamDir History Simulate...\n",
      "Phase 3 -- Done! Cost: 0s\n",
      "Phase 4 -- Signal Generate...\n",
      "Phase 4 -- Done! Cost: 0.075s\n",
      "Phase 5 -- Echo Calculate...\n",
      "        -- CPU ThreadNum: 48\n",
      "Phase 5 -- Done! Cost: 52.451s\n",
      "Phase 6 -- Result Save...\n",
      "Phase 6 -- Done! Cost: 4.268s\n",
      "  Final -- Total Cost: 56.977s\n",
      "回波仿真完成！\n",
      "图像大小：256 x 256\n"
     ]
    },
    {
     "name": "stderr",
     "output_type": "stream",
     "text": [
      "/home/liq/pro/new_production_1118/sklearn/cluster/_kmeans.py:1416: FutureWarning: The default value of `n_init` will change from 10 to 'auto' in 1.4. Set the value of `n_init` explicitly to suppress the warning\n",
      "  super()._check_params_vs_input(X, default_n_init=10)\n"
     ]
    },
    {
     "name": "stdout",
     "output_type": "stream",
     "text": [
      "开始回波仿真...\n",
      "========================= EchoSimProcess =========================\n",
      "Phase 1 -- Params read and config...\n",
      "Phase 1 -- Done! Cost: 0.194s\n",
      "Phase 2 -- Sat Position Calculate...\n",
      "Phase 2 -- Done! Cost: 0s\n",
      "Phase 3 -- Flight Track and BeamDir History Simulate...\n",
      "Phase 3 -- Done! Cost: 0s\n",
      "Phase 4 -- Signal Generate...\n",
      "Phase 4 -- Done! Cost: 0.11s\n",
      "Phase 5 -- Echo Calculate...\n",
      "        -- CPU ThreadNum: 48\n",
      "Phase 5 -- Done! Cost: 52.436s\n",
      "Phase 6 -- Result Save...\n",
      "Phase 6 -- Done! Cost: 4.451s\n",
      "  Final -- Total Cost: 57.193s\n",
      "回波仿真完成！\n",
      "图像大小：256 x 256\n"
     ]
    },
    {
     "name": "stderr",
     "output_type": "stream",
     "text": [
      "/home/liq/pro/new_production_1118/sklearn/cluster/_kmeans.py:1416: FutureWarning: The default value of `n_init` will change from 10 to 'auto' in 1.4. Set the value of `n_init` explicitly to suppress the warning\n",
      "  super()._check_params_vs_input(X, default_n_init=10)\n"
     ]
    },
    {
     "name": "stdout",
     "output_type": "stream",
     "text": [
      "开始回波仿真...\n",
      "========================= EchoSimProcess =========================\n",
      "Phase 1 -- Params read and config...\n",
      "Phase 1 -- Done! Cost: 0.118s\n",
      "Phase 2 -- Sat Position Calculate...\n",
      "Phase 2 -- Done! Cost: 0s\n",
      "Phase 3 -- Flight Track and BeamDir History Simulate...\n",
      "Phase 3 -- Done! Cost: 0s\n",
      "Phase 4 -- Signal Generate...\n",
      "Phase 4 -- Done! Cost: 0.109s\n",
      "Phase 5 -- Echo Calculate...\n",
      "        -- CPU ThreadNum: 48\n",
      "Phase 5 -- Done! Cost: 53.059s\n",
      "Phase 6 -- Result Save...\n",
      "Phase 6 -- Done! Cost: 4.444s\n",
      "  Final -- Total Cost: 57.735s\n",
      "回波仿真完成！\n",
      "图像大小：256 x 256\n"
     ]
    },
    {
     "name": "stderr",
     "output_type": "stream",
     "text": [
      "/home/liq/pro/new_production_1118/sklearn/cluster/_kmeans.py:1416: FutureWarning: The default value of `n_init` will change from 10 to 'auto' in 1.4. Set the value of `n_init` explicitly to suppress the warning\n",
      "  super()._check_params_vs_input(X, default_n_init=10)\n"
     ]
    },
    {
     "name": "stdout",
     "output_type": "stream",
     "text": [
      "开始回波仿真...\n",
      "========================= EchoSimProcess =========================\n",
      "Phase 1 -- Params read and config...\n",
      "Phase 1 -- Done! Cost: 0.192s\n",
      "Phase 2 -- Sat Position Calculate...\n",
      "Phase 2 -- Done! Cost: 0s\n",
      "Phase 3 -- Flight Track and BeamDir History Simulate...\n",
      "Phase 3 -- Done! Cost: 0s\n",
      "Phase 4 -- Signal Generate...\n",
      "Phase 4 -- Done! Cost: 0.111s\n",
      "Phase 5 -- Echo Calculate...\n",
      "        -- CPU ThreadNum: 48\n",
      "Phase 5 -- Done! Cost: 54.169s\n",
      "Phase 6 -- Result Save...\n",
      "Phase 6 -- Done! Cost: 4.376s\n",
      "  Final -- Total Cost: 58.85s\n",
      "回波仿真完成！\n",
      "图像大小：256 x 256\n"
     ]
    },
    {
     "name": "stderr",
     "output_type": "stream",
     "text": [
      "/home/liq/pro/new_production_1118/sklearn/cluster/_kmeans.py:1416: FutureWarning: The default value of `n_init` will change from 10 to 'auto' in 1.4. Set the value of `n_init` explicitly to suppress the warning\n",
      "  super()._check_params_vs_input(X, default_n_init=10)\n"
     ]
    },
    {
     "name": "stdout",
     "output_type": "stream",
     "text": [
      "开始回波仿真...\n",
      "========================= EchoSimProcess =========================\n",
      "Phase 1 -- Params read and config...\n",
      "Phase 1 -- Done! Cost: 0.17s\n",
      "Phase 2 -- Sat Position Calculate...\n",
      "Phase 2 -- Done! Cost: 0s\n",
      "Phase 3 -- Flight Track and BeamDir History Simulate...\n",
      "Phase 3 -- Done! Cost: 0s\n",
      "Phase 4 -- Signal Generate...\n",
      "Phase 4 -- Done! Cost: 0.111s\n",
      "Phase 5 -- Echo Calculate...\n",
      "        -- CPU ThreadNum: 48\n",
      "Phase 5 -- Done! Cost: 52.577s\n",
      "Phase 6 -- Result Save...\n",
      "Phase 6 -- Done! Cost: 4.879s\n",
      "  Final -- Total Cost: 57.739s\n",
      "回波仿真完成！\n",
      "图像大小：256 x 256\n"
     ]
    },
    {
     "name": "stderr",
     "output_type": "stream",
     "text": [
      "/home/liq/pro/new_production_1118/sklearn/cluster/_kmeans.py:1416: FutureWarning: The default value of `n_init` will change from 10 to 'auto' in 1.4. Set the value of `n_init` explicitly to suppress the warning\n",
      "  super()._check_params_vs_input(X, default_n_init=10)\n"
     ]
    },
    {
     "name": "stdout",
     "output_type": "stream",
     "text": [
      "开始回波仿真...\n",
      "========================= EchoSimProcess =========================\n",
      "Phase 1 -- Params read and config...\n",
      "Phase 1 -- Done! Cost: 0.186s\n",
      "Phase 2 -- Sat Position Calculate...\n",
      "Phase 2 -- Done! Cost: 0s\n",
      "Phase 3 -- Flight Track and BeamDir History Simulate...\n",
      "Phase 3 -- Done! Cost: 0s\n",
      "Phase 4 -- Signal Generate...\n",
      "Phase 4 -- Done! Cost: 0.112s\n",
      "Phase 5 -- Echo Calculate...\n",
      "        -- CPU ThreadNum: 48\n",
      "Phase 5 -- Done! Cost: 52.853s\n",
      "Phase 6 -- Result Save...\n",
      "Phase 6 -- Done! Cost: 4.341s\n",
      "  Final -- Total Cost: 57.494s\n",
      "回波仿真完成！\n",
      "图像大小：256 x 256\n"
     ]
    },
    {
     "name": "stderr",
     "output_type": "stream",
     "text": [
      "/home/liq/pro/new_production_1118/sklearn/cluster/_kmeans.py:1416: FutureWarning: The default value of `n_init` will change from 10 to 'auto' in 1.4. Set the value of `n_init` explicitly to suppress the warning\n",
      "  super()._check_params_vs_input(X, default_n_init=10)\n"
     ]
    },
    {
     "name": "stdout",
     "output_type": "stream",
     "text": [
      "开始回波仿真...\n",
      "========================= EchoSimProcess =========================\n",
      "Phase 1 -- Params read and config...\n",
      "Phase 1 -- Done! Cost: 0.181s\n",
      "Phase 2 -- Sat Position Calculate...\n",
      "Phase 2 -- Done! Cost: 0s\n",
      "Phase 3 -- Flight Track and BeamDir History Simulate...\n",
      "Phase 3 -- Done! Cost: 0s\n",
      "Phase 4 -- Signal Generate...\n",
      "Phase 4 -- Done! Cost: 0.073s\n",
      "Phase 5 -- Echo Calculate...\n",
      "        -- CPU ThreadNum: 48\n",
      "Phase 5 -- Done! Cost: 54.003s\n",
      "Phase 6 -- Result Save...\n",
      "Phase 6 -- Done! Cost: 5.341s\n",
      "  Final -- Total Cost: 59.599s\n",
      "回波仿真完成！\n",
      "图像大小：256 x 256\n"
     ]
    },
    {
     "name": "stderr",
     "output_type": "stream",
     "text": [
      "/home/liq/pro/new_production_1118/sklearn/cluster/_kmeans.py:1416: FutureWarning: The default value of `n_init` will change from 10 to 'auto' in 1.4. Set the value of `n_init` explicitly to suppress the warning\n",
      "  super()._check_params_vs_input(X, default_n_init=10)\n"
     ]
    },
    {
     "name": "stdout",
     "output_type": "stream",
     "text": [
      "开始回波仿真...\n",
      "========================= EchoSimProcess =========================\n",
      "Phase 1 -- Params read and config...\n",
      "Phase 1 -- Done! Cost: 0.157s\n",
      "Phase 2 -- Sat Position Calculate...\n",
      "Phase 2 -- Done! Cost: 0s\n",
      "Phase 3 -- Flight Track and BeamDir History Simulate...\n",
      "Phase 3 -- Done! Cost: 0s\n",
      "Phase 4 -- Signal Generate...\n",
      "Phase 4 -- Done! Cost: 0.073s\n",
      "Phase 5 -- Echo Calculate...\n",
      "        -- CPU ThreadNum: 48\n",
      "Phase 5 -- Done! Cost: 46.829s\n",
      "Phase 6 -- Result Save...\n",
      "Phase 6 -- Done! Cost: 4.07s\n",
      "  Final -- Total Cost: 51.131s\n",
      "回波仿真完成！\n",
      "图像大小：256 x 256\n"
     ]
    },
    {
     "name": "stderr",
     "output_type": "stream",
     "text": [
      "/home/liq/pro/new_production_1118/sklearn/cluster/_kmeans.py:1416: FutureWarning: The default value of `n_init` will change from 10 to 'auto' in 1.4. Set the value of `n_init` explicitly to suppress the warning\n",
      "  super()._check_params_vs_input(X, default_n_init=10)\n"
     ]
    },
    {
     "name": "stdout",
     "output_type": "stream",
     "text": [
      "开始回波仿真...\n",
      "========================= EchoSimProcess =========================\n",
      "Phase 1 -- Params read and config...\n",
      "Phase 1 -- Done! Cost: 0.094s\n",
      "Phase 2 -- Sat Position Calculate...\n",
      "Phase 2 -- Done! Cost: 0s\n",
      "Phase 3 -- Flight Track and BeamDir History Simulate...\n",
      "Phase 3 -- Done! Cost: 0s\n",
      "Phase 4 -- Signal Generate...\n",
      "Phase 4 -- Done! Cost: 0.116s\n",
      "Phase 5 -- Echo Calculate...\n",
      "        -- CPU ThreadNum: 48\n",
      "Phase 5 -- Done! Cost: 47.182s\n",
      "Phase 6 -- Result Save...\n",
      "Phase 6 -- Done! Cost: 4.341s\n",
      "  Final -- Total Cost: 51.74s\n",
      "回波仿真完成！\n",
      "图像大小：256 x 256\n"
     ]
    },
    {
     "name": "stderr",
     "output_type": "stream",
     "text": [
      "/home/liq/pro/new_production_1118/sklearn/cluster/_kmeans.py:1416: FutureWarning: The default value of `n_init` will change from 10 to 'auto' in 1.4. Set the value of `n_init` explicitly to suppress the warning\n",
      "  super()._check_params_vs_input(X, default_n_init=10)\n"
     ]
    },
    {
     "name": "stdout",
     "output_type": "stream",
     "text": [
      "开始回波仿真...\n",
      "========================= EchoSimProcess =========================\n",
      "Phase 1 -- Params read and config...\n",
      "Phase 1 -- Done! Cost: 0.167s\n",
      "Phase 2 -- Sat Position Calculate...\n",
      "Phase 2 -- Done! Cost: 0s\n",
      "Phase 3 -- Flight Track and BeamDir History Simulate...\n",
      "Phase 3 -- Done! Cost: 0s\n",
      "Phase 4 -- Signal Generate...\n",
      "Phase 4 -- Done! Cost: 0.073s\n",
      "Phase 5 -- Echo Calculate...\n",
      "        -- CPU ThreadNum: 48\n",
      "Phase 5 -- Done! Cost: 47.011s\n",
      "Phase 6 -- Result Save...\n",
      "Phase 6 -- Done! Cost: 4.158s\n",
      "  Final -- Total Cost: 51.41s\n",
      "回波仿真完成！\n",
      "图像大小：256 x 256\n"
     ]
    },
    {
     "name": "stderr",
     "output_type": "stream",
     "text": [
      "/home/liq/pro/new_production_1118/sklearn/cluster/_kmeans.py:1416: FutureWarning: The default value of `n_init` will change from 10 to 'auto' in 1.4. Set the value of `n_init` explicitly to suppress the warning\n",
      "  super()._check_params_vs_input(X, default_n_init=10)\n"
     ]
    },
    {
     "name": "stdout",
     "output_type": "stream",
     "text": [
      "开始回波仿真...\n",
      "========================= EchoSimProcess =========================\n",
      "Phase 1 -- Params read and config...\n",
      "Phase 1 -- Done! Cost: 0.138s\n",
      "Phase 2 -- Sat Position Calculate...\n",
      "Phase 2 -- Done! Cost: 0s\n",
      "Phase 3 -- Flight Track and BeamDir History Simulate...\n",
      "Phase 3 -- Done! Cost: 0s\n",
      "Phase 4 -- Signal Generate...\n",
      "Phase 4 -- Done! Cost: 0.079s\n",
      "Phase 5 -- Echo Calculate...\n",
      "        -- CPU ThreadNum: 48\n",
      "Phase 5 -- Done! Cost: 46.641s\n",
      "Phase 6 -- Result Save...\n",
      "Phase 6 -- Done! Cost: 4.039s\n",
      "  Final -- Total Cost: 50.9s\n",
      "回波仿真完成！\n",
      "图像大小：256 x 256\n"
     ]
    },
    {
     "name": "stderr",
     "output_type": "stream",
     "text": [
      "/home/liq/pro/new_production_1118/sklearn/cluster/_kmeans.py:1416: FutureWarning: The default value of `n_init` will change from 10 to 'auto' in 1.4. Set the value of `n_init` explicitly to suppress the warning\n",
      "  super()._check_params_vs_input(X, default_n_init=10)\n"
     ]
    },
    {
     "name": "stdout",
     "output_type": "stream",
     "text": [
      "开始回波仿真...\n",
      "========================= EchoSimProcess =========================\n",
      "Phase 1 -- Params read and config...\n",
      "Phase 1 -- Done! Cost: 0.127s\n",
      "Phase 2 -- Sat Position Calculate...\n",
      "Phase 2 -- Done! Cost: 0s\n",
      "Phase 3 -- Flight Track and BeamDir History Simulate...\n",
      "Phase 3 -- Done! Cost: 0s\n",
      "Phase 4 -- Signal Generate...\n",
      "Phase 4 -- Done! Cost: 0.112s\n",
      "Phase 5 -- Echo Calculate...\n",
      "        -- CPU ThreadNum: 48\n",
      "Phase 5 -- Done! Cost: 47.445s\n",
      "Phase 6 -- Result Save...\n",
      "Phase 6 -- Done! Cost: 3.945s\n",
      "  Final -- Total Cost: 51.632s\n",
      "回波仿真完成！\n",
      "图像大小：256 x 256\n"
     ]
    },
    {
     "name": "stderr",
     "output_type": "stream",
     "text": [
      "/home/liq/pro/new_production_1118/sklearn/cluster/_kmeans.py:1416: FutureWarning: The default value of `n_init` will change from 10 to 'auto' in 1.4. Set the value of `n_init` explicitly to suppress the warning\n",
      "  super()._check_params_vs_input(X, default_n_init=10)\n"
     ]
    },
    {
     "name": "stdout",
     "output_type": "stream",
     "text": [
      "开始回波仿真...\n",
      "========================= EchoSimProcess =========================\n",
      "Phase 1 -- Params read and config...\n",
      "Phase 1 -- Done! Cost: 0.15s\n",
      "Phase 2 -- Sat Position Calculate...\n",
      "Phase 2 -- Done! Cost: 0s\n",
      "Phase 3 -- Flight Track and BeamDir History Simulate...\n",
      "Phase 3 -- Done! Cost: 0s\n",
      "Phase 4 -- Signal Generate...\n",
      "Phase 4 -- Done! Cost: 0.073s\n",
      "Phase 5 -- Echo Calculate...\n",
      "        -- CPU ThreadNum: 48\n",
      "Phase 5 -- Done! Cost: 47.459s\n",
      "Phase 6 -- Result Save...\n",
      "Phase 6 -- Done! Cost: 3.819s\n",
      "  Final -- Total Cost: 51.503s\n",
      "回波仿真完成！\n",
      "图像大小：256 x 256\n"
     ]
    },
    {
     "name": "stderr",
     "output_type": "stream",
     "text": [
      "/home/liq/pro/new_production_1118/sklearn/cluster/_kmeans.py:1416: FutureWarning: The default value of `n_init` will change from 10 to 'auto' in 1.4. Set the value of `n_init` explicitly to suppress the warning\n",
      "  super()._check_params_vs_input(X, default_n_init=10)\n"
     ]
    },
    {
     "name": "stdout",
     "output_type": "stream",
     "text": [
      "开始回波仿真...\n",
      "========================= EchoSimProcess =========================\n",
      "Phase 1 -- Params read and config...\n",
      "Phase 1 -- Done! Cost: 0.107s\n",
      "Phase 2 -- Sat Position Calculate...\n",
      "Phase 2 -- Done! Cost: 0s\n",
      "Phase 3 -- Flight Track and BeamDir History Simulate...\n",
      "Phase 3 -- Done! Cost: 0s\n",
      "Phase 4 -- Signal Generate...\n",
      "Phase 4 -- Done! Cost: 0.08s\n",
      "Phase 5 -- Echo Calculate...\n",
      "        -- CPU ThreadNum: 48\n",
      "Phase 5 -- Done! Cost: 47.673s\n",
      "Phase 6 -- Result Save...\n",
      "Phase 6 -- Done! Cost: 3.869s\n",
      "  Final -- Total Cost: 51.733s\n",
      "回波仿真完成！\n",
      "图像大小：256 x 256\n"
     ]
    },
    {
     "name": "stderr",
     "output_type": "stream",
     "text": [
      "/home/liq/pro/new_production_1118/sklearn/cluster/_kmeans.py:1416: FutureWarning: The default value of `n_init` will change from 10 to 'auto' in 1.4. Set the value of `n_init` explicitly to suppress the warning\n",
      "  super()._check_params_vs_input(X, default_n_init=10)\n"
     ]
    },
    {
     "name": "stdout",
     "output_type": "stream",
     "text": [
      "开始回波仿真...\n",
      "========================= EchoSimProcess =========================\n",
      "Phase 1 -- Params read and config...\n",
      "Phase 1 -- Done! Cost: 0.161s\n",
      "Phase 2 -- Sat Position Calculate...\n",
      "Phase 2 -- Done! Cost: 0s\n",
      "Phase 3 -- Flight Track and BeamDir History Simulate...\n",
      "Phase 3 -- Done! Cost: 0s\n",
      "Phase 4 -- Signal Generate...\n",
      "Phase 4 -- Done! Cost: 0.109s\n",
      "Phase 5 -- Echo Calculate...\n",
      "        -- CPU ThreadNum: 48\n",
      "Phase 5 -- Done! Cost: 46.062s\n",
      "Phase 6 -- Result Save...\n",
      "Phase 6 -- Done! Cost: 3.943s\n",
      "  Final -- Total Cost: 50.277s\n",
      "回波仿真完成！\n",
      "图像大小：256 x 256\n"
     ]
    },
    {
     "name": "stderr",
     "output_type": "stream",
     "text": [
      "/home/liq/pro/new_production_1118/sklearn/cluster/_kmeans.py:1416: FutureWarning: The default value of `n_init` will change from 10 to 'auto' in 1.4. Set the value of `n_init` explicitly to suppress the warning\n",
      "  super()._check_params_vs_input(X, default_n_init=10)\n"
     ]
    },
    {
     "name": "stdout",
     "output_type": "stream",
     "text": [
      "开始回波仿真...\n",
      "========================= EchoSimProcess =========================\n",
      "Phase 1 -- Params read and config...\n",
      "Phase 1 -- Done! Cost: 0.091s\n",
      "Phase 2 -- Sat Position Calculate...\n",
      "Phase 2 -- Done! Cost: 0s\n",
      "Phase 3 -- Flight Track and BeamDir History Simulate...\n",
      "Phase 3 -- Done! Cost: 0s\n",
      "Phase 4 -- Signal Generate...\n",
      "Phase 4 -- Done! Cost: 0.139s\n",
      "Phase 5 -- Echo Calculate...\n",
      "        -- CPU ThreadNum: 48\n",
      "Phase 5 -- Done! Cost: 46.339s\n",
      "Phase 6 -- Result Save...\n",
      "Phase 6 -- Done! Cost: 3.91s\n",
      "  Final -- Total Cost: 50.483s\n",
      "回波仿真完成！\n",
      "图像大小：256 x 256\n"
     ]
    },
    {
     "name": "stderr",
     "output_type": "stream",
     "text": [
      "/home/liq/pro/new_production_1118/sklearn/cluster/_kmeans.py:1416: FutureWarning: The default value of `n_init` will change from 10 to 'auto' in 1.4. Set the value of `n_init` explicitly to suppress the warning\n",
      "  super()._check_params_vs_input(X, default_n_init=10)\n"
     ]
    },
    {
     "name": "stdout",
     "output_type": "stream",
     "text": [
      "开始回波仿真...\n",
      "========================= EchoSimProcess =========================\n",
      "Phase 1 -- Params read and config...\n",
      "Phase 1 -- Done! Cost: 0.094s\n",
      "Phase 2 -- Sat Position Calculate...\n",
      "Phase 2 -- Done! Cost: 0s\n",
      "Phase 3 -- Flight Track and BeamDir History Simulate...\n",
      "Phase 3 -- Done! Cost: 0s\n",
      "Phase 4 -- Signal Generate...\n",
      "Phase 4 -- Done! Cost: 0.13s\n",
      "Phase 5 -- Echo Calculate...\n",
      "        -- CPU ThreadNum: 48\n",
      "Phase 5 -- Done! Cost: 47.088s\n",
      "Phase 6 -- Result Save...\n",
      "Phase 6 -- Done! Cost: 3.843s\n",
      "  Final -- Total Cost: 51.159s\n",
      "回波仿真完成！\n",
      "图像大小：256 x 256\n"
     ]
    },
    {
     "name": "stderr",
     "output_type": "stream",
     "text": [
      "/home/liq/pro/new_production_1118/sklearn/cluster/_kmeans.py:1416: FutureWarning: The default value of `n_init` will change from 10 to 'auto' in 1.4. Set the value of `n_init` explicitly to suppress the warning\n",
      "  super()._check_params_vs_input(X, default_n_init=10)\n"
     ]
    },
    {
     "name": "stdout",
     "output_type": "stream",
     "text": [
      "开始回波仿真...\n",
      "========================= EchoSimProcess =========================\n",
      "Phase 1 -- Params read and config...\n",
      "Phase 1 -- Done! Cost: 0.167s\n",
      "Phase 2 -- Sat Position Calculate...\n",
      "Phase 2 -- Done! Cost: 0s\n",
      "Phase 3 -- Flight Track and BeamDir History Simulate...\n",
      "Phase 3 -- Done! Cost: 0s\n",
      "Phase 4 -- Signal Generate...\n",
      "Phase 4 -- Done! Cost: 0.083s\n",
      "Phase 5 -- Echo Calculate...\n",
      "        -- CPU ThreadNum: 48\n",
      "Phase 5 -- Done! Cost: 47.325s\n",
      "Phase 6 -- Result Save...\n",
      "Phase 6 -- Done! Cost: 4.242s\n",
      "  Final -- Total Cost: 51.82s\n",
      "回波仿真完成！\n",
      "图像大小：256 x 256\n"
     ]
    },
    {
     "name": "stderr",
     "output_type": "stream",
     "text": [
      "/home/liq/pro/new_production_1118/sklearn/cluster/_kmeans.py:1416: FutureWarning: The default value of `n_init` will change from 10 to 'auto' in 1.4. Set the value of `n_init` explicitly to suppress the warning\n",
      "  super()._check_params_vs_input(X, default_n_init=10)\n"
     ]
    },
    {
     "name": "stdout",
     "output_type": "stream",
     "text": [
      "开始回波仿真...\n",
      "========================= EchoSimProcess =========================\n",
      "Phase 1 -- Params read and config...\n",
      "Phase 1 -- Done! Cost: 0.135s\n",
      "Phase 2 -- Sat Position Calculate...\n",
      "Phase 2 -- Done! Cost: 0s\n",
      "Phase 3 -- Flight Track and BeamDir History Simulate...\n",
      "Phase 3 -- Done! Cost: 0s\n",
      "Phase 4 -- Signal Generate...\n",
      "Phase 4 -- Done! Cost: 0.075s\n",
      "Phase 5 -- Echo Calculate...\n",
      "        -- CPU ThreadNum: 48\n",
      "Phase 5 -- Done! Cost: 46.309s\n",
      "Phase 6 -- Result Save...\n",
      "Phase 6 -- Done! Cost: 4.051s\n",
      "  Final -- Total Cost: 50.573s\n",
      "回波仿真完成！\n",
      "图像大小：256 x 256\n"
     ]
    },
    {
     "name": "stderr",
     "output_type": "stream",
     "text": [
      "/home/liq/pro/new_production_1118/sklearn/cluster/_kmeans.py:1416: FutureWarning: The default value of `n_init` will change from 10 to 'auto' in 1.4. Set the value of `n_init` explicitly to suppress the warning\n",
      "  super()._check_params_vs_input(X, default_n_init=10)\n"
     ]
    },
    {
     "name": "stdout",
     "output_type": "stream",
     "text": [
      "开始回波仿真...\n",
      "========================= EchoSimProcess =========================\n",
      "Phase 1 -- Params read and config...\n",
      "Phase 1 -- Done! Cost: 0.092s\n",
      "Phase 2 -- Sat Position Calculate...\n",
      "Phase 2 -- Done! Cost: 0s\n",
      "Phase 3 -- Flight Track and BeamDir History Simulate...\n",
      "Phase 3 -- Done! Cost: 0s\n",
      "Phase 4 -- Signal Generate...\n",
      "Phase 4 -- Done! Cost: 0.129s\n",
      "Phase 5 -- Echo Calculate...\n",
      "        -- CPU ThreadNum: 48\n",
      "Phase 5 -- Done! Cost: 47.134s\n",
      "Phase 6 -- Result Save...\n",
      "Phase 6 -- Done! Cost: 3.902s\n",
      "  Final -- Total Cost: 51.261s\n",
      "回波仿真完成！\n",
      "图像大小：256 x 256\n"
     ]
    },
    {
     "name": "stderr",
     "output_type": "stream",
     "text": [
      "/home/liq/pro/new_production_1118/sklearn/cluster/_kmeans.py:1416: FutureWarning: The default value of `n_init` will change from 10 to 'auto' in 1.4. Set the value of `n_init` explicitly to suppress the warning\n",
      "  super()._check_params_vs_input(X, default_n_init=10)\n"
     ]
    },
    {
     "name": "stdout",
     "output_type": "stream",
     "text": [
      "开始回波仿真...\n",
      "========================= EchoSimProcess =========================\n",
      "Phase 1 -- Params read and config...\n",
      "Phase 1 -- Done! Cost: 0.165s\n",
      "Phase 2 -- Sat Position Calculate...\n",
      "Phase 2 -- Done! Cost: 0s\n",
      "Phase 3 -- Flight Track and BeamDir History Simulate...\n",
      "Phase 3 -- Done! Cost: 0s\n",
      "Phase 4 -- Signal Generate...\n",
      "Phase 4 -- Done! Cost: 0.11s\n",
      "Phase 5 -- Echo Calculate...\n",
      "        -- CPU ThreadNum: 48\n",
      "Phase 5 -- Done! Cost: 47.571s\n",
      "Phase 6 -- Result Save...\n",
      "Phase 6 -- Done! Cost: 5.142s\n",
      "  Final -- Total Cost: 52.99s\n",
      "回波仿真完成！\n",
      "图像大小：256 x 256\n"
     ]
    },
    {
     "name": "stderr",
     "output_type": "stream",
     "text": [
      "/home/liq/pro/new_production_1118/sklearn/cluster/_kmeans.py:1416: FutureWarning: The default value of `n_init` will change from 10 to 'auto' in 1.4. Set the value of `n_init` explicitly to suppress the warning\n",
      "  super()._check_params_vs_input(X, default_n_init=10)\n"
     ]
    },
    {
     "name": "stdout",
     "output_type": "stream",
     "text": [
      "开始回波仿真...\n",
      "========================= EchoSimProcess =========================\n",
      "Phase 1 -- Params read and config...\n",
      "Phase 1 -- Done! Cost: 0.16s\n",
      "Phase 2 -- Sat Position Calculate...\n",
      "Phase 2 -- Done! Cost: 0s\n",
      "Phase 3 -- Flight Track and BeamDir History Simulate...\n",
      "Phase 3 -- Done! Cost: 0s\n",
      "Phase 4 -- Signal Generate...\n",
      "Phase 4 -- Done! Cost: 0.074s\n",
      "Phase 5 -- Echo Calculate...\n",
      "        -- CPU ThreadNum: 48\n",
      "Phase 5 -- Done! Cost: 46.564s\n",
      "Phase 6 -- Result Save...\n",
      "Phase 6 -- Done! Cost: 4.563s\n",
      "  Final -- Total Cost: 51.363s\n",
      "回波仿真完成！\n",
      "图像大小：256 x 256\n"
     ]
    },
    {
     "name": "stderr",
     "output_type": "stream",
     "text": [
      "/home/liq/pro/new_production_1118/sklearn/cluster/_kmeans.py:1416: FutureWarning: The default value of `n_init` will change from 10 to 'auto' in 1.4. Set the value of `n_init` explicitly to suppress the warning\n",
      "  super()._check_params_vs_input(X, default_n_init=10)\n"
     ]
    },
    {
     "name": "stdout",
     "output_type": "stream",
     "text": [
      "开始回波仿真...\n",
      "========================= EchoSimProcess =========================\n",
      "Phase 1 -- Params read and config...\n",
      "Phase 1 -- Done! Cost: 0.175s\n",
      "Phase 2 -- Sat Position Calculate...\n",
      "Phase 2 -- Done! Cost: 0s\n",
      "Phase 3 -- Flight Track and BeamDir History Simulate...\n",
      "Phase 3 -- Done! Cost: 0s\n",
      "Phase 4 -- Signal Generate...\n",
      "Phase 4 -- Done! Cost: 0.111s\n",
      "Phase 5 -- Echo Calculate...\n",
      "        -- CPU ThreadNum: 48\n",
      "Phase 5 -- Done! Cost: 46.405s\n",
      "Phase 6 -- Result Save...\n",
      "Phase 6 -- Done! Cost: 4.006s\n",
      "  Final -- Total Cost: 50.7s\n",
      "回波仿真完成！\n",
      "图像大小：256 x 256\n"
     ]
    },
    {
     "name": "stderr",
     "output_type": "stream",
     "text": [
      "/home/liq/pro/new_production_1118/sklearn/cluster/_kmeans.py:1416: FutureWarning: The default value of `n_init` will change from 10 to 'auto' in 1.4. Set the value of `n_init` explicitly to suppress the warning\n",
      "  super()._check_params_vs_input(X, default_n_init=10)\n"
     ]
    },
    {
     "name": "stdout",
     "output_type": "stream",
     "text": [
      "开始回波仿真...\n",
      "========================= EchoSimProcess =========================\n",
      "Phase 1 -- Params read and config...\n",
      "Phase 1 -- Done! Cost: 0.164s\n",
      "Phase 2 -- Sat Position Calculate...\n",
      "Phase 2 -- Done! Cost: 0s\n",
      "Phase 3 -- Flight Track and BeamDir History Simulate...\n",
      "Phase 3 -- Done! Cost: 0s\n",
      "Phase 4 -- Signal Generate...\n",
      "Phase 4 -- Done! Cost: 0.073s\n",
      "Phase 5 -- Echo Calculate...\n",
      "        -- CPU ThreadNum: 48\n",
      "Phase 5 -- Done! Cost: 46.576s\n",
      "Phase 6 -- Result Save...\n",
      "Phase 6 -- Done! Cost: 3.763s\n",
      "  Final -- Total Cost: 50.578s\n",
      "回波仿真完成！\n",
      "图像大小：256 x 256\n"
     ]
    },
    {
     "name": "stderr",
     "output_type": "stream",
     "text": [
      "/home/liq/pro/new_production_1118/sklearn/cluster/_kmeans.py:1416: FutureWarning: The default value of `n_init` will change from 10 to 'auto' in 1.4. Set the value of `n_init` explicitly to suppress the warning\n",
      "  super()._check_params_vs_input(X, default_n_init=10)\n"
     ]
    },
    {
     "name": "stdout",
     "output_type": "stream",
     "text": [
      "开始回波仿真...\n",
      "========================= EchoSimProcess =========================\n",
      "Phase 1 -- Params read and config...\n",
      "Phase 1 -- Done! Cost: 0.158s\n",
      "Phase 2 -- Sat Position Calculate...\n",
      "Phase 2 -- Done! Cost: 0s\n",
      "Phase 3 -- Flight Track and BeamDir History Simulate...\n",
      "Phase 3 -- Done! Cost: 0s\n",
      "Phase 4 -- Signal Generate...\n",
      "Phase 4 -- Done! Cost: 0.073s\n",
      "Phase 5 -- Echo Calculate...\n",
      "        -- CPU ThreadNum: 48\n",
      "Phase 5 -- Done! Cost: 48.137s\n",
      "Phase 6 -- Result Save...\n",
      "Phase 6 -- Done! Cost: 4.286s\n",
      "  Final -- Total Cost: 52.656s\n",
      "回波仿真完成！\n",
      "图像大小：256 x 256\n"
     ]
    },
    {
     "name": "stderr",
     "output_type": "stream",
     "text": [
      "/home/liq/pro/new_production_1118/sklearn/cluster/_kmeans.py:1416: FutureWarning: The default value of `n_init` will change from 10 to 'auto' in 1.4. Set the value of `n_init` explicitly to suppress the warning\n",
      "  super()._check_params_vs_input(X, default_n_init=10)\n"
     ]
    },
    {
     "name": "stdout",
     "output_type": "stream",
     "text": [
      "开始回波仿真...\n",
      "========================= EchoSimProcess =========================\n",
      "Phase 1 -- Params read and config...\n",
      "Phase 1 -- Done! Cost: 0.088s\n",
      "Phase 2 -- Sat Position Calculate...\n",
      "Phase 2 -- Done! Cost: 0s\n",
      "Phase 3 -- Flight Track and BeamDir History Simulate...\n",
      "Phase 3 -- Done! Cost: 0s\n",
      "Phase 4 -- Signal Generate...\n",
      "Phase 4 -- Done! Cost: 0.068s\n",
      "Phase 5 -- Echo Calculate...\n",
      "        -- CPU ThreadNum: 48\n",
      "Phase 5 -- Done! Cost: 32.004s\n",
      "Phase 6 -- Result Save...\n",
      "Phase 6 -- Done! Cost: 3.763s\n",
      "  Final -- Total Cost: 35.927s\n",
      "回波仿真完成！\n",
      "图像大小：256 x 256\n"
     ]
    },
    {
     "name": "stderr",
     "output_type": "stream",
     "text": [
      "/home/liq/pro/new_production_1118/sklearn/cluster/_kmeans.py:1416: FutureWarning: The default value of `n_init` will change from 10 to 'auto' in 1.4. Set the value of `n_init` explicitly to suppress the warning\n",
      "  super()._check_params_vs_input(X, default_n_init=10)\n"
     ]
    },
    {
     "name": "stdout",
     "output_type": "stream",
     "text": [
      "开始回波仿真...\n",
      "========================= EchoSimProcess =========================\n",
      "Phase 1 -- Params read and config...\n",
      "Phase 1 -- Done! Cost: 0.155s\n",
      "Phase 2 -- Sat Position Calculate...\n",
      "Phase 2 -- Done! Cost: 0s\n",
      "Phase 3 -- Flight Track and BeamDir History Simulate...\n",
      "Phase 3 -- Done! Cost: 0s\n",
      "Phase 4 -- Signal Generate...\n",
      "Phase 4 -- Done! Cost: 0.053s\n",
      "Phase 5 -- Echo Calculate...\n",
      "        -- CPU ThreadNum: 48\n",
      "Phase 5 -- Done! Cost: 31.339s\n",
      "Phase 6 -- Result Save...\n",
      "Phase 6 -- Done! Cost: 3.721s\n",
      "  Final -- Total Cost: 35.271s\n",
      "回波仿真完成！\n",
      "图像大小：256 x 256\n"
     ]
    },
    {
     "name": "stderr",
     "output_type": "stream",
     "text": [
      "/home/liq/pro/new_production_1118/sklearn/cluster/_kmeans.py:1416: FutureWarning: The default value of `n_init` will change from 10 to 'auto' in 1.4. Set the value of `n_init` explicitly to suppress the warning\n",
      "  super()._check_params_vs_input(X, default_n_init=10)\n"
     ]
    },
    {
     "name": "stdout",
     "output_type": "stream",
     "text": [
      "开始回波仿真...\n",
      "========================= EchoSimProcess =========================\n",
      "Phase 1 -- Params read and config...\n",
      "Phase 1 -- Done! Cost: 0.157s\n",
      "Phase 2 -- Sat Position Calculate...\n",
      "Phase 2 -- Done! Cost: 0s\n",
      "Phase 3 -- Flight Track and BeamDir History Simulate...\n",
      "Phase 3 -- Done! Cost: 0s\n",
      "Phase 4 -- Signal Generate...\n",
      "Phase 4 -- Done! Cost: 0.037s\n",
      "Phase 5 -- Echo Calculate...\n",
      "        -- CPU ThreadNum: 48\n",
      "Phase 5 -- Done! Cost: 31.305s\n",
      "Phase 6 -- Result Save...\n",
      "Phase 6 -- Done! Cost: 3.496s\n",
      "  Final -- Total Cost: 34.998s\n",
      "回波仿真完成！\n",
      "图像大小：256 x 256\n"
     ]
    },
    {
     "name": "stderr",
     "output_type": "stream",
     "text": [
      "/home/liq/pro/new_production_1118/sklearn/cluster/_kmeans.py:1416: FutureWarning: The default value of `n_init` will change from 10 to 'auto' in 1.4. Set the value of `n_init` explicitly to suppress the warning\n",
      "  super()._check_params_vs_input(X, default_n_init=10)\n"
     ]
    },
    {
     "name": "stdout",
     "output_type": "stream",
     "text": [
      "开始回波仿真...\n",
      "========================= EchoSimProcess =========================\n",
      "Phase 1 -- Params read and config...\n",
      "Phase 1 -- Done! Cost: 0.129s\n",
      "Phase 2 -- Sat Position Calculate...\n",
      "Phase 2 -- Done! Cost: 0s\n",
      "Phase 3 -- Flight Track and BeamDir History Simulate...\n",
      "Phase 3 -- Done! Cost: 0s\n",
      "Phase 4 -- Signal Generate...\n",
      "Phase 4 -- Done! Cost: 0.037s\n",
      "Phase 5 -- Echo Calculate...\n",
      "        -- CPU ThreadNum: 48\n",
      "Phase 5 -- Done! Cost: 31.573s\n",
      "Phase 6 -- Result Save...\n",
      "Phase 6 -- Done! Cost: 3.528s\n",
      "  Final -- Total Cost: 35.271s\n",
      "回波仿真完成！\n",
      "图像大小：256 x 256\n"
     ]
    },
    {
     "name": "stderr",
     "output_type": "stream",
     "text": [
      "/home/liq/pro/new_production_1118/sklearn/cluster/_kmeans.py:1416: FutureWarning: The default value of `n_init` will change from 10 to 'auto' in 1.4. Set the value of `n_init` explicitly to suppress the warning\n",
      "  super()._check_params_vs_input(X, default_n_init=10)\n"
     ]
    },
    {
     "name": "stdout",
     "output_type": "stream",
     "text": [
      "开始回波仿真...\n",
      "========================= EchoSimProcess =========================\n",
      "Phase 1 -- Params read and config...\n",
      "Phase 1 -- Done! Cost: 0.151s\n",
      "Phase 2 -- Sat Position Calculate...\n",
      "Phase 2 -- Done! Cost: 0s\n",
      "Phase 3 -- Flight Track and BeamDir History Simulate...\n",
      "Phase 3 -- Done! Cost: 0s\n",
      "Phase 4 -- Signal Generate...\n",
      "Phase 4 -- Done! Cost: 0.037s\n",
      "Phase 5 -- Echo Calculate...\n",
      "        -- CPU ThreadNum: 48\n",
      "Phase 5 -- Done! Cost: 30.541s\n",
      "Phase 6 -- Result Save...\n",
      "Phase 6 -- Done! Cost: 3.748s\n",
      "  Final -- Total Cost: 34.48s\n",
      "回波仿真完成！\n",
      "图像大小：256 x 256\n"
     ]
    },
    {
     "name": "stderr",
     "output_type": "stream",
     "text": [
      "/home/liq/pro/new_production_1118/sklearn/cluster/_kmeans.py:1416: FutureWarning: The default value of `n_init` will change from 10 to 'auto' in 1.4. Set the value of `n_init` explicitly to suppress the warning\n",
      "  super()._check_params_vs_input(X, default_n_init=10)\n"
     ]
    },
    {
     "name": "stdout",
     "output_type": "stream",
     "text": [
      "开始回波仿真...\n",
      "========================= EchoSimProcess =========================\n",
      "Phase 1 -- Params read and config...\n",
      "Phase 1 -- Done! Cost: 0.076s\n",
      "Phase 2 -- Sat Position Calculate...\n",
      "Phase 2 -- Done! Cost: 0s\n",
      "Phase 3 -- Flight Track and BeamDir History Simulate...\n",
      "Phase 3 -- Done! Cost: 0s\n",
      "Phase 4 -- Signal Generate...\n",
      "Phase 4 -- Done! Cost: 0.097s\n",
      "Phase 5 -- Echo Calculate...\n",
      "        -- CPU ThreadNum: 48\n",
      "Phase 5 -- Done! Cost: 30.822s\n",
      "Phase 6 -- Result Save...\n",
      "Phase 6 -- Done! Cost: 3.513s\n",
      "  Final -- Total Cost: 34.511s\n",
      "回波仿真完成！\n",
      "图像大小：256 x 256\n"
     ]
    },
    {
     "name": "stderr",
     "output_type": "stream",
     "text": [
      "/home/liq/pro/new_production_1118/sklearn/cluster/_kmeans.py:1416: FutureWarning: The default value of `n_init` will change from 10 to 'auto' in 1.4. Set the value of `n_init` explicitly to suppress the warning\n",
      "  super()._check_params_vs_input(X, default_n_init=10)\n"
     ]
    },
    {
     "name": "stdout",
     "output_type": "stream",
     "text": [
      "开始回波仿真...\n",
      "========================= EchoSimProcess =========================\n",
      "Phase 1 -- Params read and config...\n",
      "Phase 1 -- Done! Cost: 0.076s\n",
      "Phase 2 -- Sat Position Calculate...\n",
      "Phase 2 -- Done! Cost: 0s\n",
      "Phase 3 -- Flight Track and BeamDir History Simulate...\n",
      "Phase 3 -- Done! Cost: 0s\n",
      "Phase 4 -- Signal Generate...\n",
      "Phase 4 -- Done! Cost: 0.082s\n",
      "Phase 5 -- Echo Calculate...\n",
      "        -- CPU ThreadNum: 48\n",
      "Phase 5 -- Done! Cost: 31.192s\n",
      "Phase 6 -- Result Save...\n",
      "Phase 6 -- Done! Cost: 3.928s\n",
      "  Final -- Total Cost: 35.282s\n",
      "回波仿真完成！\n",
      "图像大小：256 x 256\n"
     ]
    },
    {
     "name": "stderr",
     "output_type": "stream",
     "text": [
      "/home/liq/pro/new_production_1118/sklearn/cluster/_kmeans.py:1416: FutureWarning: The default value of `n_init` will change from 10 to 'auto' in 1.4. Set the value of `n_init` explicitly to suppress the warning\n",
      "  super()._check_params_vs_input(X, default_n_init=10)\n"
     ]
    },
    {
     "name": "stdout",
     "output_type": "stream",
     "text": [
      "开始回波仿真...\n",
      "========================= EchoSimProcess =========================\n",
      "Phase 1 -- Params read and config...\n",
      "Phase 1 -- Done! Cost: 0.158s\n",
      "Phase 2 -- Sat Position Calculate...\n",
      "Phase 2 -- Done! Cost: 0s\n",
      "Phase 3 -- Flight Track and BeamDir History Simulate...\n",
      "Phase 3 -- Done! Cost: 0s\n",
      "Phase 4 -- Signal Generate...\n",
      "Phase 4 -- Done! Cost: 0.052s\n",
      "Phase 5 -- Echo Calculate...\n",
      "        -- CPU ThreadNum: 48\n",
      "Phase 5 -- Done! Cost: 30.943s\n",
      "Phase 6 -- Result Save...\n",
      "Phase 6 -- Done! Cost: 4.075s\n",
      "  Final -- Total Cost: 35.23s\n",
      "回波仿真完成！\n",
      "图像大小：256 x 256\n"
     ]
    },
    {
     "name": "stderr",
     "output_type": "stream",
     "text": [
      "/home/liq/pro/new_production_1118/sklearn/cluster/_kmeans.py:1416: FutureWarning: The default value of `n_init` will change from 10 to 'auto' in 1.4. Set the value of `n_init` explicitly to suppress the warning\n",
      "  super()._check_params_vs_input(X, default_n_init=10)\n"
     ]
    },
    {
     "name": "stdout",
     "output_type": "stream",
     "text": [
      "开始回波仿真...\n",
      "========================= EchoSimProcess =========================\n",
      "Phase 1 -- Params read and config...\n",
      "Phase 1 -- Done! Cost: 0.15s\n",
      "Phase 2 -- Sat Position Calculate...\n",
      "Phase 2 -- Done! Cost: 0s\n",
      "Phase 3 -- Flight Track and BeamDir History Simulate...\n",
      "Phase 3 -- Done! Cost: 0s\n",
      "Phase 4 -- Signal Generate...\n",
      "Phase 4 -- Done! Cost: 0.037s\n",
      "Phase 5 -- Echo Calculate...\n",
      "        -- CPU ThreadNum: 48\n",
      "Phase 5 -- Done! Cost: 30.956s\n",
      "Phase 6 -- Result Save...\n",
      "Phase 6 -- Done! Cost: 3.707s\n",
      "  Final -- Total Cost: 34.852s\n",
      "回波仿真完成！\n",
      "图像大小：256 x 256\n"
     ]
    },
    {
     "name": "stderr",
     "output_type": "stream",
     "text": [
      "/home/liq/pro/new_production_1118/sklearn/cluster/_kmeans.py:1416: FutureWarning: The default value of `n_init` will change from 10 to 'auto' in 1.4. Set the value of `n_init` explicitly to suppress the warning\n",
      "  super()._check_params_vs_input(X, default_n_init=10)\n"
     ]
    },
    {
     "name": "stdout",
     "output_type": "stream",
     "text": [
      "开始回波仿真...\n",
      "========================= EchoSimProcess =========================\n",
      "Phase 1 -- Params read and config...\n",
      "Phase 1 -- Done! Cost: 0.147s\n",
      "Phase 2 -- Sat Position Calculate...\n",
      "Phase 2 -- Done! Cost: 0s\n",
      "Phase 3 -- Flight Track and BeamDir History Simulate...\n",
      "Phase 3 -- Done! Cost: 0s\n",
      "Phase 4 -- Signal Generate...\n",
      "Phase 4 -- Done! Cost: 0.038s\n",
      "Phase 5 -- Echo Calculate...\n",
      "        -- CPU ThreadNum: 48\n",
      "Phase 5 -- Done! Cost: 31.193s\n",
      "Phase 6 -- Result Save...\n",
      "Phase 6 -- Done! Cost: 3.772s\n",
      "  Final -- Total Cost: 35.152s\n",
      "回波仿真完成！\n",
      "图像大小：256 x 256\n"
     ]
    },
    {
     "name": "stderr",
     "output_type": "stream",
     "text": [
      "/home/liq/pro/new_production_1118/sklearn/cluster/_kmeans.py:1416: FutureWarning: The default value of `n_init` will change from 10 to 'auto' in 1.4. Set the value of `n_init` explicitly to suppress the warning\n",
      "  super()._check_params_vs_input(X, default_n_init=10)\n"
     ]
    },
    {
     "name": "stdout",
     "output_type": "stream",
     "text": [
      "开始回波仿真...\n",
      "========================= EchoSimProcess =========================\n",
      "Phase 1 -- Params read and config...\n",
      "Phase 1 -- Done! Cost: 0.155s\n",
      "Phase 2 -- Sat Position Calculate...\n",
      "Phase 2 -- Done! Cost: 0s\n",
      "Phase 3 -- Flight Track and BeamDir History Simulate...\n",
      "Phase 3 -- Done! Cost: 0s\n",
      "Phase 4 -- Signal Generate...\n",
      "Phase 4 -- Done! Cost: 0.052s\n",
      "Phase 5 -- Echo Calculate...\n",
      "        -- CPU ThreadNum: 48\n",
      "Phase 5 -- Done! Cost: 30.704s\n",
      "Phase 6 -- Result Save...\n",
      "Phase 6 -- Done! Cost: 3.744s\n",
      "  Final -- Total Cost: 34.657s\n",
      "回波仿真完成！\n",
      "图像大小：256 x 256\n"
     ]
    },
    {
     "name": "stderr",
     "output_type": "stream",
     "text": [
      "/home/liq/pro/new_production_1118/sklearn/cluster/_kmeans.py:1416: FutureWarning: The default value of `n_init` will change from 10 to 'auto' in 1.4. Set the value of `n_init` explicitly to suppress the warning\n",
      "  super()._check_params_vs_input(X, default_n_init=10)\n"
     ]
    },
    {
     "name": "stdout",
     "output_type": "stream",
     "text": [
      "开始回波仿真...\n",
      "========================= EchoSimProcess =========================\n",
      "Phase 1 -- Params read and config...\n",
      "Phase 1 -- Done! Cost: 0.149s\n",
      "Phase 2 -- Sat Position Calculate...\n",
      "Phase 2 -- Done! Cost: 0s\n",
      "Phase 3 -- Flight Track and BeamDir History Simulate...\n",
      "Phase 3 -- Done! Cost: 0s\n",
      "Phase 4 -- Signal Generate...\n",
      "Phase 4 -- Done! Cost: 0.052s\n",
      "Phase 5 -- Echo Calculate...\n",
      "        -- CPU ThreadNum: 48\n",
      "Phase 5 -- Done! Cost: 31.728s\n",
      "Phase 6 -- Result Save...\n",
      "Phase 6 -- Done! Cost: 4.267s\n",
      "  Final -- Total Cost: 36.199s\n",
      "回波仿真完成！\n",
      "图像大小：256 x 256\n"
     ]
    },
    {
     "name": "stderr",
     "output_type": "stream",
     "text": [
      "/home/liq/pro/new_production_1118/sklearn/cluster/_kmeans.py:1416: FutureWarning: The default value of `n_init` will change from 10 to 'auto' in 1.4. Set the value of `n_init` explicitly to suppress the warning\n",
      "  super()._check_params_vs_input(X, default_n_init=10)\n"
     ]
    },
    {
     "name": "stdout",
     "output_type": "stream",
     "text": [
      "开始回波仿真...\n",
      "========================= EchoSimProcess =========================\n",
      "Phase 1 -- Params read and config...\n",
      "Phase 1 -- Done! Cost: 0.154s\n",
      "Phase 2 -- Sat Position Calculate...\n",
      "Phase 2 -- Done! Cost: 0s\n",
      "Phase 3 -- Flight Track and BeamDir History Simulate...\n",
      "Phase 3 -- Done! Cost: 0s\n",
      "Phase 4 -- Signal Generate...\n",
      "Phase 4 -- Done! Cost: 0.053s\n",
      "Phase 5 -- Echo Calculate...\n",
      "        -- CPU ThreadNum: 48\n",
      "Phase 5 -- Done! Cost: 31.604s\n",
      "Phase 6 -- Result Save...\n",
      "Phase 6 -- Done! Cost: 3.683s\n",
      "  Final -- Total Cost: 35.497s\n",
      "回波仿真完成！\n",
      "图像大小：256 x 256\n"
     ]
    },
    {
     "name": "stderr",
     "output_type": "stream",
     "text": [
      "/home/liq/pro/new_production_1118/sklearn/cluster/_kmeans.py:1416: FutureWarning: The default value of `n_init` will change from 10 to 'auto' in 1.4. Set the value of `n_init` explicitly to suppress the warning\n",
      "  super()._check_params_vs_input(X, default_n_init=10)\n"
     ]
    },
    {
     "name": "stdout",
     "output_type": "stream",
     "text": [
      "开始回波仿真...\n",
      "========================= EchoSimProcess =========================\n",
      "Phase 1 -- Params read and config...\n",
      "Phase 1 -- Done! Cost: 0.135s\n",
      "Phase 2 -- Sat Position Calculate...\n",
      "Phase 2 -- Done! Cost: 0s\n",
      "Phase 3 -- Flight Track and BeamDir History Simulate...\n",
      "Phase 3 -- Done! Cost: 0s\n",
      "Phase 4 -- Signal Generate...\n",
      "Phase 4 -- Done! Cost: 0.037s\n",
      "Phase 5 -- Echo Calculate...\n",
      "        -- CPU ThreadNum: 48\n",
      "Phase 5 -- Done! Cost: 31.607s\n",
      "Phase 6 -- Result Save...\n",
      "Phase 6 -- Done! Cost: 3.8s\n",
      "  Final -- Total Cost: 35.58s\n",
      "回波仿真完成！\n",
      "图像大小：256 x 256\n"
     ]
    },
    {
     "name": "stderr",
     "output_type": "stream",
     "text": [
      "/home/liq/pro/new_production_1118/sklearn/cluster/_kmeans.py:1416: FutureWarning: The default value of `n_init` will change from 10 to 'auto' in 1.4. Set the value of `n_init` explicitly to suppress the warning\n",
      "  super()._check_params_vs_input(X, default_n_init=10)\n"
     ]
    },
    {
     "name": "stdout",
     "output_type": "stream",
     "text": [
      "开始回波仿真...\n",
      "========================= EchoSimProcess =========================\n",
      "Phase 1 -- Params read and config...\n",
      "Phase 1 -- Done! Cost: 0.154s\n",
      "Phase 2 -- Sat Position Calculate...\n",
      "Phase 2 -- Done! Cost: 0s\n",
      "Phase 3 -- Flight Track and BeamDir History Simulate...\n",
      "Phase 3 -- Done! Cost: 0s\n",
      "Phase 4 -- Signal Generate...\n",
      "Phase 4 -- Done! Cost: 0.052s\n",
      "Phase 5 -- Echo Calculate...\n",
      "        -- CPU ThreadNum: 48\n",
      "Phase 5 -- Done! Cost: 30.436s\n",
      "Phase 6 -- Result Save...\n",
      "Phase 6 -- Done! Cost: 4.493s\n",
      "  Final -- Total Cost: 35.138s\n",
      "回波仿真完成！\n",
      "图像大小：256 x 256\n"
     ]
    },
    {
     "name": "stderr",
     "output_type": "stream",
     "text": [
      "/home/liq/pro/new_production_1118/sklearn/cluster/_kmeans.py:1416: FutureWarning: The default value of `n_init` will change from 10 to 'auto' in 1.4. Set the value of `n_init` explicitly to suppress the warning\n",
      "  super()._check_params_vs_input(X, default_n_init=10)\n"
     ]
    },
    {
     "name": "stdout",
     "output_type": "stream",
     "text": [
      "开始回波仿真...\n",
      "========================= EchoSimProcess =========================\n",
      "Phase 1 -- Params read and config...\n",
      "Phase 1 -- Done! Cost: 0.138s\n",
      "Phase 2 -- Sat Position Calculate...\n",
      "Phase 2 -- Done! Cost: 0s\n",
      "Phase 3 -- Flight Track and BeamDir History Simulate...\n",
      "Phase 3 -- Done! Cost: 0s\n",
      "Phase 4 -- Signal Generate...\n",
      "Phase 4 -- Done! Cost: 0.052s\n",
      "Phase 5 -- Echo Calculate...\n",
      "        -- CPU ThreadNum: 48\n",
      "Phase 5 -- Done! Cost: 31.34s\n",
      "Phase 6 -- Result Save...\n",
      "Phase 6 -- Done! Cost: 3.751s\n",
      "  Final -- Total Cost: 35.284s\n",
      "回波仿真完成！\n",
      "图像大小：256 x 256\n"
     ]
    },
    {
     "name": "stderr",
     "output_type": "stream",
     "text": [
      "/home/liq/pro/new_production_1118/sklearn/cluster/_kmeans.py:1416: FutureWarning: The default value of `n_init` will change from 10 to 'auto' in 1.4. Set the value of `n_init` explicitly to suppress the warning\n",
      "  super()._check_params_vs_input(X, default_n_init=10)\n"
     ]
    },
    {
     "name": "stdout",
     "output_type": "stream",
     "text": [
      "开始回波仿真...\n",
      "========================= EchoSimProcess =========================\n",
      "Phase 1 -- Params read and config...\n",
      "Phase 1 -- Done! Cost: 0.144s\n",
      "Phase 2 -- Sat Position Calculate...\n",
      "Phase 2 -- Done! Cost: 0s\n",
      "Phase 3 -- Flight Track and BeamDir History Simulate...\n",
      "Phase 3 -- Done! Cost: 0s\n",
      "Phase 4 -- Signal Generate...\n",
      "Phase 4 -- Done! Cost: 0.037s\n",
      "Phase 5 -- Echo Calculate...\n",
      "        -- CPU ThreadNum: 48\n",
      "Phase 5 -- Done! Cost: 31.155s\n",
      "Phase 6 -- Result Save...\n",
      "Phase 6 -- Done! Cost: 3.75s\n",
      "  Final -- Total Cost: 35.088s\n",
      "回波仿真完成！\n",
      "图像大小：256 x 256\n"
     ]
    },
    {
     "name": "stderr",
     "output_type": "stream",
     "text": [
      "/home/liq/pro/new_production_1118/sklearn/cluster/_kmeans.py:1416: FutureWarning: The default value of `n_init` will change from 10 to 'auto' in 1.4. Set the value of `n_init` explicitly to suppress the warning\n",
      "  super()._check_params_vs_input(X, default_n_init=10)\n"
     ]
    },
    {
     "name": "stdout",
     "output_type": "stream",
     "text": [
      "开始回波仿真...\n",
      "========================= EchoSimProcess =========================\n",
      "Phase 1 -- Params read and config...\n",
      "Phase 1 -- Done! Cost: 0.158s\n",
      "Phase 2 -- Sat Position Calculate...\n",
      "Phase 2 -- Done! Cost: 0s\n",
      "Phase 3 -- Flight Track and BeamDir History Simulate...\n",
      "Phase 3 -- Done! Cost: 0s\n",
      "Phase 4 -- Signal Generate...\n",
      "Phase 4 -- Done! Cost: 0.039s\n",
      "Phase 5 -- Echo Calculate...\n",
      "        -- CPU ThreadNum: 48\n",
      "Phase 5 -- Done! Cost: 31.167s\n",
      "Phase 6 -- Result Save...\n",
      "Phase 6 -- Done! Cost: 3.828s\n",
      "  Final -- Total Cost: 35.195s\n",
      "回波仿真完成！\n",
      "图像大小：256 x 256\n"
     ]
    },
    {
     "name": "stderr",
     "output_type": "stream",
     "text": [
      "/home/liq/pro/new_production_1118/sklearn/cluster/_kmeans.py:1416: FutureWarning: The default value of `n_init` will change from 10 to 'auto' in 1.4. Set the value of `n_init` explicitly to suppress the warning\n",
      "  super()._check_params_vs_input(X, default_n_init=10)\n"
     ]
    },
    {
     "name": "stdout",
     "output_type": "stream",
     "text": [
      "开始回波仿真...\n",
      "========================= EchoSimProcess =========================\n",
      "Phase 1 -- Params read and config...\n",
      "Phase 1 -- Done! Cost: 0.142s\n",
      "Phase 2 -- Sat Position Calculate...\n",
      "Phase 2 -- Done! Cost: 0s\n",
      "Phase 3 -- Flight Track and BeamDir History Simulate...\n",
      "Phase 3 -- Done! Cost: 0s\n",
      "Phase 4 -- Signal Generate...\n",
      "Phase 4 -- Done! Cost: 0.039s\n",
      "Phase 5 -- Echo Calculate...\n",
      "        -- CPU ThreadNum: 48\n",
      "Phase 5 -- Done! Cost: 27.24s\n",
      "Phase 6 -- Result Save...\n",
      "Phase 6 -- Done! Cost: 3.542s\n",
      "  Final -- Total Cost: 30.966s\n",
      "回波仿真完成！\n",
      "图像大小：256 x 256\n"
     ]
    },
    {
     "name": "stderr",
     "output_type": "stream",
     "text": [
      "/home/liq/pro/new_production_1118/sklearn/cluster/_kmeans.py:1416: FutureWarning: The default value of `n_init` will change from 10 to 'auto' in 1.4. Set the value of `n_init` explicitly to suppress the warning\n",
      "  super()._check_params_vs_input(X, default_n_init=10)\n"
     ]
    },
    {
     "name": "stdout",
     "output_type": "stream",
     "text": [
      "开始回波仿真...\n",
      "========================= EchoSimProcess =========================\n",
      "Phase 1 -- Params read and config...\n",
      "Phase 1 -- Done! Cost: 0.145s\n",
      "Phase 2 -- Sat Position Calculate...\n",
      "Phase 2 -- Done! Cost: 0s\n",
      "Phase 3 -- Flight Track and BeamDir History Simulate...\n",
      "Phase 3 -- Done! Cost: 0s\n",
      "Phase 4 -- Signal Generate...\n",
      "Phase 4 -- Done! Cost: 0.053s\n",
      "Phase 5 -- Echo Calculate...\n",
      "        -- CPU ThreadNum: 48\n",
      "Phase 5 -- Done! Cost: 27.474s\n",
      "Phase 6 -- Result Save...\n",
      "Phase 6 -- Done! Cost: 3.806s\n",
      "  Final -- Total Cost: 31.48s\n",
      "回波仿真完成！\n",
      "图像大小：256 x 256\n"
     ]
    },
    {
     "name": "stderr",
     "output_type": "stream",
     "text": [
      "/home/liq/pro/new_production_1118/sklearn/cluster/_kmeans.py:1416: FutureWarning: The default value of `n_init` will change from 10 to 'auto' in 1.4. Set the value of `n_init` explicitly to suppress the warning\n",
      "  super()._check_params_vs_input(X, default_n_init=10)\n"
     ]
    },
    {
     "name": "stdout",
     "output_type": "stream",
     "text": [
      "开始回波仿真...\n",
      "========================= EchoSimProcess =========================\n",
      "Phase 1 -- Params read and config...\n",
      "Phase 1 -- Done! Cost: 0.126s\n",
      "Phase 2 -- Sat Position Calculate...\n",
      "Phase 2 -- Done! Cost: 0s\n",
      "Phase 3 -- Flight Track and BeamDir History Simulate...\n",
      "Phase 3 -- Done! Cost: 0s\n",
      "Phase 4 -- Signal Generate...\n",
      "Phase 4 -- Done! Cost: 0.037s\n",
      "Phase 5 -- Echo Calculate...\n",
      "        -- CPU ThreadNum: 48\n",
      "Phase 5 -- Done! Cost: 28.034s\n",
      "Phase 6 -- Result Save...\n",
      "Phase 6 -- Done! Cost: 4.025s\n",
      "  Final -- Total Cost: 32.224s\n",
      "回波仿真完成！\n",
      "图像大小：256 x 256\n"
     ]
    },
    {
     "name": "stderr",
     "output_type": "stream",
     "text": [
      "/home/liq/pro/new_production_1118/sklearn/cluster/_kmeans.py:1416: FutureWarning: The default value of `n_init` will change from 10 to 'auto' in 1.4. Set the value of `n_init` explicitly to suppress the warning\n",
      "  super()._check_params_vs_input(X, default_n_init=10)\n"
     ]
    },
    {
     "name": "stdout",
     "output_type": "stream",
     "text": [
      "开始回波仿真...\n",
      "========================= EchoSimProcess =========================\n",
      "Phase 1 -- Params read and config...\n",
      "Phase 1 -- Done! Cost: 0.063s\n",
      "Phase 2 -- Sat Position Calculate...\n",
      "Phase 2 -- Done! Cost: 0s\n",
      "Phase 3 -- Flight Track and BeamDir History Simulate...\n",
      "Phase 3 -- Done! Cost: 0s\n",
      "Phase 4 -- Signal Generate...\n",
      "Phase 4 -- Done! Cost: 0.09s\n",
      "Phase 5 -- Echo Calculate...\n",
      "        -- CPU ThreadNum: 48\n",
      "Phase 5 -- Done! Cost: 27.676s\n",
      "Phase 6 -- Result Save...\n",
      "Phase 6 -- Done! Cost: 3.628s\n",
      "  Final -- Total Cost: 31.463s\n",
      "回波仿真完成！\n",
      "图像大小：256 x 256\n"
     ]
    },
    {
     "name": "stderr",
     "output_type": "stream",
     "text": [
      "/home/liq/pro/new_production_1118/sklearn/cluster/_kmeans.py:1416: FutureWarning: The default value of `n_init` will change from 10 to 'auto' in 1.4. Set the value of `n_init` explicitly to suppress the warning\n",
      "  super()._check_params_vs_input(X, default_n_init=10)\n"
     ]
    },
    {
     "name": "stdout",
     "output_type": "stream",
     "text": [
      "开始回波仿真...\n",
      "========================= EchoSimProcess =========================\n",
      "Phase 1 -- Params read and config...\n",
      "Phase 1 -- Done! Cost: 0.136s\n",
      "Phase 2 -- Sat Position Calculate...\n",
      "Phase 2 -- Done! Cost: 0s\n",
      "Phase 3 -- Flight Track and BeamDir History Simulate...\n",
      "Phase 3 -- Done! Cost: 0s\n",
      "Phase 4 -- Signal Generate...\n",
      "Phase 4 -- Done! Cost: 0.038s\n",
      "Phase 5 -- Echo Calculate...\n",
      "        -- CPU ThreadNum: 48\n",
      "Phase 5 -- Done! Cost: 27.37s\n",
      "Phase 6 -- Result Save...\n",
      "Phase 6 -- Done! Cost: 3.678s\n",
      "  Final -- Total Cost: 31.224s\n",
      "回波仿真完成！\n",
      "图像大小：256 x 256\n"
     ]
    },
    {
     "name": "stderr",
     "output_type": "stream",
     "text": [
      "/home/liq/pro/new_production_1118/sklearn/cluster/_kmeans.py:1416: FutureWarning: The default value of `n_init` will change from 10 to 'auto' in 1.4. Set the value of `n_init` explicitly to suppress the warning\n",
      "  super()._check_params_vs_input(X, default_n_init=10)\n"
     ]
    },
    {
     "name": "stdout",
     "output_type": "stream",
     "text": [
      "开始回波仿真...\n",
      "========================= EchoSimProcess =========================\n",
      "Phase 1 -- Params read and config...\n",
      "Phase 1 -- Done! Cost: 0.146s\n",
      "Phase 2 -- Sat Position Calculate...\n",
      "Phase 2 -- Done! Cost: 0s\n",
      "Phase 3 -- Flight Track and BeamDir History Simulate...\n",
      "Phase 3 -- Done! Cost: 0s\n",
      "Phase 4 -- Signal Generate...\n",
      "Phase 4 -- Done! Cost: 0.036s\n",
      "Phase 5 -- Echo Calculate...\n",
      "        -- CPU ThreadNum: 48\n",
      "Phase 5 -- Done! Cost: 27.931s\n",
      "Phase 6 -- Result Save...\n",
      "Phase 6 -- Done! Cost: 3.498s\n",
      "  Final -- Total Cost: 31.614s\n",
      "回波仿真完成！\n",
      "图像大小：256 x 256\n"
     ]
    },
    {
     "name": "stderr",
     "output_type": "stream",
     "text": [
      "/home/liq/pro/new_production_1118/sklearn/cluster/_kmeans.py:1416: FutureWarning: The default value of `n_init` will change from 10 to 'auto' in 1.4. Set the value of `n_init` explicitly to suppress the warning\n",
      "  super()._check_params_vs_input(X, default_n_init=10)\n"
     ]
    },
    {
     "name": "stdout",
     "output_type": "stream",
     "text": [
      "开始回波仿真...\n",
      "========================= EchoSimProcess =========================\n",
      "Phase 1 -- Params read and config...\n",
      "Phase 1 -- Done! Cost: 0.118s\n",
      "Phase 2 -- Sat Position Calculate...\n",
      "Phase 2 -- Done! Cost: 0s\n",
      "Phase 3 -- Flight Track and BeamDir History Simulate...\n",
      "Phase 3 -- Done! Cost: 0s\n",
      "Phase 4 -- Signal Generate...\n",
      "Phase 4 -- Done! Cost: 0.037s\n",
      "Phase 5 -- Echo Calculate...\n",
      "        -- CPU ThreadNum: 48\n",
      "Phase 5 -- Done! Cost: 27.981s\n",
      "Phase 6 -- Result Save...\n",
      "Phase 6 -- Done! Cost: 3.776s\n",
      "  Final -- Total Cost: 31.916s\n",
      "回波仿真完成！\n",
      "图像大小：256 x 256\n"
     ]
    },
    {
     "name": "stderr",
     "output_type": "stream",
     "text": [
      "/home/liq/pro/new_production_1118/sklearn/cluster/_kmeans.py:1416: FutureWarning: The default value of `n_init` will change from 10 to 'auto' in 1.4. Set the value of `n_init` explicitly to suppress the warning\n",
      "  super()._check_params_vs_input(X, default_n_init=10)\n"
     ]
    },
    {
     "name": "stdout",
     "output_type": "stream",
     "text": [
      "开始回波仿真...\n",
      "========================= EchoSimProcess =========================\n",
      "Phase 1 -- Params read and config...\n",
      "Phase 1 -- Done! Cost: 0.134s\n",
      "Phase 2 -- Sat Position Calculate...\n",
      "Phase 2 -- Done! Cost: 0s\n",
      "Phase 3 -- Flight Track and BeamDir History Simulate...\n",
      "Phase 3 -- Done! Cost: 0s\n",
      "Phase 4 -- Signal Generate...\n",
      "Phase 4 -- Done! Cost: 0.038s\n",
      "Phase 5 -- Echo Calculate...\n",
      "        -- CPU ThreadNum: 48\n",
      "Phase 5 -- Done! Cost: 27.512s\n",
      "Phase 6 -- Result Save...\n",
      "Phase 6 -- Done! Cost: 3.475s\n",
      "  Final -- Total Cost: 31.161s\n",
      "回波仿真完成！\n",
      "图像大小：256 x 256\n"
     ]
    },
    {
     "name": "stderr",
     "output_type": "stream",
     "text": [
      "/home/liq/pro/new_production_1118/sklearn/cluster/_kmeans.py:1416: FutureWarning: The default value of `n_init` will change from 10 to 'auto' in 1.4. Set the value of `n_init` explicitly to suppress the warning\n",
      "  super()._check_params_vs_input(X, default_n_init=10)\n"
     ]
    },
    {
     "name": "stdout",
     "output_type": "stream",
     "text": [
      "开始回波仿真...\n",
      "========================= EchoSimProcess =========================\n",
      "Phase 1 -- Params read and config...\n",
      "Phase 1 -- Done! Cost: 0.132s\n",
      "Phase 2 -- Sat Position Calculate...\n",
      "Phase 2 -- Done! Cost: 0s\n",
      "Phase 3 -- Flight Track and BeamDir History Simulate...\n",
      "Phase 3 -- Done! Cost: 0s\n",
      "Phase 4 -- Signal Generate...\n",
      "Phase 4 -- Done! Cost: 0.038s\n",
      "Phase 5 -- Echo Calculate...\n",
      "        -- CPU ThreadNum: 48\n",
      "Phase 5 -- Done! Cost: 27.573s\n",
      "Phase 6 -- Result Save...\n",
      "Phase 6 -- Done! Cost: 3.656s\n",
      "  Final -- Total Cost: 31.4s\n",
      "回波仿真完成！\n",
      "图像大小：256 x 256\n"
     ]
    },
    {
     "name": "stderr",
     "output_type": "stream",
     "text": [
      "/home/liq/pro/new_production_1118/sklearn/cluster/_kmeans.py:1416: FutureWarning: The default value of `n_init` will change from 10 to 'auto' in 1.4. Set the value of `n_init` explicitly to suppress the warning\n",
      "  super()._check_params_vs_input(X, default_n_init=10)\n"
     ]
    },
    {
     "name": "stdout",
     "output_type": "stream",
     "text": [
      "开始回波仿真...\n",
      "========================= EchoSimProcess =========================\n",
      "Phase 1 -- Params read and config...\n",
      "Phase 1 -- Done! Cost: 0.063s\n",
      "Phase 2 -- Sat Position Calculate...\n",
      "Phase 2 -- Done! Cost: 0s\n",
      "Phase 3 -- Flight Track and BeamDir History Simulate...\n",
      "Phase 3 -- Done! Cost: 0s\n",
      "Phase 4 -- Signal Generate...\n",
      "Phase 4 -- Done! Cost: 0.098s\n",
      "Phase 5 -- Echo Calculate...\n",
      "        -- CPU ThreadNum: 48\n",
      "Phase 5 -- Done! Cost: 27.957s\n",
      "Phase 6 -- Result Save...\n",
      "Phase 6 -- Done! Cost: 3.491s\n",
      "  Final -- Total Cost: 31.613s\n",
      "回波仿真完成！\n",
      "图像大小：256 x 256\n"
     ]
    },
    {
     "name": "stderr",
     "output_type": "stream",
     "text": [
      "/home/liq/pro/new_production_1118/sklearn/cluster/_kmeans.py:1416: FutureWarning: The default value of `n_init` will change from 10 to 'auto' in 1.4. Set the value of `n_init` explicitly to suppress the warning\n",
      "  super()._check_params_vs_input(X, default_n_init=10)\n"
     ]
    },
    {
     "name": "stdout",
     "output_type": "stream",
     "text": [
      "开始回波仿真...\n",
      "========================= EchoSimProcess =========================\n",
      "Phase 1 -- Params read and config...\n",
      "Phase 1 -- Done! Cost: 0.128s\n",
      "Phase 2 -- Sat Position Calculate...\n",
      "Phase 2 -- Done! Cost: 0s\n",
      "Phase 3 -- Flight Track and BeamDir History Simulate...\n",
      "Phase 3 -- Done! Cost: 0s\n",
      "Phase 4 -- Signal Generate...\n",
      "Phase 4 -- Done! Cost: 0.037s\n",
      "Phase 5 -- Echo Calculate...\n",
      "        -- CPU ThreadNum: 48\n",
      "Phase 5 -- Done! Cost: 27.81s\n",
      "Phase 6 -- Result Save...\n",
      "Phase 6 -- Done! Cost: 3.527s\n",
      "  Final -- Total Cost: 31.504s\n",
      "回波仿真完成！\n",
      "图像大小：256 x 256\n"
     ]
    },
    {
     "name": "stderr",
     "output_type": "stream",
     "text": [
      "/home/liq/pro/new_production_1118/sklearn/cluster/_kmeans.py:1416: FutureWarning: The default value of `n_init` will change from 10 to 'auto' in 1.4. Set the value of `n_init` explicitly to suppress the warning\n",
      "  super()._check_params_vs_input(X, default_n_init=10)\n"
     ]
    },
    {
     "name": "stdout",
     "output_type": "stream",
     "text": [
      "开始回波仿真...\n",
      "========================= EchoSimProcess =========================\n",
      "Phase 1 -- Params read and config...\n",
      "Phase 1 -- Done! Cost: 0.138s\n",
      "Phase 2 -- Sat Position Calculate...\n",
      "Phase 2 -- Done! Cost: 0s\n",
      "Phase 3 -- Flight Track and BeamDir History Simulate...\n",
      "Phase 3 -- Done! Cost: 0s\n",
      "Phase 4 -- Signal Generate...\n",
      "Phase 4 -- Done! Cost: 0.042s\n",
      "Phase 5 -- Echo Calculate...\n",
      "        -- CPU ThreadNum: 48\n",
      "Phase 5 -- Done! Cost: 27.47s\n",
      "Phase 6 -- Result Save...\n",
      "Phase 6 -- Done! Cost: 3.545s\n",
      "  Final -- Total Cost: 31.197s\n",
      "回波仿真完成！\n",
      "图像大小：256 x 256\n"
     ]
    },
    {
     "name": "stderr",
     "output_type": "stream",
     "text": [
      "/home/liq/pro/new_production_1118/sklearn/cluster/_kmeans.py:1416: FutureWarning: The default value of `n_init` will change from 10 to 'auto' in 1.4. Set the value of `n_init` explicitly to suppress the warning\n",
      "  super()._check_params_vs_input(X, default_n_init=10)\n"
     ]
    },
    {
     "name": "stdout",
     "output_type": "stream",
     "text": [
      "开始回波仿真...\n",
      "========================= EchoSimProcess =========================\n",
      "Phase 1 -- Params read and config...\n",
      "Phase 1 -- Done! Cost: 0.139s\n",
      "Phase 2 -- Sat Position Calculate...\n",
      "Phase 2 -- Done! Cost: 0s\n",
      "Phase 3 -- Flight Track and BeamDir History Simulate...\n",
      "Phase 3 -- Done! Cost: 0s\n",
      "Phase 4 -- Signal Generate...\n",
      "Phase 4 -- Done! Cost: 0.037s\n",
      "Phase 5 -- Echo Calculate...\n",
      "        -- CPU ThreadNum: 48\n",
      "Phase 5 -- Done! Cost: 27.692s\n",
      "Phase 6 -- Result Save...\n",
      "Phase 6 -- Done! Cost: 3.325s\n",
      "  Final -- Total Cost: 31.195s\n",
      "回波仿真完成！\n",
      "图像大小：256 x 256\n"
     ]
    },
    {
     "name": "stderr",
     "output_type": "stream",
     "text": [
      "/home/liq/pro/new_production_1118/sklearn/cluster/_kmeans.py:1416: FutureWarning: The default value of `n_init` will change from 10 to 'auto' in 1.4. Set the value of `n_init` explicitly to suppress the warning\n",
      "  super()._check_params_vs_input(X, default_n_init=10)\n"
     ]
    },
    {
     "name": "stdout",
     "output_type": "stream",
     "text": [
      "开始回波仿真...\n",
      "========================= EchoSimProcess =========================\n",
      "Phase 1 -- Params read and config...\n",
      "Phase 1 -- Done! Cost: 0.063s\n",
      "Phase 2 -- Sat Position Calculate...\n",
      "Phase 2 -- Done! Cost: 0s\n",
      "Phase 3 -- Flight Track and BeamDir History Simulate...\n",
      "Phase 3 -- Done! Cost: 0s\n",
      "Phase 4 -- Signal Generate...\n",
      "Phase 4 -- Done! Cost: 0.085s\n",
      "Phase 5 -- Echo Calculate...\n",
      "        -- CPU ThreadNum: 48\n",
      "Phase 5 -- Done! Cost: 27.672s\n",
      "Phase 6 -- Result Save...\n",
      "Phase 6 -- Done! Cost: 3.268s\n",
      "  Final -- Total Cost: 31.091s\n",
      "回波仿真完成！\n",
      "图像大小：256 x 256\n"
     ]
    },
    {
     "name": "stderr",
     "output_type": "stream",
     "text": [
      "/home/liq/pro/new_production_1118/sklearn/cluster/_kmeans.py:1416: FutureWarning: The default value of `n_init` will change from 10 to 'auto' in 1.4. Set the value of `n_init` explicitly to suppress the warning\n",
      "  super()._check_params_vs_input(X, default_n_init=10)\n"
     ]
    },
    {
     "name": "stdout",
     "output_type": "stream",
     "text": [
      "开始回波仿真...\n",
      "========================= EchoSimProcess =========================\n",
      "Phase 1 -- Params read and config...\n",
      "Phase 1 -- Done! Cost: 0.137s\n",
      "Phase 2 -- Sat Position Calculate...\n",
      "Phase 2 -- Done! Cost: 0s\n",
      "Phase 3 -- Flight Track and BeamDir History Simulate...\n",
      "Phase 3 -- Done! Cost: 0s\n",
      "Phase 4 -- Signal Generate...\n",
      "Phase 4 -- Done! Cost: 0.044s\n",
      "Phase 5 -- Echo Calculate...\n",
      "        -- CPU ThreadNum: 48\n",
      "Phase 5 -- Done! Cost: 30.333s\n",
      "Phase 6 -- Result Save...\n",
      "Phase 6 -- Done! Cost: 3.471s\n",
      "  Final -- Total Cost: 33.988s\n",
      "回波仿真完成！\n",
      "图像大小：256 x 256\n"
     ]
    },
    {
     "name": "stderr",
     "output_type": "stream",
     "text": [
      "/home/liq/pro/new_production_1118/sklearn/cluster/_kmeans.py:1416: FutureWarning: The default value of `n_init` will change from 10 to 'auto' in 1.4. Set the value of `n_init` explicitly to suppress the warning\n",
      "  super()._check_params_vs_input(X, default_n_init=10)\n"
     ]
    },
    {
     "name": "stdout",
     "output_type": "stream",
     "text": [
      "开始回波仿真...\n",
      "========================= EchoSimProcess =========================\n",
      "Phase 1 -- Params read and config...\n",
      "Phase 1 -- Done! Cost: 0.171s\n",
      "Phase 2 -- Sat Position Calculate...\n",
      "Phase 2 -- Done! Cost: 0s\n",
      "Phase 3 -- Flight Track and BeamDir History Simulate...\n",
      "Phase 3 -- Done! Cost: 0s\n",
      "Phase 4 -- Signal Generate...\n",
      "Phase 4 -- Done! Cost: 0.106s\n",
      "Phase 5 -- Echo Calculate...\n",
      "        -- CPU ThreadNum: 48\n",
      "Phase 5 -- Done! Cost: 33.295s\n",
      "Phase 6 -- Result Save...\n",
      "Phase 6 -- Done! Cost: 4.547s\n",
      "  Final -- Total Cost: 38.124s\n",
      "回波仿真完成！\n",
      "图像大小：256 x 256\n"
     ]
    },
    {
     "name": "stderr",
     "output_type": "stream",
     "text": [
      "/home/liq/pro/new_production_1118/sklearn/cluster/_kmeans.py:1416: FutureWarning: The default value of `n_init` will change from 10 to 'auto' in 1.4. Set the value of `n_init` explicitly to suppress the warning\n",
      "  super()._check_params_vs_input(X, default_n_init=10)\n"
     ]
    },
    {
     "name": "stdout",
     "output_type": "stream",
     "text": [
      "开始回波仿真...\n",
      "========================= EchoSimProcess =========================\n",
      "Phase 1 -- Params read and config...\n",
      "Phase 1 -- Done! Cost: 0.109s\n",
      "Phase 2 -- Sat Position Calculate...\n",
      "Phase 2 -- Done! Cost: 0s\n",
      "Phase 3 -- Flight Track and BeamDir History Simulate...\n",
      "Phase 3 -- Done! Cost: 0s\n",
      "Phase 4 -- Signal Generate...\n",
      "Phase 4 -- Done! Cost: 0.033s\n",
      "Phase 5 -- Echo Calculate...\n",
      "        -- CPU ThreadNum: 48\n",
      "Phase 5 -- Done! Cost: 35.713s\n",
      "Phase 6 -- Result Save...\n",
      "Phase 6 -- Done! Cost: 5.088s\n",
      "  Final -- Total Cost: 40.947s\n",
      "回波仿真完成！\n",
      "图像大小：256 x 256\n"
     ]
    },
    {
     "name": "stderr",
     "output_type": "stream",
     "text": [
      "/home/liq/pro/new_production_1118/sklearn/cluster/_kmeans.py:1416: FutureWarning: The default value of `n_init` will change from 10 to 'auto' in 1.4. Set the value of `n_init` explicitly to suppress the warning\n",
      "  super()._check_params_vs_input(X, default_n_init=10)\n"
     ]
    },
    {
     "name": "stdout",
     "output_type": "stream",
     "text": [
      "开始回波仿真...\n",
      "========================= EchoSimProcess =========================\n",
      "Phase 1 -- Params read and config...\n",
      "Phase 1 -- Done! Cost: 0.132s\n",
      "Phase 2 -- Sat Position Calculate...\n",
      "Phase 2 -- Done! Cost: 0s\n",
      "Phase 3 -- Flight Track and BeamDir History Simulate...\n",
      "Phase 3 -- Done! Cost: 0s\n",
      "Phase 4 -- Signal Generate...\n",
      "Phase 4 -- Done! Cost: 0.041s\n",
      "Phase 5 -- Echo Calculate...\n",
      "        -- CPU ThreadNum: 48\n",
      "Phase 5 -- Done! Cost: 35.598s\n",
      "Phase 6 -- Result Save...\n",
      "Phase 6 -- Done! Cost: 4.039s\n",
      "  Final -- Total Cost: 39.814s\n",
      "回波仿真完成！\n",
      "图像大小：256 x 256\n"
     ]
    },
    {
     "name": "stderr",
     "output_type": "stream",
     "text": [
      "/home/liq/pro/new_production_1118/sklearn/cluster/_kmeans.py:1416: FutureWarning: The default value of `n_init` will change from 10 to 'auto' in 1.4. Set the value of `n_init` explicitly to suppress the warning\n",
      "  super()._check_params_vs_input(X, default_n_init=10)\n"
     ]
    },
    {
     "name": "stdout",
     "output_type": "stream",
     "text": [
      "开始回波仿真...\n",
      "========================= EchoSimProcess =========================\n",
      "Phase 1 -- Params read and config...\n",
      "Phase 1 -- Done! Cost: 0.107s\n",
      "Phase 2 -- Sat Position Calculate...\n",
      "Phase 2 -- Done! Cost: 0s\n",
      "Phase 3 -- Flight Track and BeamDir History Simulate...\n",
      "Phase 3 -- Done! Cost: 0s\n",
      "Phase 4 -- Signal Generate...\n",
      "Phase 4 -- Done! Cost: 0.04s\n",
      "Phase 5 -- Echo Calculate...\n",
      "        -- CPU ThreadNum: 48\n",
      "Phase 5 -- Done! Cost: 30.121s\n",
      "Phase 6 -- Result Save...\n",
      "Phase 6 -- Done! Cost: 3.834s\n",
      "  Final -- Total Cost: 34.107s\n",
      "回波仿真完成！\n",
      "图像大小：256 x 256\n"
     ]
    },
    {
     "name": "stderr",
     "output_type": "stream",
     "text": [
      "/home/liq/pro/new_production_1118/sklearn/cluster/_kmeans.py:1416: FutureWarning: The default value of `n_init` will change from 10 to 'auto' in 1.4. Set the value of `n_init` explicitly to suppress the warning\n",
      "  super()._check_params_vs_input(X, default_n_init=10)\n"
     ]
    },
    {
     "name": "stdout",
     "output_type": "stream",
     "text": [
      "开始回波仿真...\n",
      "========================= EchoSimProcess =========================\n",
      "Phase 1 -- Params read and config...\n",
      "Phase 1 -- Done! Cost: 0.119s\n",
      "Phase 2 -- Sat Position Calculate...\n",
      "Phase 2 -- Done! Cost: 0s\n",
      "Phase 3 -- Flight Track and BeamDir History Simulate...\n",
      "Phase 3 -- Done! Cost: 0s\n",
      "Phase 4 -- Signal Generate...\n",
      "Phase 4 -- Done! Cost: 0.051s\n",
      "Phase 5 -- Echo Calculate...\n",
      "        -- CPU ThreadNum: 48\n",
      "Phase 5 -- Done! Cost: 25.449s\n",
      "Phase 6 -- Result Save...\n",
      "Phase 6 -- Done! Cost: 5.556s\n",
      "  Final -- Total Cost: 31.178s\n",
      "回波仿真完成！\n",
      "图像大小：256 x 256\n"
     ]
    },
    {
     "name": "stderr",
     "output_type": "stream",
     "text": [
      "/home/liq/pro/new_production_1118/sklearn/cluster/_kmeans.py:1416: FutureWarning: The default value of `n_init` will change from 10 to 'auto' in 1.4. Set the value of `n_init` explicitly to suppress the warning\n",
      "  super()._check_params_vs_input(X, default_n_init=10)\n"
     ]
    },
    {
     "name": "stdout",
     "output_type": "stream",
     "text": [
      "开始回波仿真...\n",
      "========================= EchoSimProcess =========================\n",
      "Phase 1 -- Params read and config...\n",
      "Phase 1 -- Done! Cost: 0.115s\n",
      "Phase 2 -- Sat Position Calculate...\n",
      "Phase 2 -- Done! Cost: 0s\n",
      "Phase 3 -- Flight Track and BeamDir History Simulate...\n",
      "Phase 3 -- Done! Cost: 0s\n",
      "Phase 4 -- Signal Generate...\n",
      "Phase 4 -- Done! Cost: 0.036s\n",
      "Phase 5 -- Echo Calculate...\n",
      "        -- CPU ThreadNum: 48\n",
      "Phase 5 -- Done! Cost: 35.126s\n",
      "Phase 6 -- Result Save...\n",
      "Phase 6 -- Done! Cost: 3.913s\n",
      "  Final -- Total Cost: 39.194s\n",
      "回波仿真完成！\n",
      "图像大小：256 x 256\n"
     ]
    },
    {
     "name": "stderr",
     "output_type": "stream",
     "text": [
      "/home/liq/pro/new_production_1118/sklearn/cluster/_kmeans.py:1416: FutureWarning: The default value of `n_init` will change from 10 to 'auto' in 1.4. Set the value of `n_init` explicitly to suppress the warning\n",
      "  super()._check_params_vs_input(X, default_n_init=10)\n"
     ]
    },
    {
     "name": "stdout",
     "output_type": "stream",
     "text": [
      "开始回波仿真...\n",
      "========================= EchoSimProcess =========================\n",
      "Phase 1 -- Params read and config...\n",
      "Phase 1 -- Done! Cost: 0.206s\n",
      "Phase 2 -- Sat Position Calculate...\n",
      "Phase 2 -- Done! Cost: 0s\n",
      "Phase 3 -- Flight Track and BeamDir History Simulate...\n",
      "Phase 3 -- Done! Cost: 0s\n",
      "Phase 4 -- Signal Generate...\n",
      "Phase 4 -- Done! Cost: 0.176s\n",
      "Phase 5 -- Echo Calculate...\n",
      "        -- CPU ThreadNum: 48\n",
      "Phase 5 -- Done! Cost: 32.548s\n",
      "Phase 6 -- Result Save...\n",
      "Phase 6 -- Done! Cost: 3.84s\n",
      "  Final -- Total Cost: 36.78s\n",
      "回波仿真完成！\n",
      "图像大小：256 x 256\n"
     ]
    },
    {
     "name": "stderr",
     "output_type": "stream",
     "text": [
      "/home/liq/pro/new_production_1118/sklearn/cluster/_kmeans.py:1416: FutureWarning: The default value of `n_init` will change from 10 to 'auto' in 1.4. Set the value of `n_init` explicitly to suppress the warning\n",
      "  super()._check_params_vs_input(X, default_n_init=10)\n"
     ]
    },
    {
     "name": "stdout",
     "output_type": "stream",
     "text": [
      "开始回波仿真...\n",
      "========================= EchoSimProcess =========================\n",
      "Phase 1 -- Params read and config...\n",
      "Phase 1 -- Done! Cost: 0.054s\n",
      "Phase 2 -- Sat Position Calculate...\n",
      "Phase 2 -- Done! Cost: 0s\n",
      "Phase 3 -- Flight Track and BeamDir History Simulate...\n",
      "Phase 3 -- Done! Cost: 0s\n",
      "Phase 4 -- Signal Generate...\n",
      "Phase 4 -- Done! Cost: 0.104s\n",
      "Phase 5 -- Echo Calculate...\n",
      "        -- CPU ThreadNum: 48\n",
      "Phase 5 -- Done! Cost: 34.811s\n",
      "Phase 6 -- Result Save...\n",
      "Phase 6 -- Done! Cost: 3.23s\n",
      "  Final -- Total Cost: 38.205s\n",
      "回波仿真完成！\n",
      "图像大小：256 x 256\n"
     ]
    },
    {
     "name": "stderr",
     "output_type": "stream",
     "text": [
      "/home/liq/pro/new_production_1118/sklearn/cluster/_kmeans.py:1416: FutureWarning: The default value of `n_init` will change from 10 to 'auto' in 1.4. Set the value of `n_init` explicitly to suppress the warning\n",
      "  super()._check_params_vs_input(X, default_n_init=10)\n"
     ]
    },
    {
     "name": "stdout",
     "output_type": "stream",
     "text": [
      "开始回波仿真...\n",
      "========================= EchoSimProcess =========================\n",
      "Phase 1 -- Params read and config...\n",
      "Phase 1 -- Done! Cost: 0.149s\n",
      "Phase 2 -- Sat Position Calculate...\n",
      "Phase 2 -- Done! Cost: 0s\n",
      "Phase 3 -- Flight Track and BeamDir History Simulate...\n",
      "Phase 3 -- Done! Cost: 0s\n",
      "Phase 4 -- Signal Generate...\n",
      "Phase 4 -- Done! Cost: 0.095s\n",
      "Phase 5 -- Echo Calculate...\n",
      "        -- CPU ThreadNum: 48\n",
      "Phase 5 -- Done! Cost: 33.178s\n",
      "Phase 6 -- Result Save...\n",
      "Phase 6 -- Done! Cost: 3.904s\n",
      "  Final -- Total Cost: 37.328s\n",
      "回波仿真完成！\n",
      "图像大小：256 x 256\n"
     ]
    },
    {
     "name": "stderr",
     "output_type": "stream",
     "text": [
      "/home/liq/pro/new_production_1118/sklearn/cluster/_kmeans.py:1416: FutureWarning: The default value of `n_init` will change from 10 to 'auto' in 1.4. Set the value of `n_init` explicitly to suppress the warning\n",
      "  super()._check_params_vs_input(X, default_n_init=10)\n"
     ]
    },
    {
     "name": "stdout",
     "output_type": "stream",
     "text": [
      "开始回波仿真...\n",
      "========================= EchoSimProcess =========================\n",
      "Phase 1 -- Params read and config...\n",
      "Phase 1 -- Done! Cost: 0.125s\n",
      "Phase 2 -- Sat Position Calculate...\n",
      "Phase 2 -- Done! Cost: 0s\n",
      "Phase 3 -- Flight Track and BeamDir History Simulate...\n",
      "Phase 3 -- Done! Cost: 0s\n",
      "Phase 4 -- Signal Generate...\n",
      "Phase 4 -- Done! Cost: 0.032s\n",
      "Phase 5 -- Echo Calculate...\n",
      "        -- CPU ThreadNum: 48\n",
      "Phase 5 -- Done! Cost: 34.715s\n",
      "Phase 6 -- Result Save...\n",
      "Phase 6 -- Done! Cost: 3.29s\n",
      "  Final -- Total Cost: 38.164s\n",
      "回波仿真完成！\n",
      "图像大小：256 x 256\n"
     ]
    },
    {
     "name": "stderr",
     "output_type": "stream",
     "text": [
      "/home/liq/pro/new_production_1118/sklearn/cluster/_kmeans.py:1416: FutureWarning: The default value of `n_init` will change from 10 to 'auto' in 1.4. Set the value of `n_init` explicitly to suppress the warning\n",
      "  super()._check_params_vs_input(X, default_n_init=10)\n"
     ]
    },
    {
     "name": "stdout",
     "output_type": "stream",
     "text": [
      "开始回波仿真...\n",
      "========================= EchoSimProcess =========================\n",
      "Phase 1 -- Params read and config...\n",
      "Phase 1 -- Done! Cost: 0.162s\n",
      "Phase 2 -- Sat Position Calculate...\n",
      "Phase 2 -- Done! Cost: 0s\n",
      "Phase 3 -- Flight Track and BeamDir History Simulate...\n",
      "Phase 3 -- Done! Cost: 0s\n",
      "Phase 4 -- Signal Generate...\n",
      "Phase 4 -- Done! Cost: 0.134s\n",
      "Phase 5 -- Echo Calculate...\n",
      "        -- CPU ThreadNum: 48\n",
      "Phase 5 -- Done! Cost: 30.242s\n",
      "Phase 6 -- Result Save...\n",
      "Phase 6 -- Done! Cost: 3.592s\n",
      "  Final -- Total Cost: 34.138s\n",
      "回波仿真完成！\n",
      "图像大小：256 x 256\n"
     ]
    },
    {
     "name": "stderr",
     "output_type": "stream",
     "text": [
      "/home/liq/pro/new_production_1118/sklearn/cluster/_kmeans.py:1416: FutureWarning: The default value of `n_init` will change from 10 to 'auto' in 1.4. Set the value of `n_init` explicitly to suppress the warning\n",
      "  super()._check_params_vs_input(X, default_n_init=10)\n"
     ]
    },
    {
     "name": "stdout",
     "output_type": "stream",
     "text": [
      "开始回波仿真...\n",
      "========================= EchoSimProcess =========================\n",
      "Phase 1 -- Params read and config...\n",
      "Phase 1 -- Done! Cost: 0.104s\n",
      "Phase 2 -- Sat Position Calculate...\n",
      "Phase 2 -- Done! Cost: 0s\n",
      "Phase 3 -- Flight Track and BeamDir History Simulate...\n",
      "Phase 3 -- Done! Cost: 0s\n",
      "Phase 4 -- Signal Generate...\n",
      "Phase 4 -- Done! Cost: 0.03s\n",
      "Phase 5 -- Echo Calculate...\n",
      "        -- CPU ThreadNum: 48\n",
      "Phase 5 -- Done! Cost: 32.654s\n",
      "Phase 6 -- Result Save...\n",
      "Phase 6 -- Done! Cost: 3.95s\n",
      "  Final -- Total Cost: 36.753s\n",
      "回波仿真完成！\n",
      "图像大小：256 x 256\n"
     ]
    },
    {
     "name": "stderr",
     "output_type": "stream",
     "text": [
      "/home/liq/pro/new_production_1118/sklearn/cluster/_kmeans.py:1416: FutureWarning: The default value of `n_init` will change from 10 to 'auto' in 1.4. Set the value of `n_init` explicitly to suppress the warning\n",
      "  super()._check_params_vs_input(X, default_n_init=10)\n"
     ]
    },
    {
     "name": "stdout",
     "output_type": "stream",
     "text": [
      "开始回波仿真...\n",
      "========================= EchoSimProcess =========================\n",
      "Phase 1 -- Params read and config...\n",
      "Phase 1 -- Done! Cost: 0.164s\n",
      "Phase 2 -- Sat Position Calculate...\n",
      "Phase 2 -- Done! Cost: 0s\n",
      "Phase 3 -- Flight Track and BeamDir History Simulate...\n",
      "Phase 3 -- Done! Cost: 0s\n",
      "Phase 4 -- Signal Generate...\n",
      "Phase 4 -- Done! Cost: 0.144s\n",
      "Phase 5 -- Echo Calculate...\n",
      "        -- CPU ThreadNum: 48\n",
      "Phase 5 -- Done! Cost: 31.203s\n",
      "Phase 6 -- Result Save...\n",
      "Phase 6 -- Done! Cost: 4.676s\n",
      "  Final -- Total Cost: 36.201s\n",
      "回波仿真完成！\n",
      "图像大小：256 x 256\n"
     ]
    },
    {
     "name": "stderr",
     "output_type": "stream",
     "text": [
      "/home/liq/pro/new_production_1118/sklearn/cluster/_kmeans.py:1416: FutureWarning: The default value of `n_init` will change from 10 to 'auto' in 1.4. Set the value of `n_init` explicitly to suppress the warning\n",
      "  super()._check_params_vs_input(X, default_n_init=10)\n"
     ]
    },
    {
     "name": "stdout",
     "output_type": "stream",
     "text": [
      "开始回波仿真...\n",
      "========================= EchoSimProcess =========================\n",
      "Phase 1 -- Params read and config...\n",
      "Phase 1 -- Done! Cost: 0.082s\n",
      "Phase 2 -- Sat Position Calculate...\n",
      "Phase 2 -- Done! Cost: 0s\n",
      "Phase 3 -- Flight Track and BeamDir History Simulate...\n",
      "Phase 3 -- Done! Cost: 0s\n",
      "Phase 4 -- Signal Generate...\n",
      "Phase 4 -- Done! Cost: 0.074s\n",
      "Phase 5 -- Echo Calculate...\n",
      "        -- CPU ThreadNum: 48\n",
      "Phase 5 -- Done! Cost: 34.192s\n",
      "Phase 6 -- Result Save...\n",
      "Phase 6 -- Done! Cost: 3.685s\n",
      "  Final -- Total Cost: 38.046s\n",
      "回波仿真完成！\n",
      "图像大小：256 x 256\n"
     ]
    },
    {
     "name": "stderr",
     "output_type": "stream",
     "text": [
      "/home/liq/pro/new_production_1118/sklearn/cluster/_kmeans.py:1416: FutureWarning: The default value of `n_init` will change from 10 to 'auto' in 1.4. Set the value of `n_init` explicitly to suppress the warning\n",
      "  super()._check_params_vs_input(X, default_n_init=10)\n"
     ]
    },
    {
     "ename": "KeyboardInterrupt",
     "evalue": "",
     "output_type": "error",
     "traceback": [
      "\u001b[0;31m---------------------------------------------------------------------------\u001b[0m",
      "\u001b[0;31mKeyboardInterrupt\u001b[0m                         Traceback (most recent call last)",
      "Cell \u001b[0;32mIn[1], line 99\u001b[0m\n\u001b[1;32m     97\u001b[0m             current_save_folder \u001b[39m=\u001b[39m save_folder \u001b[39m+\u001b[39m model_Type[i] \u001b[39m+\u001b[39m \u001b[39m'\u001b[39m\u001b[39m/\u001b[39m\u001b[39m'\u001b[39m \u001b[39m+\u001b[39m model_Name[i] \u001b[39m+\u001b[39m \u001b[39m'\u001b[39m\u001b[39m/\u001b[39m\u001b[39m'\u001b[39m \u001b[39m+\u001b[39m polarization \u001b[39m+\u001b[39m \u001b[39m'\u001b[39m\u001b[39m/\u001b[39m\u001b[39m'\u001b[39m \u001b[39m+\u001b[39m wave_band \u001b[39m+\u001b[39m \u001b[39m'\u001b[39m\u001b[39m/\u001b[39m\u001b[39m'\u001b[39m \u001b[39m+\u001b[39m \u001b[39mstr\u001b[39m(Rho) \u001b[39m+\u001b[39m \u001b[39m'\u001b[39m\u001b[39m_\u001b[39m\u001b[39m'\u001b[39m \u001b[39m+\u001b[39m \u001b[39mstr\u001b[39m(Rho) \u001b[39m+\u001b[39m \u001b[39m'\u001b[39m\u001b[39m/\u001b[39m\u001b[39m'\u001b[39m\n\u001b[1;32m     98\u001b[0m             current_mid_folder \u001b[39m=\u001b[39m mid_folder \u001b[39m+\u001b[39m model_Type[i] \u001b[39m+\u001b[39m \u001b[39m'\u001b[39m\u001b[39m/\u001b[39m\u001b[39m'\u001b[39m \u001b[39m+\u001b[39m model_Name[i] \u001b[39m+\u001b[39m \u001b[39m'\u001b[39m\u001b[39m/\u001b[39m\u001b[39m'\u001b[39m \u001b[39m+\u001b[39m polarization \u001b[39m+\u001b[39m \u001b[39m'\u001b[39m\u001b[39m/\u001b[39m\u001b[39m'\u001b[39m \u001b[39m+\u001b[39m wave_band \u001b[39m+\u001b[39m \u001b[39m'\u001b[39m\u001b[39m/\u001b[39m\u001b[39m'\u001b[39m \u001b[39m+\u001b[39m \u001b[39mstr\u001b[39m(Rho) \u001b[39m+\u001b[39m \u001b[39m'\u001b[39m\u001b[39m_\u001b[39m\u001b[39m'\u001b[39m \u001b[39m+\u001b[39m \u001b[39mstr\u001b[39m(Rho)\n\u001b[0;32m---> 99\u001b[0m             mkdataset(model_Name[i], model_info_folder, model_xml_file, current_save_folder, current_mid_folder, distributionx, distributiony, RayH, RayW, model_Type[i], x_cut, y_cut, scanMode, Rho, beta_range, beta_azimuth, wave_band, polarization, squiAng)\n\u001b[1;32m    100\u001b[0m             \u001b[39m# T3 = time.time()\u001b[39;00m\n\u001b[1;32m    101\u001b[0m             \u001b[39m# with open(time_record,'a+',encoding='utf-8') as f:\u001b[39;00m\n\u001b[1;32m    102\u001b[0m             \u001b[39m#     f.write('%s极化，%s波段，分辨率%s，生产时间：%dh %dm %ds\\n' % (polarization, wave_band, str(Rho), int(int(T3-T2)/3600), int((int(T3-T2)%3600)/60), int((int(T3-T2)%3600)%60)))\u001b[39;00m\n\u001b[0;32m   (...)\u001b[0m\n\u001b[1;32m    106\u001b[0m \u001b[39m#     f.write('%s生产时间：%dh %dm %ds\\n' % (model_Name[i], int(int(T1-T0)/3600), int((int(T1-T0)%3600)/60), int((int(T1-T0)%3600)%60)))\u001b[39;00m\n\u001b[1;32m    107\u001b[0m \u001b[39m# f.close()\u001b[39;00m\n",
      "File \u001b[0;32m~/pro/new_production_1118/mkdataset_for_all_file.py:267\u001b[0m, in \u001b[0;36mmkdataset\u001b[0;34m(model_name, model_info_folder, model_xml_file, current_save_folder, current_mid_folder, distributionx, distributiony, RayH, RayW, target_type, x_cut, y_cut, scanMode, Rho, beta_range, beta_azimuth, wave_band, polarization, squiAng)\u001b[0m\n\u001b[1;32m    263\u001b[0m \u001b[39m# 后续再储存\u001b[39;00m\n\u001b[1;32m    264\u001b[0m \n\u001b[1;32m    265\u001b[0m \u001b[39m# 步骤2：对pov文件进行电磁建模\u001b[39;00m\n\u001b[1;32m    266\u001b[0m runCommand \u001b[39m=\u001b[39m \u001b[39m'\u001b[39m\u001b[39mpovray \u001b[39m\u001b[39m'\u001b[39m\u001b[39m+\u001b[39m savefilename \u001b[39m+\u001b[39m\u001b[39m'\u001b[39m\u001b[39m -D +W\u001b[39m\u001b[39m'\u001b[39m\u001b[39m+\u001b[39m\u001b[39mstr\u001b[39m(\u001b[39mint\u001b[39m(\u001b[39m1.2\u001b[39m\u001b[39m*\u001b[39mRayW))\u001b[39m+\u001b[39m\u001b[39m'\u001b[39m\u001b[39m +H\u001b[39m\u001b[39m'\u001b[39m\u001b[39m+\u001b[39m\u001b[39mstr\u001b[39m(\u001b[39mint\u001b[39m(\u001b[39m1.2\u001b[39m\u001b[39m*\u001b[39mRayH_change))\n\u001b[0;32m--> 267\u001b[0m result \u001b[39m=\u001b[39m subprocess\u001b[39m.\u001b[39;49mrun(runCommand, shell\u001b[39m=\u001b[39;49m\u001b[39mTrue\u001b[39;49;00m, capture_output\u001b[39m=\u001b[39;49m\u001b[39mTrue\u001b[39;49;00m, text\u001b[39m=\u001b[39;49m\u001b[39mTrue\u001b[39;49;00m, cwd\u001b[39m=\u001b[39;49msave_txt_folder_name, check\u001b[39m=\u001b[39;49m\u001b[39mTrue\u001b[39;49;00m)\n\u001b[1;32m    269\u001b[0m reviseFilenameCommand \u001b[39m=\u001b[39m \u001b[39m'\u001b[39m\u001b[39mmv Contributions.txt \u001b[39m\u001b[39m'\u001b[39m \u001b[39m+\u001b[39m current_name \u001b[39m+\u001b[39m \u001b[39m'\u001b[39m\u001b[39m.txt\u001b[39m\u001b[39m'\u001b[39m\n\u001b[1;32m    270\u001b[0m result \u001b[39m=\u001b[39m subprocess\u001b[39m.\u001b[39mrun(reviseFilenameCommand, shell\u001b[39m=\u001b[39m\u001b[39mTrue\u001b[39;00m, capture_output\u001b[39m=\u001b[39m\u001b[39mTrue\u001b[39;00m, text\u001b[39m=\u001b[39m\u001b[39mTrue\u001b[39;00m, cwd\u001b[39m=\u001b[39msave_txt_folder_name, check\u001b[39m=\u001b[39m\u001b[39mTrue\u001b[39;00m)\n",
      "File \u001b[0;32m/usr/lib/python3.8/subprocess.py:495\u001b[0m, in \u001b[0;36mrun\u001b[0;34m(input, capture_output, timeout, check, *popenargs, **kwargs)\u001b[0m\n\u001b[1;32m    493\u001b[0m \u001b[39mwith\u001b[39;00m Popen(\u001b[39m*\u001b[39mpopenargs, \u001b[39m*\u001b[39m\u001b[39m*\u001b[39mkwargs) \u001b[39mas\u001b[39;00m process:\n\u001b[1;32m    494\u001b[0m     \u001b[39mtry\u001b[39;00m:\n\u001b[0;32m--> 495\u001b[0m         stdout, stderr \u001b[39m=\u001b[39m process\u001b[39m.\u001b[39;49mcommunicate(\u001b[39minput\u001b[39;49m, timeout\u001b[39m=\u001b[39;49mtimeout)\n\u001b[1;32m    496\u001b[0m     \u001b[39mexcept\u001b[39;00m TimeoutExpired \u001b[39mas\u001b[39;00m exc:\n\u001b[1;32m    497\u001b[0m         process\u001b[39m.\u001b[39mkill()\n",
      "File \u001b[0;32m/usr/lib/python3.8/subprocess.py:1028\u001b[0m, in \u001b[0;36mPopen.communicate\u001b[0;34m(self, input, timeout)\u001b[0m\n\u001b[1;32m   1025\u001b[0m     endtime \u001b[39m=\u001b[39m \u001b[39mNone\u001b[39;00m\n\u001b[1;32m   1027\u001b[0m \u001b[39mtry\u001b[39;00m:\n\u001b[0;32m-> 1028\u001b[0m     stdout, stderr \u001b[39m=\u001b[39m \u001b[39mself\u001b[39;49m\u001b[39m.\u001b[39;49m_communicate(\u001b[39minput\u001b[39;49m, endtime, timeout)\n\u001b[1;32m   1029\u001b[0m \u001b[39mexcept\u001b[39;00m \u001b[39mKeyboardInterrupt\u001b[39;00m:\n\u001b[1;32m   1030\u001b[0m     \u001b[39m# https://bugs.python.org/issue25942\u001b[39;00m\n\u001b[1;32m   1031\u001b[0m     \u001b[39m# See the detailed comment in .wait().\u001b[39;00m\n\u001b[1;32m   1032\u001b[0m     \u001b[39mif\u001b[39;00m timeout \u001b[39mis\u001b[39;00m \u001b[39mnot\u001b[39;00m \u001b[39mNone\u001b[39;00m:\n",
      "File \u001b[0;32m/usr/lib/python3.8/subprocess.py:1868\u001b[0m, in \u001b[0;36mPopen._communicate\u001b[0;34m(self, input, endtime, orig_timeout)\u001b[0m\n\u001b[1;32m   1861\u001b[0m     \u001b[39mself\u001b[39m\u001b[39m.\u001b[39m_check_timeout(endtime, orig_timeout,\n\u001b[1;32m   1862\u001b[0m                         stdout, stderr,\n\u001b[1;32m   1863\u001b[0m                         skip_check_and_raise\u001b[39m=\u001b[39m\u001b[39mTrue\u001b[39;00m)\n\u001b[1;32m   1864\u001b[0m     \u001b[39mraise\u001b[39;00m \u001b[39mRuntimeError\u001b[39;00m(  \u001b[39m# Impossible :)\u001b[39;00m\n\u001b[1;32m   1865\u001b[0m         \u001b[39m'\u001b[39m\u001b[39m_check_timeout(..., skip_check_and_raise=True) \u001b[39m\u001b[39m'\u001b[39m\n\u001b[1;32m   1866\u001b[0m         \u001b[39m'\u001b[39m\u001b[39mfailed to raise TimeoutExpired.\u001b[39m\u001b[39m'\u001b[39m)\n\u001b[0;32m-> 1868\u001b[0m ready \u001b[39m=\u001b[39m selector\u001b[39m.\u001b[39;49mselect(timeout)\n\u001b[1;32m   1869\u001b[0m \u001b[39mself\u001b[39m\u001b[39m.\u001b[39m_check_timeout(endtime, orig_timeout, stdout, stderr)\n\u001b[1;32m   1871\u001b[0m \u001b[39m# XXX Rewrite these to use non-blocking I/O on the file\u001b[39;00m\n\u001b[1;32m   1872\u001b[0m \u001b[39m# objects; they are no longer using C stdio!\u001b[39;00m\n",
      "File \u001b[0;32m/usr/lib/python3.8/selectors.py:415\u001b[0m, in \u001b[0;36m_PollLikeSelector.select\u001b[0;34m(self, timeout)\u001b[0m\n\u001b[1;32m    413\u001b[0m ready \u001b[39m=\u001b[39m []\n\u001b[1;32m    414\u001b[0m \u001b[39mtry\u001b[39;00m:\n\u001b[0;32m--> 415\u001b[0m     fd_event_list \u001b[39m=\u001b[39m \u001b[39mself\u001b[39;49m\u001b[39m.\u001b[39;49m_selector\u001b[39m.\u001b[39;49mpoll(timeout)\n\u001b[1;32m    416\u001b[0m \u001b[39mexcept\u001b[39;00m \u001b[39mInterruptedError\u001b[39;00m:\n\u001b[1;32m    417\u001b[0m     \u001b[39mreturn\u001b[39;00m ready\n",
      "\u001b[0;31mKeyboardInterrupt\u001b[0m: "
     ]
    }
   ],
   "source": [
    "from mkdataset_for_all_file import * # 生产脚本（改）\n",
    "# 注意mkdataset_for_all_file在./new_production_1021/路径下！\n",
    "import time\n",
    "\n",
    "# 生产目标信息列表(生产时唯一需要修改的部分)\n",
    "filename = '/home/liq/pro/new_production_1118/NAME.txt'\n",
    "# 扫描模式设置\n",
    "scanMode = 1\n",
    "# 斜视角设置\n",
    "squiAng = 0\n",
    "\n",
    "# 读取目标\n",
    "data = np.loadtxt(filename, dtype=str)\n",
    "model_Name = data[:,0]\n",
    "model_Type = data[:,1]\n",
    "# 设置运行文件夹\n",
    "save_folder = '/home/data1/user/PiLiangHuaExperiment/Dataset_for_Production/'\n",
    "# 设置存储中间结果文件夹\n",
    "# mid_folder = '/home/data2/Generation_mid_results/'\n",
    "mid_folder = '/home/data1/user/PiLiangHuaExperiment/Dataset_for_Production_MidResult/'\n",
    "# 设置XML模板文件\n",
    "model_xml_file_head = '/home/lij/PILIANGHUAEXPERIMENT/xmlModel_'\n",
    "# 清空时间记录\n",
    "# with open(time_record,'a+',encoding='utf-8') as f:\n",
    "#     f.truncate(0)\n",
    "# f.close()\n",
    "# 开始生产\n",
    "for i in range(len(model_Name)):\n",
    "    # T0 = time.time()\n",
    "    # 分辨率设置\n",
    "    if model_Type[i] == 'JC' or model_Type[i] == 'HM':\n",
    "        flag = 'JC'\n",
    "        Rho_list = [3, 2, 1]\n",
    "    elif model_Type[i] == 'FJ' or model_Type[i] == 'TK':\n",
    "        flag = model_Type[i]\n",
    "        Rho_list = [0.5,0.3,0.2] # 小飞机分辨率 （改 [0.5, 0.3, 0.2]）\n",
    "        if model_Name[i] == 'C17' or model_Name[i] == 'B52' or model_Name[i] == 'B2' or model_Name[i] == 'B1B' or model_Name[i] == 'AC130' or model_Name[i] == 'KC135':\n",
    "            # 大飞机分辨率 （改 [1, 0.5, 0.3]）\n",
    "            Rho_list = [1,0.5,0.3] \n",
    "    else:\n",
    "        pass\n",
    "\n",
    "    model_info_folder = '/home/lij/PILIANGHUAEXPERIMENT/35_Targets_POV_and_XML/' + model_Name[i] + '/'\n",
    "    model_xml_file = model_xml_file_head + flag + '.xml'\n",
    "    for polarization in ['HH']: # 极化方式（改['HH', 'VV']）\n",
    "        for wave_band in ['X']: # 波段（改['X', 'C']）\n",
    "            for Rho in Rho_list:\n",
    "                T2 = time.time()\n",
    "                if model_Type[i] == 'JC':\n",
    "                    if model_Name[i] == 'ZHBJC':\n",
    "                        distributionx = 455\n",
    "                        distributiony = 455\n",
    "                    elif model_Name[i] == 'HF':\n",
    "                        distributionx = 505\n",
    "                        distributiony = 505\n",
    "                    else:\n",
    "                        distributionx = 275\n",
    "                        distributiony = 275\n",
    "                    x_cut = distributionx-5\n",
    "                    y_cut = distributiony-5\n",
    "                    RayH = y_cut/Rho\n",
    "                    RayW = x_cut/Rho\n",
    "                    beta_range = 3\n",
    "                    beta_azimuth = 2\n",
    "                elif model_Type[i] == 'HM':\n",
    "                    distributionx = 505\n",
    "                    distributiony = 505\n",
    "                    if model_Name[i] == 'HMBD':\n",
    "                        distributionx = 2005\n",
    "                        distributiony = 2005\n",
    "                    x_cut = distributionx-5\n",
    "                    y_cut = distributiony-5\n",
    "                    RayH = y_cut/Rho\n",
    "                    RayW = x_cut/Rho\n",
    "                    beta_range = 3\n",
    "                    beta_azimuth = 2\n",
    "                elif model_Type[i] == 'FJ': #要改\n",
    "                    distributionx = 95\n",
    "                    distributiony = 95\n",
    "                    x_cut = distributionx-5\n",
    "                    y_cut = distributiony-5\n",
    "                    RayH = y_cut/Rho\n",
    "                    RayW = x_cut/Rho\n",
    "                    beta_range = 4\n",
    "                    beta_azimuth = 2.5\n",
    "                elif model_Type[i] == 'TK':\n",
    "                    distributionx = 35\n",
    "                    distributiony = 35\n",
    "                    x_cut = distributionx-5\n",
    "                    y_cut = distributiony-5\n",
    "                    RayH = y_cut/Rho\n",
    "                    RayW = x_cut/Rho\n",
    "                    beta_range = 4\n",
    "                    beta_azimuth = 2.5\n",
    "                else:\n",
    "                    pass\n",
    "                current_save_folder = save_folder + model_Type[i] + '/' + model_Name[i] + '/' + polarization + '/' + wave_band + '/' + str(Rho) + '_' + str(Rho) + '/'\n",
    "                current_mid_folder = mid_folder + model_Type[i] + '/' + model_Name[i] + '/' + polarization + '/' + wave_band + '/' + str(Rho) + '_' + str(Rho)\n",
    "                mkdataset(model_Name[i], model_info_folder, model_xml_file, current_save_folder, current_mid_folder, distributionx, distributiony, RayH, RayW, model_Type[i], x_cut, y_cut, scanMode, Rho, beta_range, beta_azimuth, wave_band, polarization, squiAng)\n",
    "                # T3 = time.time()\n",
    "                # with open(time_record,'a+',encoding='utf-8') as f:\n",
    "                #     f.write('%s极化，%s波段，分辨率%s，生产时间：%dh %dm %ds\\n' % (polarization, wave_band, str(Rho), int(int(T3-T2)/3600), int((int(T3-T2)%3600)/60), int((int(T3-T2)%3600)%60)))\n",
    "                # f.close()\n",
    "    # T1 = time.time()\n",
    "    # with open(time_record,'a+',encoding='utf-8') as f:\n",
    "    #     f.write('%s生产时间：%dh %dm %ds\\n' % (model_Name[i], int(int(T1-T0)/3600), int((int(T1-T0)%3600)/60), int((int(T1-T0)%3600)%60)))\n",
    "    # f.close()\n",
    "\n",
    "from utils import zip_folder\n",
    "zip_folder(save_folder[:-1], save_folder[:-1]+'.zip')\n",
    "\n"
   ]
  }
 ],
 "metadata": {
  "kernelspec": {
   "display_name": "dataset",
   "language": "python",
   "name": "python3"
  },
  "language_info": {
   "codemirror_mode": {
    "name": "ipython",
    "version": 3
   },
   "file_extension": ".py",
   "mimetype": "text/x-python",
   "name": "python",
   "nbconvert_exporter": "python",
   "pygments_lexer": "ipython3",
   "version": "3.8.10"
  },
  "orig_nbformat": 4
 },
 "nbformat": 4,
 "nbformat_minor": 2
}
