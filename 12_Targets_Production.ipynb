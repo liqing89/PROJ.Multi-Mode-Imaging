{
 "cells": [
  {
   "cell_type": "code",
   "execution_count": 1,
   "metadata": {},
   "outputs": [],
   "source": [
    "# 导入库\n",
    "from mkdataset_for_xml_tiff import *"
   ]
  },
  {
   "cell_type": "code",
   "execution_count": 2,
   "metadata": {},
   "outputs": [
    {
     "ename": "TypeError",
     "evalue": "mkdataset() missing 9 required positional arguments: 'x_cut', 'y_cut', 'scanMode', 'Rho', 'beta_range', 'beta_azimuth', 'wave_band', 'polarization', and 'squiAng'",
     "output_type": "error",
     "traceback": [
      "\u001b[0;31m---------------------------------------------------------------------------\u001b[0m",
      "\u001b[0;31mTypeError\u001b[0m                                 Traceback (most recent call last)",
      "Cell \u001b[0;32mIn[2], line 37\u001b[0m\n\u001b[1;32m     34\u001b[0m \u001b[39melse\u001b[39;00m:\n\u001b[1;32m     35\u001b[0m     \u001b[39mpass\u001b[39;00m\n\u001b[0;32m---> 37\u001b[0m mkdataset(model_Name[i], distribution, Ray, model_Type[i], distribution\u001b[39m-\u001b[39;49m\u001b[39m5\u001b[39;49m, scanMode, Rho, POV_folder, folder, beta)\n",
      "\u001b[0;31mTypeError\u001b[0m: mkdataset() missing 9 required positional arguments: 'x_cut', 'y_cut', 'scanMode', 'Rho', 'beta_range', 'beta_azimuth', 'wave_band', 'polarization', and 'squiAng'"
     ]
    }
   ],
   "source": [
    "# 生产35型目标的多俯仰、方位角图像\n",
    "filename = '/home/liq/pro/35POVs/NAME.txt'\n",
    "\n",
    "data = np.loadtxt(filename, dtype=str)\n",
    "model_Name = data[:,0]\n",
    "model_Type = data[:,1]\n",
    "\n",
    "POV_folder = '/home/liq/pro/35POVs/'\n",
    "folder = '/home/liq/pro/35Targets/'\n",
    "\n",
    "scanMode = 1\n",
    "\n",
    "for i in range(len(model_Name)):\n",
    "    if model_Type[i] == 'JC':\n",
    "        distribution = 255\n",
    "        Rho = 1\n",
    "        Ray = (distribution-5)/Rho\n",
    "        beta = 1.5\n",
    "    elif model_Type[i] == 'HM':\n",
    "        distribution = 505\n",
    "        Rho = 1\n",
    "        Ray = (distribution-5)/Rho\n",
    "        beta = 1.5\n",
    "    elif model_Type[i] == 'FJ':\n",
    "        distribution = 95\n",
    "        Rho = 0.3\n",
    "        Ray = (distribution-5)/Rho\n",
    "        beta = 4.7\n",
    "    elif model_Type[i] == 'TK':\n",
    "        distribution = 35\n",
    "        Rho = 0.3\n",
    "        Ray = (distribution-5)/Rho\n",
    "        beta = 4.7\n",
    "    else:\n",
    "        pass\n",
    "    \n",
    "    mkdataset(model_Name[i], distribution, Ray, model_Type[i], distribution-5, scanMode, Rho, POV_folder, folder, beta)"
   ]
  }
 ],
 "metadata": {
  "kernelspec": {
   "display_name": "dataset",
   "language": "python",
   "name": "python3"
  },
  "language_info": {
   "codemirror_mode": {
    "name": "ipython",
    "version": 3
   },
   "file_extension": ".py",
   "mimetype": "text/x-python",
   "name": "python",
   "nbconvert_exporter": "python",
   "pygments_lexer": "ipython3",
   "version": "3.8.10"
  },
  "orig_nbformat": 4
 },
 "nbformat": 4,
 "nbformat_minor": 2
}
