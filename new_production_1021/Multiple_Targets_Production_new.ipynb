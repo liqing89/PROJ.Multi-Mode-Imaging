{
 "cells": [
  {
   "cell_type": "code",
   "execution_count": 1,
   "metadata": {},
   "outputs": [
    {
     "name": "stdout",
     "output_type": "stream",
     "text": [
      "开始生产目标：AC130，目标类型：FJ，极化：HH，波段：X，分辨率：0.3\n",
      "current degree:357.5\n",
      "开始回波仿真...\n",
      "========================= EchoSimProcess =========================\n",
      "Phase 1 -- Params read and config...\n",
      "Phase 1 -- Done! Cost: 0.076s\n",
      "Phase 2 -- Sat Position Calculate...\n",
      "Phase 2 -- Done! Cost: 0s\n",
      "Phase 3 -- Flight Track and BeamDir History Simulate...\n",
      "Phase 3 -- Done! Cost: 0s\n",
      "Phase 4 -- Signal Generate...\n",
      "Phase 4 -- Done! Cost: 0.085s\n",
      "Phase 5 -- Echo Calculate...\n",
      "        -- CPU ThreadNum: 48\n",
      "Phase 5 -- Done! Cost: 21.475s\n",
      "Phase 6 -- Result Save...\n",
      "Phase 6 -- Done! Cost: 3.619s\n",
      "  Final -- Total Cost: 25.261s\n",
      "回波仿真完成！\n",
      "图像大小：256 x 256\n"
     ]
    },
    {
     "name": "stderr",
     "output_type": "stream",
     "text": [
      "/home/liq/.virtualenvs/pro/lib/python3.8/site-packages/matplotlib/cbook/__init__.py:1340: ComplexWarning: Casting complex values to real discards the imaginary part\n",
      "  return np.asarray(x, float)\n",
      "/home/liq/pro/new_production_1021/sklearn/cluster/_kmeans.py:1416: FutureWarning: The default value of `n_init` will change from 10 to 'auto' in 1.4. Set the value of `n_init` explicitly to suppress the warning\n",
      "  super()._check_params_vs_input(X, default_n_init=10)\n"
     ]
    },
    {
     "name": "stdout",
     "output_type": "stream",
     "text": [
      "finish\n",
      "current degree:358.0\n",
      "开始回波仿真...\n",
      "========================= EchoSimProcess =========================\n",
      "Phase 1 -- Params read and config...\n",
      "Phase 1 -- Done! Cost: 0.124s\n",
      "Phase 2 -- Sat Position Calculate...\n",
      "Phase 2 -- Done! Cost: 0s\n",
      "Phase 3 -- Flight Track and BeamDir History Simulate...\n",
      "Phase 3 -- Done! Cost: 0s\n",
      "Phase 4 -- Signal Generate...\n",
      "Phase 4 -- Done! Cost: 0.092s\n",
      "Phase 5 -- Echo Calculate...\n",
      "        -- CPU ThreadNum: 48\n",
      "Phase 5 -- Done! Cost: 21.963s\n",
      "Phase 6 -- Result Save...\n",
      "Phase 6 -- Done! Cost: 3.896s\n",
      "  Final -- Total Cost: 26.083s\n",
      "回波仿真完成！\n",
      "图像大小：256 x 256\n"
     ]
    },
    {
     "name": "stderr",
     "output_type": "stream",
     "text": [
      "/home/liq/.virtualenvs/pro/lib/python3.8/site-packages/matplotlib/cbook/__init__.py:1340: ComplexWarning: Casting complex values to real discards the imaginary part\n",
      "  return np.asarray(x, float)\n",
      "/home/liq/pro/new_production_1021/sklearn/cluster/_kmeans.py:1416: FutureWarning: The default value of `n_init` will change from 10 to 'auto' in 1.4. Set the value of `n_init` explicitly to suppress the warning\n",
      "  super()._check_params_vs_input(X, default_n_init=10)\n"
     ]
    },
    {
     "name": "stdout",
     "output_type": "stream",
     "text": [
      "finish\n",
      "current degree:358.5\n",
      "开始回波仿真...\n",
      "========================= EchoSimProcess =========================\n",
      "Phase 1 -- Params read and config...\n",
      "Phase 1 -- Done! Cost: 0.077s\n",
      "Phase 2 -- Sat Position Calculate...\n",
      "Phase 2 -- Done! Cost: 0s\n",
      "Phase 3 -- Flight Track and BeamDir History Simulate...\n",
      "Phase 3 -- Done! Cost: 0s\n",
      "Phase 4 -- Signal Generate...\n",
      "Phase 4 -- Done! Cost: 0.089s\n",
      "Phase 5 -- Echo Calculate...\n",
      "        -- CPU ThreadNum: 48\n",
      "Phase 5 -- Done! Cost: 26.673s\n",
      "Phase 6 -- Result Save...\n",
      "Phase 6 -- Done! Cost: 7.697s\n",
      "  Final -- Total Cost: 34.544s\n",
      "回波仿真完成！\n",
      "图像大小：256 x 256\n"
     ]
    },
    {
     "name": "stderr",
     "output_type": "stream",
     "text": [
      "/home/liq/.virtualenvs/pro/lib/python3.8/site-packages/matplotlib/cbook/__init__.py:1340: ComplexWarning: Casting complex values to real discards the imaginary part\n",
      "  return np.asarray(x, float)\n",
      "/home/liq/pro/new_production_1021/sklearn/cluster/_kmeans.py:1416: FutureWarning: The default value of `n_init` will change from 10 to 'auto' in 1.4. Set the value of `n_init` explicitly to suppress the warning\n",
      "  super()._check_params_vs_input(X, default_n_init=10)\n"
     ]
    },
    {
     "name": "stdout",
     "output_type": "stream",
     "text": [
      "finish\n",
      "current degree:359.0\n",
      "开始回波仿真...\n",
      "========================= EchoSimProcess =========================\n",
      "Phase 1 -- Params read and config...\n",
      "Phase 1 -- Done! Cost: 0.042s\n",
      "Phase 2 -- Sat Position Calculate...\n",
      "Phase 2 -- Done! Cost: 0s\n",
      "Phase 3 -- Flight Track and BeamDir History Simulate...\n",
      "Phase 3 -- Done! Cost: 0s\n",
      "Phase 4 -- Signal Generate...\n",
      "Phase 4 -- Done! Cost: 0.11s\n",
      "Phase 5 -- Echo Calculate...\n",
      "        -- CPU ThreadNum: 48\n",
      "Phase 5 -- Done! Cost: 21.618s\n",
      "Phase 6 -- Result Save...\n",
      "Phase 6 -- Done! Cost: 3.354s\n",
      "  Final -- Total Cost: 25.126s\n",
      "回波仿真完成！\n",
      "图像大小：256 x 256\n"
     ]
    },
    {
     "name": "stderr",
     "output_type": "stream",
     "text": [
      "/home/liq/.virtualenvs/pro/lib/python3.8/site-packages/matplotlib/cbook/__init__.py:1340: ComplexWarning: Casting complex values to real discards the imaginary part\n",
      "  return np.asarray(x, float)\n",
      "/home/liq/pro/new_production_1021/sklearn/cluster/_kmeans.py:1416: FutureWarning: The default value of `n_init` will change from 10 to 'auto' in 1.4. Set the value of `n_init` explicitly to suppress the warning\n",
      "  super()._check_params_vs_input(X, default_n_init=10)\n"
     ]
    },
    {
     "name": "stdout",
     "output_type": "stream",
     "text": [
      "finish\n",
      "current degree:359.5\n",
      "开始回波仿真...\n",
      "========================= EchoSimProcess =========================\n",
      "Phase 1 -- Params read and config...\n",
      "Phase 1 -- Done! Cost: 0.043s\n",
      "Phase 2 -- Sat Position Calculate...\n",
      "Phase 2 -- Done! Cost: 0s\n",
      "Phase 3 -- Flight Track and BeamDir History Simulate...\n",
      "Phase 3 -- Done! Cost: 0s\n",
      "Phase 4 -- Signal Generate...\n",
      "Phase 4 -- Done! Cost: 0.096s\n",
      "Phase 5 -- Echo Calculate...\n",
      "        -- CPU ThreadNum: 48\n",
      "Phase 5 -- Done! Cost: 22.461s\n",
      "Phase 6 -- Result Save...\n",
      "Phase 6 -- Done! Cost: 3.334s\n",
      "  Final -- Total Cost: 25.938s\n",
      "回波仿真完成！\n",
      "图像大小：256 x 256\n"
     ]
    },
    {
     "name": "stderr",
     "output_type": "stream",
     "text": [
      "/home/liq/.virtualenvs/pro/lib/python3.8/site-packages/matplotlib/cbook/__init__.py:1340: ComplexWarning: Casting complex values to real discards the imaginary part\n",
      "  return np.asarray(x, float)\n",
      "/home/liq/pro/new_production_1021/sklearn/cluster/_kmeans.py:1416: FutureWarning: The default value of `n_init` will change from 10 to 'auto' in 1.4. Set the value of `n_init` explicitly to suppress the warning\n",
      "  super()._check_params_vs_input(X, default_n_init=10)\n"
     ]
    },
    {
     "name": "stdout",
     "output_type": "stream",
     "text": [
      "finish\n",
      "current degree:360.0\n",
      "开始回波仿真...\n",
      "========================= EchoSimProcess =========================\n",
      "Phase 1 -- Params read and config...\n",
      "Phase 1 -- Done! Cost: 0.175s\n",
      "Phase 2 -- Sat Position Calculate...\n",
      "Phase 2 -- Done! Cost: 0s\n",
      "Phase 3 -- Flight Track and BeamDir History Simulate...\n",
      "Phase 3 -- Done! Cost: 0s\n",
      "Phase 4 -- Signal Generate...\n",
      "Phase 4 -- Done! Cost: 0.16s\n",
      "Phase 5 -- Echo Calculate...\n",
      "        -- CPU ThreadNum: 48\n",
      "Phase 5 -- Done! Cost: 35.521s\n",
      "Phase 6 -- Result Save...\n",
      "Phase 6 -- Done! Cost: 3.903s\n",
      "  Final -- Total Cost: 39.768s\n",
      "回波仿真完成！\n",
      "图像大小：256 x 256\n"
     ]
    },
    {
     "name": "stderr",
     "output_type": "stream",
     "text": [
      "/home/liq/.virtualenvs/pro/lib/python3.8/site-packages/matplotlib/cbook/__init__.py:1340: ComplexWarning: Casting complex values to real discards the imaginary part\n",
      "  return np.asarray(x, float)\n",
      "/home/liq/pro/new_production_1021/sklearn/cluster/_kmeans.py:1416: FutureWarning: The default value of `n_init` will change from 10 to 'auto' in 1.4. Set the value of `n_init` explicitly to suppress the warning\n",
      "  super()._check_params_vs_input(X, default_n_init=10)\n"
     ]
    },
    {
     "name": "stdout",
     "output_type": "stream",
     "text": [
      "finish\n",
      "current degree:360.5\n",
      "开始回波仿真...\n",
      "========================= EchoSimProcess =========================\n",
      "Phase 1 -- Params read and config...\n",
      "Phase 1 -- Done! Cost: 0.093s\n",
      "Phase 2 -- Sat Position Calculate...\n",
      "Phase 2 -- Done! Cost: 0s\n",
      "Phase 3 -- Flight Track and BeamDir History Simulate...\n",
      "Phase 3 -- Done! Cost: 0s\n",
      "Phase 4 -- Signal Generate...\n",
      "Phase 4 -- Done! Cost: 0.053s\n",
      "Phase 5 -- Echo Calculate...\n",
      "        -- CPU ThreadNum: 48\n",
      "Phase 5 -- Done! Cost: 21.957s\n",
      "Phase 6 -- Result Save...\n",
      "Phase 6 -- Done! Cost: 3.282s\n",
      "  Final -- Total Cost: 25.388s\n",
      "回波仿真完成！\n",
      "图像大小：256 x 256\n"
     ]
    },
    {
     "name": "stderr",
     "output_type": "stream",
     "text": [
      "/home/liq/.virtualenvs/pro/lib/python3.8/site-packages/matplotlib/cbook/__init__.py:1340: ComplexWarning: Casting complex values to real discards the imaginary part\n",
      "  return np.asarray(x, float)\n",
      "/home/liq/pro/new_production_1021/sklearn/cluster/_kmeans.py:1416: FutureWarning: The default value of `n_init` will change from 10 to 'auto' in 1.4. Set the value of `n_init` explicitly to suppress the warning\n",
      "  super()._check_params_vs_input(X, default_n_init=10)\n"
     ]
    },
    {
     "name": "stdout",
     "output_type": "stream",
     "text": [
      "finish\n",
      "current degree:361.0\n",
      "开始回波仿真...\n",
      "========================= EchoSimProcess =========================\n",
      "Phase 1 -- Params read and config...\n",
      "Phase 1 -- Done! Cost: 0.094s\n",
      "Phase 2 -- Sat Position Calculate...\n",
      "Phase 2 -- Done! Cost: 0s\n",
      "Phase 3 -- Flight Track and BeamDir History Simulate...\n",
      "Phase 3 -- Done! Cost: 0s\n",
      "Phase 4 -- Signal Generate...\n",
      "Phase 4 -- Done! Cost: 0.051s\n",
      "Phase 5 -- Echo Calculate...\n",
      "        -- CPU ThreadNum: 48\n",
      "Phase 5 -- Done! Cost: 23.108s\n",
      "Phase 6 -- Result Save...\n",
      "Phase 6 -- Done! Cost: 3.465s\n",
      "  Final -- Total Cost: 26.722s\n",
      "回波仿真完成！\n",
      "图像大小：256 x 256\n"
     ]
    },
    {
     "name": "stderr",
     "output_type": "stream",
     "text": [
      "/home/liq/.virtualenvs/pro/lib/python3.8/site-packages/matplotlib/cbook/__init__.py:1340: ComplexWarning: Casting complex values to real discards the imaginary part\n",
      "  return np.asarray(x, float)\n",
      "/home/liq/pro/new_production_1021/sklearn/cluster/_kmeans.py:1416: FutureWarning: The default value of `n_init` will change from 10 to 'auto' in 1.4. Set the value of `n_init` explicitly to suppress the warning\n",
      "  super()._check_params_vs_input(X, default_n_init=10)\n"
     ]
    },
    {
     "name": "stdout",
     "output_type": "stream",
     "text": [
      "finish\n",
      "current degree:361.5\n",
      "开始回波仿真...\n",
      "========================= EchoSimProcess =========================\n",
      "Phase 1 -- Params read and config...\n",
      "Phase 1 -- Done! Cost: 0.073s\n",
      "Phase 2 -- Sat Position Calculate...\n",
      "Phase 2 -- Done! Cost: 0s\n",
      "Phase 3 -- Flight Track and BeamDir History Simulate...\n",
      "Phase 3 -- Done! Cost: 0s\n",
      "Phase 4 -- Signal Generate...\n",
      "Phase 4 -- Done! Cost: 0.072s\n",
      "Phase 5 -- Echo Calculate...\n",
      "        -- CPU ThreadNum: 48\n",
      "Phase 5 -- Done! Cost: 22.68s\n",
      "Phase 6 -- Result Save...\n",
      "Phase 6 -- Done! Cost: 3.744s\n",
      "  Final -- Total Cost: 26.578s\n",
      "回波仿真完成！\n",
      "图像大小：256 x 256\n"
     ]
    },
    {
     "name": "stderr",
     "output_type": "stream",
     "text": [
      "/home/liq/.virtualenvs/pro/lib/python3.8/site-packages/matplotlib/cbook/__init__.py:1340: ComplexWarning: Casting complex values to real discards the imaginary part\n",
      "  return np.asarray(x, float)\n",
      "/home/liq/pro/new_production_1021/sklearn/cluster/_kmeans.py:1416: FutureWarning: The default value of `n_init` will change from 10 to 'auto' in 1.4. Set the value of `n_init` explicitly to suppress the warning\n",
      "  super()._check_params_vs_input(X, default_n_init=10)\n"
     ]
    },
    {
     "name": "stdout",
     "output_type": "stream",
     "text": [
      "finish\n",
      "current degree:362.0\n",
      "开始回波仿真...\n",
      "========================= EchoSimProcess =========================\n",
      "Phase 1 -- Params read and config...\n",
      "Phase 1 -- Done! Cost: 0.043s\n",
      "Phase 2 -- Sat Position Calculate...\n",
      "Phase 2 -- Done! Cost: 0s\n",
      "Phase 3 -- Flight Track and BeamDir History Simulate...\n",
      "Phase 3 -- Done! Cost: 0s\n",
      "Phase 4 -- Signal Generate...\n",
      "Phase 4 -- Done! Cost: 0.087s\n",
      "Phase 5 -- Echo Calculate...\n",
      "        -- CPU ThreadNum: 48\n",
      "Phase 5 -- Done! Cost: 24.333s\n",
      "Phase 6 -- Result Save...\n",
      "Phase 6 -- Done! Cost: 3.099s\n",
      "  Final -- Total Cost: 27.565s\n",
      "回波仿真完成！\n",
      "图像大小：256 x 256\n"
     ]
    },
    {
     "name": "stderr",
     "output_type": "stream",
     "text": [
      "/home/liq/.virtualenvs/pro/lib/python3.8/site-packages/matplotlib/cbook/__init__.py:1340: ComplexWarning: Casting complex values to real discards the imaginary part\n",
      "  return np.asarray(x, float)\n",
      "/home/liq/pro/new_production_1021/sklearn/cluster/_kmeans.py:1416: FutureWarning: The default value of `n_init` will change from 10 to 'auto' in 1.4. Set the value of `n_init` explicitly to suppress the warning\n",
      "  super()._check_params_vs_input(X, default_n_init=10)\n"
     ]
    },
    {
     "name": "stdout",
     "output_type": "stream",
     "text": [
      "finish\n",
      "current degree:362.5\n",
      "开始回波仿真...\n",
      "========================= EchoSimProcess =========================\n",
      "Phase 1 -- Params read and config...\n",
      "Phase 1 -- Done! Cost: 0.068s\n",
      "Phase 2 -- Sat Position Calculate...\n",
      "Phase 2 -- Done! Cost: 0s\n",
      "Phase 3 -- Flight Track and BeamDir History Simulate...\n",
      "Phase 3 -- Done! Cost: 0s\n",
      "Phase 4 -- Signal Generate...\n",
      "Phase 4 -- Done! Cost: 0.092s\n",
      "Phase 5 -- Echo Calculate...\n",
      "        -- CPU ThreadNum: 48\n",
      "Phase 5 -- Done! Cost: 21.911s\n",
      "Phase 6 -- Result Save...\n",
      "Phase 6 -- Done! Cost: 3.712s\n",
      "  Final -- Total Cost: 25.795s\n",
      "回波仿真完成！\n",
      "图像大小：256 x 256\n"
     ]
    },
    {
     "name": "stderr",
     "output_type": "stream",
     "text": [
      "/home/liq/.virtualenvs/pro/lib/python3.8/site-packages/matplotlib/cbook/__init__.py:1340: ComplexWarning: Casting complex values to real discards the imaginary part\n",
      "  return np.asarray(x, float)\n",
      "/home/liq/pro/new_production_1021/sklearn/cluster/_kmeans.py:1416: FutureWarning: The default value of `n_init` will change from 10 to 'auto' in 1.4. Set the value of `n_init` explicitly to suppress the warning\n",
      "  super()._check_params_vs_input(X, default_n_init=10)\n"
     ]
    },
    {
     "name": "stdout",
     "output_type": "stream",
     "text": [
      "finish\n",
      "开始生产目标：F18，目标类型：FJ，极化：HH，波段：X，分辨率：0.5\n",
      "current degree:357.5\n",
      "开始回波仿真...\n",
      "========================= EchoSimProcess =========================\n",
      "Phase 1 -- Params read and config...\n",
      "Phase 1 -- Done! Cost: 0.025s\n",
      "Phase 2 -- Sat Position Calculate...\n",
      "Phase 2 -- Done! Cost: 0s\n",
      "Phase 3 -- Flight Track and BeamDir History Simulate...\n",
      "Phase 3 -- Done! Cost: 0s\n",
      "Phase 4 -- Signal Generate...\n",
      "Phase 4 -- Done! Cost: 0.108s\n",
      "Phase 5 -- Echo Calculate...\n",
      "        -- CPU ThreadNum: 48\n",
      "Phase 5 -- Done! Cost: 6.767s\n",
      "Phase 6 -- Result Save...\n",
      "Phase 6 -- Done! Cost: 1.079s\n",
      "  Final -- Total Cost: 7.983s\n",
      "回波仿真完成！\n"
     ]
    },
    {
     "ename": "UnboundLocalError",
     "evalue": "local variable 'size' referenced before assignment",
     "output_type": "error",
     "traceback": [
      "\u001b[0;31m---------------------------------------------------------------------------\u001b[0m",
      "\u001b[0;31mUnboundLocalError\u001b[0m                         Traceback (most recent call last)",
      "Cell \u001b[0;32mIn[1], line 99\u001b[0m\n\u001b[1;32m     97\u001b[0m             current_save_folder \u001b[39m=\u001b[39m save_folder \u001b[39m+\u001b[39m model_Type[i] \u001b[39m+\u001b[39m \u001b[39m'\u001b[39m\u001b[39m/\u001b[39m\u001b[39m'\u001b[39m \u001b[39m+\u001b[39m model_Name[i] \u001b[39m+\u001b[39m \u001b[39m'\u001b[39m\u001b[39m/\u001b[39m\u001b[39m'\u001b[39m \u001b[39m+\u001b[39m polarization \u001b[39m+\u001b[39m \u001b[39m'\u001b[39m\u001b[39m/\u001b[39m\u001b[39m'\u001b[39m \u001b[39m+\u001b[39m wave_band \u001b[39m+\u001b[39m \u001b[39m'\u001b[39m\u001b[39m/\u001b[39m\u001b[39m'\u001b[39m \u001b[39m+\u001b[39m \u001b[39mstr\u001b[39m(Rho) \u001b[39m+\u001b[39m \u001b[39m'\u001b[39m\u001b[39m_\u001b[39m\u001b[39m'\u001b[39m \u001b[39m+\u001b[39m \u001b[39mstr\u001b[39m(Rho) \u001b[39m+\u001b[39m \u001b[39m'\u001b[39m\u001b[39m/\u001b[39m\u001b[39m'\u001b[39m\n\u001b[1;32m     98\u001b[0m             current_mid_folder \u001b[39m=\u001b[39m mid_folder \u001b[39m+\u001b[39m model_Type[i] \u001b[39m+\u001b[39m \u001b[39m'\u001b[39m\u001b[39m/\u001b[39m\u001b[39m'\u001b[39m \u001b[39m+\u001b[39m model_Name[i] \u001b[39m+\u001b[39m \u001b[39m'\u001b[39m\u001b[39m/\u001b[39m\u001b[39m'\u001b[39m \u001b[39m+\u001b[39m polarization \u001b[39m+\u001b[39m \u001b[39m'\u001b[39m\u001b[39m/\u001b[39m\u001b[39m'\u001b[39m \u001b[39m+\u001b[39m wave_band \u001b[39m+\u001b[39m \u001b[39m'\u001b[39m\u001b[39m/\u001b[39m\u001b[39m'\u001b[39m \u001b[39m+\u001b[39m \u001b[39mstr\u001b[39m(Rho) \u001b[39m+\u001b[39m \u001b[39m'\u001b[39m\u001b[39m_\u001b[39m\u001b[39m'\u001b[39m \u001b[39m+\u001b[39m \u001b[39mstr\u001b[39m(Rho)\n\u001b[0;32m---> 99\u001b[0m             mkdataset(model_Name[i], model_info_folder, model_xml_file, current_save_folder, current_mid_folder, distributionx, distributiony, RayH, RayW, model_Type[i], x_cut, y_cut, scanMode, Rho, beta_range, beta_azimuth, wave_band, polarization, squiAng)\n\u001b[1;32m    100\u001b[0m             \u001b[39m# T3 = time.time()\u001b[39;00m\n\u001b[1;32m    101\u001b[0m             \u001b[39m# with open(time_record,'a+',encoding='utf-8') as f:\u001b[39;00m\n\u001b[1;32m    102\u001b[0m             \u001b[39m#     f.write('%s极化，%s波段，分辨率%s，生产时间：%dh %dm %ds\\n' % (polarization, wave_band, str(Rho), int(int(T3-T2)/3600), int((int(T3-T2)%3600)/60), int((int(T3-T2)%3600)%60)))\u001b[39;00m\n\u001b[0;32m   (...)\u001b[0m\n\u001b[1;32m    106\u001b[0m \u001b[39m#     f.write('%s生产时间：%dh %dm %ds\\n' % (model_Name[i], int(int(T1-T0)/3600), int((int(T1-T0)%3600)/60), int((int(T1-T0)%3600)%60)))\u001b[39;00m\n\u001b[1;32m    107\u001b[0m \u001b[39m# f.close()\u001b[39;00m\n",
      "File \u001b[0;32m~/pro/new_production_1021/mkdataset_for_all_file.py:297\u001b[0m, in \u001b[0;36mmkdataset\u001b[0;34m(model_name, model_info_folder, model_xml_file, current_save_folder, current_mid_folder, distributionx, distributiony, RayH, RayW, target_type, x_cut, y_cut, scanMode, Rho, beta_range, beta_azimuth, wave_band, polarization, squiAng)\u001b[0m\n\u001b[1;32m    295\u001b[0m imaging_current \u001b[39m=\u001b[39m imaging(echoResultPath, beta_range, beta_azimuth)\n\u001b[1;32m    296\u001b[0m imaging_current\u001b[39m.\u001b[39mimaging()\n\u001b[0;32m--> 297\u001b[0m imaging_current\u001b[39m.\u001b[39;49mdataExpose(model_name,\u001b[39m2\u001b[39;49m) \u001b[39m# 保存成像结果为成员\u001b[39;00m\n\u001b[1;32m    298\u001b[0m \u001b[39m# 一维距离向保存  \u001b[39;00m\n\u001b[1;32m    299\u001b[0m np\u001b[39m.\u001b[39msavetxt(save_range_path, np\u001b[39m.\u001b[39mc_[np\u001b[39m.\u001b[39marray(\u001b[39mabs\u001b[39m(imaging_current\u001b[39m.\u001b[39mrange_image))], fmt\u001b[39m=\u001b[39m\u001b[39m'\u001b[39m\u001b[39m%f\u001b[39;00m\u001b[39m'\u001b[39m,delimiter\u001b[39m=\u001b[39m\u001b[39m'\u001b[39m\u001b[39m\\n\u001b[39;00m\u001b[39m'\u001b[39m)\n",
      "File \u001b[0;32m~/pro/new_production_1021/Five_mode_imaging_V2.py:294\u001b[0m, in \u001b[0;36mimaging.dataExpose\u001b[0;34m(self, filename, mode)\u001b[0m\n\u001b[1;32m    292\u001b[0m rows, cols \u001b[39m=\u001b[39m I\u001b[39m.\u001b[39mshape\n\u001b[1;32m    293\u001b[0m \u001b[39m# print(\"图像大小：{} x {}\".format(rows, cols))\u001b[39;00m\n\u001b[0;32m--> 294\u001b[0m cut_rows \u001b[39m=\u001b[39m \u001b[39mint\u001b[39m(rows\u001b[39m-\u001b[39msize); \u001b[39m# 根据需要的图像大小往里缩\u001b[39;00m\n\u001b[1;32m    295\u001b[0m cut_cols \u001b[39m=\u001b[39m \u001b[39mint\u001b[39m(cols\u001b[39m-\u001b[39msize);\n\u001b[1;32m    296\u001b[0m \u001b[39m# print(\"裁边大小：{} x {}\".format(cut_rows, cut_cols))\u001b[39;00m\n\u001b[1;32m    297\u001b[0m \u001b[39m# print(\"裁边前行下标：{} x {}\".format(u,d));\u001b[39;00m\n\u001b[1;32m    298\u001b[0m \u001b[39m# print(\"裁边后行下标：{} x {}\".format(u+cut_rows/2,d-cut_rows/2));\u001b[39;00m\n\u001b[1;32m    299\u001b[0m \u001b[39m# print(\"裁边前列下标：{} x {}\".format(l,r));\u001b[39;00m\n\u001b[1;32m    300\u001b[0m \u001b[39m# print(\"裁边后列下标：{} x {}\".format(l+cut_cols/2,r-cut_cols/2));\u001b[39;00m\n",
      "\u001b[0;31mUnboundLocalError\u001b[0m: local variable 'size' referenced before assignment"
     ]
    }
   ],
   "source": [
    "from mkdataset_for_all_file import * # 生产脚本（改）\n",
    "# 注意mkdataset_for_all_file在./new_production_1021/路径下！\n",
    "import time\n",
    "\n",
    "# 生产目标信息列表(生产时唯一需要修改的部分)\n",
    "filename = '/home/liq/pro/new_production_1021/NAME.txt'\n",
    "# 扫描模式设置\n",
    "scanMode = 1\n",
    "# 斜视角设置\n",
    "squiAng = 0\n",
    "\n",
    "# 读取目标\n",
    "data = np.loadtxt(filename, dtype=str)\n",
    "model_Name = data[:,0]\n",
    "model_Type = data[:,1]\n",
    "# 设置运行文件夹\n",
    "# save_folder = '/home/data1/user/PiLiangHuaExperiment/Dataset_for_Warehousing_new/'\n",
    "save_folder = '/home/data1/user/PiLiangHuaExperiment/Dataset_for_DJ/fnl_res/'\n",
    "# 设置存储中间结果文件夹\n",
    "# mid_folder = '/home/data2/Generation_mid_results/'\n",
    "mid_folder = '/home/data1/user/PiLiangHuaExperiment/Dataset_for_DJ/mid_res/'\n",
    "# 设置XML模板文件\n",
    "model_xml_file_head = '/home/lij/PILIANGHUAEXPERIMENT/xmlModel_'\n",
    "# 清空时间记录\n",
    "# with open(time_record,'a+',encoding='utf-8') as f:\n",
    "#     f.truncate(0)\n",
    "# f.close()\n",
    "# 开始生产\n",
    "for i in range(len(model_Name)):\n",
    "    # T0 = time.time()\n",
    "    # 分辨率设置\n",
    "    if model_Type[i] == 'JC' or model_Type[i] == 'HM':\n",
    "        flag = 'JC'\n",
    "        Rho_list = [3, 2, 1]\n",
    "    elif model_Type[i] == 'FJ' or model_Type[i] == 'TK':\n",
    "        flag = model_Type[i]\n",
    "        Rho_list = [0.5] # 小飞机分辨率 （改 [0.5, 0.3, 0.2]）\n",
    "        if model_Name[i] == 'C17' or model_Name[i] == 'B52' or model_Name[i] == 'B2' or model_Name[i] == 'B1B' or model_Name[i] == 'AC130' or model_Name[i] == 'KC135':\n",
    "            # 大飞机分辨率 （改 [1, 0.5, 0.3]）\n",
    "            Rho_list = [0.3] \n",
    "    else:\n",
    "        pass\n",
    "\n",
    "    model_info_folder = '/home/lij/PILIANGHUAEXPERIMENT/35_Targets_POV_and_XML/' + model_Name[i] + '/'\n",
    "    model_xml_file = model_xml_file_head + flag + '.xml'\n",
    "    for polarization in ['HH']: # 极化方式（改['HH', 'VV']）\n",
    "        for wave_band in ['X']: # 波段（改['X', 'C']）\n",
    "            for Rho in Rho_list:\n",
    "                T2 = time.time()\n",
    "                if model_Type[i] == 'JC':\n",
    "                    if model_Name[i] == 'ZHBJC':\n",
    "                        distributionx = 455\n",
    "                        distributiony = 455\n",
    "                    elif model_Name[i] == 'HF':\n",
    "                        distributionx = 505\n",
    "                        distributiony = 505\n",
    "                    else:\n",
    "                        distributionx = 275\n",
    "                        distributiony = 275\n",
    "                    x_cut = distributionx-5\n",
    "                    y_cut = distributiony-5\n",
    "                    RayH = y_cut/Rho\n",
    "                    RayW = x_cut/Rho\n",
    "                    beta_range = 3\n",
    "                    beta_azimuth = 2\n",
    "                elif model_Type[i] == 'HM':\n",
    "                    distributionx = 505\n",
    "                    distributiony = 505\n",
    "                    if model_Name[i] == 'HMBD':\n",
    "                        distributionx = 2005\n",
    "                        distributiony = 2005\n",
    "                    x_cut = distributionx-5\n",
    "                    y_cut = distributiony-5\n",
    "                    RayH = y_cut/Rho\n",
    "                    RayW = x_cut/Rho\n",
    "                    beta_range = 3\n",
    "                    beta_azimuth = 2\n",
    "                elif model_Type[i] == 'FJ': #要改\n",
    "                    distributionx = 95\n",
    "                    distributiony = 95\n",
    "                    x_cut = distributionx-5\n",
    "                    y_cut = distributiony-5\n",
    "                    RayH = y_cut/Rho\n",
    "                    RayW = x_cut/Rho\n",
    "                    beta_range = 4\n",
    "                    beta_azimuth = 2.5\n",
    "                elif model_Type[i] == 'TK':\n",
    "                    distributionx = 35\n",
    "                    distributiony = 35\n",
    "                    x_cut = distributionx-5\n",
    "                    y_cut = distributiony-5\n",
    "                    RayH = y_cut/Rho\n",
    "                    RayW = x_cut/Rho\n",
    "                    beta_range = 4\n",
    "                    beta_azimuth = 2.5\n",
    "                else:\n",
    "                    pass\n",
    "                current_save_folder = save_folder + model_Type[i] + '/' + model_Name[i] + '/' + polarization + '/' + wave_band + '/' + str(Rho) + '_' + str(Rho) + '/'\n",
    "                current_mid_folder = mid_folder + model_Type[i] + '/' + model_Name[i] + '/' + polarization + '/' + wave_band + '/' + str(Rho) + '_' + str(Rho)\n",
    "                mkdataset(model_Name[i], model_info_folder, model_xml_file, current_save_folder, current_mid_folder, distributionx, distributiony, RayH, RayW, model_Type[i], x_cut, y_cut, scanMode, Rho, beta_range, beta_azimuth, wave_band, polarization, squiAng)\n",
    "                # T3 = time.time()\n",
    "                # with open(time_record,'a+',encoding='utf-8') as f:\n",
    "                #     f.write('%s极化，%s波段，分辨率%s，生产时间：%dh %dm %ds\\n' % (polarization, wave_band, str(Rho), int(int(T3-T2)/3600), int((int(T3-T2)%3600)/60), int((int(T3-T2)%3600)%60)))\n",
    "                # f.close()\n",
    "    # T1 = time.time()\n",
    "    # with open(time_record,'a+',encoding='utf-8') as f:\n",
    "    #     f.write('%s生产时间：%dh %dm %ds\\n' % (model_Name[i], int(int(T1-T0)/3600), int((int(T1-T0)%3600)/60), int((int(T1-T0)%3600)%60)))\n",
    "    # f.close()"
   ]
  }
 ],
 "metadata": {
  "kernelspec": {
   "display_name": "dataset",
   "language": "python",
   "name": "python3"
  },
  "language_info": {
   "codemirror_mode": {
    "name": "ipython",
    "version": 3
   },
   "file_extension": ".py",
   "mimetype": "text/x-python",
   "name": "python",
   "nbconvert_exporter": "python",
   "pygments_lexer": "ipython3",
   "version": "3.8.10"
  },
  "orig_nbformat": 4
 },
 "nbformat": 4,
 "nbformat_minor": 2
}
