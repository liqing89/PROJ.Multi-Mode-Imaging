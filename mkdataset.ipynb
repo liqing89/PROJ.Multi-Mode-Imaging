{
 "cells": [
  {
   "cell_type": "markdown",
   "metadata": {},
   "source": [
    "#### 脚本说明\n",
    "该脚本用于批量化生产仿真图像\n",
    "批量化生产仿真图像的脚本构造如下：\n",
    "1. 根据下视角及场景大小初始化pov文件头\n"
   ]
  },
  {
   "cell_type": "code",
   "execution_count": 1,
   "metadata": {},
   "outputs": [],
   "source": [
    "import tqdm\n",
    "import numpy as np\n",
    "import subprocess\n",
    "import os\n",
    "import shutil\n",
    "from txtProcess import * # 电磁建模结果处理文件\n",
    "import scipy.io as sio # 后面三个为成像库\n",
    "from read_data import * \n",
    "from Five_mode_imaging import *\n",
    "import matplotlib.image as mpimg"
   ]
  },
  {
   "cell_type": "code",
   "execution_count": 2,
   "metadata": {},
   "outputs": [],
   "source": [
    "# v-2023.8.24\n",
    "#-------------------------------------------------------------------------------\n",
    "# 步骤1参数\n",
    "# 俯仰角设置\n",
    "# incidentAngle = 73\n",
    "# 场景大小：舰船-255*255、航母-505*505，坦克-35*35，飞机-95*95，地面大场景单独设置\n",
    "distributionx = 95\n",
    "distributiony = 95\n",
    "model_name = 'F16'\n",
    "#-------------------------------------------------------------------------------\n",
    "# 步骤2参数\n",
    "# 射线数量：舰船-600、航母-650，坦克-600，飞机-750，地面大场景单独设置\n",
    "RayH = 750\n",
    "RayW = 750\n",
    "#-------------------------------------------------------------------------------\n",
    "# 步骤3参数\n",
    "target = 'FJ' # JC 舰船   TK 坦克   FJ 飞机   HM 航母\n",
    "# 场景大小：舰船-250*250、航母-500*500，坦克-30*30，飞机-90*90，地面大场景单独设置\n",
    "x_cut = 90\n",
    "y_cut = 90\n",
    "#-------------------------------------------------------------------------------\n",
    "# 步骤4参数\n",
    "# 分辨率：舰船、航母-1m，坦克-0.3m、飞机-0.3m，地面大场景单独设置\n",
    "scanMode = 1         # 扫描模式\n",
    "rngRho = 0.3        # 距离分辨\n",
    "azmRho = 0.3        # 方位分辨\n",
    "#-------------------------------------------------------------------------------\n",
    "# 步骤5参数\n",
    "# 凯撒窗系数：舰船、航母-1.5，坦克、飞机-4.7\n",
    "beta = 4.7\n",
    "#-------------------------------------------------------------------------------\n",
    "# 设置存取初始POV文件夹\n",
    "POV_folder = '/home/liq/pro/35POVs/'\n",
    "# 设置运行文件夹\n",
    "folder = '/home/liq/pro/35Targets/'\n",
    "main_folder = folder + model_name"
   ]
  },
  {
   "cell_type": "code",
   "execution_count": 3,
   "metadata": {},
   "outputs": [],
   "source": [
    "# 暂存变量，不用进行更改，方便程序运行\n",
    "if os.path.exists(main_folder):\n",
    "    shutil.rmtree(main_folder)\n",
    "mk_save_main_floder = 'mkdir ' + model_name\n",
    "result = subprocess.run(mk_save_main_floder, shell=True, capture_output=True, text=True, cwd=folder, check=True)\n",
    "\n",
    "save_pov_folder_name = main_folder + '/pov/'\n",
    "save_txt_folder_name = main_folder + '/txt/'\n",
    "save_mat_folder_name =  main_folder + '/mat/'\n",
    "save_echo_folder_name =  main_folder + '/echo/'\n",
    "save_img_folder_name = main_folder + '/img/'\n",
    "save_png_folder_name = main_folder + '/png/'"
   ]
  },
  {
   "cell_type": "markdown",
   "metadata": {},
   "source": [
    "步骤1：初始化多俯仰角、多方位角pov文件"
   ]
  },
  {
   "cell_type": "code",
   "execution_count": 4,
   "metadata": {},
   "outputs": [
    {
     "name": "stdout",
     "output_type": "stream",
     "text": [
      "开始生产目标：F16，目标类型：FJ\n",
      "已完成俯仰角 20 度, 方位角 0 度的pov文件初始化。\n"
     ]
    }
   ],
   "source": [
    "print('开始生产目标：' + model_name + '，目标类型：' + target)\n",
    "filename = POV_folder + model_name +'.pov'\n",
    "\n",
    "if os.path.exists(save_pov_folder_name):\n",
    "    shutil.rmtree(save_pov_folder_name)\n",
    "mk_save_pov_floder = 'mkdir pov'\n",
    "result = subprocess.run(mk_save_pov_floder, shell=True, capture_output=True, text=True, cwd=main_folder, check=True)\n",
    "\n",
    "for incidentAngle in range(20,55,40):\n",
    "    # 俯仰角设置\n",
    "\n",
    "    # 根据下视角和方位角计算相机位置\n",
    "    # 相机初始位置,即方位角为0时\n",
    "    Z = 700*np.cos(incidentAngle/180 * np.pi)\n",
    "    Y = 700*np.sin(incidentAngle/180 * np.pi)\n",
    "    # 调整场景大小\n",
    "    distributiony_change = np.sqrt((distributiony+1e6/np.cos(incidentAngle/180 * np.pi))**2-(1e6)**2)-1e6/np.cos(incidentAngle/180 * np.pi)*np.sin(incidentAngle/180 * np.pi)\n",
    "    \n",
    "    # 方位角设置\n",
    "    for j in range(0,18,18):\n",
    "        current_main_degree = j*20\n",
    "        flag = 0\n",
    "        # for i in range(current_main_degree*2-5,current_main_degree*2+6):\n",
    "        for i in range(1):\n",
    "            #当前角度\n",
    "            current_degree = current_main_degree\n",
    "            Z0 = Z\n",
    "            Y0 = Y*np.cos(current_degree/180 * np.pi)\n",
    "            X0 = Y*np.sin(current_degree/180 * np.pi)*(-1)\n",
    "\n",
    "            content = ['#include \"colors.inc\"\\n#include \"finish.inc\"\\nglobal_settings{SAR_Output_Data 1 SAR_Intersection 1}\\n']\n",
    "            camera = ['#declare Cam = camera {\\northographic\\n']\n",
    "            cameraPos = 'location <' + str(X0) + ',' + str(Z0) + ',' + str(Y0) + '>' + '\\n'\n",
    "            camera.append(cameraPos)\n",
    "            camera.append('look_at < 0 , 0 , 0 >\\n')\n",
    "\n",
    "            camera.append('right ' + str(distributionx) + '*x\\n')\n",
    "            camera.append('up ' + str(distributiony_change) + '*y\\n')\n",
    "            camera.append('}\\n')\n",
    "            content = content + camera\n",
    "\n",
    "            content.append('camera{Cam}\\n')\n",
    "\n",
    "            content.append('light_source {\\n0*x\\ncolor rgb <1,1,1>\\nparallel\\ntranslate <'+str(X0)+','+str(Z0)+','+str(Y0)+'>\\npoint_at < 0 , 0 , 0 >\\n}\\n')\n",
    "\n",
    "            content.append('plane {\\n<0,1,0>\\n0\\ntexture {\\npigment { color rgb<1, 1, 1> }\\nfinish {reflection {0.2} ambient 0 diffuse 0.001 specular 0.5 roughness 0.0033}\\n}\\n}\\n')\n",
    "\n",
    "            with open(filename,'r',encoding='utf-8') as f1:\n",
    "                lines = []\n",
    "                for line in f1.readlines():\n",
    "                    lines += [line]\n",
    "            f1.close()\n",
    "\n",
    "            content = content + lines\n",
    "\n",
    "            savefilename = save_pov_folder_name+str(incidentAngle)+'_'+str(current_main_degree)+'_'+ str(flag) +'.pov'\n",
    "\n",
    "            with open(savefilename,'w',encoding='utf-8') as f:\n",
    "                f.writelines(content)\n",
    "            f.close()\n",
    "            flag += 1\n",
    "        print('已完成俯仰角 {} 度, 方位角 {} 度的pov文件初始化。'.format(incidentAngle, 20*j))"
   ]
  },
  {
   "cell_type": "markdown",
   "metadata": {},
   "source": [
    "步骤2：对pov文件进行电磁建模"
   ]
  },
  {
   "cell_type": "code",
   "execution_count": 5,
   "metadata": {},
   "outputs": [
    {
     "name": "stdout",
     "output_type": "stream",
     "text": [
      "已完成俯仰角 20 度, 方位角 0 度的电磁建模。\n"
     ]
    }
   ],
   "source": [
    "if os.path.exists(save_txt_folder_name):\n",
    "    shutil.rmtree(save_txt_folder_name)\n",
    "mk_save_txt_floder = 'mkdir txt'\n",
    "result = subprocess.run(mk_save_txt_floder, shell=True, capture_output=True, text=True, cwd=main_folder, check=True)\n",
    "\n",
    "for k in range(20,55,40):\n",
    "    for i in range(0,18,18):\n",
    "        main_degree = 20*i\n",
    "        current_name_prefix = save_pov_folder_name+str(k)+'_'+str(main_degree)\n",
    "        for j in range(1):\n",
    "            current_file_name = current_name_prefix + '_' + str(j) + '.pov'\n",
    "\n",
    "            runCommand = 'povray '+ current_file_name +' -D +W'+str(RayW)+' +H'+str(RayH)\n",
    "            result = subprocess.run(runCommand, shell=True, capture_output=True, text=True, cwd=save_txt_folder_name, check=True)\n",
    "\n",
    "            reviseFilenameCommand = 'mv Contributions.txt Contributions_'+str(k)+'_'+str(main_degree) + '_' + str(j) + '.txt'\n",
    "            result = subprocess.run(reviseFilenameCommand, shell=True, capture_output=True, text=True, cwd=save_txt_folder_name, check=True)\n",
    "        print('已完成俯仰角 {} 度, 方位角 {} 度的电磁建模。'.format(k, 20*i))"
   ]
  },
  {
   "cell_type": "markdown",
   "metadata": {},
   "source": [
    "步骤3：对建模结果进行裁剪处理"
   ]
  },
  {
   "cell_type": "code",
   "execution_count": 6,
   "metadata": {},
   "outputs": [
    {
     "name": "stdout",
     "output_type": "stream",
     "text": [
      "0.00335 1.9e-05\n",
      "0.000576 0.000105\n",
      "已完成俯仰角 20 度, 方位角 0 度的电磁建模裁剪工作。\n"
     ]
    }
   ],
   "source": [
    "if os.path.exists(save_mat_folder_name):\n",
    "    shutil.rmtree(save_mat_folder_name)\n",
    "mk_save_mat_floder = 'mkdir mat'\n",
    "result = subprocess.run(mk_save_mat_floder, shell=True, capture_output=True, text=True, cwd=main_folder, check=True)\n",
    "\n",
    "for k in range(20,55,40):\n",
    "    x_cut_change = np.sqrt((x_cut+1e6/np.cos(k/180 * np.pi))**2-(1e6)**2)-1e6/np.cos(k/180 * np.pi)*np.sin(k/180 * np.pi)\n",
    "    for i in range(0,18,18):\n",
    "        main_degree = 20*i\n",
    "        current_name_prefix = save_txt_folder_name + 'Contributions_' + str(k) + '_' + str(main_degree)\n",
    "        for j in range(1):\n",
    "            current_file_name = current_name_prefix + '_' + str(j) + '.txt'\n",
    "            txtProParams = [k, 0, target, 'HH', x_cut_change, y_cut, current_file_name]\n",
    "            elecResult = txtProcess(txtProParams)\n",
    "            savedic = {\"data\": elecResult, \"offNadiAng\": k}\n",
    "            resultMatFile = \"{}mat_{}_{}_{}.mat\".format(save_mat_folder_name, k, main_degree, j)\n",
    "            sio.savemat(resultMatFile, savedic)\n",
    "        print('已完成俯仰角 {} 度, 方位角 {} 度的电磁建模裁剪工作。'.format(k, 20*i))"
   ]
  },
  {
   "cell_type": "markdown",
   "metadata": {},
   "source": [
    "步骤4：进行回波仿真"
   ]
  },
  {
   "cell_type": "code",
   "execution_count": 7,
   "metadata": {},
   "outputs": [
    {
     "name": "stdout",
     "output_type": "stream",
     "text": [
      "开始回波仿真...\n"
     ]
    },
    {
     "ename": "KeyboardInterrupt",
     "evalue": "",
     "output_type": "error",
     "traceback": [
      "\u001b[0;31m---------------------------------------------------------------------------\u001b[0m",
      "\u001b[0;31mKeyboardInterrupt\u001b[0m                         Traceback (most recent call last)",
      "Cell \u001b[0;32mIn[7], line 82\u001b[0m\n\u001b[1;32m     80\u001b[0m     \u001b[39mprint\u001b[39m(\u001b[39m\"\u001b[39m\u001b[39m开始回波仿真...\u001b[39m\u001b[39m\"\u001b[39m)\n\u001b[1;32m     81\u001b[0m     echoSimCmd \u001b[39m=\u001b[39m [\u001b[39m\"\u001b[39m\u001b[39m./main\u001b[39m\u001b[39m\"\u001b[39m, settingsPath, echoResultPath]\n\u001b[0;32m---> 82\u001b[0m     result \u001b[39m=\u001b[39m subprocess\u001b[39m.\u001b[39;49mrun(echoSimCmd, capture_output\u001b[39m=\u001b[39;49m\u001b[39mTrue\u001b[39;49;00m, text\u001b[39m=\u001b[39;49m\u001b[39mTrue\u001b[39;49;00m, check\u001b[39m=\u001b[39;49m\u001b[39mTrue\u001b[39;49;00m, cwd\u001b[39m=\u001b[39;49mechoSimPath)\n\u001b[1;32m     83\u001b[0m     \u001b[39mprint\u001b[39m(result\u001b[39m.\u001b[39mstdout)\n\u001b[1;32m     84\u001b[0m \u001b[39mexcept\u001b[39;00m \u001b[39mException\u001b[39;00m \u001b[39mas\u001b[39;00m e:\n",
      "File \u001b[0;32m/usr/lib/python3.8/subprocess.py:495\u001b[0m, in \u001b[0;36mrun\u001b[0;34m(input, capture_output, timeout, check, *popenargs, **kwargs)\u001b[0m\n\u001b[1;32m    493\u001b[0m \u001b[39mwith\u001b[39;00m Popen(\u001b[39m*\u001b[39mpopenargs, \u001b[39m*\u001b[39m\u001b[39m*\u001b[39mkwargs) \u001b[39mas\u001b[39;00m process:\n\u001b[1;32m    494\u001b[0m     \u001b[39mtry\u001b[39;00m:\n\u001b[0;32m--> 495\u001b[0m         stdout, stderr \u001b[39m=\u001b[39m process\u001b[39m.\u001b[39;49mcommunicate(\u001b[39minput\u001b[39;49m, timeout\u001b[39m=\u001b[39;49mtimeout)\n\u001b[1;32m    496\u001b[0m     \u001b[39mexcept\u001b[39;00m TimeoutExpired \u001b[39mas\u001b[39;00m exc:\n\u001b[1;32m    497\u001b[0m         process\u001b[39m.\u001b[39mkill()\n",
      "File \u001b[0;32m/usr/lib/python3.8/subprocess.py:1028\u001b[0m, in \u001b[0;36mPopen.communicate\u001b[0;34m(self, input, timeout)\u001b[0m\n\u001b[1;32m   1025\u001b[0m     endtime \u001b[39m=\u001b[39m \u001b[39mNone\u001b[39;00m\n\u001b[1;32m   1027\u001b[0m \u001b[39mtry\u001b[39;00m:\n\u001b[0;32m-> 1028\u001b[0m     stdout, stderr \u001b[39m=\u001b[39m \u001b[39mself\u001b[39;49m\u001b[39m.\u001b[39;49m_communicate(\u001b[39minput\u001b[39;49m, endtime, timeout)\n\u001b[1;32m   1029\u001b[0m \u001b[39mexcept\u001b[39;00m \u001b[39mKeyboardInterrupt\u001b[39;00m:\n\u001b[1;32m   1030\u001b[0m     \u001b[39m# https://bugs.python.org/issue25942\u001b[39;00m\n\u001b[1;32m   1031\u001b[0m     \u001b[39m# See the detailed comment in .wait().\u001b[39;00m\n\u001b[1;32m   1032\u001b[0m     \u001b[39mif\u001b[39;00m timeout \u001b[39mis\u001b[39;00m \u001b[39mnot\u001b[39;00m \u001b[39mNone\u001b[39;00m:\n",
      "File \u001b[0;32m/usr/lib/python3.8/subprocess.py:1868\u001b[0m, in \u001b[0;36mPopen._communicate\u001b[0;34m(self, input, endtime, orig_timeout)\u001b[0m\n\u001b[1;32m   1861\u001b[0m     \u001b[39mself\u001b[39m\u001b[39m.\u001b[39m_check_timeout(endtime, orig_timeout,\n\u001b[1;32m   1862\u001b[0m                         stdout, stderr,\n\u001b[1;32m   1863\u001b[0m                         skip_check_and_raise\u001b[39m=\u001b[39m\u001b[39mTrue\u001b[39;00m)\n\u001b[1;32m   1864\u001b[0m     \u001b[39mraise\u001b[39;00m \u001b[39mRuntimeError\u001b[39;00m(  \u001b[39m# Impossible :)\u001b[39;00m\n\u001b[1;32m   1865\u001b[0m         \u001b[39m'\u001b[39m\u001b[39m_check_timeout(..., skip_check_and_raise=True) \u001b[39m\u001b[39m'\u001b[39m\n\u001b[1;32m   1866\u001b[0m         \u001b[39m'\u001b[39m\u001b[39mfailed to raise TimeoutExpired.\u001b[39m\u001b[39m'\u001b[39m)\n\u001b[0;32m-> 1868\u001b[0m ready \u001b[39m=\u001b[39m selector\u001b[39m.\u001b[39;49mselect(timeout)\n\u001b[1;32m   1869\u001b[0m \u001b[39mself\u001b[39m\u001b[39m.\u001b[39m_check_timeout(endtime, orig_timeout, stdout, stderr)\n\u001b[1;32m   1871\u001b[0m \u001b[39m# XXX Rewrite these to use non-blocking I/O on the file\u001b[39;00m\n\u001b[1;32m   1872\u001b[0m \u001b[39m# objects; they are no longer using C stdio!\u001b[39;00m\n",
      "File \u001b[0;32m/usr/lib/python3.8/selectors.py:415\u001b[0m, in \u001b[0;36m_PollLikeSelector.select\u001b[0;34m(self, timeout)\u001b[0m\n\u001b[1;32m    413\u001b[0m ready \u001b[39m=\u001b[39m []\n\u001b[1;32m    414\u001b[0m \u001b[39mtry\u001b[39;00m:\n\u001b[0;32m--> 415\u001b[0m     fd_event_list \u001b[39m=\u001b[39m \u001b[39mself\u001b[39;49m\u001b[39m.\u001b[39;49m_selector\u001b[39m.\u001b[39;49mpoll(timeout)\n\u001b[1;32m    416\u001b[0m \u001b[39mexcept\u001b[39;00m \u001b[39mInterruptedError\u001b[39;00m:\n\u001b[1;32m    417\u001b[0m     \u001b[39mreturn\u001b[39;00m ready\n",
      "\u001b[0;31mKeyboardInterrupt\u001b[0m: "
     ]
    }
   ],
   "source": [
    "if os.path.exists(save_echo_folder_name):\n",
    "    shutil.rmtree(save_echo_folder_name)\n",
    "mk_save_echo_floder = 'mkdir echo'\n",
    "result = subprocess.run(mk_save_echo_floder, shell=True, capture_output=True, text=True, cwd=main_folder, check=True)\n",
    "\n",
    "for k in range(20,55,40):\n",
    "    for i in range(0,18,18):\n",
    "        for j in range(1):\n",
    "            main_degree = 20*i\n",
    "            modelingResultPath = save_mat_folder_name + 'mat_' + str(k) + '_' + str(main_degree) + '_' + str(j) + '.mat'\n",
    "            echoResultPath = save_echo_folder_name + 'echo_' + str(k) + '_' + str(main_degree) + '_' + str(j) + '.mat'\n",
    "            settingsPath = main_folder + '/settings.mat'        # 中间参数文件结果\n",
    "\n",
    "            workMode = 1        # 工作体制（单通道）\n",
    "            simSatMode = 1      # 卫星解算方式（自定义）\n",
    "            echoMethod = 1      # 回波生成方式（快速fft）\n",
    "            initParams = {\"scanMode\": scanMode,\\\n",
    "                        \"workMode\": workMode,\\\n",
    "                        \"rngRho\": rngRho,\\\n",
    "                        \"azmRho\": azmRho,\\\n",
    "                        \"simSatMode\": simSatMode,\\\n",
    "                        \"echoMethod\": echoMethod}\n",
    "\n",
    "            # 根据不同模式设置天线长度\n",
    "            if scanMode == 1:\n",
    "                La = 2*azmRho\n",
    "            elif scanMode == 2:\n",
    "                La = 3\n",
    "            elif scanMode == 3:\n",
    "                La = 4\n",
    "            elif scanMode == 4:\n",
    "                La = 4\n",
    "            elif scanMode == 5:\n",
    "                La = 4\n",
    "            elif scanMode == 6:\n",
    "                La = 2*azmRho\n",
    "\n",
    "            # 距离扫描所需参数\n",
    "            subStripNum = 2\n",
    "            subStripRng = 25e3\n",
    "            # 多通道时所需参数\n",
    "            channelNum = 8\n",
    "            # 斜视情况所需参数\n",
    "            squiAng = 30\n",
    "\n",
    "            extra = {\"La\": La, \"subStripNum\": subStripNum, \"subStripRng\": subStripRng,\\\n",
    "                    \"channelNum\": channelNum, \"squiAng\": squiAng}\n",
    "\n",
    "            # 轨道参数设置\n",
    "            orbital = {\"majAxis\": 6893.38359077456e3,\\\n",
    "                    \"eccRatio\": 0.0013485366190770,\\\n",
    "                    \"incAng\": 97.4477903825153,\\\n",
    "                    \"ascdLng\": 295.304778902499,\\\n",
    "                    \"perigee\": 66.7207893275409}\n",
    "\n",
    "            # 场景约束\n",
    "            scn = {\"tgLat\": 28.06194738,\\\n",
    "                \"tgLng\": 112.89267163,\\\n",
    "                \"tgHeight\": 54.8}\n",
    "\n",
    "            # 雷达参数\n",
    "            radar = {\"c\": 3e8, \"fc\": 9.6e9, \"Tp\": 5e-6, \"riseRatio\": 16}\n",
    "\n",
    "            initParams.update(extra)\n",
    "            initParams.update(orbital)\n",
    "            initParams.update(scn)\n",
    "            initParams.update(radar)\n",
    "\n",
    "            # 这一步一旦散射矩阵被当做整数解析就会出问题！\n",
    "            modelResult = sio.loadmat(modelingResultPath)\n",
    "            modelResult[\"data\"] = np.array(modelResult[\"data\"], dtype=\"double\")\n",
    "            initParams.update(modelResult)\n",
    "\n",
    "            # 保存参数\n",
    "            sio.savemat(settingsPath, initParams)\n",
    "\n",
    "            echoSimPath = \"/home/chenjc/newprojects/EchoSim/EchoSimV2/build\"\n",
    "            # 运行回波程序\n",
    "            try:\n",
    "                print(\"开始回波仿真...\")\n",
    "                echoSimCmd = [\"./main\", settingsPath, echoResultPath]\n",
    "                result = subprocess.run(echoSimCmd, capture_output=True, text=True, check=True, cwd=echoSimPath)\n",
    "                print(result.stdout)\n",
    "            except Exception as e:\n",
    "                print(e)\n",
    "                print(\"回波仿真异常！\")\n",
    "                raise\n",
    "            else:\n",
    "                print(\"回波仿真完成！\")"
   ]
  },
  {
   "cell_type": "markdown",
   "metadata": {},
   "source": [
    "步骤5：进行成像处理"
   ]
  },
  {
   "cell_type": "code",
   "execution_count": null,
   "metadata": {},
   "outputs": [
    {
     "ename": "FileNotFoundError",
     "evalue": "[Errno 2] No such file or directory: '/home/liq/pro/35Targets/F16/echo/echo_20_0_0.mat'",
     "output_type": "error",
     "traceback": [
      "\u001b[0;31m---------------------------------------------------------------------------\u001b[0m",
      "\u001b[0;31mFileNotFoundError\u001b[0m                         Traceback (most recent call last)",
      "File \u001b[0;32m~/.virtualenvs/pro/lib/python3.8/site-packages/scipy/io/matlab/_mio.py:39\u001b[0m, in \u001b[0;36m_open_file\u001b[0;34m(file_like, appendmat, mode)\u001b[0m\n\u001b[1;32m     38\u001b[0m \u001b[39mtry\u001b[39;00m:\n\u001b[0;32m---> 39\u001b[0m     \u001b[39mreturn\u001b[39;00m \u001b[39mopen\u001b[39;49m(file_like, mode), \u001b[39mTrue\u001b[39;00m\n\u001b[1;32m     40\u001b[0m \u001b[39mexcept\u001b[39;00m \u001b[39mOSError\u001b[39;00m \u001b[39mas\u001b[39;00m e:\n\u001b[1;32m     41\u001b[0m     \u001b[39m# Probably \"not found\"\u001b[39;00m\n",
      "\u001b[0;31mFileNotFoundError\u001b[0m: [Errno 2] No such file or directory: '/home/liq/pro/35Targets/F16/echo/echo_20_0_0.mat'",
      "\nDuring handling of the above exception, another exception occurred:\n",
      "\u001b[0;31mFileNotFoundError\u001b[0m                         Traceback (most recent call last)",
      "Cell \u001b[0;32mIn[17], line 19\u001b[0m\n\u001b[1;32m     17\u001b[0m data_path \u001b[39m=\u001b[39m save_echo_folder_name \u001b[39m+\u001b[39m \u001b[39m'\u001b[39m\u001b[39mecho_\u001b[39m\u001b[39m'\u001b[39m \u001b[39m+\u001b[39m \u001b[39mstr\u001b[39m(\u001b[39m20\u001b[39m) \u001b[39m+\u001b[39m \u001b[39m'\u001b[39m\u001b[39m_\u001b[39m\u001b[39m'\u001b[39m \u001b[39m+\u001b[39m \u001b[39mstr\u001b[39m(\u001b[39m0\u001b[39m) \u001b[39m+\u001b[39m \u001b[39m'\u001b[39m\u001b[39m_\u001b[39m\u001b[39m'\u001b[39m \u001b[39m+\u001b[39m \u001b[39mstr\u001b[39m(\u001b[39m0\u001b[39m) \u001b[39m+\u001b[39m \u001b[39m'\u001b[39m\u001b[39m.mat\u001b[39m\u001b[39m'\u001b[39m\n\u001b[1;32m     18\u001b[0m save_path \u001b[39m=\u001b[39m save_img_folder_name \u001b[39m+\u001b[39m \u001b[39m'\u001b[39m\u001b[39mimg_\u001b[39m\u001b[39m'\u001b[39m \u001b[39m+\u001b[39m \u001b[39mstr\u001b[39m(\u001b[39m20\u001b[39m) \u001b[39m+\u001b[39m \u001b[39m'\u001b[39m\u001b[39m_\u001b[39m\u001b[39m'\u001b[39m \u001b[39m+\u001b[39m \u001b[39mstr\u001b[39m(\u001b[39m0\u001b[39m) \u001b[39m+\u001b[39m \u001b[39m'\u001b[39m\u001b[39m_\u001b[39m\u001b[39m'\u001b[39m \u001b[39m+\u001b[39m \u001b[39mstr\u001b[39m(\u001b[39m0\u001b[39m) \u001b[39m+\u001b[39m \u001b[39m'\u001b[39m\u001b[39m.mat\u001b[39m\u001b[39m'\u001b[39m\n\u001b[0;32m---> 19\u001b[0m imaging_current \u001b[39m=\u001b[39m imaging(data_path, beta)\n\u001b[1;32m     20\u001b[0m imaging_current\u001b[39m.\u001b[39mimaging()\n",
      "File \u001b[0;32m~/pro/Five_mode_imaging.py:12\u001b[0m, in \u001b[0;36mimaging.__init__\u001b[0;34m(self, path, beta)\u001b[0m\n\u001b[1;32m     11\u001b[0m \u001b[39mdef\u001b[39;00m \u001b[39m__init__\u001b[39m(\u001b[39mself\u001b[39m,path,beta):\n\u001b[0;32m---> 12\u001b[0m     \u001b[39mself\u001b[39m\u001b[39m.\u001b[39mdata,para \u001b[39m=\u001b[39m read_data\u001b[39m.\u001b[39;49mload_data(path)\n\u001b[1;32m     13\u001b[0m     \u001b[39m# 光速\u001b[39;00m\n\u001b[1;32m     14\u001b[0m     \u001b[39mself\u001b[39m\u001b[39m.\u001b[39mc \u001b[39m=\u001b[39m para[\u001b[39m'\u001b[39m\u001b[39mc\u001b[39m\u001b[39m'\u001b[39m]\n",
      "File \u001b[0;32m~/pro/read_data.py:11\u001b[0m, in \u001b[0;36mload_data\u001b[0;34m(path)\u001b[0m\n\u001b[1;32m      6\u001b[0m \u001b[39mdef\u001b[39;00m \u001b[39mload_data\u001b[39m(path):\n\u001b[1;32m      7\u001b[0m \u001b[39m    \u001b[39m\u001b[39m'''\u001b[39;00m\n\u001b[1;32m      8\u001b[0m \u001b[39m    该函数用来读取.mat文件\u001b[39;00m\n\u001b[1;32m      9\u001b[0m \u001b[39m    和参数文件\u001b[39;00m\n\u001b[1;32m     10\u001b[0m \u001b[39m    '''\u001b[39;00m\n\u001b[0;32m---> 11\u001b[0m     data \u001b[39m=\u001b[39m sio\u001b[39m.\u001b[39;49mloadmat(path)\n\u001b[1;32m     12\u001b[0m     \u001b[39m# 用字典保存下面的变量\u001b[39;00m\n\u001b[1;32m     13\u001b[0m     c \u001b[39m=\u001b[39m data[\u001b[39m'\u001b[39m\u001b[39mc\u001b[39m\u001b[39m'\u001b[39m][\u001b[39m0\u001b[39m][\u001b[39m0\u001b[39m]\n",
      "File \u001b[0;32m~/.virtualenvs/pro/lib/python3.8/site-packages/scipy/io/matlab/_mio.py:225\u001b[0m, in \u001b[0;36mloadmat\u001b[0;34m(file_name, mdict, appendmat, **kwargs)\u001b[0m\n\u001b[1;32m     88\u001b[0m \u001b[39m\u001b[39m\u001b[39m\"\"\"\u001b[39;00m\n\u001b[1;32m     89\u001b[0m \u001b[39mLoad MATLAB file.\u001b[39;00m\n\u001b[1;32m     90\u001b[0m \n\u001b[0;32m   (...)\u001b[0m\n\u001b[1;32m    222\u001b[0m \u001b[39m    3.14159265+3.14159265j])\u001b[39;00m\n\u001b[1;32m    223\u001b[0m \u001b[39m\"\"\"\u001b[39;00m\n\u001b[1;32m    224\u001b[0m variable_names \u001b[39m=\u001b[39m kwargs\u001b[39m.\u001b[39mpop(\u001b[39m'\u001b[39m\u001b[39mvariable_names\u001b[39m\u001b[39m'\u001b[39m, \u001b[39mNone\u001b[39;00m)\n\u001b[0;32m--> 225\u001b[0m \u001b[39mwith\u001b[39;00m _open_file_context(file_name, appendmat) \u001b[39mas\u001b[39;00m f:\n\u001b[1;32m    226\u001b[0m     MR, _ \u001b[39m=\u001b[39m mat_reader_factory(f, \u001b[39m*\u001b[39m\u001b[39m*\u001b[39mkwargs)\n\u001b[1;32m    227\u001b[0m     matfile_dict \u001b[39m=\u001b[39m MR\u001b[39m.\u001b[39mget_variables(variable_names)\n",
      "File \u001b[0;32m/usr/lib/python3.8/contextlib.py:113\u001b[0m, in \u001b[0;36m_GeneratorContextManager.__enter__\u001b[0;34m(self)\u001b[0m\n\u001b[1;32m    111\u001b[0m \u001b[39mdel\u001b[39;00m \u001b[39mself\u001b[39m\u001b[39m.\u001b[39margs, \u001b[39mself\u001b[39m\u001b[39m.\u001b[39mkwds, \u001b[39mself\u001b[39m\u001b[39m.\u001b[39mfunc\n\u001b[1;32m    112\u001b[0m \u001b[39mtry\u001b[39;00m:\n\u001b[0;32m--> 113\u001b[0m     \u001b[39mreturn\u001b[39;00m \u001b[39mnext\u001b[39;49m(\u001b[39mself\u001b[39;49m\u001b[39m.\u001b[39;49mgen)\n\u001b[1;32m    114\u001b[0m \u001b[39mexcept\u001b[39;00m \u001b[39mStopIteration\u001b[39;00m:\n\u001b[1;32m    115\u001b[0m     \u001b[39mraise\u001b[39;00m \u001b[39mRuntimeError\u001b[39;00m(\u001b[39m\"\u001b[39m\u001b[39mgenerator didn\u001b[39m\u001b[39m'\u001b[39m\u001b[39mt yield\u001b[39m\u001b[39m\"\u001b[39m) \u001b[39mfrom\u001b[39;00m \u001b[39mNone\u001b[39;00m\n",
      "File \u001b[0;32m~/.virtualenvs/pro/lib/python3.8/site-packages/scipy/io/matlab/_mio.py:17\u001b[0m, in \u001b[0;36m_open_file_context\u001b[0;34m(file_like, appendmat, mode)\u001b[0m\n\u001b[1;32m     15\u001b[0m \u001b[39m@contextmanager\u001b[39m\n\u001b[1;32m     16\u001b[0m \u001b[39mdef\u001b[39;00m \u001b[39m_open_file_context\u001b[39m(file_like, appendmat, mode\u001b[39m=\u001b[39m\u001b[39m'\u001b[39m\u001b[39mrb\u001b[39m\u001b[39m'\u001b[39m):\n\u001b[0;32m---> 17\u001b[0m     f, opened \u001b[39m=\u001b[39m _open_file(file_like, appendmat, mode)\n\u001b[1;32m     18\u001b[0m     \u001b[39mtry\u001b[39;00m:\n\u001b[1;32m     19\u001b[0m         \u001b[39myield\u001b[39;00m f\n",
      "File \u001b[0;32m~/.virtualenvs/pro/lib/python3.8/site-packages/scipy/io/matlab/_mio.py:45\u001b[0m, in \u001b[0;36m_open_file\u001b[0;34m(file_like, appendmat, mode)\u001b[0m\n\u001b[1;32m     43\u001b[0m     \u001b[39mif\u001b[39;00m appendmat \u001b[39mand\u001b[39;00m \u001b[39mnot\u001b[39;00m file_like\u001b[39m.\u001b[39mendswith(\u001b[39m'\u001b[39m\u001b[39m.mat\u001b[39m\u001b[39m'\u001b[39m):\n\u001b[1;32m     44\u001b[0m         file_like \u001b[39m+\u001b[39m\u001b[39m=\u001b[39m \u001b[39m'\u001b[39m\u001b[39m.mat\u001b[39m\u001b[39m'\u001b[39m\n\u001b[0;32m---> 45\u001b[0m     \u001b[39mreturn\u001b[39;00m \u001b[39mopen\u001b[39;49m(file_like, mode), \u001b[39mTrue\u001b[39;00m\n\u001b[1;32m     46\u001b[0m \u001b[39melse\u001b[39;00m:\n\u001b[1;32m     47\u001b[0m     \u001b[39mraise\u001b[39;00m \u001b[39mOSError\u001b[39;00m(\n\u001b[1;32m     48\u001b[0m         \u001b[39m'\u001b[39m\u001b[39mReader needs file name or open file-like object\u001b[39m\u001b[39m'\u001b[39m\n\u001b[1;32m     49\u001b[0m     ) \u001b[39mfrom\u001b[39;00m \u001b[39me\u001b[39;00m\n",
      "\u001b[0;31mFileNotFoundError\u001b[0m: [Errno 2] No such file or directory: '/home/liq/pro/35Targets/F16/echo/echo_20_0_0.mat'"
     ]
    }
   ],
   "source": [
    "if os.path.exists(save_img_folder_name):\n",
    "    shutil.rmtree(save_img_folder_name)\n",
    "mk_save_img_floder = 'mkdir img'\n",
    "result = subprocess.run(mk_save_img_floder, shell=True, capture_output=True, text=True, cwd=main_folder, check=True)\n",
    "\n",
    "# for k in range(20,55,40):\n",
    "#     for i in range(0,18,18):\n",
    "#         for j in range(1):\n",
    "#             main_degree = 20*i\n",
    "#             data_path = save_echo_folder_name + 'echo_' + str(k) + '_' + str(main_degree) + '_' + str(j) + '.mat'\n",
    "#             save_path = save_img_folder_name + 'img_' + str(k) + '_' + str(main_degree) + '_' + str(j) + '.mat'\n",
    "#             imaging_current = imaging(data_path, beta)\n",
    "#             imaging_current.imaging()\n",
    "#             imaging_current.show_image(2, save_path)\n",
    "#         print('已完成俯仰角 {} 度, 方位角 {} 度的回波成像工作。'.format(k, 20*i))\n",
    "\n",
    "data_path = save_echo_folder_name + 'echo_' + str(20) + '_' + str(0) + '_' + str(0) + '.mat'\n",
    "save_path = save_img_folder_name + 'img_' + str(20) + '_' + str(0) + '_' + str(0) + '.mat'\n",
    "imaging_current = imaging(data_path, beta)\n",
    "imaging_current.imaging()\n"
   ]
  },
  {
   "cell_type": "code",
   "execution_count": null,
   "metadata": {},
   "outputs": [],
   "source": [
    "\n",
    "# 调试用\n",
    "imaging_current.show_image(2, save_path)"
   ]
  },
  {
   "cell_type": "markdown",
   "metadata": {},
   "source": [
    "步骤6：将成像结果存为.png文件"
   ]
  },
  {
   "cell_type": "code",
   "execution_count": null,
   "metadata": {},
   "outputs": [
    {
     "name": "stdout",
     "output_type": "stream",
     "text": [
      "已完成俯仰角 20 度, 方位角 0 度的成像结果储存。\n"
     ]
    }
   ],
   "source": [
    "if os.path.exists(save_png_folder_name):\n",
    "    shutil.rmtree(save_png_folder_name)\n",
    "mk_save_png_floder = 'mkdir png'\n",
    "result = subprocess.run(mk_save_png_floder, shell=True, capture_output=True, text=True, cwd=main_folder, check=True)\n",
    "\n",
    "for k in range(20,55,40):\n",
    "  for i in range(0,18,18):\n",
    "    for j in range(1):\n",
    "      main_degree = 20*i\n",
    "      data_path = save_img_folder_name + 'img_' + str(k) + '_' + str(main_degree) + '_' + str(j) + '.mat'\n",
    "      save_path = save_png_folder_name + 'png_' + str(k) + '_' + str(main_degree) + '_' + str(j) + '.png'\n",
    "      data = sio.loadmat(data_path)['image']\n",
    "      # 裁剪\n",
    "      l = int(data.shape[1]/2 - data.shape[0]/2*0.8); r = int(data.shape[1]/2 + data.shape[0]/2*0.8)\n",
    "      u = int(data.shape[0]*0.1+1); d = int(data.shape[0]*0.9)\n",
    "      image = np.array(data[u:d,l:r], dtype=np.uint8)\n",
    "      # image = np.array(data, dtype=np.uint8)\n",
    "      mpimg.imsave(save_path, image, cmap=plt.cm.gray)\n",
    "    print('已完成俯仰角 {} 度, 方位角 {} 度的成像结果储存。'.format(k, 20*i))"
   ]
  }
 ],
 "metadata": {
  "kernelspec": {
   "display_name": "pytorch-gpu",
   "language": "python",
   "name": "python3"
  },
  "language_info": {
   "codemirror_mode": {
    "name": "ipython",
    "version": 3
   },
   "file_extension": ".py",
   "mimetype": "text/x-python",
   "name": "python",
   "nbconvert_exporter": "python",
   "pygments_lexer": "ipython3",
   "version": "3.8.10"
  },
  "orig_nbformat": 4
 },
 "nbformat": 4,
 "nbformat_minor": 2
}
